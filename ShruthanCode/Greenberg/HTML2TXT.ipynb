{
 "cells": [
  {
   "cell_type": "code",
   "execution_count": 2,
   "id": "5da80bba-95a5-478e-a06e-4c84948dcee0",
   "metadata": {},
   "outputs": [],
   "source": [
    "from bs4 import BeautifulSoup"
   ]
  },
  {
   "cell_type": "code",
   "execution_count": 14,
   "id": "4e204e74-a18e-4ccf-9cc0-be236f825aec",
   "metadata": {},
   "outputs": [],
   "source": [
    "import html2text"
   ]
  },
  {
   "cell_type": "code",
   "execution_count": 25,
   "id": "db9fa653-6cf9-4832-a39b-c677ca7218ba",
   "metadata": {},
   "outputs": [],
   "source": [
    "h = html2text.HTML2Text()"
   ]
  },
  {
   "cell_type": "code",
   "execution_count": 46,
   "id": "dd59e3f9-f957-4af5-9b0a-5009376c062c",
   "metadata": {},
   "outputs": [],
   "source": [
    "def convert_html_to_text(html_filename, output_folder='.'):\n",
    "    \n",
    "    h = html2text.HTML2Text()\n",
    "    h.ignore_links=True\n",
    "    h.ignore_images=True\n",
    "    h.ignore_emphasis=True\n",
    "    \n",
    "    with open(os.path.join(\"Tests\", html_filename)) as f:\n",
    "        contents = f.read()\n",
    "        soup = BeautifulSoup(contents)\n",
    "        s0 = str(soup.find_all(\"h1\", {\"id\": \"paper-title\"})[0])\n",
    "        s1 = str(soup.find_all(\"div\", {\"class\": \"paper__text\"})[0])\n",
    "        \n",
    "        with open(f\"{output_folder}/{html_filename[:-5]}.txt\", \"w\") as f:\n",
    "            f.write(h.handle(s0 + s1))\n",
    "# print(h.handle(str(s)))\n",
    "        \n",
    "        "
   ]
  },
  {
   "cell_type": "code",
   "execution_count": 47,
   "id": "f695ffd4-c37b-4de2-b505-118b2f492fb2",
   "metadata": {},
   "outputs": [],
   "source": [
    "import os\n",
    "for file in os.listdir('Tests'):\n",
    "    if file.endswith(\"html\"):\n",
    "        convert_html_to_text(file, 'results')"
   ]
  },
  {
   "cell_type": "code",
   "execution_count": null,
   "id": "b73e099d-d196-497c-b85b-8e3d9fe48ef6",
   "metadata": {},
   "outputs": [],
   "source": []
  },
  {
   "cell_type": "code",
   "execution_count": null,
   "id": "12067355-23e4-4163-b4c9-e503b3c3f1e5",
   "metadata": {},
   "outputs": [],
   "source": []
  }
 ],
 "metadata": {
  "kernelspec": {
   "display_name": "PT",
   "language": "python",
   "name": "pt"
  },
  "language_info": {
   "codemirror_mode": {
    "name": "ipython",
    "version": 3
   },
   "file_extension": ".py",
   "mimetype": "text/x-python",
   "name": "python",
   "nbconvert_exporter": "python",
   "pygments_lexer": "ipython3",
   "version": "3.11.0"
  }
 },
 "nbformat": 4,
 "nbformat_minor": 5
}
