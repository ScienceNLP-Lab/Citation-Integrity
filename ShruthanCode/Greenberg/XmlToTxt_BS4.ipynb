{
 "cells": [
  {
   "cell_type": "code",
   "execution_count": null,
   "id": "6a653b12-fc6d-4bde-8201-47e97e3f072b",
   "metadata": {},
   "outputs": [],
   "source": [
    "import os\n",
    "import json\n",
    "from bs4 import BeautifulSoup"
   ]
  },
  {
   "cell_type": "code",
   "execution_count": null,
   "id": "ad5e95ba-7ba4-42c7-adcd-49a0007b0b44",
   "metadata": {},
   "outputs": [],
   "source": [
    "import grobid_tei_xml\n",
    "import importlib\n",
    "importlib.reload(grobid_tei_xml)"
   ]
  },
  {
   "cell_type": "code",
   "execution_count": null,
   "id": "ee94f6cb-04cb-4720-9739-909e83644f9c",
   "metadata": {},
   "outputs": [],
   "source": [
    "for filename in os.listdir('difficultPDFs'):\n",
    "\n",
    "    if not filename.endswith(\"xml\"):\n",
    "        continue\n",
    "\n",
    "    xml_path = f\"./difficultPDFs/{filename}\"\n",
    "\n",
    "    with open(xml_path) as f:\n",
    "        soup = BeautifulSoup(f, features='xml')\n",
    "\n",
    "    fulltext = \"\"\n",
    "    fulltext += soup.find('title').text + '\\n\\n'\n",
    "    for tag in soup.findAll(\"div\"):\n",
    "        for c in tag.children:\n",
    "            if c.name == 'p' or c.name == 'head':\n",
    "                fulltext += c.text + '\\n\\n'\n",
    "\n",
    "\n",
    "    for fig in soup.findAll(\"figure\"):\n",
    "        fulltext += fig.text + '\\n\\n'\n",
    "    \n",
    "\n",
    "    with open(f\"difficultPDFs/{filename}.txt\", 'w') as f:\n",
    "        f.write(fulltext)"
   ]
  }
 ],
 "metadata": {
  "kernelspec": {
   "display_name": "PT",
   "language": "python",
   "name": "pt"
  },
  "language_info": {
   "codemirror_mode": {
    "name": "ipython",
    "version": 3
   },
   "file_extension": ".py",
   "mimetype": "text/x-python",
   "name": "python",
   "nbconvert_exporter": "python",
   "pygments_lexer": "ipython3",
   "version": "3.11.0"
  }
 },
 "nbformat": 4,
 "nbformat_minor": 5
}
