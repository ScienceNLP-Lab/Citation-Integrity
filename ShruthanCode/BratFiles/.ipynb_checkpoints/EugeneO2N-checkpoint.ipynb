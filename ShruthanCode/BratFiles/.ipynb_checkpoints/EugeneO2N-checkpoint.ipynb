{
 "cells": [
  {
   "cell_type": "code",
   "execution_count": 32,
   "id": "c79262ee-6a55-420c-8a4c-ac2d42169a13",
   "metadata": {},
   "outputs": [],
   "source": [
    "import os\n",
    "from fuzzysearch import find_near_matches"
   ]
  },
  {
   "cell_type": "code",
   "execution_count": 3,
   "id": "ea189846-23a5-41ad-a068-40722d751961",
   "metadata": {},
   "outputs": [
    {
     "data": {
      "text/plain": [
       "['visual.conf',\n",
       " 'PMC2811155',\n",
       " 'PMC2848616',\n",
       " 'PMC3442244',\n",
       " 'PMC3522098',\n",
       " 'PMC3090745',\n",
       " 'PMC3650111',\n",
       " 'PMC3096954',\n",
       " 'annotation.conf',\n",
       " 'PMC2958248',\n",
       " 'PMC3179858',\n",
       " '.stats_cache',\n",
       " 'PMC3607626']"
      ]
     },
     "execution_count": 3,
     "metadata": {},
     "output_type": "execute_result"
    }
   ],
   "source": [
    "os.listdir(\"EugeneOldToNew/Accuracy\")"
   ]
  },
  {
   "cell_type": "code",
   "execution_count": 4,
   "id": "20db268d-a24c-4802-b1f4-2b4faf2739b6",
   "metadata": {},
   "outputs": [],
   "source": [
    "tags = [\n",
    "    'AccurateSeg',\n",
    "    'MajorSeg',\n",
    "    'MinorSeg',\n",
    "    'AccurateSection',\n",
    "    'MajorSection',\n",
    "    'MinorSection',\n",
    "    'AccurateEnt',\n",
    "    'MajorEnt',\n",
    "    'MinorEnt'\n",
    "]"
   ]
  },
  {
   "cell_type": "code",
   "execution_count": 99,
   "id": "fe7e2dde-f97c-4358-9425-6ef6fe5316b3",
   "metadata": {},
   "outputs": [],
   "source": [
    "sep = \"**************************************************************\"\n",
    "for ref in os.listdir(\"EugeneOldToNew/Accuracy\"):\n",
    "    if not ref.startswith(\"PMC\"):\n",
    "        continue\n",
    "                            \n",
    "        \n",
    "    for file in os.listdir(f\"EugeneOldToNew/Accuracy/{ref}\"):\n",
    "        if file.endswith('txt'):\n",
    "            with open(f\"EugeneOldToNew/Accuracy/{ref}/{file}\") as f:\n",
    "                content = f.read()\n",
    "            parts = content.split(sep)\n",
    "            with open(f'OldRefText/{ref}.txt') as f:\n",
    "                to_write = parts[0] + sep + '\\n\\n\\n' + f.read()\n",
    "            with open(f'EugeneOldToNew/Accuracy/{ref}/{file}', 'w') as f:\n",
    "                f.write(to_write)\n"
   ]
  },
  {
   "cell_type": "code",
   "execution_count": 100,
   "id": "a3be2ce3-587f-4ca4-ac6a-7a7184230755",
   "metadata": {},
   "outputs": [
    {
     "name": "stdout",
     "output_type": "stream",
     "text": [
      "Absent: PMC2811155 PMC3020954_2.ann\n"
     ]
    }
   ],
   "source": [
    "res = []\n",
    "for ref in os.listdir(\"EugeneOldToNew/Accuracy\"):\n",
    "    if not ref.startswith(\"PMC\"):\n",
    "        continue\n",
    "    \n",
    "                         \n",
    "    # with open(f\"OldRefText/{ref}.txt\") as f:\n",
    "    #     content = f.read()\n",
    "        \n",
    "    for file in os.listdir(f\"EugeneOldToNew/Accuracy/{ref}\"):\n",
    "        \n",
    "        if file.endswith(\"ann\"):\n",
    "            newlines = []\n",
    "            \n",
    "            with open(f\"EugeneOldToNew/Accuracy/{ref}/{file}\") as f:\n",
    "                \n",
    "                with open(f\"EugeneOldToNew/Accuracy/{ref}/{file[:-4]}.txt\") as g:\n",
    "                    content = g.read()\n",
    "                \n",
    "                lines = f.readlines()\n",
    "                for line in lines:\n",
    "                    text = None\n",
    "                    idx, tag, sent = line.split('\\t')\n",
    "                    tag_split = tag.split(\" \")\n",
    "                    if tag_split[0] in tags:\n",
    "                        \n",
    "                        if not sent.strip() in content:\n",
    "                            matches = find_near_matches(sent, content, max_l_dist=5)\n",
    "                            \n",
    "                            if (len(matches) == 1):\n",
    "                                res.append(True)\n",
    "                                text = matches[0].matched\n",
    "                            else:\n",
    "                                print(\"Absent:\", ref, file)\n",
    "                                res.append(False)\n",
    "                        else:\n",
    "                            text = sent.strip()\n",
    "                            res.append(sent.strip() in content)\n",
    "                        if text is not None:\n",
    "                            start = content.find(text)\n",
    "                            end = str(start + len(text))\n",
    "                            start = str(start)\n",
    "                            if text[-1] != '\\n':\n",
    "                                text = text + '\\n'\n",
    "                            newline = \"\\t\".join([idx, \" \".join([tag_split[0], start, end]) ,text])\n",
    "                            newlines.append(newline)\n",
    "                    else:\n",
    "                        newlines.append(line)\n",
    "            with open(f\"EugeneOldToNew/Accuracy/{ref}/{file}\", 'w') as f:\n",
    "                f.writelines(newlines)\n",
    "                        "
   ]
  },
  {
   "cell_type": "code",
   "execution_count": 59,
   "id": "a2ea95db-c71a-4fd9-a0bd-14dfb98511ed",
   "metadata": {},
   "outputs": [
    {
     "data": {
      "text/plain": [
       "325"
      ]
     },
     "execution_count": 59,
     "metadata": {},
     "output_type": "execute_result"
    }
   ],
   "source": [
    "sum(res) "
   ]
  },
  {
   "cell_type": "code",
   "execution_count": 60,
   "id": "e8d0b60d-b665-4976-8788-544bd096d2ba",
   "metadata": {},
   "outputs": [
    {
     "data": {
      "text/plain": [
       "326"
      ]
     },
     "execution_count": 60,
     "metadata": {},
     "output_type": "execute_result"
    }
   ],
   "source": [
    "len(res)"
   ]
  },
  {
   "cell_type": "code",
   "execution_count": 73,
   "id": "4631db01-532d-4c3d-a138-d71060401961",
   "metadata": {},
   "outputs": [],
   "source": [
    " with open(f\"EugeneOldToNew/Accuracy/PMC2958248/PMC5989071_1.txt\") as f:\n",
    "        content = f.read()"
   ]
  },
  {
   "cell_type": "code",
   "execution_count": 74,
   "id": "962cf584-2713-4060-9080-2f0cb3bc85ef",
   "metadata": {},
   "outputs": [
    {
     "data": {
      "text/plain": [
       "'In Trex1−/− mouse cells and human CD4+ T cells and macrophages in which TREX1 was inhibited by RNA interference, cytosolic HIV DNA accumulated, and HIV infection induced type I IFN that inhibited HIV replication and spreading.'"
      ]
     },
     "execution_count": 74,
     "metadata": {},
     "output_type": "execute_result"
    }
   ],
   "source": [
    "content[1325 : 1551]"
   ]
  },
  {
   "cell_type": "code",
   "execution_count": 101,
   "id": "9c80b62e-074e-476e-b0dc-01240bcdcab3",
   "metadata": {},
   "outputs": [],
   "source": [
    "for ref in os.listdir(\"EugeneOldToNew/Accuracy\"):\n",
    "    if not ref.startswith(\"PMC\"):\n",
    "        continue\n",
    "                            \n",
    "        \n",
    "    for file in os.listdir(f\"EugeneOldToNew/Accuracy/{ref}\"):\n",
    "        if file.endswith('ann'):\n",
    "            newlines = []\n",
    "            with open(f\"EugeneOldToNew/Accuracy/{ref}/{file}\") as f:\n",
    "                lines = f.readlines()\n",
    "                \n",
    "                for line in lines:\n",
    "                    if line.startswith('R'):\n",
    "                        continue\n",
    "                    text = None\n",
    "                    idx, tag, sent = line.split('\\t')\n",
    "                    \n",
    "                    tag_split = tag.split(\" \")\n",
    "                    if tag_split[0] == 'Span':\n",
    "                        tag_split[0] = 'Context'\n",
    "                        newlines.append('\\t'.join([idx, \" \".join(tag_split), sent]))\n",
    "                    else:\n",
    "                        newlines.append(line)\n",
    "            with open(f\"EugeneOldToNew/Accuracy/{ref}/{file}\", 'w') as f:\n",
    "                f.write(\"\".join(newlines))"
   ]
  },
  {
   "cell_type": "code",
   "execution_count": 84,
   "id": "24f2d01d-4e39-4c6b-9964-7c71a6e9d14f",
   "metadata": {},
   "outputs": [],
   "source": [
    "with open(f\"EugeneOldToNew/Accuracy/PMC2811155/PMC3549971_2.ann\") as f:\n",
    "    lines = f.readlines()"
   ]
  },
  {
   "cell_type": "code",
   "execution_count": 91,
   "id": "8fadd906-401f-490b-a2c5-aa8ebca52149",
   "metadata": {},
   "outputs": [
    {
     "data": {
      "text/plain": [
       "['T2',\n",
       " 'AccurateSeg 3951 4165',\n",
       " 'Since disease-causing mutations in PINK1 or Parkin disrupt this pathway, patients with these mutations may not be able to clean up their damaged mitochondria, leading to the neuronal damage typical of parkinsonism.T3',\n",
       " 'AccurateSeg 3791 3950',\n",
       " 'In this pathway, PINK1 acts as a flag that accumulates on dysfunctional mitochondria and then signals to Parkin, which tags these mitochondria for destruction.']"
      ]
     },
     "execution_count": 91,
     "metadata": {},
     "output_type": "execute_result"
    }
   ],
   "source": [
    "lines[3].split('\\t')"
   ]
  },
  {
   "cell_type": "code",
   "execution_count": 92,
   "id": "91792a70-3f9f-42f6-ad35-8c6fc60f9d6e",
   "metadata": {},
   "outputs": [],
   "source": [
    "with open('EugeneOldToNew/Accuracy/PMC2811155/PMC3549971_2.txt') as f:\n",
    "    content = f.read()"
   ]
  },
  {
   "cell_type": "code",
   "execution_count": null,
   "id": "fcb8213f-ff50-4902-8a74-490fa7c5c03f",
   "metadata": {},
   "outputs": [],
   "source": []
  }
 ],
 "metadata": {
  "kernelspec": {
   "display_name": "PT",
   "language": "python",
   "name": "pt"
  },
  "language_info": {
   "codemirror_mode": {
    "name": "ipython",
    "version": 3
   },
   "file_extension": ".py",
   "mimetype": "text/x-python",
   "name": "python",
   "nbconvert_exporter": "python",
   "pygments_lexer": "ipython3",
   "version": "3.11.0"
  }
 },
 "nbformat": 4,
 "nbformat_minor": 5
}
