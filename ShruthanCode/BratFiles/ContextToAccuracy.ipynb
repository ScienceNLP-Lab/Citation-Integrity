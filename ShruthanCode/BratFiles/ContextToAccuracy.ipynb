{
 "cells": [
  {
   "cell_type": "code",
   "execution_count": null,
   "id": "7ccff27f",
   "metadata": {},
   "outputs": [],
   "source": [
    "# Identify files with no citations\n",
    "\n",
    "count = 0\n",
    "total = 0\n",
    "to_keep = {}\n",
    "tot_len = 0\n",
    "for ref in os.listdir('output30'):\n",
    "    curr = 0\n",
    "    if not ref.startswith('PMC'):\n",
    "        continue\n",
    "    to_keep[ref] = []\n",
    "    for file in os.listdir(f\"output30/{ref}\"):\n",
    "        if file.endswith('ann'):\n",
    "            total += 1\n",
    "            with open(f\"output30/{ref}/{file}\") as f:\n",
    "                content = f.readlines()\n",
    "                if (len(content) > 0):\n",
    "                    to_keep[ref].append(file)\n",
    "                    tot_len += len(content)\n",
    "                if len(content) == 0 or len(content) == 1:\n",
    "                    \n",
    "                    count += 1\n",
    "                    curr += 1\n",
    "    print(ref, count, curr)"
   ]
  },
  {
   "cell_type": "code",
   "execution_count": null,
   "id": "c4aa25de",
   "metadata": {},
   "outputs": [],
   "source": [
    "# Remove files with no citations\n",
    "\n",
    "for ref in os.listdir('output30_acc'):\n",
    "    if ref == '.DS_Store':\n",
    "        continue\n",
    "    for file in os.listdir(f'output30_acc/{ref}'):\n",
    "        if f'{file[:10]}.ann' not in to_keep[ref]:\n",
    "            if file == '.ipynb_checkpoints':\n",
    "                continue\n",
    "            os.remove(f'output30_acc/{ref}/{file}')"
   ]
  },
  {
   "cell_type": "code",
   "execution_count": null,
   "id": "bf51ad5c",
   "metadata": {},
   "outputs": [],
   "source": [
    "# Generate Context Files\n",
    "\n",
    "for ref in os.listdir('ContextFiles'):\n",
    "    for file in os.listdir(f'ContextFiles/{ref}'):\n",
    "        if file.endswith('csv') or file.endswith('json') or f'{file[:10]}.ann' not in to_keep[ref]:\n",
    "            if file == '.ipynb_checkpoints':\n",
    "                continue\n",
    "            os.remove(f'ContextFiles/{ref}/{file}')"
   ]
  },
  {
   "cell_type": "code",
   "execution_count": null,
   "id": "187da2eb",
   "metadata": {},
   "outputs": [],
   "source": [
    "print(\"Reference Article Num of Citing Articles Total Number of citations Number of Multi-citations\")\n",
    "rows = []\n",
    "for ref in os.listdir('ContextFiles'):\n",
    "    if ref.startswith(\"PMC\"):\n",
    "        count = 0 \n",
    "        ann_cnt = 0\n",
    "        multi_cit_cnt = 0\n",
    "        for file in os.listdir(f\"ContextFiles/{ref}\"):\n",
    "            if file.endswith(\"ann\"):\n",
    "                count += 1\n",
    "                with open(f\"ContextFiles/{ref}/{file}\") as f:\n",
    "                    content = f.readlines()\n",
    "                    ann_cnt += len(content)\n",
    "                    for c in content:\n",
    "                        if \"MultiCitation\" in c:\n",
    "                            multi_cit_cnt += 1\n",
    "                            \n",
    "        rows.append([ref, count, ann_cnt, multi_cit_cnt])\n",
    "        print(f\"{ref}\\t{count}\\t\", ann_cnt, multi_cit_cnt)"
   ]
  },
  {
   "cell_type": "markdown",
   "id": "b7700141",
   "metadata": {},
   "source": [
    "# Context Files to Accuracy Files"
   ]
  },
  {
   "cell_type": "code",
   "execution_count": 1,
   "id": "d8f945ae",
   "metadata": {},
   "outputs": [],
   "source": [
    "import os "
   ]
  },
  {
   "cell_type": "code",
   "execution_count": 2,
   "id": "bb0640ca",
   "metadata": {},
   "outputs": [],
   "source": [
    "output_dir = 'output30_acc'\n",
    "context_dir = 'ContextFiles'"
   ]
  },
  {
   "cell_type": "code",
   "execution_count": 3,
   "id": "2c71f97a",
   "metadata": {},
   "outputs": [],
   "source": [
    "def overlap(x1, x2, y1, y2):\n",
    "    \"\"\"\n",
    "    Ranges [x1:x2], [y1:y2]\n",
    "    \"\"\"\n",
    "    return x1 <= y2 and y1 <= x2"
   ]
  },
  {
   "cell_type": "code",
   "execution_count": 6,
   "id": "e19e18ea",
   "metadata": {},
   "outputs": [],
   "source": [
    "for ref_article in os.listdir(output_dir):\n",
    "    if not ref_article.startswith(\"PMC\"):\n",
    "        continue\n",
    "    with open(os.path.join('ReferenceText_TableFig', f\"{ref_article}.txt\")) as f:\n",
    "        ref_full_text = f.read()\n",
    "    \n",
    "    os.mkdir(f'AccuracyFiles/{ref_article}')\n",
    "    for file in os.listdir(os.path.join(output_dir, ref_article)):\n",
    "        if(file.endswith('ann')):\n",
    "            pmcid = file[:-4]\n",
    "            if pmcid == \"PMC8638770\":\n",
    "                continue\n",
    "            with open(os.path.join(context_dir, ref_article, file)) as f:\n",
    "                lines = f.readlines()\n",
    "                \n",
    "                with open(os.path.join(output_dir, ref_article, f\"{pmcid}_par.csv\")) as g:\n",
    "                      indices = g.readlines()\n",
    "                \n",
    "      \n",
    "                with open(os.path.join(output_dir, ref_article, f\"{pmcid}.txt\")) as h:\n",
    "                      full_text = h.read() \n",
    "                \n",
    "                idx = 1\n",
    "                for line in lines:\n",
    "                    t, tag, label = line.split('\\t')\n",
    "                    typ, start, end = tag.split(\" \")\n",
    "                    \n",
    "                    start, end = int(start), int(end)\n",
    "                \n",
    "                    for index_line in indices:\n",
    "                        i1, i2 = index_line.strip().split(\" \")\n",
    "                        i1, i2 = int(i1),int(i2)\n",
    "                        if overlap(i1, i2, start, end):\n",
    "                            with open(os.path.join('AccuracyFiles', ref_article, f\"{pmcid}_{idx}.txt\"), 'w') as acc:\n",
    "                                acc.write(full_text[i1:i2])\n",
    "                                acc.write(\"\\n\")\n",
    "                                acc.write(\"**************************************************************\")\n",
    "                                acc.write(\"\\n\"*3)\n",
    "                                acc.write(ref_full_text)\n",
    "                            with open(os.path.join('AccuracyFiles', ref_article, f\"{pmcid}_{idx}.ann\"), 'w') as acc:\n",
    "                                text = \"\\t\".join([t, \" \".join([typ, str(start-i1), str(end-i1)]), label])\n",
    "                                acc.write(text)\n",
    "                            \n",
    "                    idx += 1\n",
    "                            \n",
    "                      \n",
    "           "
   ]
  },
  {
   "cell_type": "markdown",
   "id": "2f67bd10",
   "metadata": {},
   "source": [
    "# End of useful things in notebook"
   ]
  },
  {
   "cell_type": "code",
   "execution_count": 27,
   "id": "22cc5f39",
   "metadata": {},
   "outputs": [
    {
     "name": "stdout",
     "output_type": "stream",
     "text": [
      "20\n",
      "14\n",
      "22\n",
      "22\n",
      "22\n",
      "23\n",
      "24\n",
      "22\n",
      "18\n",
      "25\n",
      "22\n"
     ]
    }
   ],
   "source": [
    "# for ref in os.listdir('ContextFiles'):\n",
    "#     curr = 0\n",
    "#     if not ref.startswith('PMC'):\n",
    "#         continue\n",
    "#     print(len(os.listdir(f'ContextFiles/{ref}'))//2)"
   ]
  },
  {
   "cell_type": "code",
   "execution_count": 43,
   "id": "3a53a2b4",
   "metadata": {},
   "outputs": [
    {
     "name": "stdout",
     "output_type": "stream",
     "text": [
      "PMC7227586 0 0\n",
      "PMC7787219 0 0\n",
      "PMC7164881 0 0\n",
      "PMC7164482 0 0\n",
      "PMC7262788 0 0\n",
      "PMC7199903 0 0\n",
      "PMC7578095 0 0\n",
      "PMC7418704 0 0\n",
      "PMC7299280 0 0\n",
      "PMC8078878 0 0\n",
      "PMC7581548 0 0\n"
     ]
    }
   ],
   "source": [
    "# count = 0\n",
    "# total = 0\n",
    "\n",
    "# for ref in os.listdir('ContextFiles'):\n",
    "#     curr = 0\n",
    "#     if not ref.startswith('PMC'):\n",
    "#         continue\n",
    "    \n",
    "#     for file in os.listdir(f\"ContextFiles/{ref}\"):\n",
    "#         if file.endswith('ann'):\n",
    "#             total += 1\n",
    "#             with open(f\"ContextFiles/{ref}/{file}\") as f:\n",
    "#                 content = f.readlines()\n",
    "#                 if len(content) == 0:\n",
    "                    \n",
    "#                     count += 1\n",
    "#                     curr += 1\n",
    "  \n",
    "#     print(ref, count, curr)"
   ]
  },
  {
   "cell_type": "code",
   "execution_count": 40,
   "id": "5e0ffe48",
   "metadata": {},
   "outputs": [
    {
     "name": "stdout",
     "output_type": "stream",
     "text": [
      "PMC7227586 10 10\n",
      "PMC7787219 26 16\n",
      "PMC7164881 34 8\n",
      "PMC7164482 42 8\n",
      "PMC7262788 50 8\n",
      "PMC7199903 57 7\n",
      "PMC7578095 63 6\n",
      "PMC7418704 71 8\n",
      "PMC7299280 83 12\n",
      "PMC8078878 88 5\n",
      "PMC7581548 96 8\n"
     ]
    }
   ],
   "source": [
    "# count = 0\n",
    "# total = 0\n",
    "\n",
    "# for ref in os.listdir('output30'):\n",
    "#     curr = 0\n",
    "#     if not ref.startswith('PMC'):\n",
    "#         continue\n",
    "    \n",
    "#     for file in os.listdir(f\"output30/{ref}\"):\n",
    "#         if file.endswith('ann'):\n",
    "#             total += 1\n",
    "#             with open(f\"output30/{ref}/{file}\") as f:\n",
    "#                 content = f.readlines()\n",
    "#                 if len(content) == 0:\n",
    "                    \n",
    "#                     count += 1\n",
    "#                     curr += 1\n",
    "  \n",
    "#     print(ref, count, curr)"
   ]
  },
  {
   "cell_type": "markdown",
   "id": "b71694e5",
   "metadata": {},
   "source": [
    "## Code below to clean up articles for which no citations have been extracted and obtain other statistics"
   ]
  },
  {
   "cell_type": "code",
   "execution_count": 13,
   "id": "79806378",
   "metadata": {},
   "outputs": [
    {
     "name": "stdout",
     "output_type": "stream",
     "text": [
      "PMC7227586 13 13\n",
      "PMC7787219 32 19\n",
      "PMC7164881 46 14\n",
      "PMC7164482 56 10\n",
      "PMC7262788 70 14\n",
      "PMC7199903 80 10\n",
      "PMC7578095 88 8\n",
      "PMC7418704 98 10\n",
      "PMC7299280 113 15\n",
      "PMC8078878 120 7\n",
      "PMC7581548 130 10\n"
     ]
    }
   ],
   "source": [
    "# count = 0\n",
    "# total = 0\n",
    "# to_keep = {}\n",
    "# tot_len = 0\n",
    "# for ref in os.listdir('output30'):\n",
    "#     curr = 0\n",
    "#     if not ref.startswith('PMC'):\n",
    "#         continue\n",
    "#     to_keep[ref] = []\n",
    "#     for file in os.listdir(f\"output30/{ref}\"):\n",
    "#         if file.endswith('ann'):\n",
    "#             total += 1\n",
    "#             with open(f\"output30/{ref}/{file}\") as f:\n",
    "#                 content = f.readlines()\n",
    "#                 if (len(content) > 0):\n",
    "#                     to_keep[ref].append(file)\n",
    "#                     tot_len += len(content)\n",
    "#                 if len(content) == 0 or len(content) == 1:\n",
    "                    \n",
    "#                     count += 1\n",
    "#                     curr += 1\n",
    "#     print(ref, count, curr)"
   ]
  },
  {
   "cell_type": "code",
   "execution_count": 45,
   "id": "6279c6b4",
   "metadata": {},
   "outputs": [],
   "source": [
    "# for ref in os.listdir('output30_acc'):\n",
    "#     if ref == '.DS_Store':\n",
    "#         continue\n",
    "#     for file in os.listdir(f'output30_acc/{ref}'):\n",
    "#         if f'{file[:10]}.ann' not in to_keep[ref]:\n",
    "#             if file == '.ipynb_checkpoints':\n",
    "#                 continue\n",
    "#             os.remove(f'output30_acc/{ref}/{file}')"
   ]
  },
  {
   "cell_type": "code",
   "execution_count": 42,
   "id": "6b34df76",
   "metadata": {},
   "outputs": [],
   "source": [
    "# for ref in os.listdir('ContextFiles'):\n",
    "#     for file in os.listdir(f'ContextFiles/{ref}'):\n",
    "#         if file.endswith('csv') or file.endswith('json') or f'{file[:10]}.ann' not in to_keep[ref]:\n",
    "#             if file == '.ipynb_checkpoints':\n",
    "#                 continue\n",
    "#             os.remove(f'ContextFiles/{ref}/{file}')"
   ]
  },
  {
   "cell_type": "code",
   "execution_count": 46,
   "id": "e71b90b6",
   "metadata": {},
   "outputs": [],
   "source": [
    "# to_keep"
   ]
  },
  {
   "cell_type": "code",
   "execution_count": 68,
   "id": "e68f31e2",
   "metadata": {},
   "outputs": [
    {
     "data": {
      "text/plain": [
       "66"
      ]
     },
     "execution_count": 68,
     "metadata": {},
     "output_type": "execute_result"
    }
   ],
   "source": [
    "count"
   ]
  },
  {
   "cell_type": "code",
   "execution_count": 69,
   "id": "08193de8",
   "metadata": {},
   "outputs": [
    {
     "data": {
      "text/plain": [
       "220"
      ]
     },
     "execution_count": 69,
     "metadata": {},
     "output_type": "execute_result"
    }
   ],
   "source": [
    "total"
   ]
  },
  {
   "cell_type": "code",
   "execution_count": 71,
   "id": "a1bd5da3",
   "metadata": {},
   "outputs": [
    {
     "name": "stdout",
     "output_type": "stream",
     "text": [
      "Reference Article Num of Citing Articles Total Number of citations Number of Multi-citations\n",
      "PMC7227586\t20\t 65 11\n",
      "PMC7787219\t14\t 28 10\n",
      "PMC7164881\t22\t 46 8\n",
      "PMC7164482\t22\t 52 13\n",
      "PMC7262788\t22\t 60 5\n",
      "PMC7199903\t23\t 72 19\n",
      "PMC7578095\t24\t 68 28\n",
      "PMC7418704\t22\t 59 13\n",
      "PMC7299280\t18\t 42 22\n",
      "PMC8078878\t25\t 75 31\n",
      "PMC7581548\t22\t 68 17\n"
     ]
    }
   ],
   "source": [
    "# print(\"Reference Article Num of Citing Articles Total Number of citations Number of Multi-citations\")\n",
    "# rows = []\n",
    "# for ref in os.listdir('ContextFiles'):\n",
    "#     if ref.startswith(\"PMC\"):\n",
    "#         count = 0 \n",
    "#         ann_cnt = 0\n",
    "#         multi_cit_cnt = 0\n",
    "#         for file in os.listdir(f\"ContextFiles/{ref}\"):\n",
    "#             if file.endswith(\"ann\"):\n",
    "#                 count += 1\n",
    "#                 with open(f\"ContextFiles/{ref}/{file}\") as f:\n",
    "#                     content = f.readlines()\n",
    "#                     ann_cnt += len(content)\n",
    "#                     for c in content:\n",
    "#                         if \"MultiCitation\" in c:\n",
    "#                             multi_cit_cnt += 1\n",
    "                            \n",
    "#         rows.append([ref, count, ann_cnt, multi_cit_cnt])\n",
    "#         print(f\"{ref}\\t{count}\\t\", ann_cnt, multi_cit_cnt)\n",
    "                               "
   ]
  },
  {
   "cell_type": "code",
   "execution_count": 76,
   "id": "2f5c48ac",
   "metadata": {},
   "outputs": [
    {
     "data": {
      "text/html": [
       "<div>\n",
       "<style scoped>\n",
       "    .dataframe tbody tr th:only-of-type {\n",
       "        vertical-align: middle;\n",
       "    }\n",
       "\n",
       "    .dataframe tbody tr th {\n",
       "        vertical-align: top;\n",
       "    }\n",
       "\n",
       "    .dataframe thead th {\n",
       "        text-align: right;\n",
       "    }\n",
       "</style>\n",
       "<table border=\"1\" class=\"dataframe\">\n",
       "  <thead>\n",
       "    <tr style=\"text-align: right;\">\n",
       "      <th></th>\n",
       "      <th>Reference Article</th>\n",
       "      <th>Num Citing Ariticles</th>\n",
       "      <th>Total Citations</th>\n",
       "      <th>Num Multi-Citations</th>\n",
       "    </tr>\n",
       "  </thead>\n",
       "  <tbody>\n",
       "    <tr>\n",
       "      <th>0</th>\n",
       "      <td>PMC7227586</td>\n",
       "      <td>20</td>\n",
       "      <td>65</td>\n",
       "      <td>11</td>\n",
       "    </tr>\n",
       "    <tr>\n",
       "      <th>1</th>\n",
       "      <td>PMC7787219</td>\n",
       "      <td>14</td>\n",
       "      <td>28</td>\n",
       "      <td>10</td>\n",
       "    </tr>\n",
       "    <tr>\n",
       "      <th>2</th>\n",
       "      <td>PMC7164881</td>\n",
       "      <td>22</td>\n",
       "      <td>46</td>\n",
       "      <td>8</td>\n",
       "    </tr>\n",
       "    <tr>\n",
       "      <th>3</th>\n",
       "      <td>PMC7164482</td>\n",
       "      <td>22</td>\n",
       "      <td>52</td>\n",
       "      <td>13</td>\n",
       "    </tr>\n",
       "    <tr>\n",
       "      <th>4</th>\n",
       "      <td>PMC7262788</td>\n",
       "      <td>22</td>\n",
       "      <td>60</td>\n",
       "      <td>5</td>\n",
       "    </tr>\n",
       "    <tr>\n",
       "      <th>5</th>\n",
       "      <td>PMC7199903</td>\n",
       "      <td>23</td>\n",
       "      <td>72</td>\n",
       "      <td>19</td>\n",
       "    </tr>\n",
       "    <tr>\n",
       "      <th>6</th>\n",
       "      <td>PMC7578095</td>\n",
       "      <td>24</td>\n",
       "      <td>68</td>\n",
       "      <td>28</td>\n",
       "    </tr>\n",
       "    <tr>\n",
       "      <th>7</th>\n",
       "      <td>PMC7418704</td>\n",
       "      <td>22</td>\n",
       "      <td>59</td>\n",
       "      <td>13</td>\n",
       "    </tr>\n",
       "    <tr>\n",
       "      <th>8</th>\n",
       "      <td>PMC7299280</td>\n",
       "      <td>18</td>\n",
       "      <td>42</td>\n",
       "      <td>22</td>\n",
       "    </tr>\n",
       "    <tr>\n",
       "      <th>9</th>\n",
       "      <td>PMC8078878</td>\n",
       "      <td>25</td>\n",
       "      <td>75</td>\n",
       "      <td>31</td>\n",
       "    </tr>\n",
       "    <tr>\n",
       "      <th>10</th>\n",
       "      <td>PMC7581548</td>\n",
       "      <td>22</td>\n",
       "      <td>68</td>\n",
       "      <td>17</td>\n",
       "    </tr>\n",
       "  </tbody>\n",
       "</table>\n",
       "</div>"
      ],
      "text/plain": [
       "   Reference Article  Num Citing Ariticles  Total Citations  \\\n",
       "0         PMC7227586                    20               65   \n",
       "1         PMC7787219                    14               28   \n",
       "2         PMC7164881                    22               46   \n",
       "3         PMC7164482                    22               52   \n",
       "4         PMC7262788                    22               60   \n",
       "5         PMC7199903                    23               72   \n",
       "6         PMC7578095                    24               68   \n",
       "7         PMC7418704                    22               59   \n",
       "8         PMC7299280                    18               42   \n",
       "9         PMC8078878                    25               75   \n",
       "10        PMC7581548                    22               68   \n",
       "\n",
       "    Num Multi-Citations  \n",
       "0                    11  \n",
       "1                    10  \n",
       "2                     8  \n",
       "3                    13  \n",
       "4                     5  \n",
       "5                    19  \n",
       "6                    28  \n",
       "7                    13  \n",
       "8                    22  \n",
       "9                    31  \n",
       "10                   17  "
      ]
     },
     "execution_count": 76,
     "metadata": {},
     "output_type": "execute_result"
    }
   ],
   "source": [
    "# import pandas as pd\n",
    "# pd.DataFrame(rows, columns=[\"Reference Article\", \"Num Citing Ariticles\", \"Total Citations\", \"Num Multi-Citations\"])"
   ]
  },
  {
   "cell_type": "code",
   "execution_count": 52,
   "id": "f1685e18",
   "metadata": {},
   "outputs": [],
   "source": [
    "# import json\n",
    "# total = 0\n",
    "# inm = 0\n",
    "# for ref in os.listdir('output30_acc'):\n",
    "#     if not ref.startswith('PMC'):\n",
    "#         continue\n",
    "        \n",
    "#     for file in os.listdir(f\"output30_acc/{ref}\"):\n",
    "#         if file.endswith('ann') and file[:-4] != ref:\n",
    "#             with open(os.path.join('output30_acc',ref, file)) as f:\n",
    "#                 c = f.readlines()\n",
    "#                 for l in c:\n",
    "#                     inm += 1\n",
    "#                     if \"MultiCitation\" in l:\n",
    "#                         total += 1"
   ]
  },
  {
   "cell_type": "code",
   "execution_count": 53,
   "id": "f574a143",
   "metadata": {},
   "outputs": [
    {
     "data": {
      "text/plain": [
       "177"
      ]
     },
     "execution_count": 53,
     "metadata": {},
     "output_type": "execute_result"
    }
   ],
   "source": [
    "total"
   ]
  },
  {
   "cell_type": "code",
   "execution_count": 54,
   "id": "561e4455",
   "metadata": {},
   "outputs": [
    {
     "data": {
      "text/plain": [
       "635"
      ]
     },
     "execution_count": 54,
     "metadata": {},
     "output_type": "execute_result"
    }
   ],
   "source": [
    "inm"
   ]
  },
  {
   "cell_type": "code",
   "execution_count": 63,
   "id": "d7089721",
   "metadata": {},
   "outputs": [],
   "source": [
    "# import json\n",
    "# total = 0\n",
    "# inm = 0\n",
    "# for ref in os.listdir('outputs'):\n",
    "#     if not ref.startswith('PMC'):\n",
    "#         continue\n",
    "        \n",
    "#     for file in os.listdir(f\"outputs/{ref}\"):\n",
    "#         if file.endswith('ann') and file[:-4] != ref:\n",
    "#             pmc = file[:-4]\n",
    "            \n",
    "#             with open(f\"outputs/{ref}/{pmc}_sec.json\") as f:\n",
    "#                 sec = json.load(f)\n",
    "            \n",
    "#             with open(f\"outputs/{ref}/{file}\") as f:\n",
    "#                 ann = f.readlines()\n",
    "            \n",
    "#             if \"Methods\" in sec:\n",
    "#                 if len(sec[\"Methods\"]) == 3:\n",
    "#                     s, e = sec[\"Methods\"][0], sec[\"Methods\"][1]\n",
    "#                 else:\n",
    "#                     s, e = sec[\"Methods\"][3], sec[\"Methods\"][4]\n",
    "                \n",
    "#                 for line in ann:\n",
    "#                     t, c, l = line.split(\"\\t\")\n",
    "#                     cs = c.split(\" \")\n",
    "#                     s1, e1 = int(cs[1]), int(cs[2])\n",
    "                \n",
    "#                     if overlap(s, e, s1, e1):\n",
    "#                         print()\n",
    "#                         inm += 1\n",
    "#                     total += 1\n",
    "            "
   ]
  },
  {
   "cell_type": "code",
   "execution_count": 65,
   "id": "5e46b514",
   "metadata": {},
   "outputs": [
    {
     "data": {
      "text/plain": [
       "0.04878048780487805"
      ]
     },
     "execution_count": 65,
     "metadata": {},
     "output_type": "execute_result"
    }
   ],
   "source": [
    "# inm/total"
   ]
  },
  {
   "cell_type": "code",
   "execution_count": 77,
   "id": "a371ce6d",
   "metadata": {},
   "outputs": [],
   "source": [
    "# for folder in os.listdir('NewContext'):\n",
    "#     for file in os.listdir(f'NewContext/{folder}'):\n",
    "#         if file.endswith('json') or file.endswith('csv'):\n",
    "#             os.remove(f'NewContext/{folder}/{file}')\n",
    "        "
   ]
  },
  {
   "cell_type": "code",
   "execution_count": null,
   "id": "08f1e32e",
   "metadata": {},
   "outputs": [],
   "source": [
    "# for folder in os.listdir('NewContext'):\n",
    "#     for file in os.listdir(f'NewContext/{folder}'):\n",
    "#         if file.endswith('json') or file.endswith('csv'):\n",
    "#             os.remove(f'NewContext/{folder}/{file}')\n",
    "        "
   ]
  }
 ],
 "metadata": {
  "kernelspec": {
   "display_name": "PT",
   "language": "python",
   "name": "pt"
  },
  "language_info": {
   "codemirror_mode": {
    "name": "ipython",
    "version": 3
   },
   "file_extension": ".py",
   "mimetype": "text/x-python",
   "name": "python",
   "nbconvert_exporter": "python",
   "pygments_lexer": "ipython3",
   "version": "3.11.0"
  }
 },
 "nbformat": 4,
 "nbformat_minor": 5
}
