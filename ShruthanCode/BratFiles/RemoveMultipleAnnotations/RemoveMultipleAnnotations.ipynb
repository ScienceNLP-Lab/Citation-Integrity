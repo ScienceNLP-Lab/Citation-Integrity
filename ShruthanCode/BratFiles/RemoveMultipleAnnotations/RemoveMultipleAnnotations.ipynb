{
 "cells": [
  {
   "cell_type": "code",
   "execution_count": 1,
   "id": "5096c9e7",
   "metadata": {},
   "outputs": [],
   "source": [
    "import os"
   ]
  },
  {
   "cell_type": "code",
   "execution_count": 2,
   "id": "d9b48164",
   "metadata": {},
   "outputs": [],
   "source": [
    "order = ['CONTRADICT', 'IRRELEVANT', 'NOT_SUBSTANTIATE', 'MISQUOTE', 'OVERSIMPLIFY', 'INDIRECT', 'ETIQUETTE', 'ACCURATE']\n",
    "order_to_idx = {key : i for i, key in enumerate(order)}\n",
    "order_set = set(order)"
   ]
  },
  {
   "cell_type": "code",
   "execution_count": 3,
   "id": "d701f17d",
   "metadata": {},
   "outputs": [],
   "source": [
    "# \"002_PMC2848616/PMC3182203_2\"\n",
    "# \"001_PMC2811155/PMC2995166_4\"\n",
    "# \"005_PMC3096954/PMC3262206_2\"\n",
    "# \"002_PMC2848616/PMC4399516_4\""
   ]
  },
  {
   "cell_type": "code",
   "execution_count": 8,
   "id": "4ed6f123",
   "metadata": {},
   "outputs": [],
   "source": [
    "# annotators = ['Degaulle', \"Sree\", \"Sunny\", \"Zoe\"]\n",
    "annotators = ['AccuracyNew']\n",
    "for annotator in annotators:\n",
    "    for ref in os.listdir(annotator):\n",
    "        if not os.path.isdir(os.path.join(annotator, ref)):\n",
    "            continue\n",
    "        for file in os.listdir(os.path.join(annotator, ref)):\n",
    "            if file.endswith('ann'):\n",
    "                with open(os.path.join(annotator, ref, file)) as f:\n",
    "                    lines = f.readlines()\n",
    "                lines_to_add = []\n",
    "                check_to_add = []\n",
    "                order_dict = {key : [] for key in order}\n",
    "                for line in lines:\n",
    "                    line_split = line.split('\\t')\n",
    "                    ann_type = line_split[1].split(\" \")[0]\n",
    "                    if ann_type not in order_set:\n",
    "                        if ann_type == 'Level':\n",
    "                            check_to_add.append((line, line_split[1].split(\" \")[1]))\n",
    "                        else:\n",
    "                            lines_to_add.append(line)\n",
    "                        continue\n",
    "                    order_dict[ann_type].append(line)\n",
    "\n",
    "                for o in order:\n",
    "                    if len(order_dict[o]) > 0:\n",
    "                        lines_to_add.extend(order_dict[o])\n",
    "                        break\n",
    "\n",
    "                for line, tag in check_to_add:\n",
    "                    for l in lines_to_add:\n",
    "                        if l.split(\"\\t\")[0] == tag:\n",
    "                            lines_to_add.append(line)\n",
    "                            break\n",
    "                with open(os.path.join(annotator, ref, file), 'w') as f:\n",
    "                    f.writelines(lines_to_add)\n",
    "                \n",
    "                                            \n",
    "                "
   ]
  },
  {
   "cell_type": "code",
   "execution_count": 5,
   "id": "691939db",
   "metadata": {},
   "outputs": [
    {
     "name": "stdout",
     "output_type": "stream",
     "text": [
      "PMC2811155 PMC2995166_8.ann\n",
      "PMC3442244 PMC3749360_2.ann\n"
     ]
    }
   ],
   "source": [
    "annotators = ['AccuracyNew']\n",
    "for annotator in annotators:\n",
    "    for ref in os.listdir(annotator):\n",
    "        if not os.path.isdir(os.path.join(annotator, ref)):\n",
    "            continue\n",
    "        for file in os.listdir(os.path.join(annotator, ref)):\n",
    "            if file.endswith('ann'):\n",
    "                with open(os.path.join(annotator, ref, file)) as f:\n",
    "                    lines = f.readlines()\n",
    "                ann_tags = []\n",
    "                curr_tags = []\n",
    "                for line in lines:\n",
    "                    line_split = line.split('\\t')\n",
    "                    ann_type = line_split[1].split(\" \")[0]\n",
    "                    curr_tags.append(line_split[0])\n",
    "                    if ann_type == \"AnnotatorNotes\":\n",
    "                        ann_tags.append(line_split[1].split(\" \")[1])\n",
    "                \n",
    "                for t in ann_tags:\n",
    "                    if t not in curr_tags:\n",
    "                        print(ref, file)"
   ]
  },
  {
   "cell_type": "code",
   "execution_count": null,
   "id": "b091ff4f",
   "metadata": {},
   "outputs": [],
   "source": []
  }
 ],
 "metadata": {
  "kernelspec": {
   "display_name": "PT",
   "language": "python",
   "name": "pt"
  },
  "language_info": {
   "codemirror_mode": {
    "name": "ipython",
    "version": 3
   },
   "file_extension": ".py",
   "mimetype": "text/x-python",
   "name": "python",
   "nbconvert_exporter": "python",
   "pygments_lexer": "ipython3",
   "version": "3.11.0"
  }
 },
 "nbformat": 4,
 "nbformat_minor": 5
}
