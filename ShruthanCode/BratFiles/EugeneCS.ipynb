{
 "cells": [
  {
   "cell_type": "code",
   "execution_count": 1,
   "id": "e4e28304",
   "metadata": {},
   "outputs": [],
   "source": [
    "import os"
   ]
  },
  {
   "cell_type": "code",
   "execution_count": 2,
   "id": "3bfe3114",
   "metadata": {},
   "outputs": [
    {
     "data": {
      "text/plain": [
       "['visual.conf',\n",
       " 'PMC2811155',\n",
       " 'PMC2848616',\n",
       " 'PMC3442244',\n",
       " 'PMC3522098',\n",
       " 'PMC3090745',\n",
       " 'PMC3650111',\n",
       " 'PMC3096954',\n",
       " 'annotation.conf',\n",
       " 'PMC2958248',\n",
       " 'PMC3179858',\n",
       " '.stats_cache',\n",
       " 'PMC3607626']"
      ]
     },
     "execution_count": 2,
     "metadata": {},
     "output_type": "execute_result"
    }
   ],
   "source": [
    "os.listdir('AccuracyNew')"
   ]
  },
  {
   "cell_type": "code",
   "execution_count": 4,
   "id": "4b4bdd93",
   "metadata": {},
   "outputs": [],
   "source": [
    "CODES = [\n",
    "    'ACCURATE',\n",
    "    'Minor',\n",
    "    'Major'\n",
    "]"
   ]
  },
  {
   "cell_type": "code",
   "execution_count": 41,
   "id": "b5629b44",
   "metadata": {},
   "outputs": [],
   "source": [
    "x, y = None, None"
   ]
  },
  {
   "cell_type": "code",
   "execution_count": 47,
   "id": "20f6d666",
   "metadata": {},
   "outputs": [
    {
     "name": "stdout",
     "output_type": "stream",
     "text": [
      "Processed 217 citations\n"
     ]
    }
   ],
   "source": [
    "result = {}\n",
    "count = 0\n",
    "titles = []\n",
    "for reference_pmc in os.listdir(\"AccuracyNew\"):\n",
    "    if not reference_pmc.startswith(\"PMC\"):\n",
    "        continue\n",
    "    result[reference_pmc] = {}\n",
    "    for cit in os.listdir(os.path.join(\"AccuracyNew\", reference_pmc)):\n",
    "        if cit.endswith(\"ann\"):\n",
    "            context = None\n",
    "            supports = []\n",
    "            with open(os.path.join(\"AccuracyNew\", reference_pmc, f\"{cit[:-4]}.txt\")) as f:\n",
    "                content = f.read()\n",
    "                _, ref = content.split(\"**************************************************************\")\n",
    "                \n",
    "                title = ref.split('\\n\\n')[1]\n",
    "            titles.append(title)\n",
    "            with open(os.path.join(\"AccuracyNew\", reference_pmc, cit)) as f:\n",
    "                lines = f.readlines()\n",
    "                \n",
    "                for line in lines:\n",
    "                    try:\n",
    "                        t1, t2, t3 = line.split('\\t')\n",
    "                    except:\n",
    "                        continue\n",
    "                    tag = t2.split()[0]\n",
    "                    if tag == 'Context':\n",
    "                        context = t3\n",
    "                    elif tag in CODES:\n",
    "                        supports.append(t3)\n",
    "                    \n",
    "#                     if (cit == 'PMC3619105_1.ann' and reference_pmc == 'PMC3522098'):\n",
    "#                         x = t3\n",
    "#                         y = title\n",
    "            if len(supports):  \n",
    "                count += 1\n",
    "                result[reference_pmc][cit[:-4]] = {\n",
    "                    'context' : context,\n",
    "                    'support' : supports\n",
    "                }\n",
    "                        \n",
    "print(f\"Processed {count} citations\")                   "
   ]
  },
  {
   "cell_type": "code",
   "execution_count": 48,
   "id": "5c9b674c",
   "metadata": {},
   "outputs": [],
   "source": [
    "import json\n",
    "\n",
    "with open(\"Eugene_ContextAndSupport.json\", 'w') as f:\n",
    "    json.dump(result, f)\n",
    "#result"
   ]
  },
  {
   "cell_type": "code",
   "execution_count": 53,
   "id": "bac94129",
   "metadata": {},
   "outputs": [
    {
     "name": "stdout",
     "output_type": "stream",
     "text": [
      "Processed 138 citations\n"
     ]
    }
   ],
   "source": [
    "result = {}\n",
    "count = 0\n",
    "titles = []\n",
    "for reference_pmc in os.listdir(\"AccuracyNew\"):\n",
    "    if not reference_pmc.startswith(\"PMC\"):\n",
    "        continue\n",
    "    result[reference_pmc] = {}\n",
    "    for cit in os.listdir(os.path.join(\"AccuracyNew\", reference_pmc)):\n",
    "        if cit.endswith(\"ann\"):\n",
    "            context = None\n",
    "            supports = []\n",
    "            with open(os.path.join(\"AccuracyNew\", reference_pmc, f\"{cit[:-4]}.txt\")) as f:\n",
    "                content = f.read()\n",
    "                _, ref = content.split(\"**************************************************************\")\n",
    "                \n",
    "                title = ref.split('\\n\\n')[1]\n",
    "\n",
    "            with open(os.path.join(\"AccuracyNew\", reference_pmc, cit)) as f:\n",
    "                lines = f.readlines()\n",
    "                \n",
    "                for line in lines:\n",
    "                    try:\n",
    "                        t1, t2, t3 = line.split('\\t')\n",
    "                    except:\n",
    "                        continue\n",
    "                    tag = t2.split()[0]\n",
    "                    if tag == 'Context':\n",
    "                        context = t3\n",
    "                    elif tag in CODES and t3.strip() not in title:\n",
    "                        supports.append(t3)\n",
    "#                     if tag in CODES and t3.strip() in title:\n",
    "#                         titles.append(t3.strip())\n",
    "                    \n",
    "#                     if (cit == 'PMC3619105_1.ann' and reference_pmc == 'PMC3522098'):\n",
    "#                         x = t3\n",
    "#                         y = title\n",
    "            if len(supports):  \n",
    "                count += 1\n",
    "                result[reference_pmc][cit[:-4]] = {\n",
    "                    'context' : context,\n",
    "                    'support' : supports\n",
    "                }\n",
    "                        \n",
    "print(f\"Processed {count} citations\") "
   ]
  },
  {
   "cell_type": "code",
   "execution_count": 50,
   "id": "449daaec",
   "metadata": {},
   "outputs": [],
   "source": [
    "with open(\"Eugene_ContextAndSupport_No_Title.json\", 'w') as f:\n",
    "    json.dump(result, f)"
   ]
  },
  {
   "cell_type": "code",
   "execution_count": null,
   "id": "89b884a4",
   "metadata": {},
   "outputs": [],
   "source": []
  }
 ],
 "metadata": {
  "kernelspec": {
   "display_name": "PT",
   "language": "python",
   "name": "pt"
  },
  "language_info": {
   "codemirror_mode": {
    "name": "ipython",
    "version": 3
   },
   "file_extension": ".py",
   "mimetype": "text/x-python",
   "name": "python",
   "nbconvert_exporter": "python",
   "pygments_lexer": "ipython3",
   "version": "3.11.0"
  }
 },
 "nbformat": 4,
 "nbformat_minor": 5
}
