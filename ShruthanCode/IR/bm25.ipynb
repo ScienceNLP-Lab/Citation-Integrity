{
 "cells": [
  {
   "cell_type": "code",
   "execution_count": 1,
   "id": "766ee86c",
   "metadata": {},
   "outputs": [],
   "source": [
    "import os"
   ]
  },
  {
   "cell_type": "code",
   "execution_count": 2,
   "id": "88a54edc",
   "metadata": {},
   "outputs": [],
   "source": [
    "import os\n",
    "import json\n",
    "import numpy as np\n",
    "from rank_bm25 import BM25Okapi"
   ]
  },
  {
   "cell_type": "code",
   "execution_count": 3,
   "id": "808e2cbf",
   "metadata": {},
   "outputs": [],
   "source": [
    "import spacy\n",
    "nlp = spacy.load(\"en_core_sci_scibert\")"
   ]
  },
  {
   "cell_type": "code",
   "execution_count": 4,
   "id": "61fff38f",
   "metadata": {},
   "outputs": [
    {
     "data": {
      "text/plain": [
       "'/Users/shrut/Work/NewData/IR'"
      ]
     },
     "execution_count": 4,
     "metadata": {},
     "output_type": "execute_result"
    }
   ],
   "source": [
    "pwd"
   ]
  },
  {
   "cell_type": "code",
   "execution_count": 5,
   "id": "5c6229fd",
   "metadata": {},
   "outputs": [],
   "source": [
    "results = {}\n",
    "def get_relevant_sentences(cs, num_tfidf=10):\n",
    "    global results\n",
    "\n",
    "    for pmcid in cs:\n",
    "        if pmcid.startswith('0'):\n",
    "            curr_ref_file = pmcid.split('_')[1]\n",
    "        CURR_PMC = pmcid\n",
    "\n",
    "        with open(f'Sentences/{curr_ref_file}.json') as f:\n",
    "            sentences = json.load(f)\n",
    "\n",
    "        original_sentences = sentences\n",
    "        sentences = [[str(w) for w in s.split()] for s in sentences]\n",
    "        bm25 = BM25Okapi(sentences)\n",
    "\n",
    "\n",
    "        results[CURR_PMC] = {}\n",
    "        idx = 0\n",
    "        for file, d in cs[pmcid].items():\n",
    "            if len(d['support']) == 0:\n",
    "                continue\n",
    "            claim = con[pmcid][file]\n",
    "            idx += 1\n",
    "            \n",
    "            y = [str(w) for w in claim.split()]\n",
    "            scores = bm25.get_scores(y)\n",
    "            sorted_scores = np.argsort(scores)[::-1]\n",
    "            results[CURR_PMC][file] = [original_sentences[i] for i in sorted_scores[:10]]\n"
   ]
  },
  {
   "cell_type": "code",
   "execution_count": 4,
   "id": "619908e3",
   "metadata": {},
   "outputs": [],
   "source": [
    "def calculate_recall(cs, results):\n",
    "    def overlap(start, end, s, e):\n",
    "        return start <= e and s <= end\n",
    "\n",
    "    for pmcid in results:\n",
    "        if pmcid.startswith('0'):\n",
    "            curr_ref_file = pmcid.split('_')[1]\n",
    "        with open(f'Articles/{curr_ref_file}.txt') as f:\n",
    "            content = f.read()\n",
    "        for file in results[pmcid]:\n",
    "            indices = [[content.find(s.strip()), content.find(s.strip())+len(s.strip())] for s in results[pmcid][file]]\n",
    "            count = 0\n",
    "            support_indices = [[content.find(s.strip()), content.find(s.strip())+len(s.strip())] for s in cs[pmcid][file]['support']]\n",
    "            for start, end in support_indices:\n",
    "                for s, e in indices:\n",
    "                    if overlap(start, end, s, e):\n",
    "                        count += 1\n",
    "            cs[pmcid][file]['count'] = count\n",
    "    res = 0\n",
    "    total = 0\n",
    "    for pmcid in cs:\n",
    "        for file in cs[pmcid]:\n",
    "            if 'count' in cs[pmcid][file]:\n",
    "                res += (cs[pmcid][file]['count'] / len(cs[pmcid][file]['support']))\n",
    "                total += 1\n",
    "\n",
    "    return res/total"
   ]
  },
  {
   "cell_type": "code",
   "execution_count": 6,
   "id": "c21bae79",
   "metadata": {},
   "outputs": [],
   "source": [
    "with open('recon_cs.json') as f:\n",
    "    cs = json.load(f)"
   ]
  },
  {
   "cell_type": "code",
   "execution_count": 7,
   "id": "0bfc966d",
   "metadata": {},
   "outputs": [],
   "source": [
    "with open('recon_cs_no_title.json') as f:\n",
    "    cst = json.load(f)"
   ]
  },
  {
   "cell_type": "code",
   "execution_count": 7,
   "id": "9ff17eb4",
   "metadata": {},
   "outputs": [],
   "source": [
    "with open('Eugene_ContextAndSupport.json') as f:\n",
    "    cs1 = json.load(f)"
   ]
  },
  {
   "cell_type": "code",
   "execution_count": 8,
   "id": "ac5d7c41",
   "metadata": {},
   "outputs": [],
   "source": [
    "with open('Eugene_ContextAndSupport_No_Title.json') as f:\n",
    "    cs2 = json.load(f)"
   ]
  },
  {
   "cell_type": "code",
   "execution_count": 33,
   "id": "fedddcf3",
   "metadata": {},
   "outputs": [],
   "source": [
    "with open('Degaulle_ContextAndSupport.json') as f:\n",
    "    cs3 = json.load(f)"
   ]
  },
  {
   "cell_type": "code",
   "execution_count": 34,
   "id": "7e064bec",
   "metadata": {},
   "outputs": [],
   "source": [
    "with open('Degaulle_ContextAndSupport_No_Title.json') as f:\n",
    "    cs4 = json.load(f)"
   ]
  },
  {
   "cell_type": "code",
   "execution_count": 30,
   "id": "f18e510e",
   "metadata": {},
   "outputs": [
    {
     "data": {
      "text/plain": [
       "0.23517665130568363"
      ]
     },
     "execution_count": 30,
     "metadata": {},
     "output_type": "execute_result"
    }
   ],
   "source": [
    "results = {}\n",
    "get_relevant_sentences(cs1)\n",
    "calculate_recall(cs1, results)"
   ]
  },
  {
   "cell_type": "code",
   "execution_count": 31,
   "id": "802e5fc5",
   "metadata": {},
   "outputs": [
    {
     "data": {
      "text/plain": [
       "0.3897342995169083"
      ]
     },
     "execution_count": 31,
     "metadata": {},
     "output_type": "execute_result"
    }
   ],
   "source": [
    "results = {}\n",
    "get_relevant_sentences(cs2)\n",
    "calculate_recall(cs2, results)"
   ]
  },
  {
   "cell_type": "code",
   "execution_count": 39,
   "id": "7c060f2d",
   "metadata": {},
   "outputs": [
    {
     "data": {
      "text/plain": [
       "0.38192090395480227"
      ]
     },
     "execution_count": 39,
     "metadata": {},
     "output_type": "execute_result"
    }
   ],
   "source": [
    "results = {}\n",
    "get_relevant_sentences(cs3)\n",
    "calculate_recall(cs3, results)"
   ]
  },
  {
   "cell_type": "code",
   "execution_count": 40,
   "id": "e3673de8",
   "metadata": {},
   "outputs": [
    {
     "data": {
      "text/plain": [
       "0.4023809523809524"
      ]
     },
     "execution_count": 40,
     "metadata": {},
     "output_type": "execute_result"
    }
   ],
   "source": [
    "results = {}\n",
    "get_relevant_sentences(cs4)\n",
    "calculate_recall(cs4, results)"
   ]
  },
  {
   "cell_type": "code",
   "execution_count": 10,
   "id": "b83f2c82",
   "metadata": {},
   "outputs": [
    {
     "data": {
      "text/plain": [
       "0.35577610872675247"
      ]
     },
     "execution_count": 10,
     "metadata": {},
     "output_type": "execute_result"
    }
   ],
   "source": [
    "results = {}\n",
    "get_relevant_sentences(cs)\n",
    "calculate_recall(cs, results)"
   ]
  },
  {
   "cell_type": "code",
   "execution_count": 11,
   "id": "ec18f2b4",
   "metadata": {},
   "outputs": [
    {
     "data": {
      "text/plain": [
       "0.4491051454138701"
      ]
     },
     "execution_count": 11,
     "metadata": {},
     "output_type": "execute_result"
    }
   ],
   "source": [
    "results = {}\n",
    "get_relevant_sentences(cst)\n",
    "calculate_recall(cst, results)"
   ]
  },
  {
   "cell_type": "code",
   "execution_count": 10,
   "id": "c65b9846-fbe7-43f4-abd1-12708ebb47ce",
   "metadata": {},
   "outputs": [],
   "source": [
    "with open(\"sent_context.json\") as f:\n",
    "    con = json.load(f)"
   ]
  },
  {
   "cell_type": "code",
   "execution_count": 11,
   "id": "f9322f90",
   "metadata": {},
   "outputs": [
    {
     "data": {
      "text/plain": [
       "0.3456723891273248"
      ]
     },
     "execution_count": 11,
     "metadata": {},
     "output_type": "execute_result"
    }
   ],
   "source": [
    "results = {}\n",
    "get_relevant_sentences(cs)\n",
    "calculate_recall(cs, results)"
   ]
  },
  {
   "cell_type": "code",
   "execution_count": 12,
   "id": "c8595718-b4b2-4b12-aaea-a42218ace10b",
   "metadata": {},
   "outputs": [
    {
     "data": {
      "text/plain": [
       "0.4351230425055927"
      ]
     },
     "execution_count": 12,
     "metadata": {},
     "output_type": "execute_result"
    }
   ],
   "source": [
    "results = {}\n",
    "get_relevant_sentences(cst)\n",
    "calculate_recall(cst, results)"
   ]
  },
  {
   "cell_type": "code",
   "execution_count": null,
   "id": "3739a1b9-75ac-47e8-abbd-10c7dead4708",
   "metadata": {},
   "outputs": [],
   "source": []
  }
 ],
 "metadata": {
  "kernelspec": {
   "display_name": "PT",
   "language": "python",
   "name": "pt"
  },
  "language_info": {
   "codemirror_mode": {
    "name": "ipython",
    "version": 3
   },
   "file_extension": ".py",
   "mimetype": "text/x-python",
   "name": "python",
   "nbconvert_exporter": "python",
   "pygments_lexer": "ipython3",
   "version": "3.11.0"
  }
 },
 "nbformat": 4,
 "nbformat_minor": 5
}
