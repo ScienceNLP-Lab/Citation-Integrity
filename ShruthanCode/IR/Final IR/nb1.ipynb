{
 "cells": [
  {
   "cell_type": "code",
   "execution_count": 56,
   "id": "7803ac42-b307-492d-94cd-ab24124c7954",
   "metadata": {},
   "outputs": [],
   "source": [
    "import os"
   ]
  },
  {
   "cell_type": "markdown",
   "id": "7ed9a973-22ad-4ad6-94c9-cea640e4c502",
   "metadata": {},
   "source": [
    "## Get Reference Article Text"
   ]
  },
  {
   "cell_type": "code",
   "execution_count": 57,
   "id": "5e20b014-cd4a-4fd6-aceb-735cd354c05d",
   "metadata": {},
   "outputs": [],
   "source": [
    "FOLDER = \"output-final-set-citing-accuracy\"\n",
    "OUTPUT_FOLDER = \"refefence\""
   ]
  },
  {
   "cell_type": "code",
   "execution_count": 61,
   "id": "07d45214-876c-4eb0-8808-97484b91c258",
   "metadata": {},
   "outputs": [
    {
     "name": "stdout",
     "output_type": "stream",
     "text": [
      "huggingface/tokenizers: The current process just got forked, after parallelism has already been used. Disabling parallelism to avoid deadlocks...\n",
      "To disable this warning, you can either:\n",
      "\t- Avoid using `tokenizers` before the fork if possible\n",
      "\t- Explicitly set the environment variable TOKENIZERS_PARALLELISM=(true | false)\n"
     ]
    }
   ],
   "source": [
    "!mkdir {OUTPUT_FOLDER}"
   ]
  },
  {
   "cell_type": "code",
   "execution_count": 62,
   "id": "67e5a805-1a1c-4f46-a899-b8a4f00d5233",
   "metadata": {},
   "outputs": [],
   "source": [
    "for file in os.listdir(FOLDER):\n",
    "    if \"PMC\" not in file:\n",
    "        continue\n",
    "    for cit in os.listdir(f\"{FOLDER}/{file}\"):\n",
    "        if cit.endswith('ann'):\n",
    "            continue\n",
    "        with open(f\"{FOLDER}/{file}/{cit}\") as f:\n",
    "            content = f.read()\n",
    "            spl = content.split(\"**************************************************************\")\n",
    "\n",
    "        \n",
    "        with open(f\"{OUTPUT_FOLDER}/{file}.txt\", 'w') as f:\n",
    "            f.write(spl[1].strip())\n",
    "        break"
   ]
  },
  {
   "cell_type": "markdown",
   "id": "5f80c96e-0336-4052-bfd5-ccca774fd84e",
   "metadata": {},
   "source": [
    "## Get Contexts"
   ]
  },
  {
   "cell_type": "code",
   "execution_count": 66,
   "id": "fcbb7ff7-2918-4333-bf4f-6477d747a735",
   "metadata": {},
   "outputs": [],
   "source": [
    "FOLDER = \"output-final-set-citing-accuracy\""
   ]
  },
  {
   "cell_type": "code",
   "execution_count": 67,
   "id": "79b4d173-e634-4611-918a-17aa793e5a35",
   "metadata": {},
   "outputs": [],
   "source": [
    "import spacy\n",
    "import spacy_transformers\n",
    "nlp = spacy.load(\"en_core_sci_md\")"
   ]
  },
  {
   "cell_type": "code",
   "execution_count": 68,
   "id": "ffdc4438-b37b-469f-a66c-998d5443882a",
   "metadata": {},
   "outputs": [],
   "source": [
    "from tqdm.notebook import tqdm"
   ]
  },
  {
   "cell_type": "code",
   "execution_count": 71,
   "id": "9fa5ce91-da64-4c31-a4e6-d221853cd187",
   "metadata": {},
   "outputs": [
    {
     "data": {
      "application/vnd.jupyter.widget-view+json": {
       "model_id": "14df5cef590a420b9b6ea8ba6dd35a7b",
       "version_major": 2,
       "version_minor": 0
      },
      "text/plain": [
       "  0%|          | 0/12 [00:00<?, ?it/s]"
      ]
     },
     "metadata": {},
     "output_type": "display_data"
    },
    {
     "name": "stdout",
     "output_type": "stream",
     "text": [
      "010_PMC3650111\n",
      "013_PMC7199903\n",
      "019_PMC7581548\n",
      "020_PMC7787219\n",
      "012_PMC7164881\n",
      "021_PMC8078878\n",
      "016_PMC7299280\n",
      "011_PMC7164482\n",
      "ERROR 011_PMC7164482 PMC8415352_2.ann\n",
      "018_PMC7578095\n",
      "017_PMC7418704\n",
      "015_PMC7262788\n",
      "014_PMC7227586\n"
     ]
    }
   ],
   "source": [
    "def overlap(start, end, s, e):\n",
    "    return start <= e and s <= end\n",
    "\n",
    "res = {}\n",
    "files = os.listdir(FOLDER)\n",
    "for i in tqdm(range(len(files))):\n",
    "    file = files[i]\n",
    "    if \"PMC\" not in file:\n",
    "        continue\n",
    "    print(file)\n",
    "    res[file] = {}\n",
    "    for cit in os.listdir(f\"{FOLDER}/{file}\"):\n",
    "        if cit.endswith('ann'):\n",
    "            citing_article = cit[:-4]\n",
    "            with open(f\"{FOLDER}/{file}/{citing_article}.txt\") as f:\n",
    "                text = f.read()\n",
    "                citing_text = text.split(\"**************************************************************\")[0]\n",
    "                doc = nlp(citing_text)\n",
    "                sentences = [str(s) for s in list(doc.sents) if str(s) != '\\n\\n']\n",
    "                \n",
    "            with open(f\"{FOLDER}/{file}/{citing_article}.ann\") as f:\n",
    "                lines = f.readlines()\n",
    "                if lines[0].split(\"\\t\")[1].split(\" \")[0] not in [\"Citation\", \"MultiCitation\"]:\n",
    "                    print(\"ERROR\", file, cit)\n",
    "                s, e = lines[0].split(\"\\t\")[1].split(\" \")[1], lines[0].split(\"\\t\")[1].split(\" \")[2]\n",
    "                s, e = int(s), int(e)\n",
    "                \n",
    "                for sentence in sentences:\n",
    "                    a, b = citing_text.find(sentence), citing_text.find(sentence)+len(sentence)\n",
    "                    if overlap(s, e, a, b):\n",
    "                        res[file][citing_article] = sentence\n",
    "\n",
    "                        \n",
    "\n",
    "        \n",
    "        "
   ]
  },
  {
   "cell_type": "code",
   "execution_count": 74,
   "id": "c289f7d4-2d27-4925-ae0d-c31a71678798",
   "metadata": {},
   "outputs": [],
   "source": [
    "import json\n",
    "with open(\"contexts.json\", 'w') as f:\n",
    "    json.dump(res, f)\n",
    "    "
   ]
  },
  {
   "cell_type": "markdown",
   "id": "abf6ed64-2d86-422e-9d49-f27c11cf9273",
   "metadata": {},
   "source": [
    "## Split Sentences"
   ]
  },
  {
   "cell_type": "code",
   "execution_count": 77,
   "id": "2f533336-959e-482a-af8b-978c9ed2e39d",
   "metadata": {},
   "outputs": [],
   "source": [
    "OUTPUT_FOLDER = \"refefence\""
   ]
  },
  {
   "cell_type": "code",
   "execution_count": 81,
   "id": "6ca62c72-59a7-4177-b441-9942c2c65a67",
   "metadata": {},
   "outputs": [],
   "source": [
    "all_files = os.listdir(OUTPUT_FOLDER)"
   ]
  },
  {
   "cell_type": "code",
   "execution_count": 82,
   "id": "989dfcb1-2e5c-4321-b96d-6ae6925c328a",
   "metadata": {},
   "outputs": [
    {
     "name": "stdout",
     "output_type": "stream",
     "text": [
      "0 010_PMC3650111.txt\n",
      "1 011_PMC7164482.txt\n",
      "2 015_PMC7262788.txt\n",
      "3 019_PMC7581548.txt\n",
      "4 013_PMC7199903.txt\n",
      "5 017_PMC7418704.txt\n",
      "6 020_PMC7787219.txt\n",
      "7 012_PMC7164881.txt\n",
      "8 016_PMC7299280.txt\n",
      "9 021_PMC8078878.txt\n",
      "11 014_PMC7227586.txt\n",
      "12 018_PMC7578095.txt\n"
     ]
    }
   ],
   "source": [
    "for i, file in enumerate(all_files):\n",
    "    if file.endswith('txt'):\n",
    "        print(i, file)\n",
    "        with open(f\"{OUTPUT_FOLDER}/{file}\", encoding='utf-8') as f:\n",
    "            text = f.read()\n",
    "            doc = nlp(text)\n",
    "            sentences_all = [str(s) for s in list(doc.sents) if str(s) != '\\n\\n']\n",
    "            sentences = []\n",
    "            for s in sentences_all:\n",
    "                if \"references\" in s.lower():\n",
    "                    break\n",
    "                sentences.append(s)\n",
    "            sentences = [s.strip() for s in sentences if s.strip().count(' ') >= 2]\n",
    "        \n",
    "        if not os.path.isdir(\"Sentences\"):\n",
    "            os.mkdir(\"Sentences\")\n",
    "        \n",
    "        with open(f'Sentences/{file[:-4]}.json', 'w') as g:\n",
    "            json.dump(sentences, g)"
   ]
  }
 ],
 "metadata": {
  "kernelspec": {
   "display_name": "PT",
   "language": "python",
   "name": "pt"
  },
  "language_info": {
   "codemirror_mode": {
    "name": "ipython",
    "version": 3
   },
   "file_extension": ".py",
   "mimetype": "text/x-python",
   "name": "python",
   "nbconvert_exporter": "python",
   "pygments_lexer": "ipython3",
   "version": "3.11.0"
  }
 },
 "nbformat": 4,
 "nbformat_minor": 5
}
