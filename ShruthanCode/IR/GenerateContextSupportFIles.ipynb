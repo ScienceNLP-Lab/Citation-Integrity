{
 "cells": [
  {
   "cell_type": "code",
   "execution_count": 1,
   "id": "c0759c0a",
   "metadata": {},
   "outputs": [],
   "source": [
    "import os\n",
    "import json"
   ]
  },
  {
   "cell_type": "code",
   "execution_count": 2,
   "id": "a736f574",
   "metadata": {},
   "outputs": [],
   "source": [
    "CODES = [\n",
    "    \"MAJOR\", \"CONTRADICT\", \"IRRELEVANT\", \"NOT_SUBSTANTIATE\", \"MINOR\", \"MISQUOTE\", \"OVERSIMPLIFY\", \"INDIRECT\", \"ACCURATE\", \"ETIQUETTE\"\n",
    "]"
   ]
  },
  {
   "cell_type": "code",
   "execution_count": 3,
   "id": "f9a82a28",
   "metadata": {},
   "outputs": [
    {
     "data": {
      "text/plain": [
       "'/Users/shrut/Work/NewData/EugeneOldToNew'"
      ]
     },
     "execution_count": 3,
     "metadata": {},
     "output_type": "execute_result"
    }
   ],
   "source": [
    "pwd"
   ]
  },
  {
   "cell_type": "code",
   "execution_count": 6,
   "id": "b4e8b6ea",
   "metadata": {},
   "outputs": [
    {
     "data": {
      "text/plain": [
       "'../../Backups/001-010'"
      ]
     },
     "execution_count": 6,
     "metadata": {},
     "output_type": "execute_result"
    }
   ],
   "source": [
    "\"../../Backups/001-010\""
   ]
  },
  {
   "cell_type": "code",
   "execution_count": 7,
   "id": "0e53b105",
   "metadata": {},
   "outputs": [
    {
     "name": "stdout",
     "output_type": "stream",
     "text": [
      "010_PMC3650111 PMC5025761_3.ann\n",
      "010_PMC3650111 PMC4391288_2.ann\n",
      "004_PMC3090745 PMC3511432_1.ann\n",
      "004_PMC3090745 PMC3511432_2.ann\n",
      "004_PMC3090745 PMC3330267_1.ann\n",
      "001_PMC2811155 PMC3010068_6.ann\n",
      "007_PMC3442244 PMC3654344_2.ann\n",
      "006_PMC3179858 PMC3234228_1.ann\n",
      "006_PMC3179858 PMC3142215_3.ann\n",
      "002_PMC2848616 PMC5797541_3.ann\n",
      "002_PMC2848616 PMC2886067_2.ann\n",
      "002_PMC2848616 PMC4399516_6.ann\n",
      "003_PMC2958248 PMC4466270_1.ann\n",
      "003_PMC2958248 PMC4466270_2.ann\n",
      "003_PMC2958248 PMC5635324_2.ann\n",
      "003_PMC2958248 PMC5635324_4.ann\n",
      "003_PMC2958248 PMC5989071_1.ann\n",
      "008_PMC3522098 PMC3837041_2.ann\n",
      "Processed 200 citations\n"
     ]
    }
   ],
   "source": [
    "result = {}\n",
    "count = 0\n",
    "titles = []\n",
    "ann_cnt = 0\n",
    "base = \"../../Backups/001-010\"\n",
    "for reference_pmc in os.listdir(base):\n",
    "\n",
    "    if not reference_pmc.startswith(\"0\"):\n",
    "        continue\n",
    "    result[reference_pmc] = {}\n",
    "    for cit in os.listdir(os.path.join(base, reference_pmc)):\n",
    "        if cit.endswith(\"ann\"):\n",
    "            ann_cnt += 1\n",
    "            context = None\n",
    "            supports = []\n",
    "            with open(os.path.join(base, reference_pmc, f\"{cit[:-4]}.txt\")) as f:\n",
    "                content = f.read()\n",
    "                _, ref = content.split(\"**************************************************************\")\n",
    "                \n",
    "                title = ref.split('\\n\\n')[1]\n",
    "            titles.append(title)\n",
    "            with open(os.path.join(base, reference_pmc, cit)) as f:\n",
    "                lines = f.readlines()\n",
    "                \n",
    "                for line in lines:\n",
    "                    try:\n",
    "                        t1, t2, t3 = line.split('\\t')\n",
    "                    except:\n",
    "                        continue\n",
    "                    tag = t2.split()[0]\n",
    "                    if tag == 'Context':\n",
    "                        context = t3\n",
    "                    elif tag in CODES:\n",
    "                        supports.append(t3)\n",
    "                    \n",
    "#                     if (cit == 'PMC3619105_1.ann' and reference_pmc == 'PMC3522098'):\n",
    "#                         x = t3\n",
    "#                         y = title\n",
    "            if len(supports) == 0:\n",
    "                print(reference_pmc, cit)\n",
    "            if len(supports):  \n",
    "                count += 1\n",
    "                result[reference_pmc][cit[:-4]] = {\n",
    "                    'context' : context,\n",
    "                    'support' : supports\n",
    "                }\n",
    "                        \n",
    "print(f\"Processed {count} citations\")                   "
   ]
  },
  {
   "cell_type": "code",
   "execution_count": 9,
   "id": "a15df7ab",
   "metadata": {},
   "outputs": [],
   "source": [
    "with open(\"recon.json\", 'w') as f:\n",
    "    json.dump(result, f)"
   ]
  },
  {
   "cell_type": "code",
   "execution_count": 13,
   "id": "012c0e77",
   "metadata": {},
   "outputs": [
    {
     "name": "stdout",
     "output_type": "stream",
     "text": [
      "Processed 186 citations\n"
     ]
    }
   ],
   "source": [
    "result = {}\n",
    "count = 0\n",
    "titles = []\n",
    "base = \"../../Backups/001-010\"\n",
    "for reference_pmc in os.listdir(base):\n",
    "    if not reference_pmc.startswith(\"0\"):\n",
    "        continue\n",
    "    result[reference_pmc] = {}\n",
    "    for cit in os.listdir(os.path.join(base, reference_pmc)):\n",
    "        if cit.endswith(\"ann\"):\n",
    "            context = None\n",
    "            supports = []\n",
    "            with open(os.path.join(base, reference_pmc, f\"{cit[:-4]}.txt\")) as f:\n",
    "                content = f.read()\n",
    "                _, ref = content.split(\"**************************************************************\")\n",
    "                \n",
    "                title = ref.split('\\n\\n')[1]\n",
    "\n",
    "            with open(os.path.join(base, reference_pmc, cit)) as f:\n",
    "                lines = f.readlines()\n",
    "                \n",
    "                for line in lines:\n",
    "                    try:\n",
    "                        t1, t2, t3 = line.split('\\t')\n",
    "                    except:\n",
    "                        continue\n",
    "                    tag = t2.split()[0]\n",
    "                    if tag == 'Context':\n",
    "                        context = t3\n",
    "                    elif tag in CODES and t3.strip() not in title:\n",
    "                        supports.append(t3)\n",
    "#                     if tag in CODES and t3.strip() in title:\n",
    "#                         titles.append(t3.strip())\n",
    "                    \n",
    "#                     if (cit == 'PMC3619105_1.ann' and reference_pmc == 'PMC3522098'):\n",
    "#                         x = t3\n",
    "#                         y = title\n",
    "            if len(supports):  \n",
    "                count += 1\n",
    "                result[reference_pmc][cit[:-4]] = {\n",
    "                    'context' : context,\n",
    "                    'support' : supports\n",
    "                }\n",
    "                        \n",
    "print(f\"Processed {count} citations\") "
   ]
  },
  {
   "cell_type": "code",
   "execution_count": 14,
   "id": "94b0612c",
   "metadata": {},
   "outputs": [],
   "source": [
    "with open(\"recon_no_title.json\", 'w') as f:\n",
    "    json.dump(result, f)"
   ]
  },
  {
   "cell_type": "code",
   "execution_count": 4,
   "id": "4f4312e4",
   "metadata": {},
   "outputs": [],
   "source": [
    "CODES = ['ACCURATE']"
   ]
  },
  {
   "cell_type": "code",
   "execution_count": 5,
   "id": "0228d3cf-5941-4438-91c7-98bdc713b750",
   "metadata": {},
   "outputs": [
    {
     "name": "stdout",
     "output_type": "stream",
     "text": [
      "010_PMC3650111 PMC5025761_3.ann\n",
      "010_PMC3650111 PMC4970383_2.ann\n",
      "010_PMC3650111 PMC4391288_2.ann\n",
      "004_PMC3090745 PMC3369937_5.ann\n",
      "004_PMC3090745 PMC3369937_3.ann\n",
      "004_PMC3090745 PMC3511432_1.ann\n",
      "004_PMC3090745 PMC3554198_1.ann\n",
      "004_PMC3090745 PMC3511432_2.ann\n",
      "004_PMC3090745 PMC3270040_2.ann\n",
      "004_PMC3090745 PMC3330267_1.ann\n",
      "004_PMC3090745 PMC3330267_2.ann\n",
      "001_PMC2811155 PMC3010068_2.ann\n",
      "001_PMC2811155 PMC2995166_8.ann\n",
      "001_PMC2811155 PMC3010068_6.ann\n",
      "001_PMC2811155 PMC2995166_4.ann\n",
      "001_PMC2811155 PMC3020954_2.ann\n",
      "001_PMC2811155 PMC3050809_4.ann\n",
      "007_PMC3442244 PMC4030114_1.ann\n",
      "007_PMC3442244 PMC4030114_2.ann\n",
      "007_PMC3442244 PMC4030114_3.ann\n",
      "007_PMC3442244 PMC3654344_2.ann\n",
      "007_PMC3442244 PMC4076741_2.ann\n",
      "007_PMC3442244 PMC4076741_1.ann\n",
      "007_PMC3442244 PMC3749360_3.ann\n",
      "007_PMC3442244 PMC3749360_2.ann\n",
      "007_PMC3442244 PMC3749360_1.ann\n",
      "006_PMC3179858 PMC3234228_1.ann\n",
      "006_PMC3179858 PMC3234228_3.ann\n",
      "006_PMC3179858 PMC3234228_2.ann\n",
      "006_PMC3179858 PMC3234228_6.ann\n",
      "006_PMC3179858 PMC3178557_2.ann\n",
      "006_PMC3179858 PMC3142215_5.ann\n",
      "006_PMC3179858 PMC3142215_3.ann\n",
      "006_PMC3179858 PMC3142215_2.ann\n",
      "002_PMC2848616 PMC4154524_3.ann\n",
      "002_PMC2848616 PMC4154524_2.ann\n",
      "002_PMC2848616 PMC4154524_4.ann\n",
      "002_PMC2848616 PMC3182203_1.ann\n",
      "002_PMC2848616 PMC3509553_2.ann\n",
      "002_PMC2848616 PMC3182203_2.ann\n",
      "002_PMC2848616 PMC2886067_1.ann\n",
      "002_PMC2848616 PMC5797541_3.ann\n",
      "002_PMC2848616 PMC2886067_2.ann\n",
      "002_PMC2848616 PMC4399516_2.ann\n",
      "002_PMC2848616 PMC4399516_6.ann\n",
      "002_PMC2848616 PMC2942840_1.ann\n",
      "003_PMC2958248 PMC4466270_1.ann\n",
      "003_PMC2958248 PMC4466270_2.ann\n",
      "003_PMC2958248 PMC5789701_1.ann\n",
      "003_PMC2958248 PMC5789701_2.ann\n",
      "003_PMC2958248 PMC5635324_3.ann\n",
      "003_PMC2958248 PMC3250430_1.ann\n",
      "003_PMC2958248 PMC5635324_2.ann\n",
      "003_PMC2958248 PMC5635324_4.ann\n",
      "003_PMC2958248 PMC3250430_4.ann\n",
      "003_PMC2958248 PMC5989071_1.ann\n",
      "003_PMC2958248 PMC4012220_4.ann\n",
      "003_PMC2958248 PMC4012220_7.ann\n",
      "008_PMC3522098 PMC3837041_2.ann\n",
      "008_PMC3522098 PMC3584060_1.ann\n",
      "009_PMC3607626 PMC3297570_6.ann\n",
      "009_PMC3607626 PMC3297570_5.ann\n",
      "009_PMC3607626 PMC3310790_7.ann\n",
      "009_PMC3607626 PMC3310790_5.ann\n",
      "009_PMC3607626 PMC3310790_8.ann\n",
      "009_PMC3607626 PMC3440365_4.ann\n",
      "Processed 152 citations\n"
     ]
    }
   ],
   "source": [
    "result = {}\n",
    "count = 0\n",
    "titles = []\n",
    "ann_cnt = 0\n",
    "base = \"../../Backups/001-010\"\n",
    "for reference_pmc in os.listdir(base):\n",
    "\n",
    "    if not reference_pmc.startswith(\"0\"):\n",
    "        continue\n",
    "    result[reference_pmc] = {}\n",
    "    for cit in os.listdir(os.path.join(base, reference_pmc)):\n",
    "        if cit.endswith(\"ann\"):\n",
    "            ann_cnt += 1\n",
    "            context = None\n",
    "            supports = []\n",
    "            with open(os.path.join(base, reference_pmc, f\"{cit[:-4]}.txt\")) as f:\n",
    "                content = f.read()\n",
    "                _, ref = content.split(\"**************************************************************\")\n",
    "                \n",
    "                title = ref.split('\\n\\n')[1]\n",
    "            titles.append(title)\n",
    "            with open(os.path.join(base, reference_pmc, cit)) as f:\n",
    "                lines = f.readlines()\n",
    "                \n",
    "                for line in lines:\n",
    "                    try:\n",
    "                        t1, t2, t3 = line.split('\\t')\n",
    "                    except:\n",
    "                        continue\n",
    "                    tag = t2.split()[0]\n",
    "                    if tag == 'Context':\n",
    "                        context = t3\n",
    "                    elif tag in CODES:\n",
    "                        supports.append(t3)\n",
    "                    \n",
    "#                     if (cit == 'PMC3619105_1.ann' and reference_pmc == 'PMC3522098'):\n",
    "#                         x = t3\n",
    "#                         y = title\n",
    "            if len(supports) == 0:\n",
    "                print(reference_pmc, cit)\n",
    "            if len(supports):  \n",
    "                count += 1\n",
    "                result[reference_pmc][cit[:-4]] = {\n",
    "                    'context' : context,\n",
    "                    'support' : supports\n",
    "                }\n",
    "                        \n",
    "print(f\"Processed {count} citations\")                   "
   ]
  },
  {
   "cell_type": "code",
   "execution_count": 7,
   "id": "7b1671c0-aa38-457a-b043-38138c09bd99",
   "metadata": {},
   "outputs": [],
   "source": [
    "with open(\"recon_acc_only.json\", 'w') as f:\n",
    "    json.dump(result, f)"
   ]
  },
  {
   "cell_type": "code",
   "execution_count": 9,
   "id": "b664bef0-7dbc-4832-b234-ec7b92f2c30d",
   "metadata": {},
   "outputs": [
    {
     "name": "stdout",
     "output_type": "stream",
     "text": [
      "Processed 144 citations\n"
     ]
    }
   ],
   "source": [
    "result = {}\n",
    "count = 0\n",
    "titles = []\n",
    "base = \"../../Backups/001-010\"\n",
    "for reference_pmc in os.listdir(base):\n",
    "    if not reference_pmc.startswith(\"0\"):\n",
    "        continue\n",
    "    result[reference_pmc] = {}\n",
    "    for cit in os.listdir(os.path.join(base, reference_pmc)):\n",
    "        if cit.endswith(\"ann\"):\n",
    "            context = None\n",
    "            supports = []\n",
    "            with open(os.path.join(base, reference_pmc, f\"{cit[:-4]}.txt\")) as f:\n",
    "                content = f.read()\n",
    "                _, ref = content.split(\"**************************************************************\")\n",
    "                \n",
    "                title = ref.split('\\n\\n')[1]\n",
    "\n",
    "            with open(os.path.join(base, reference_pmc, cit)) as f:\n",
    "                lines = f.readlines()\n",
    "                \n",
    "                for line in lines:\n",
    "                    try:\n",
    "                        t1, t2, t3 = line.split('\\t')\n",
    "                    except:\n",
    "                        continue\n",
    "                    tag = t2.split()[0]\n",
    "                    if tag == 'Context':\n",
    "                        context = t3\n",
    "                    elif tag in CODES and t3.strip() not in title:\n",
    "                        supports.append(t3)\n",
    "#                     if tag in CODES and t3.strip() in title:\n",
    "#                         titles.append(t3.strip())\n",
    "                    \n",
    "#                     if (cit == 'PMC3619105_1.ann' and reference_pmc == 'PMC3522098'):\n",
    "#                         x = t3\n",
    "#                         y = title\n",
    "            if len(supports):  \n",
    "                count += 1\n",
    "                result[reference_pmc][cit[:-4]] = {\n",
    "                    'context' : context,\n",
    "                    'support' : supports\n",
    "                }\n",
    "                        \n",
    "print(f\"Processed {count} citations\") "
   ]
  },
  {
   "cell_type": "code",
   "execution_count": 10,
   "id": "d82abfbe-12d8-4aba-977b-31ac5c5369b5",
   "metadata": {},
   "outputs": [],
   "source": [
    "with open(\"recon_acc_only_title.json\", 'w') as f:\n",
    "    json.dump(result, f)"
   ]
  },
  {
   "cell_type": "code",
   "execution_count": null,
   "id": "77283214-5b89-4ead-a244-76eb7d4a38cf",
   "metadata": {},
   "outputs": [],
   "source": []
  },
  {
   "cell_type": "code",
   "execution_count": 4,
   "id": "e87ff3ae",
   "metadata": {},
   "outputs": [
    {
     "ename": "NameError",
     "evalue": "name 'os' is not defined",
     "output_type": "error",
     "traceback": [
      "\u001B[0;31m---------------------------------------------------------------------------\u001B[0m",
      "\u001B[0;31mNameError\u001B[0m                                 Traceback (most recent call last)",
      "Cell \u001B[0;32mIn [4], line 6\u001B[0m\n\u001B[1;32m      4\u001B[0m ann_cnt \u001B[39m=\u001B[39m \u001B[39m0\u001B[39m\n\u001B[1;32m      5\u001B[0m base \u001B[39m=\u001B[39m \u001B[39m'\u001B[39m\u001B[39mDegaulle\u001B[39m\u001B[39m'\u001B[39m\n\u001B[0;32m----> 6\u001B[0m \u001B[39mfor\u001B[39;00m reference_pmc \u001B[39min\u001B[39;00m os\u001B[39m.\u001B[39mlistdir(\u001B[39m\"\u001B[39m\u001B[39mDegaulle\u001B[39m\u001B[39m\"\u001B[39m):\n\u001B[1;32m      8\u001B[0m     \u001B[39mif\u001B[39;00m \u001B[39mnot\u001B[39;00m reference_pmc\u001B[39m.\u001B[39mstartswith(\u001B[39m\"\u001B[39m\u001B[39m0\u001B[39m\u001B[39m\"\u001B[39m):\n\u001B[1;32m      9\u001B[0m         \u001B[39mcontinue\u001B[39;00m\n",
      "\u001B[0;31mNameError\u001B[0m: name 'os' is not defined"
     ]
    }
   ],
   "source": [
    "result = {}\n",
    "count = 0\n",
    "titles = []\n",
    "\n",
    "base = 'Degaulle'\n",
    "for reference_pmc in os.listdir(\"Degaulle\"):\n",
    "\n",
    "    if not reference_pmc.startswith(\"0\"):\n",
    "        continue\n",
    "    result[reference_pmc] = {}\n",
    "    for cit in os.listdir(os.path.join(\"Degaulle\", reference_pmc)):\n",
    "        if cit.endswith(\"ann\"):\n",
    "            ann_cnt += 1\n",
    "            context = None\n",
    "            supports = []\n",
    "            with open(os.path.join(\"Degaulle\", reference_pmc, f\"{cit[:-4]}.txt\")) as f:\n",
    "                content = f.read()\n",
    "                _, ref = content.split(\"**************************************************************\")\n",
    "                \n",
    "                title = ref.split('\\n\\n')[1]\n",
    "            titles.append(title)\n",
    "            with open(os.path.join(\"Degaulle\", reference_pmc, cit)) as f:\n",
    "                lines = f.readlines()\n",
    "                \n",
    "                for line in lines:\n",
    "                    try:\n",
    "                        t1, t2, t3 = line.split('\\t')\n",
    "                    except:\n",
    "                        continue\n",
    "                    tag = t2.split()[0]\n",
    "                    if tag == 'Context':\n",
    "                        context = t3\n",
    "                    elif tag in CODES:\n",
    "                        supports.append(t3)\n",
    "                    \n",
    "#                     if (cit == 'PMC3619105_1.ann' and reference_pmc == 'PMC3522098'):\n",
    "#                         x = t3\n",
    "#                         y = title\n",
    "            if len(supports):  \n",
    "                count += 1\n",
    "                result[reference_pmc][cit[:-4]] = {\n",
    "                    'context' : context,\n",
    "                    'support' : supports\n",
    "                }\n",
    "                        \n",
    "print(f\"Processed {count} citations\")                   "
   ]
  },
  {
   "cell_type": "code",
   "execution_count": null,
   "id": "8f33d96a",
   "metadata": {},
   "outputs": [],
   "source": []
  },
  {
   "cell_type": "code",
   "execution_count": 14,
   "id": "07f89831",
   "metadata": {},
   "outputs": [],
   "source": [
    "with open(\"Degaulle_ContextAndSupport.json\", 'w') as f:\n",
    "    json.dump(result, f)"
   ]
  },
  {
   "cell_type": "code",
   "execution_count": 9,
   "id": "ff04da69",
   "metadata": {},
   "outputs": [
    {
     "name": "stdout",
     "output_type": "stream",
     "text": [
      "Processed 112 citations\n"
     ]
    }
   ],
   "source": [
    "result = {}\n",
    "count = 0\n",
    "titles = []\n",
    "for reference_pmc in os.listdir(\"Degaulle\"):\n",
    "    if not reference_pmc.startswith(\"0\"):\n",
    "        continue\n",
    "    result[reference_pmc] = {}\n",
    "    for cit in os.listdir(os.path.join(\"Degaulle\", reference_pmc)):\n",
    "        if cit.endswith(\"ann\"):\n",
    "            context = None\n",
    "            supports = []\n",
    "            with open(os.path.join(\"Degaulle\", reference_pmc, f\"{cit[:-4]}.txt\")) as f:\n",
    "                content = f.read()\n",
    "                _, ref = content.split(\"**************************************************************\")\n",
    "                \n",
    "                title = ref.split('\\n\\n')[1]\n",
    "\n",
    "            with open(os.path.join(\"Degaulle\", reference_pmc, cit)) as f:\n",
    "                lines = f.readlines()\n",
    "                \n",
    "                for line in lines:\n",
    "                    try:\n",
    "                        t1, t2, t3 = line.split('\\t')\n",
    "                    except:\n",
    "                        continue\n",
    "                    tag = t2.split()[0]\n",
    "                    if tag == 'Context':\n",
    "                        context = t3\n",
    "                    elif tag in CODES and t3.strip() not in title:\n",
    "                        supports.append(t3)\n",
    "#                     if tag in CODES and t3.strip() in title:\n",
    "#                         titles.append(t3.strip())\n",
    "                    \n",
    "#                     if (cit == 'PMC3619105_1.ann' and reference_pmc == 'PMC3522098'):\n",
    "#                         x = t3\n",
    "#                         y = title\n",
    "            if len(supports):  \n",
    "                count += 1\n",
    "                result[reference_pmc][cit[:-4]] = {\n",
    "                    'context' : context,\n",
    "                    'support' : supports\n",
    "                }\n",
    "                        \n",
    "print(f\"Processed {count} citations\") "
   ]
  },
  {
   "cell_type": "code",
   "execution_count": 12,
   "id": "3ec83369",
   "metadata": {},
   "outputs": [],
   "source": [
    "with open(\"Degaulle_ContextAndSupport_No_Title.json\", 'w') as f:\n",
    "    json.dump(result, f)"
   ]
  },
  {
   "cell_type": "code",
   "execution_count": null,
   "id": "b86008e1",
   "metadata": {},
   "outputs": [],
   "source": []
  },
  {
   "cell_type": "code",
   "execution_count": null,
   "id": "6ce2b894-0731-43c3-b1de-25431f8691c1",
   "metadata": {},
   "outputs": [],
   "source": []
  },
  {
   "cell_type": "code",
   "execution_count": null,
   "id": "9ecf1d04-f1dc-400f-b97a-443144e47cf0",
   "metadata": {},
   "outputs": [],
   "source": []
  },
  {
   "cell_type": "code",
   "execution_count": 2,
   "id": "e4d858db-0711-49a1-bd46-a1358754e5a2",
   "metadata": {},
   "outputs": [],
   "source": [
    "import json\n",
    "with open(\"recon.json\") as f:\n",
    "    c = json.load(f)"
   ]
  },
  {
   "cell_type": "code",
   "execution_count": 4,
   "id": "c16bc445-58f1-4026-8afc-78ef591d72c1",
   "metadata": {},
   "outputs": [],
   "source": [
    "count = total = 0\n",
    "for k, v in c.items():\n",
    "    total += 1\n",
    "    for a, b in v.items():\n",
    "        count += 1"
   ]
  },
  {
   "cell_type": "code",
   "execution_count": 5,
   "id": "0c86d1e7-53c7-4cec-82f9-7d1a85ef02a1",
   "metadata": {},
   "outputs": [
    {
     "data": {
      "text/plain": [
       "20.0"
      ]
     },
     "execution_count": 5,
     "metadata": {},
     "output_type": "execute_result"
    }
   ],
   "source": [
    "count / total"
   ]
  },
  {
   "cell_type": "code",
   "execution_count": null,
   "id": "7e43904c-1db6-446a-b70f-6a363693e329",
   "metadata": {},
   "outputs": [],
   "source": []
  }
 ],
 "metadata": {
  "kernelspec": {
   "display_name": "PT",
   "language": "python",
   "name": "pt"
  },
  "language_info": {
   "codemirror_mode": {
    "name": "ipython",
    "version": 3
   },
   "file_extension": ".py",
   "mimetype": "text/x-python",
   "name": "python",
   "nbconvert_exporter": "python",
   "pygments_lexer": "ipython3",
   "version": "3.11.0"
  }
 },
 "nbformat": 4,
 "nbformat_minor": 5
}
