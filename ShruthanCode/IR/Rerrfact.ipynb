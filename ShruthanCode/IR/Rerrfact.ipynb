{
  "nbformat": 4,
  "nbformat_minor": 0,
  "metadata": {
    "colab": {
      "provenance": []
    },
    "kernelspec": {
      "name": "python3",
      "display_name": "Python 3"
    },
    "language_info": {
      "name": "python"
    },
    "accelerator": "GPU",
    "gpuClass": "standard"
  },
  "cells": [
    {
      "cell_type": "code",
      "source": [
        "from google.colab import drive\n",
        "drive.mount('/content/drive')"
      ],
      "metadata": {
        "colab": {
          "base_uri": "https://localhost:8080/"
        },
        "id": "YeW7sy-HhkaD",
        "outputId": "f53d612c-37f7-4db2-ec19-f589ba02ba28"
      },
      "execution_count": null,
      "outputs": [
        {
          "output_type": "stream",
          "name": "stdout",
          "text": [
            "Mounted at /content/drive\n"
          ]
        }
      ]
    },
    {
      "cell_type": "code",
      "source": [
        "cd 'drive'/'My Drive'/'Work'"
      ],
      "metadata": {
        "colab": {
          "base_uri": "https://localhost:8080/"
        },
        "id": "zTEUTJo5hr7p",
        "outputId": "a75219ba-a5c9-489d-9378-6578910d338b"
      },
      "execution_count": null,
      "outputs": [
        {
          "output_type": "stream",
          "name": "stdout",
          "text": [
            "/content/drive/My Drive/Work\n"
          ]
        }
      ]
    },
    {
      "cell_type": "code",
      "source": [
        "!pip install transformers"
      ],
      "metadata": {
        "colab": {
          "base_uri": "https://localhost:8080/"
        },
        "id": "7dzdKKMnhJkJ",
        "outputId": "b153cfd7-1bd8-4ed6-bc9d-4c7bafafb2b0"
      },
      "execution_count": null,
      "outputs": [
        {
          "output_type": "stream",
          "name": "stdout",
          "text": [
            "Looking in indexes: https://pypi.org/simple, https://us-python.pkg.dev/colab-wheels/public/simple/\n",
            "Collecting transformers\n",
            "  Downloading transformers-4.24.0-py3-none-any.whl (5.5 MB)\n",
            "\u001b[K     |████████████████████████████████| 5.5 MB 6.6 MB/s \n",
            "\u001b[?25hCollecting huggingface-hub<1.0,>=0.10.0\n",
            "  Downloading huggingface_hub-0.10.1-py3-none-any.whl (163 kB)\n",
            "\u001b[K     |████████████████████████████████| 163 kB 66.5 MB/s \n",
            "\u001b[?25hRequirement already satisfied: tqdm>=4.27 in /usr/local/lib/python3.7/dist-packages (from transformers) (4.64.1)\n",
            "Requirement already satisfied: filelock in /usr/local/lib/python3.7/dist-packages (from transformers) (3.8.0)\n",
            "Requirement already satisfied: importlib-metadata in /usr/local/lib/python3.7/dist-packages (from transformers) (4.13.0)\n",
            "Requirement already satisfied: requests in /usr/local/lib/python3.7/dist-packages (from transformers) (2.23.0)\n",
            "Requirement already satisfied: pyyaml>=5.1 in /usr/local/lib/python3.7/dist-packages (from transformers) (6.0)\n",
            "Requirement already satisfied: packaging>=20.0 in /usr/local/lib/python3.7/dist-packages (from transformers) (21.3)\n",
            "Requirement already satisfied: regex!=2019.12.17 in /usr/local/lib/python3.7/dist-packages (from transformers) (2022.6.2)\n",
            "Requirement already satisfied: numpy>=1.17 in /usr/local/lib/python3.7/dist-packages (from transformers) (1.21.6)\n",
            "Collecting tokenizers!=0.11.3,<0.14,>=0.11.1\n",
            "  Downloading tokenizers-0.13.1-cp37-cp37m-manylinux_2_17_x86_64.manylinux2014_x86_64.whl (7.6 MB)\n",
            "\u001b[K     |████████████████████████████████| 7.6 MB 64.3 MB/s \n",
            "\u001b[?25hRequirement already satisfied: typing-extensions>=3.7.4.3 in /usr/local/lib/python3.7/dist-packages (from huggingface-hub<1.0,>=0.10.0->transformers) (4.1.1)\n",
            "Requirement already satisfied: pyparsing!=3.0.5,>=2.0.2 in /usr/local/lib/python3.7/dist-packages (from packaging>=20.0->transformers) (3.0.9)\n",
            "Requirement already satisfied: zipp>=0.5 in /usr/local/lib/python3.7/dist-packages (from importlib-metadata->transformers) (3.10.0)\n",
            "Requirement already satisfied: chardet<4,>=3.0.2 in /usr/local/lib/python3.7/dist-packages (from requests->transformers) (3.0.4)\n",
            "Requirement already satisfied: urllib3!=1.25.0,!=1.25.1,<1.26,>=1.21.1 in /usr/local/lib/python3.7/dist-packages (from requests->transformers) (1.24.3)\n",
            "Requirement already satisfied: idna<3,>=2.5 in /usr/local/lib/python3.7/dist-packages (from requests->transformers) (2.10)\n",
            "Requirement already satisfied: certifi>=2017.4.17 in /usr/local/lib/python3.7/dist-packages (from requests->transformers) (2022.9.24)\n",
            "Installing collected packages: tokenizers, huggingface-hub, transformers\n",
            "Successfully installed huggingface-hub-0.10.1 tokenizers-0.13.1 transformers-4.24.0\n"
          ]
        }
      ]
    },
    {
      "cell_type": "code",
      "source": [
        "!pip install https://s3-us-west-2.amazonaws.com/ai2-s2-scispacy/releases/v0.5.1/en_core_sci_scibert-0.5.1.tar.gz"
      ],
      "metadata": {
        "colab": {
          "base_uri": "https://localhost:8080/"
        },
        "id": "wbIn2W3Lmp2j",
        "outputId": "39e799aa-4c63-4962-e10f-4b3587bd66d5"
      },
      "execution_count": null,
      "outputs": [
        {
          "output_type": "stream",
          "name": "stdout",
          "text": [
            "Looking in indexes: https://pypi.org/simple, https://us-python.pkg.dev/colab-wheels/public/simple/\n",
            "Collecting https://s3-us-west-2.amazonaws.com/ai2-s2-scispacy/releases/v0.5.1/en_core_sci_scibert-0.5.1.tar.gz\n",
            "  Downloading https://s3-us-west-2.amazonaws.com/ai2-s2-scispacy/releases/v0.5.1/en_core_sci_scibert-0.5.1.tar.gz (417.6 MB)\n",
            "\u001b[K     |████████████████████████████████| 417.6 MB 31 kB/s \n",
            "\u001b[?25hRequirement already satisfied: spacy<3.5.0,>=3.4.1 in /usr/local/lib/python3.7/dist-packages (from en-core-sci-scibert==0.5.1) (3.4.2)\n",
            "Collecting spacy-transformers\n",
            "  Downloading spacy_transformers-1.1.8-py2.py3-none-any.whl (53 kB)\n",
            "\u001b[K     |████████████████████████████████| 53 kB 1.8 MB/s \n",
            "\u001b[?25hRequirement already satisfied: wasabi<1.1.0,>=0.9.1 in /usr/local/lib/python3.7/dist-packages (from spacy<3.5.0,>=3.4.1->en-core-sci-scibert==0.5.1) (0.10.1)\n",
            "Requirement already satisfied: catalogue<2.1.0,>=2.0.6 in /usr/local/lib/python3.7/dist-packages (from spacy<3.5.0,>=3.4.1->en-core-sci-scibert==0.5.1) (2.0.8)\n",
            "Requirement already satisfied: murmurhash<1.1.0,>=0.28.0 in /usr/local/lib/python3.7/dist-packages (from spacy<3.5.0,>=3.4.1->en-core-sci-scibert==0.5.1) (1.0.9)\n",
            "Requirement already satisfied: srsly<3.0.0,>=2.4.3 in /usr/local/lib/python3.7/dist-packages (from spacy<3.5.0,>=3.4.1->en-core-sci-scibert==0.5.1) (2.4.5)\n",
            "Requirement already satisfied: cymem<2.1.0,>=2.0.2 in /usr/local/lib/python3.7/dist-packages (from spacy<3.5.0,>=3.4.1->en-core-sci-scibert==0.5.1) (2.0.7)\n",
            "Requirement already satisfied: setuptools in /usr/local/lib/python3.7/dist-packages (from spacy<3.5.0,>=3.4.1->en-core-sci-scibert==0.5.1) (57.4.0)\n",
            "Requirement already satisfied: numpy>=1.15.0 in /usr/local/lib/python3.7/dist-packages (from spacy<3.5.0,>=3.4.1->en-core-sci-scibert==0.5.1) (1.21.6)\n",
            "Requirement already satisfied: typer<0.5.0,>=0.3.0 in /usr/local/lib/python3.7/dist-packages (from spacy<3.5.0,>=3.4.1->en-core-sci-scibert==0.5.1) (0.4.2)\n",
            "Requirement already satisfied: tqdm<5.0.0,>=4.38.0 in /usr/local/lib/python3.7/dist-packages (from spacy<3.5.0,>=3.4.1->en-core-sci-scibert==0.5.1) (4.64.1)\n",
            "Requirement already satisfied: spacy-loggers<2.0.0,>=1.0.0 in /usr/local/lib/python3.7/dist-packages (from spacy<3.5.0,>=3.4.1->en-core-sci-scibert==0.5.1) (1.0.3)\n",
            "Requirement already satisfied: pathy>=0.3.5 in /usr/local/lib/python3.7/dist-packages (from spacy<3.5.0,>=3.4.1->en-core-sci-scibert==0.5.1) (0.6.2)\n",
            "Requirement already satisfied: pydantic!=1.8,!=1.8.1,<1.11.0,>=1.7.4 in /usr/local/lib/python3.7/dist-packages (from spacy<3.5.0,>=3.4.1->en-core-sci-scibert==0.5.1) (1.10.2)\n",
            "Requirement already satisfied: preshed<3.1.0,>=3.0.2 in /usr/local/lib/python3.7/dist-packages (from spacy<3.5.0,>=3.4.1->en-core-sci-scibert==0.5.1) (3.0.8)\n",
            "Requirement already satisfied: typing-extensions<4.2.0,>=3.7.4 in /usr/local/lib/python3.7/dist-packages (from spacy<3.5.0,>=3.4.1->en-core-sci-scibert==0.5.1) (4.1.1)\n",
            "Requirement already satisfied: packaging>=20.0 in /usr/local/lib/python3.7/dist-packages (from spacy<3.5.0,>=3.4.1->en-core-sci-scibert==0.5.1) (21.3)\n",
            "Requirement already satisfied: spacy-legacy<3.1.0,>=3.0.10 in /usr/local/lib/python3.7/dist-packages (from spacy<3.5.0,>=3.4.1->en-core-sci-scibert==0.5.1) (3.0.10)\n",
            "Requirement already satisfied: langcodes<4.0.0,>=3.2.0 in /usr/local/lib/python3.7/dist-packages (from spacy<3.5.0,>=3.4.1->en-core-sci-scibert==0.5.1) (3.3.0)\n",
            "Requirement already satisfied: requests<3.0.0,>=2.13.0 in /usr/local/lib/python3.7/dist-packages (from spacy<3.5.0,>=3.4.1->en-core-sci-scibert==0.5.1) (2.23.0)\n",
            "Requirement already satisfied: jinja2 in /usr/local/lib/python3.7/dist-packages (from spacy<3.5.0,>=3.4.1->en-core-sci-scibert==0.5.1) (2.11.3)\n",
            "Requirement already satisfied: thinc<8.2.0,>=8.1.0 in /usr/local/lib/python3.7/dist-packages (from spacy<3.5.0,>=3.4.1->en-core-sci-scibert==0.5.1) (8.1.5)\n",
            "Requirement already satisfied: zipp>=0.5 in /usr/local/lib/python3.7/dist-packages (from catalogue<2.1.0,>=2.0.6->spacy<3.5.0,>=3.4.1->en-core-sci-scibert==0.5.1) (3.10.0)\n",
            "Requirement already satisfied: pyparsing!=3.0.5,>=2.0.2 in /usr/local/lib/python3.7/dist-packages (from packaging>=20.0->spacy<3.5.0,>=3.4.1->en-core-sci-scibert==0.5.1) (3.0.9)\n",
            "Requirement already satisfied: smart-open<6.0.0,>=5.2.1 in /usr/local/lib/python3.7/dist-packages (from pathy>=0.3.5->spacy<3.5.0,>=3.4.1->en-core-sci-scibert==0.5.1) (5.2.1)\n",
            "Requirement already satisfied: chardet<4,>=3.0.2 in /usr/local/lib/python3.7/dist-packages (from requests<3.0.0,>=2.13.0->spacy<3.5.0,>=3.4.1->en-core-sci-scibert==0.5.1) (3.0.4)\n",
            "Requirement already satisfied: idna<3,>=2.5 in /usr/local/lib/python3.7/dist-packages (from requests<3.0.0,>=2.13.0->spacy<3.5.0,>=3.4.1->en-core-sci-scibert==0.5.1) (2.10)\n",
            "Requirement already satisfied: urllib3!=1.25.0,!=1.25.1,<1.26,>=1.21.1 in /usr/local/lib/python3.7/dist-packages (from requests<3.0.0,>=2.13.0->spacy<3.5.0,>=3.4.1->en-core-sci-scibert==0.5.1) (1.24.3)\n",
            "Requirement already satisfied: certifi>=2017.4.17 in /usr/local/lib/python3.7/dist-packages (from requests<3.0.0,>=2.13.0->spacy<3.5.0,>=3.4.1->en-core-sci-scibert==0.5.1) (2022.9.24)\n",
            "Requirement already satisfied: blis<0.8.0,>=0.7.8 in /usr/local/lib/python3.7/dist-packages (from thinc<8.2.0,>=8.1.0->spacy<3.5.0,>=3.4.1->en-core-sci-scibert==0.5.1) (0.7.9)\n",
            "Requirement already satisfied: confection<1.0.0,>=0.0.1 in /usr/local/lib/python3.7/dist-packages (from thinc<8.2.0,>=8.1.0->spacy<3.5.0,>=3.4.1->en-core-sci-scibert==0.5.1) (0.0.3)\n",
            "Requirement already satisfied: click<9.0.0,>=7.1.1 in /usr/local/lib/python3.7/dist-packages (from typer<0.5.0,>=0.3.0->spacy<3.5.0,>=3.4.1->en-core-sci-scibert==0.5.1) (7.1.2)\n",
            "Requirement already satisfied: MarkupSafe>=0.23 in /usr/local/lib/python3.7/dist-packages (from jinja2->spacy<3.5.0,>=3.4.1->en-core-sci-scibert==0.5.1) (2.0.1)\n",
            "Collecting spacy-alignments<1.0.0,>=0.7.2\n",
            "  Downloading spacy_alignments-0.8.6-cp37-cp37m-manylinux_2_17_x86_64.manylinux2014_x86_64.whl (1.1 MB)\n",
            "\u001b[K     |████████████████████████████████| 1.1 MB 12.5 MB/s \n",
            "\u001b[?25hRequirement already satisfied: torch>=1.6.0 in /usr/local/lib/python3.7/dist-packages (from spacy-transformers->en-core-sci-scibert==0.5.1) (1.12.1+cu113)\n",
            "Collecting transformers<4.22.0,>=3.4.0\n",
            "  Downloading transformers-4.21.3-py3-none-any.whl (4.7 MB)\n",
            "\u001b[K     |████████████████████████████████| 4.7 MB 57.0 MB/s \n",
            "\u001b[?25hRequirement already satisfied: pyyaml>=5.1 in /usr/local/lib/python3.7/dist-packages (from transformers<4.22.0,>=3.4.0->spacy-transformers->en-core-sci-scibert==0.5.1) (6.0)\n",
            "Requirement already satisfied: filelock in /usr/local/lib/python3.7/dist-packages (from transformers<4.22.0,>=3.4.0->spacy-transformers->en-core-sci-scibert==0.5.1) (3.8.0)\n",
            "Collecting tokenizers!=0.11.3,<0.13,>=0.11.1\n",
            "  Downloading tokenizers-0.12.1-cp37-cp37m-manylinux_2_12_x86_64.manylinux2010_x86_64.whl (6.6 MB)\n",
            "\u001b[K     |████████████████████████████████| 6.6 MB 33.8 MB/s \n",
            "\u001b[?25hRequirement already satisfied: regex!=2019.12.17 in /usr/local/lib/python3.7/dist-packages (from transformers<4.22.0,>=3.4.0->spacy-transformers->en-core-sci-scibert==0.5.1) (2022.6.2)\n",
            "Requirement already satisfied: importlib-metadata in /usr/local/lib/python3.7/dist-packages (from transformers<4.22.0,>=3.4.0->spacy-transformers->en-core-sci-scibert==0.5.1) (4.13.0)\n",
            "Requirement already satisfied: huggingface-hub<1.0,>=0.1.0 in /usr/local/lib/python3.7/dist-packages (from transformers<4.22.0,>=3.4.0->spacy-transformers->en-core-sci-scibert==0.5.1) (0.10.1)\n",
            "Building wheels for collected packages: en-core-sci-scibert\n",
            "  Building wheel for en-core-sci-scibert (setup.py) ... \u001b[?25l\u001b[?25hdone\n",
            "  Created wheel for en-core-sci-scibert: filename=en_core_sci_scibert-0.5.1-py3-none-any.whl size=417647713 sha256=4c5e2aaa5ffd86d72638d5758d83b3e7a1a4d2de7cebc03c30583a47fcb2e316\n",
            "  Stored in directory: /root/.cache/pip/wheels/40/fa/08/b604c1861cae676d07bdfa0a1991297cac61c99761a4080313\n",
            "Successfully built en-core-sci-scibert\n",
            "Installing collected packages: tokenizers, transformers, spacy-alignments, spacy-transformers, en-core-sci-scibert\n",
            "  Attempting uninstall: tokenizers\n",
            "    Found existing installation: tokenizers 0.13.1\n",
            "    Uninstalling tokenizers-0.13.1:\n",
            "      Successfully uninstalled tokenizers-0.13.1\n",
            "  Attempting uninstall: transformers\n",
            "    Found existing installation: transformers 4.24.0\n",
            "    Uninstalling transformers-4.24.0:\n",
            "      Successfully uninstalled transformers-4.24.0\n",
            "Successfully installed en-core-sci-scibert-0.5.1 spacy-alignments-0.8.6 spacy-transformers-1.1.8 tokenizers-0.12.1 transformers-4.21.3\n"
          ]
        }
      ]
    },
    {
      "cell_type": "code",
      "execution_count": null,
      "metadata": {
        "id": "EYiHGhN4g8eI"
      },
      "outputs": [],
      "source": [
        "import torch \n",
        "from torch.utils.data import Dataset, DataLoader\n",
        "from transformers import AutoModelForSequenceClassification, AutoTokenizer, get_cosine_schedule_with_warmup\n",
        "from tqdm import tqdm\n",
        "from typing import List\n",
        "from sklearn.metrics import f1_score, precision_score, recall_score"
      ]
    },
    {
      "cell_type": "code",
      "source": [
        "class RationaleData(Dataset):\n",
        "    def __init__(self, claim, sentences):\n",
        "        self.samples = []\n",
        "        for sentence in sentences:\n",
        "            self.samples.append({\n",
        "                'claim': claim,\n",
        "                'sentence': sentence\n",
        "            })\n",
        "            \n",
        "    def __len__(self):\n",
        "        return len(self.samples)\n",
        "    \n",
        "    def __getitem__(self, index):\n",
        "        return self.samples(index)"
      ],
      "metadata": {
        "id": "bobwo1rEhB-T"
      },
      "execution_count": null,
      "outputs": []
    },
    {
      "cell_type": "code",
      "source": [
        "def encode(claims: List[str], sentences: List[str]):\n",
        "    encoded_dict = tokenizer.batch_encode_plus(\n",
        "        list(zip(sentences, claims)),\n",
        "        pad_to_max_length=True,\n",
        "        return_tensors='pt')\n",
        "\n",
        "    if encoded_dict['input_ids'].size(1) > 512:\n",
        "        # Too long for the model. Truncate it\n",
        "        encoded_dict = tokenizer.batch_encode_plus(\n",
        "            list(zip(sentences, claims)),\n",
        "            max_length=512,\n",
        "            truncation_strategy='only_first',\n",
        "            pad_to_max_length=True,\n",
        "            return_tensors='pt')\n",
        "            \n",
        "    encoded_dict = {key: tensor.to(device) for key, tensor in encoded_dict.items()}\n",
        "    return encoded_dict"
      ],
      "metadata": {
        "id": "S-QSX4LlhZqc"
      },
      "execution_count": null,
      "outputs": []
    },
    {
      "cell_type": "code",
      "source": [
        "def predict(model, dataset):\n",
        "    model.eval()\n",
        "    outputs = []\n",
        "    with torch.no_grad():\n",
        "        for batch in DataLoader(dataset, batch_size=1):\n",
        "            encoded_dict = encode(batch['claim'], batch['sentence'])\n",
        "            logits = model(**encoded_dict)[0]\n",
        "            outputs.extend(logits.argmax(dim=1).tolist())\n",
        "    return outputs"
      ],
      "metadata": {
        "id": "98gVUl_Phb-b"
      },
      "execution_count": null,
      "outputs": []
    },
    {
      "cell_type": "code",
      "source": [
        "device = torch.device('cuda' if torch.cuda.is_available() else 'cpu')"
      ],
      "metadata": {
        "id": "YLZo-45hheVv"
      },
      "execution_count": null,
      "outputs": []
    },
    {
      "cell_type": "code",
      "source": [
        "# claim = \"ectopic and endogenous PINK1 have been reported to span the outer mitochondrial membrane with the C-terminal kinase region facing the cytosol poised to induce Parkin translocation (Zhou et al., 2008; Narendra et al., 2010).\""
      ],
      "metadata": {
        "id": "1wtPK8mYhh2m"
      },
      "execution_count": null,
      "outputs": []
    },
    {
      "cell_type": "code",
      "source": [
        "tokenizer = AutoTokenizer.from_pretrained(\"./rationale_biobert_large\")\n",
        "model = AutoModelForSequenceClassification.from_pretrained(\"./rationale_biobert_large\").to(device).eval()"
      ],
      "metadata": {
        "id": "q_NRzCjWnPez"
      },
      "execution_count": null,
      "outputs": []
    },
    {
      "cell_type": "code",
      "source": [
        "import spacy\n",
        "# import spacy_transformers\n",
        "nlp = spacy.load(\"en_core_sci_scibert\")\n",
        "\n",
        "# with open('PMC2848616.txt') as f:\n",
        "#     text = f.read()\n",
        "\n",
        "# doc = nlp(text)\n",
        "# sentences = [str(s) for s in list(doc.sents)]"
      ],
      "metadata": {
        "id": "S8bWFUoimlxI"
      },
      "execution_count": null,
      "outputs": []
    },
    {
      "cell_type": "code",
      "source": [
        "# !unzip rationale_biobert_large-20221031T002534Z-001.zip"
      ],
      "metadata": {
        "id": "lfsqx6bjnVbh"
      },
      "execution_count": null,
      "outputs": []
    },
    {
      "cell_type": "code",
      "source": [
        "results = {}"
      ],
      "metadata": {
        "id": "PwKWblDGcMM0"
      },
      "execution_count": null,
      "outputs": []
    },
    {
      "cell_type": "code",
      "source": [
        "def get_relevant_sentences(pmcid, claims):\n",
        "\n",
        "    global results\n",
        "\n",
        "    with open(f'{pmcid}.txt') as f:\n",
        "        text = f.read()\n",
        "\n",
        "    doc = nlp(text)\n",
        "    sentences = [str(s) for s in list(doc.sents)]\n",
        "\n",
        "    results[pmcid] = []\n",
        "\n",
        "    for claim in claims:\n",
        "        curr = []\n",
        "        evidence = []\n",
        "        sents = []\n",
        "        for i, sentence in enumerate(sentences):\n",
        "            encoded_dict = encode([claim], [sentence])\n",
        "            logits = model(**encoded_dict)[0]\n",
        "            pred = logits.argmax(dim=1).tolist()[0]\n",
        "            if sentences[i] != '\\n\\n':\n",
        "                sents.append((i, logits[0][1].cpu().item()))\n",
        "        evidence.append(sents)\n",
        "\n",
        "        sents.sort(key = lambda x : -x[1])\n",
        "\n",
        "        \n",
        "        for (i, j) in sents[:10]:\n",
        "            curr.append(i)\n",
        "        results[pmcid].append(curr)\n"
      ],
      "metadata": {
        "id": "YWXIxob7b4H8"
      },
      "execution_count": null,
      "outputs": []
    },
    {
      "cell_type": "markdown",
      "source": [
        "# PMC2811155"
      ],
      "metadata": {
        "id": "Cwr1NnbdcsN_"
      }
    },
    {
      "cell_type": "code",
      "source": [
        "claims = [\n",
        "    \"which is dependent on PINK1 kinase activity (Geisler et al., 2010; Matsuda et al., 2010; Narendra et al., 2010; Vives-Bauza et al., 2010).\",\n",
        "    \"Although endogenous PINK1 protein expression is constitutively low owing to rapid turnover, PINK1 proteolysis is inhibited by mitochondrial uncoupling, allowing a robust increase in expression when a mitochondrion is damaged and loses membrane potential (Lin and Kang, 2008; Matsuda et al., 2010; Narendra et al., 2010).\",\n",
        "    \"ectopic and endogenous PINK1 have been reported to span the outer mitochondrial membrane with the C-terminal kinase region facing the cytosol poised to induce Parkin translocation (Zhou et al., 2008; Narendra et al., 2010).\",\n",
        "    \"owing to insufficient knockdown of endogenous PARL in HeLa cells and to insufficient expression of ectopic PINK1 in PARL knockout (KO) mouse embryonic fibroblasts (MEFs; Narendra et al., 2010).\",\n",
        "    \"proteosome-independent proteolysis yields a 52-kD form of PINK1 that is subsequently degraded by the proteosome (Narendra et al., 2010).\"\n",
        "]"
      ],
      "metadata": {
        "id": "p7iy67ticrqV"
      },
      "execution_count": null,
      "outputs": []
    },
    {
      "cell_type": "code",
      "source": [
        "get_relevant_sentences('PMC2811155', claims)"
      ],
      "metadata": {
        "colab": {
          "base_uri": "https://localhost:8080/"
        },
        "id": "Eu3_jE2scrvk",
        "outputId": "5c275d17-20f7-4abf-a084-779b4811e246"
      },
      "execution_count": null,
      "outputs": [
        {
          "output_type": "stream",
          "name": "stderr",
          "text": [
            "/usr/local/lib/python3.7/dist-packages/transformers/tokenization_utils_base.py:2329: FutureWarning: The `pad_to_max_length` argument is deprecated and will be removed in a future version, use `padding=True` or `padding='longest'` to pad to the longest sequence in the batch, or use `padding='max_length'` to pad to a max length. In this case, you can give a specific length with `max_length` (e.g. `max_length=45`) or leave max_length to None to pad to the maximal input size of the model (e.g. 512 for Bert).\n",
            "  FutureWarning,\n"
          ]
        }
      ]
    },
    {
      "cell_type": "code",
      "source": [
        "results"
      ],
      "metadata": {
        "colab": {
          "base_uri": "https://localhost:8080/"
        },
        "id": "E-Ipy5DzcryY",
        "outputId": "b6f9679b-7cff-47eb-9695-8a4f7893662c"
      },
      "execution_count": null,
      "outputs": [
        {
          "output_type": "execute_result",
          "data": {
            "text/plain": [
              "{'PMC2811155': [[144, 238, 176, 89, 127, 143, 84, 98, 217, 48],\n",
              "  [87, 379, 35, 215, 85, 380, 221, 3, 89, 83],\n",
              "  [159, 36, 144, 163, 333, 141, 151, 176, 217, 393],\n",
              "  [97, 98, 91, 255, 84, 238, 100, 120, 144, 125],\n",
              "  [379, 86, 74, 35, 221, 238, 95, 78, 85, 48]]}"
            ]
          },
          "metadata": {},
          "execution_count": 77
        }
      ]
    },
    {
      "cell_type": "markdown",
      "source": [
        "# PMC2848616"
      ],
      "metadata": {
        "id": "k-6hsL8Pdfea"
      }
    },
    {
      "cell_type": "code",
      "source": [
        "claims = [\n",
        "    \"Autophagy has been shown to protect neurons from Aβ induced cytotoxicity\",\n",
        "    \"pharmacological stimulation of autophagy can be beneficial and reduce Aβ mediated toxicity\",\n",
        "    \"mTOR signaling was shown to be up-regulated in 7PA2 cells over-expressing mutant APP and in brains of another AD transgenic mouse, with rapamycin treatment reported as protective against behavioral decline\",\n",
        "    \"chronic treatment with rapamycin improved behavior of AD transgenic mice although effects were mild\",\n",
        "    \"The 3xTg-AD15-18 mice were treated for 3 months based on previous studies showing that in young mice 10-12 weeks of rapamycin administration is sufficient to reduce soluble Aβ and tau [29], [32].\"\n",
        "]"
      ],
      "metadata": {
        "id": "rPz5iKH-cr0s"
      },
      "execution_count": null,
      "outputs": []
    },
    {
      "cell_type": "code",
      "source": [
        "get_relevant_sentences('PMC2848616', claims)"
      ],
      "metadata": {
        "id": "l5LCLaC9dirl"
      },
      "execution_count": null,
      "outputs": []
    },
    {
      "cell_type": "code",
      "source": [
        "results"
      ],
      "metadata": {
        "colab": {
          "base_uri": "https://localhost:8080/"
        },
        "id": "J8_ISb2iezPA",
        "outputId": "383767b5-0304-4e58-9f2e-970167e18218"
      },
      "execution_count": null,
      "outputs": [
        {
          "output_type": "execute_result",
          "data": {
            "text/plain": [
              "{'PMC2811155': [[144, 238, 176, 89, 127, 143, 84, 98, 217, 48],\n",
              "  [87, 379, 35, 215, 85, 380, 221, 3, 89, 83],\n",
              "  [159, 36, 144, 163, 333, 141, 151, 176, 217, 393],\n",
              "  [97, 98, 91, 255, 84, 238, 100, 120, 144, 125],\n",
              "  [379, 86, 74, 35, 221, 238, 95, 78, 85, 48]],\n",
              " 'PMC2848616': [[30, 6, 162, 84, 31, 91, 86, 82, 163, 193],\n",
              "  [86, 6, 91, 85, 30, 42, 84, 31, 8, 37],\n",
              "  [6, 37, 92, 162, 84, 38, 59, 174, 91, 42],\n",
              "  [51, 6, 37, 92, 164, 84, 38, 167, 162, 0],\n",
              "  [6, 38, 179, 91, 37, 7, 48, 62, 60, 42]]}"
            ]
          },
          "metadata": {},
          "execution_count": 80
        }
      ]
    },
    {
      "cell_type": "markdown",
      "source": [
        "# PMC2958248"
      ],
      "metadata": {
        "id": "sWcBDmsnfCcc"
      }
    },
    {
      "cell_type": "code",
      "source": [
        "claims = [\n",
        "    \"The cellular exonuclease TREX1 was recently shown to bind and digest excess cytosolic HIV-1 DNA that would otherwise activate type I IFN expression and trigger an innate immune response\",\n",
        "    \"Interestingly, similar to SAMHD1, TREX1 mutations in humans are associated with autoimmune and inflammatory diseases, including AGS\",\n",
        "    \"TREX1 has previously been implicated in the HIV-1 life cycle\",\n",
        "    \"TREX1 suppressed a type I IFN response that otherwise would be induced by HIV-1 infection\",\n",
        "    \"TREX1 was proposed to degrade cytosolic DNA resulting from HIV-1 reverse transcription, which would otherwise be capable of inducing an IFN response\"\n",
        "]"
      ],
      "metadata": {
        "id": "gBlud5OrfVg6"
      },
      "execution_count": null,
      "outputs": []
    },
    {
      "cell_type": "code",
      "source": [
        "get_relevant_sentences('PMC2958248', claims)"
      ],
      "metadata": {
        "id": "SebSdUckfVkA"
      },
      "execution_count": null,
      "outputs": []
    },
    {
      "cell_type": "markdown",
      "source": [
        "# PMC3090745"
      ],
      "metadata": {
        "id": "J5bp6yf8fZCM"
      }
    },
    {
      "cell_type": "code",
      "source": [
        "claims = [\n",
        "    \"These studies have identified several new genes that show significant association after multiple test correction in multiple datasets: CLU, PICALM, BIN1, CR1, ABCA7, MS4A6A, CD33 and CD2AP [31]–[35].\",\n",
        "    \"All variants classified as “likely pathogenic” or with an “unknown pathogenicity”, and some “non-pathogenic” variants were genotyped in 961 sporadic AD cases, 1,346 unrelated elderly non-demented controls\",\n",
        "    \"Since 2009, four GWAS and a three-stage analysis of the GWAS resulted in the identification of nine novel loci associated with late-onset AD: CLU, PICALM, CR1, BIN1, ABCA7, MS4A cluster (MS4A6A/MS4A4E), CD2AP, CD33, and EPHA1 (Harold et al., 2009; Lambert et al., 2009; Seshadri et al., 2010; Hollingworth et al., 2011a,b; Naj et al., 2011).\",\n",
        "    \"Examining the amount of genetic risk effect attributable to these genes (other than APOE), the most strongly associated single-nucleotide polymorphisms at each locus have population attributable fractions between 2.72 and 5.97%, with a cumulative population attributable fraction for non-APOE loci estimated to be as much as 35% (Naj et al., 2011).\",\n",
        "    \"To investigate whether any of the significant brain cisSNPs may influence risk of AD, we compared our eGWAS results to the AD risk associations from the large AD GWAS conducted by ADGC [28].\"\n",
        "]"
      ],
      "metadata": {
        "id": "1Dz5QQkLfc3d"
      },
      "execution_count": null,
      "outputs": []
    },
    {
      "cell_type": "code",
      "source": [
        "get_relevant_sentences('PMC3090745', claims)"
      ],
      "metadata": {
        "id": "bceViHKefc5y"
      },
      "execution_count": null,
      "outputs": []
    },
    {
      "cell_type": "code",
      "source": [
        "results"
      ],
      "metadata": {
        "colab": {
          "base_uri": "https://localhost:8080/"
        },
        "id": "B2-ObW6kgCe-",
        "outputId": "2f3170db-052a-40ec-e313-8d4f75a955cc"
      },
      "execution_count": null,
      "outputs": [
        {
          "output_type": "execute_result",
          "data": {
            "text/plain": [
              "{'PMC2811155': [[144, 238, 176, 89, 127, 143, 84, 98, 217, 48],\n",
              "  [87, 379, 35, 215, 85, 380, 221, 3, 89, 83],\n",
              "  [159, 36, 144, 163, 333, 141, 151, 176, 217, 393],\n",
              "  [97, 98, 91, 255, 84, 238, 100, 120, 144, 125],\n",
              "  [379, 86, 74, 35, 221, 238, 95, 78, 85, 48]],\n",
              " 'PMC2848616': [[30, 6, 162, 84, 31, 91, 86, 82, 163, 193],\n",
              "  [86, 6, 91, 85, 30, 42, 84, 31, 8, 37],\n",
              "  [6, 37, 92, 162, 84, 38, 59, 174, 91, 42],\n",
              "  [51, 6, 37, 92, 164, 84, 38, 167, 162, 0],\n",
              "  [6, 38, 179, 91, 37, 7, 48, 62, 60, 42]],\n",
              " 'PMC2958248': [[131, 5, 152, 193, 0, 4, 333, 132, 31, 119],\n",
              "  [205, 16, 31, 97, 33, 160, 4, 126, 152, 131],\n",
              "  [80, 91, 97, 0, 126, 131, 160, 157, 330, 40],\n",
              "  [132, 0, 105, 345, 152, 131, 126, 24, 157, 4],\n",
              "  [131, 31, 5, 127, 193, 33, 81, 181, 0, 157]],\n",
              " 'PMC3090745': [[61, 3, 4, 27, 71, 30, 49, 62, 86, 65],\n",
              "  [4, 84, 3, 9, 59, 68, 27, 43, 81, 86],\n",
              "  [32, 30, 42, 3, 27, 7, 34, 79, 31, 4],\n",
              "  [81, 4, 66, 52, 93, 71, 62, 3, 54, 86],\n",
              "  [4, 43, 81, 3, 59, 36, 86, 35, 58, 73]]}"
            ]
          },
          "metadata": {},
          "execution_count": 85
        }
      ]
    },
    {
      "cell_type": "markdown",
      "source": [
        "# PMC3096954"
      ],
      "metadata": {
        "id": "edfJSSVJfgv6"
      }
    },
    {
      "cell_type": "code",
      "source": [
        "claims = [\n",
        "    \"Recently, a subgroup of Basal-like tumors associated with poor prognosis has also been reported [4,5].\",\n",
        "    \"Context 130, a Basal-like context has under-expression of GATA3 which is in concordance with previous studies of Basal-like subgroup, ’claudin-low’ with poor prognosis and more refractory to chemotherapy [5] .\",\n",
        "    \"Molecular profiling has identified 5 distinct subtypes of human breast tumors, luminal A, luminal B, HER2-enriched, basal-like and claudin-low [1-7].\",\n",
        "    \"Claudin-low tumors express mesenchymal genes such as Twist1, Twist2, Zeb1, Zeb2, Slug and Snail and low levels of E-cadherin and claudins 3, 4 and 7 [6,7].\",\n",
        "    \"Since claudin-low tumors possess features of stem cells [7], it is possible that the tumors that regress and recur or only partially regress are those that contain claudin-low cells.\",\n",
        "]"
      ],
      "metadata": {
        "id": "d0-bigTPflj-"
      },
      "execution_count": null,
      "outputs": []
    },
    {
      "cell_type": "code",
      "source": [
        "get_relevant_sentences('PMC3096954', claims)"
      ],
      "metadata": {
        "id": "6cVbPIaHflnU"
      },
      "execution_count": null,
      "outputs": []
    },
    {
      "cell_type": "markdown",
      "source": [
        "# PMC3179858"
      ],
      "metadata": {
        "id": "rca7mQIIgJpz"
      }
    },
    {
      "cell_type": "code",
      "source": [
        "claims = [\n",
        "    \"By contrast, Hrecka and colleagues identified SAMHD1 from HEK 293T cells expressing tagged Vpx in a proteomic screen using multidimensional protein identification technology [10].\",\n",
        "    \"They demonstrated that Vpx relieves the inhibition of HIV-1 infection in monocyte-derived macrophages by mediating proteasome-dependent degradation of SAMHD1 through the CUL4A/DCAF1 E3 ubiquitin ligase [10].\",\n",
        "    \"Both studies confirmed that Vpx interacts with SAMHD1 and induces proteasomal degradation of SAMHD1 in THP-1 cells or macrophages, which can be restored by treatment with a proteasome inhibitor [9,10].\",\n",
        "    \"Further analysis revealed that SAMHD1 blocks HIV-1 reverse transcription, as silencing SAMHD1 in THP-1 cells [9] and macrophages [10] increases the levels of viral DNA.\",\n",
        "    \"Together, these studies suggested that SAMHD1 is the myeloid-cell specific HIV-1 restriction factor counteracted by Vpx [9,10] (Figure 1).\"\n",
        "]"
      ],
      "metadata": {
        "id": "ohvw8T0fgNDS"
      },
      "execution_count": null,
      "outputs": []
    },
    {
      "cell_type": "code",
      "source": [
        "get_relevant_sentences('PMC3179858', claims)"
      ],
      "metadata": {
        "id": "UHESLNuWgNFU"
      },
      "execution_count": null,
      "outputs": []
    },
    {
      "cell_type": "markdown",
      "source": [
        "# PMC3442244"
      ],
      "metadata": {
        "id": "LDODX9-LgS0x"
      }
    },
    {
      "cell_type": "code",
      "source": [
        "claims = [\n",
        "    \"Currently, over 60 common risk variants have been identified [30–34], with a combined disease risk of 5–10% [34, 35], suggesting the existence of many more as yet undiscovered loci [34, 36, 37].\",\n",
        "    \"A fundamental challenge facing those wishing to determine which of the genes in a particular locus is responsible for affecting disease risk, and dissect how this/these act, is the very scale of the problem (currently more than 500 genes in total to interrogate, with others emerging) [35]\",\n",
        "    \"According to the most recent meta-analysis of genome-wide association studies, 63 individual SNPs have now been linked with diabetes risk [1].\",\n",
        "    \"However, these variants explain only ∼5.7% of variance in disease susceptibility [1].\",\n",
        "    \"Of these SNPs, 66,000 were selected for efficient replication of top signals across multiple traits, with the hope that when tested in sufficiently large samples they might exceed genome-wide statistical significance (9,10)\"\n",
        "]"
      ],
      "metadata": {
        "id": "bwlzlJwOgVTo"
      },
      "execution_count": null,
      "outputs": []
    },
    {
      "cell_type": "code",
      "source": [
        "get_relevant_sentences('PMC3442244', claims)"
      ],
      "metadata": {
        "id": "BY91cgGBgVWd"
      },
      "execution_count": null,
      "outputs": []
    },
    {
      "cell_type": "markdown",
      "source": [
        "# PMC3522098"
      ],
      "metadata": {
        "id": "Zcq-YHiagZ_2"
      }
    },
    {
      "cell_type": "code",
      "source": [
        "claims = [\n",
        "    \"Interestingly, we found that Fndc5, the gene that codes for the recently discovered antidiabetic hormone irisin [39] was also significantly increased in Cox6a2 −/− diaphragm (data not shown).\",\n",
        "    \"This suggests the existence of a crosstalk between skeletal muscle and adipose tissue, as was recently shown with the identification of a new hormone, irisin, which stimulates browning and UCP1 expression in WAT [39].\",\n",
        "    \"Irisin, encoded by the Fndc5 gene, is a newly identified hormone from the muscle of PGC-1α transgenic mice.67 Irisin can be induced by exercise in both mice and humans\",\n",
        "    \"Overexpression of irisin in the liver of mice, via adenoviral delivery, increases energy expenditure and reduces high fat diet-induced obesity.67\",\n",
        "    \"This question is especially pertinent because interest in thermogenic drugs and drug targets has been rekindled by new evidence that brown adipose tissue can be active in adult humans and the discovery of new targets for drugs that might augment and activate brown adipose tissue (Fruhbeck et al., 2009; Wu et al., 2011; Bostrom et al., 2012; Fournier et al., 2012; Ye et al., 2012).\"\n",
        "]"
      ],
      "metadata": {
        "id": "_r7BWRIygcjN"
      },
      "execution_count": null,
      "outputs": []
    },
    {
      "cell_type": "code",
      "source": [
        "get_relevant_sentences('PMC3522098', claims)"
      ],
      "metadata": {
        "id": "GZ3QHSxEgctk"
      },
      "execution_count": null,
      "outputs": []
    },
    {
      "cell_type": "markdown",
      "source": [
        "# PMC3607626"
      ],
      "metadata": {
        "id": "yvsI7BIfggZh"
      }
    },
    {
      "cell_type": "code",
      "source": [
        "claims = [\n",
        "    \"To date, a number of studies have investigated gene expression in ASD (for review see [29]), with three examining ASD brain tissue on a genome-wide scale [30], [31], [32].\"\n",
        "    \"Lastly, we were interested in considering our findings in the context of the major three published transcriptomics studies on ASD brain tissue [30], [31], [32].\",\n",
        "    \"The most comprehensive transcriptomics study of ASD post-mortem brain to date (Voineagu et al) concludes that one of two significant co-expression networks is involved in immune function [32].\",\n",
        "    \"This network analysis led to the identification of specific co-expression modules that are differentially expressed in ASD and controls [20].\",\n",
        "    \"These included a neuronal module that was enriched for genes with low GWAS P-values, suggesting that the differential expression of this module between cases and controls reflects a causal relationship [20].\"\n",
        "]"
      ],
      "metadata": {
        "id": "dGq0__k_gi8U"
      },
      "execution_count": null,
      "outputs": []
    },
    {
      "cell_type": "code",
      "source": [
        "get_relevant_sentences('PMC3607626', claims)"
      ],
      "metadata": {
        "id": "NAd4HClrgi_G"
      },
      "execution_count": null,
      "outputs": []
    },
    {
      "cell_type": "markdown",
      "source": [
        "# PMC3650111"
      ],
      "metadata": {
        "id": "gtJnVzNDgmZF"
      }
    },
    {
      "cell_type": "code",
      "source": [
        "claims = [\n",
        "    \"Interestingly, Prevotella-dominated healthy omnivore individuals were recently reported to have increased basal levels of serum TMAO (trimethylamine N-oxide), a product of inflammation linked to atherogenesis, compared to Bacteroides-dominated healthy individuals (Koeth et al., 2013).\",\n",
        "    \"While TMAO could be derived from increased consumption of meat (Koeth et al., 2013), Prevotella has been previously associated with a dearth of meat in the diet (Wu et al., 2011).\",\n",
        "    \"Additional, recent mouse studies [145] investigating how consumption of red meat may accelerate cardiovascular disease and inflammation in humans [146,147] suggest an additional and potentially serious limitation on probiotic supplementation.\",\n",
        "    \"Dietary L-carnitine and choline, compounds abundant in red meat, are metabolized into trimethylamine-N-oxide (TMAO) by way of some normal gut commensals; in mice TMAO enhances atherosclerosis through disrupting cholesterol metabolism and foam-cell macrophage activity [145].\",\n",
        "    \"In both humans and mice, TMAO concentrations correlate positively with CVD risk, and dietary supplementation with either TMAO or compounds that can be metabolized to TMAO increases atherosclerosis in mice12\"\n",
        "]"
      ],
      "metadata": {
        "id": "euiMNkUsgpdt"
      },
      "execution_count": null,
      "outputs": []
    },
    {
      "cell_type": "code",
      "source": [
        "get_relevant_sentences('PMC3650111', claims)"
      ],
      "metadata": {
        "id": "SdUwp30xgpgS"
      },
      "execution_count": null,
      "outputs": []
    },
    {
      "cell_type": "code",
      "source": [
        "# import json\n",
        "\n",
        "# with open('results_rerrfact.json', 'w') as f:\n",
        "#     json.dump(results, f)"
      ],
      "metadata": {
        "id": "qyXCDxWWh9PD"
      },
      "execution_count": null,
      "outputs": []
    },
    {
      "cell_type": "code",
      "source": [
        "import json\n",
        "\n",
        "with open('results_rerrfact_1.json', 'w') as f:\n",
        "    json.dump(results, f)"
      ],
      "metadata": {
        "id": "wXsEJhYvmzjI"
      },
      "execution_count": null,
      "outputs": []
    },
    {
      "cell_type": "code",
      "source": [
        "results"
      ],
      "metadata": {
        "colab": {
          "base_uri": "https://localhost:8080/"
        },
        "id": "2xIHRFw-io0T",
        "outputId": "56dca9a9-db77-4553-af03-dc040dd28a00"
      },
      "execution_count": null,
      "outputs": [
        {
          "output_type": "execute_result",
          "data": {
            "text/plain": [
              "{'PMC2811155': [[144, 238, 176, 89, 127],\n",
              "  [87, 379, 35, 215, 85, 380, 221, 3, 89, 83],\n",
              "  [159, 36, 144, 163, 333, 141, 151, 176, 217, 393],\n",
              "  [97, 98, 91, 255, 84, 238, 100],\n",
              "  [379, 86, 74, 35]],\n",
              " 'PMC2848616': [[30, 6, 162, 84, 31, 91, 86],\n",
              "  [86, 6, 91, 85, 30, 42, 84, 31, 8, 37],\n",
              "  [6, 37, 92, 162, 84, 38],\n",
              "  [51, 6, 37, 92, 164, 84, 38, 167, 162],\n",
              "  [6, 38, 179, 91]],\n",
              " 'PMC2958248': [[131, 5, 152, 193, 0, 4, 333, 132, 31, 119],\n",
              "  [205, 16],\n",
              "  [80, 91, 97, 0, 126, 131, 160, 157, 330, 40],\n",
              "  [132, 0, 105, 345, 152, 131, 126, 24, 157, 4],\n",
              "  [131, 31, 5, 127, 193, 33, 81, 181, 0, 157]],\n",
              " 'PMC3090745': [[61, 3, 4, 27], [], [32, 30, 42, 3, 27, 7], [81, 4, 66], []],\n",
              " 'PMC3096954': [[216, 238, 186, 161, 14],\n",
              "  [216, 238, 106],\n",
              "  [106, 22, 114, 156, 14, 338, 172, 209, 6, 147],\n",
              "  [212, 131, 209, 172],\n",
              "  [172, 209, 224, 213, 194, 236, 222, 238, 6, 248]],\n",
              " 'PMC3179858': [[],\n",
              "  [6, 16, 46, 53, 69, 0, 168, 52, 81, 173],\n",
              "  [6, 43, 52, 53, 69, 168, 16, 44, 51, 46],\n",
              "  [68, 64, 180, 5, 62],\n",
              "  [78, 46, 0, 62, 33]],\n",
              " 'PMC3442244': [[39, 7, 65, 166], [167], [], [39, 166, 37, 57], [55, 14]],\n",
              " 'PMC3522098': [[109, 68, 309], [13, 118, 139], [1, 144], [143, 124, 126], []],\n",
              " 'PMC3607626': [[],\n",
              "  [86, 82],\n",
              "  [68, 108, 113, 124, 128, 31],\n",
              "  [6, 39, 50, 53, 7]],\n",
              " 'PMC3650111': [[152, 67, 5, 18, 158, 0, 101, 164, 104, 1],\n",
              "  [180, 357],\n",
              "  [104, 205, 152, 5, 165, 18, 101, 0],\n",
              "  [159, 0, 105, 5, 1, 152, 190, 158, 18, 102],\n",
              "  [5, 190, 1, 105, 18, 104, 0, 158, 152, 101]]}"
            ]
          },
          "metadata": {},
          "execution_count": 42
        }
      ]
    },
    {
      "cell_type": "code",
      "source": [
        "with open('results.json') as f:\n",
        "    old = json.load(f)"
      ],
      "metadata": {
        "id": "U_X_CMOOi3NX"
      },
      "execution_count": null,
      "outputs": []
    },
    {
      "cell_type": "code",
      "source": [
        "old"
      ],
      "metadata": {
        "colab": {
          "base_uri": "https://localhost:8080/"
        },
        "id": "7YjqIBU3i5Lr",
        "outputId": "1f1c7568-bf6f-49b4-db4a-58d6dc3ad802"
      },
      "execution_count": null,
      "outputs": [
        {
          "output_type": "execute_result",
          "data": {
            "text/plain": [
              "{'PMC2811155': [[33, 127, 112, 257, 101, 269, 105, 95, 147, 106],\n",
              "  [215, 73, 3, 42, 380, 89, 217, 333, 61, 35],\n",
              "  [157, 168, 141, 163, 161, 333, 217, 176, 94, 299],\n",
              "  [98, 103, 399, 97, 238, 353, 99, 96, 91, 170],\n",
              "  [86, 74, 379, 81, 220, 315, 3, 95, 152, 35]],\n",
              " 'PMC2848616': [[30, 8, 40, 31, 86, 82, 89, 42, 91, 85],\n",
              "  [42, 91, 86, 8, 82, 89, 92, 40, 38, 85],\n",
              "  [37, 6, 84, 58, 9, 42, 38, 92, 96, 59],\n",
              "  [164, 6, 56, 51, 58, 8, 37, 92, 167, 38],\n",
              "  [38, 85, 179, 60, 86, 92, 61, 42, 91, 8]],\n",
              " 'PMC2958248': [[5, 131, 0, 3, 132, 81, 152, 70, 21, 17],\n",
              "  [16, 205, 207, 208, 188, 0, 211, 337, 41, 105],\n",
              "  [0, 12, 59, 188, 82, 97, 131, 105, 86, 80],\n",
              "  [0, 3, 131, 105, 21, 4, 132, 97, 70, 51],\n",
              "  [5, 131, 70, 0, 51, 3, 81, 21, 100, 160]],\n",
              " 'PMC3090745': [[79, 3, 80, 52, 61, 32, 27, 90, 42, 58],\n",
              "  [9, 84, 5, 11, 55, 1, 6, 15, 10, 23],\n",
              "  [1, 26, 80, 34, 7, 30, 42, 79, 9, 32],\n",
              "  [81, 73, 52, 72, 65, 82, 26, 29, 80, 85],\n",
              "  [9, 1, 92, 63, 38, 55, 52, 58, 3, 22]],\n",
              " 'PMC3096954': [[158, 216, 186, 123, 252, 161, 217, 14, 162, 0],\n",
              "  [162, 161, 216, 7, 217, 158, 157, 105, 20, 106],\n",
              "  [0, 103, 209, 114, 106, 22, 14, 113, 179, 266],\n",
              "  [212, 17, 203, 116, 209, 113, 133, 112, 114, 106],\n",
              "  [224, 213, 209, 236, 217, 222, 223, 21, 6, 19]],\n",
              " 'PMC3179858': [[39, 160, 32, 25, 164, 35, 53, 78, 18, 42],\n",
              "  [6, 16, 0, 53, 14, 69, 46, 38, 5, 72],\n",
              "  [6, 52, 141, 53, 43, 46, 16, 44, 34, 69],\n",
              "  [68, 72, 67, 5, 64, 180, 0, 36, 54, 183],\n",
              "  [46, 81, 38, 53, 34, 160, 30, 39, 35, 36]],\n",
              " 'PMC3442244': [[88, 165, 7, 3, 39, 65, 99, 68, 132, 166],\n",
              "  [10, 7, 169, 167, 39, 75, 9, 88, 99, 4],\n",
              "  [233, 120, 49, 15, 135, 224, 14, 65, 250, 142],\n",
              "  [39, 57, 166, 64, 3, 168, 62, 63, 40, 65],\n",
              "  [50, 55, 91, 273, 49, 69, 205, 196, 56, 212]],\n",
              " 'PMC3522098': [[98, 48, 121, 110, 51, 72, 109, 68, 12, 123],\n",
              "  [118, 13, 26, 1, 16, 144, 92, 139, 27, 19],\n",
              "  [1, 13, 105, 6, 156, 102, 37, 144, 3, 15],\n",
              "  [108, 143, 128, 144, 126, 1, 161, 121, 124, 94],\n",
              "  [22, 159, 46, 66, 56, 17, 251, 160, 0, 157]],\n",
              " 'PMC3607626': [[0, 84, 86, 88, 85, 3, 12, 8, 22, 6],\n",
              "  [86, 87, 82, 4, 85, 89, 84, 78, 45, 59],\n",
              "  [45, 68, 4, 12, 38, 60, 78, 65, 49, 137],\n",
              "  [6, 50, 4, 7, 133, 138, 79, 137, 52, 69]],\n",
              " 'PMC3650111': [[2, 67, 180, 54, 178, 152, 58, 18, 68, 69],\n",
              "  [180, 152, 173, 1, 335, 50, 2, 177, 28, 182],\n",
              "  [7, 145, 15, 9, 1, 10, 147, 12, 150, 0],\n",
              "  [0, 1, 368, 98, 5, 27, 107, 109, 31, 159],\n",
              "  [5, 101, 31, 144, 98, 152, 190, 1, 102, 18]]}"
            ]
          },
          "metadata": {},
          "execution_count": 44
        }
      ]
    },
    {
      "cell_type": "code",
      "source": [
        "import numpy as np\n",
        "all = []\n",
        "for pmcid in results.keys():\n",
        "    res = 0\n",
        "    for arr1, arr2 in zip(results[pmcid], old[pmcid]):\n",
        "        # print(sorted(arr1))\n",
        "        # print(sorted(arr2))\n",
        "        # print()\n",
        "        if len(arr1) == 0 or len(arr2) == 0:\n",
        "            continue\n",
        "        else:\n",
        "            res += len(np.intersect1d(arr1, arr2))/min(len(arr1), len(arr2))\n",
        "    all.append(res/5)\n",
        "sum(all)/len(all)\n"
      ],
      "metadata": {
        "colab": {
          "base_uri": "https://localhost:8080/"
        },
        "id": "sT4IWKj8i-Im",
        "outputId": "8e89a45d-0a81-4828-d50b-623ecfb6d9b9"
      },
      "execution_count": null,
      "outputs": [
        {
          "output_type": "execute_result",
          "data": {
            "text/plain": [
              "0.536579365079365"
            ]
          },
          "metadata": {},
          "execution_count": 71
        }
      ]
    },
    {
      "cell_type": "code",
      "source": [
        "import numpy as np\n",
        "all = []\n",
        "for pmcid in results.keys():\n",
        "    res = 0\n",
        "    for arr1, arr2 in zip(results[pmcid], old[pmcid]):\n",
        "        # print(sorted(arr1))\n",
        "        # print(sorted(arr2))\n",
        "        # print()\n",
        "  \n",
        "        if len(arr1) == 0 or len(arr2) == 0:\n",
        "            continue\n",
        "        else:\n",
        "            res += len(np.intersect1d(arr1, arr2))/10\n",
        "    all.append(res/5)\n",
        "sum(all)/len(all)"
      ],
      "metadata": {
        "colab": {
          "base_uri": "https://localhost:8080/"
        },
        "id": "4yrU25dKppmv",
        "outputId": "2e780608-acee-4e98-cb98-d59cc780fe76"
      },
      "execution_count": null,
      "outputs": [
        {
          "output_type": "execute_result",
          "data": {
            "text/plain": [
              "0.418"
            ]
          },
          "metadata": {},
          "execution_count": 110
        }
      ]
    },
    {
      "cell_type": "code",
      "source": [
        "import numpy as np\n",
        "all = []\n",
        "for pmcid in results.keys():\n",
        "    res = 0\n",
        "    for arr1, arr2 in zip(results[pmcid], old[pmcid]):\n",
        "        # print(sorted(arr1))\n",
        "        # print(sorted(arr2))\n",
        "        # print()\n",
        "        arr2 = arr2[:3]\n",
        "\n",
        "        if len(arr1) == 0 or len(arr2) == 0:\n",
        "            continue\n",
        "        else:\n",
        "            res += len(np.intersect1d(arr1, arr2))/3\n",
        "    all.append(res/5)\n",
        "sum(all)/len(all)"
      ],
      "metadata": {
        "id": "xi9CBYJktQwd",
        "outputId": "ae847279-e35e-4454-87da-677ddc767a10",
        "colab": {
          "base_uri": "https://localhost:8080/"
        }
      },
      "execution_count": null,
      "outputs": [
        {
          "output_type": "execute_result",
          "data": {
            "text/plain": [
              "0.5733333333333335"
            ]
          },
          "metadata": {},
          "execution_count": 109
        }
      ]
    },
    {
      "cell_type": "code",
      "source": [
        "all"
      ],
      "metadata": {
        "colab": {
          "base_uri": "https://localhost:8080/"
        },
        "id": "x4SnQaXTp1-4",
        "outputId": "5d2f01c6-7be1-4599-903a-4dac7b1c2a23"
      },
      "execution_count": null,
      "outputs": [
        {
          "output_type": "execute_result",
          "data": {
            "text/plain": [
              "[0.4,\n",
              " 0.58,\n",
              " 0.4,\n",
              " 0.3,\n",
              " 0.56,\n",
              " 0.48,\n",
              " 0.45999999999999996,\n",
              " 0.45999999999999996,\n",
              " 0.24,\n",
              " 0.3]"
            ]
          },
          "metadata": {},
          "execution_count": 104
        }
      ]
    },
    {
      "cell_type": "markdown",
      "source": [
        "# Claim 1"
      ],
      "metadata": {
        "id": "9gjpol8Gnb0n"
      }
    },
    {
      "cell_type": "code",
      "source": [
        "claim = \"Autophagy has been shown to protect neurons from Aβ induced cytotoxicity\""
      ],
      "metadata": {
        "id": "xapCo0LlnbRd"
      },
      "execution_count": null,
      "outputs": []
    },
    {
      "cell_type": "code",
      "source": [
        "evidence = []\n",
        "sents = []\n",
        "for i, sentence in enumerate(sentences):\n",
        "    encoded_dict = encode([claim], [sentence])\n",
        "    logits = model(**encoded_dict)[0]\n",
        "    pred = logits.argmax(dim=1).tolist()[0]\n",
        "    if pred == 1 and sentences[i] != '\\n\\n':\n",
        "        sents.append((i, logits[0][1].cpu().item()))\n",
        "evidence.append(sents)\n",
        "\n",
        "sents.sort(key = lambda x : -x[1])\n",
        "\n",
        "for (i, j) in sents[:10]:\n",
        "    print(sentences[i])"
      ],
      "metadata": {
        "colab": {
          "base_uri": "https://localhost:8080/"
        },
        "id": "L_ERhShZnZ5t",
        "outputId": "7b5fadf5-d4f9-43eb-db87-9134235e87e3"
      },
      "execution_count": null,
      "outputs": [
        {
          "output_type": "stream",
          "name": "stdout",
          "text": [
            "While excessive autophagic activity can lead to cell death, increased autophagy has been shown to facilitate the clearance of aggregation-prone proteins such as Aβ[20], [21], [22], pathological prion protein[23], [24], and α-synuclein[25], and to promote neuronal survival in a variety of neurodegenerative disease models.\n",
            "Here we show that long-term inhibition of mTOR by rapamycin prevented AD-like cognitive deficits and lowered levels of Aβ , a major toxic species in AD[7], in the PDAPP transgenic mouse model.\n",
            " \n",
            "The data presented here are, to our knowledge, the first to show that inhibition of mTOR by rapamycin decreased Aβ  levels ( Fig. 2 ) and rescued cognitive function ( Fig. 1 ) in a mouse model of AD.\n",
            "Supporting the notion that autophagy may have a protective role in AD, deletion of the beclin 1 gene in PDAPP mice impaired autophagy and resulted in large increases in Aβ levels and accelerated Aβ deposition[26].\n",
            "Prolonged rapamycin treatment may thus release mTOR-mediated inhibition of autophagy and allow for the reduction of Aβ levels through this clearance mechanism in transgenic PDAPP brains.\n",
            "In addition, rapamycin treatment did not induce autophagy and did not affect levels of endogenous Aβ in non-transgenic mice, suggesting that autophagy may have a key role in reducing Aβ  in transgenic PDAPP brains.\n"
          ]
        }
      ]
    },
    {
      "cell_type": "markdown",
      "source": [
        "# Claim 2"
      ],
      "metadata": {
        "id": "GHxBJ-J0omKi"
      }
    },
    {
      "cell_type": "code",
      "source": [
        "claim = \"pharmacological stimulation of autophagy can be beneficial and reduce Aβ mediated toxicity\""
      ],
      "metadata": {
        "id": "3uUgb1CinZ8R"
      },
      "execution_count": null,
      "outputs": []
    },
    {
      "cell_type": "code",
      "source": [
        "evidence = []\n",
        "sents = []\n",
        "for i, sentence in enumerate(sentences):\n",
        "    encoded_dict = encode([claim], [sentence])\n",
        "    logits = model(**encoded_dict)[0]\n",
        "    pred = logits.argmax(dim=1).tolist()[0]\n",
        "    if pred == 1 and sentences[i] != '\\n\\n':\n",
        "        sents.append((i, logits[0][1].cpu().item()))\n",
        "evidence.append(sents)\n",
        "\n",
        "sents.sort(key = lambda x : -x[1])\n",
        "\n",
        "for (i, j) in sents[:10]:\n",
        "    print(sentences[i])"
      ],
      "metadata": {
        "colab": {
          "base_uri": "https://localhost:8080/"
        },
        "id": "U1fa6grTnZ-o",
        "outputId": "219aaea1-3cd8-4501-c88f-ef51cf3bb0e8"
      },
      "execution_count": null,
      "outputs": [
        {
          "output_type": "stream",
          "name": "stdout",
          "text": [
            "In addition, rapamycin treatment did not induce autophagy and did not affect levels of endogenous Aβ in non-transgenic mice, suggesting that autophagy may have a key role in reducing Aβ  in transgenic PDAPP brains.\n",
            "Here we show that long-term inhibition of mTOR by rapamycin prevented AD-like cognitive deficits and lowered levels of Aβ , a major toxic species in AD[7], in the PDAPP transgenic mouse model.\n",
            "Prolonged rapamycin treatment may thus release mTOR-mediated inhibition of autophagy and allow for the reduction of Aβ levels through this clearance mechanism in transgenic PDAPP brains.\n",
            "Our data suggest that the reduction in Aβ  levels and the improvement in cognitive function in rapamycin-treated PDAPP mice may be a consequence of the induction of autophagy in hippocampus ( Fig. 3 ) by high levels of Aβ in PDAPP transgenic brains. Consistent with a key role for high levels of Aβ in the activation of autophagy when mTOR activity is reduced, rapamycin did not induce autophagy in brains of rapamycin-treated non-transgenic mice, in which levels of endogenous Aβ are much lower than those in PDAPP transgenic brains.\n",
            "While excessive autophagic activity can lead to cell death, increased autophagy has been shown to facilitate the clearance of aggregation-prone proteins such as Aβ[20], [21], [22], pathological prion protein[23], [24], and α-synuclein[25], and to promote neuronal survival in a variety of neurodegenerative disease models.\n",
            "Thus, our data suggest that inhibition of mTOR by rapamycin, an intervention that extends lifespan in mice, can lower Aβ levels and slow or block AD progression in a transgenic mouse model of the disease, possibly by stimulating autophagy.\n",
            "The data presented here are, to our knowledge, the first to show that inhibition of mTOR by rapamycin decreased Aβ  levels ( Fig. 2 ) and rescued cognitive function ( Fig. 1 ) in a mouse model of AD.\n",
            "Supporting the notion that autophagy may have a protective role in AD, deletion of the beclin 1 gene in PDAPP mice impaired autophagy and resulted in large increases in Aβ levels and accelerated Aβ deposition[26].\n",
            "As expected from the inhibition of mTOR, autophagy was increased in neurons of rapamycin-treated transgenic, but not in non-transgenic, PDAPP mice, suggesting that the reduction in Aβ and the improvement in cognitive function are due in part to increased autophagy, possibly as a response to high levels of Aβ.\n",
            "Here we show that long-term mTOR inhibition by rapamycin inhibited mTOR in brain, prevented AD-like cognitive deficits ( Fig. 1 ) and lowered levels of Aβ  ( Fig. 2 ) in the PDAPP transgenic mouse model.\n"
          ]
        }
      ]
    },
    {
      "cell_type": "markdown",
      "source": [
        "# Claim 3"
      ],
      "metadata": {
        "id": "_ZvqBpSmo1rv"
      }
    },
    {
      "cell_type": "code",
      "source": [
        "claim = \"mTOR signaling was shown to be up-regulated in 7PA2 cells over-expressing mutant APP and in brains of another AD transgenic mouse, with rapamycin treatment reported as protective against behavioral decline\""
      ],
      "metadata": {
        "id": "2n-DRkR2out6"
      },
      "execution_count": null,
      "outputs": []
    },
    {
      "cell_type": "code",
      "source": [
        "evidence = []\n",
        "sents = []\n",
        "for i, sentence in enumerate(sentences):\n",
        "    encoded_dict = encode([claim], [sentence])\n",
        "    logits = model(**encoded_dict)[0]\n",
        "    pred = logits.argmax(dim=1).tolist()[0]\n",
        "    if pred == 1 and sentences[i] != '\\n\\n':\n",
        "        sents.append((i, logits[0][1].cpu().item()))\n",
        "evidence.append(sents)\n",
        "\n",
        "sents.sort(key = lambda x : -x[1])\n",
        "\n",
        "for (i, j) in sents[:10]:\n",
        "    print(sentences[i])"
      ],
      "metadata": {
        "colab": {
          "base_uri": "https://localhost:8080/"
        },
        "id": "K0oeAyJUouwe",
        "outputId": "1c00e9fa-e1f4-45b6-88a7-7fde3481e6d4"
      },
      "execution_count": null,
      "outputs": [
        {
          "output_type": "stream",
          "name": "stdout",
          "text": [
            "Here we show that long-term inhibition of mTOR by rapamycin prevented AD-like cognitive deficits and lowered levels of Aβ , a major toxic species in AD[7], in the PDAPP transgenic mouse model.\n",
            "Here we show that long-term mTOR inhibition by rapamycin inhibited mTOR in brain, prevented AD-like cognitive deficits ( Fig. 1 ) and lowered levels of Aβ  ( Fig. 2 ) in the PDAPP transgenic mouse model.\n",
            "Although rapamycin treatment did not activate autophagy nor reduce endogenous mouse Aβ levels, it inhibited mTOR function in non-transgenic littermate brains, and this group showed trends to improved learning and retention.\n",
            " \n",
            "The data presented here are, to our knowledge, the first to show that inhibition of mTOR by rapamycin decreased Aβ  levels ( Fig. 2 ) and rescued cognitive function ( Fig. 1 ) in a mouse model of AD.\n",
            "These data indicate that inhibition of the mTOR pathway by long-term rapamycin treatment can reduce Aβ  levels in vivo and block or delay AD in mice.\n"
          ]
        }
      ]
    },
    {
      "cell_type": "markdown",
      "source": [
        "# Claim 4"
      ],
      "metadata": {
        "id": "H9_Ig5q9o9V0"
      }
    },
    {
      "cell_type": "code",
      "source": [
        "claim = \"chronic treatment with rapamycin improved behavior of AD transgenic mice although effects were mild\""
      ],
      "metadata": {
        "id": "XIFWOwN1ouy1"
      },
      "execution_count": null,
      "outputs": []
    },
    {
      "cell_type": "code",
      "source": [
        "evidence = []\n",
        "sents = []\n",
        "for i, sentence in enumerate(sentences):\n",
        "    encoded_dict = encode([claim], [sentence])\n",
        "    logits = model(**encoded_dict)[0]\n",
        "    pred = logits.argmax(dim=1).tolist()[0]\n",
        "    if pred == 1 and sentences[i] != '\\n\\n':\n",
        "        sents.append((i, logits[0][1].cpu().item()))\n",
        "evidence.append(sents)\n",
        "\n",
        "sents.sort(key = lambda x : -x[1])\n",
        "\n",
        "for (i, j) in sents[:10]:\n",
        "    print(sentences[i])"
      ],
      "metadata": {
        "colab": {
          "base_uri": "https://localhost:8080/"
        },
        "id": "3m_gu66lpFGb",
        "outputId": "387d671e-2d29-4bda-a717-dc4c78b4c8ec"
      },
      "execution_count": null,
      "outputs": [
        {
          "output_type": "stream",
          "name": "stdout",
          "text": [
            "Rapamycin-fed transgenic PDAPP mice, however, showed improved learning ( Figure 1a ) and memory ( Figure 1b ), with improved performances on the last day of training and retention of the former location of the escape platform restored to levels indistinguishable from those of non-transgenic littermates ( Figure 1b ).\n",
            "Here we show that long-term inhibition of mTOR by rapamycin prevented AD-like cognitive deficits and lowered levels of Aβ , a major toxic species in AD[7], in the PDAPP transgenic mouse model.\n",
            "Here we show that long-term mTOR inhibition by rapamycin inhibited mTOR in brain, prevented AD-like cognitive deficits ( Fig. 1 ) and lowered levels of Aβ  ( Fig. 2 ) in the PDAPP transgenic mouse model.\n",
            "Although rapamycin treatment did not activate autophagy nor reduce endogenous mouse Aβ levels, it inhibited mTOR function in non-transgenic littermate brains, and this group showed trends to improved learning and retention.\n",
            "While learning in both transgenic groups was impaired with respect to wild-type littermates' [**, P<0.001 for both comparisons, Bonferroni's post hoc test applied to a significant effect of genotype and treatment, F(3,120) = 29.46, P<0.0001, repeated measures two-way ANOVA], performance of rapamycin-fed PDAPP mice was improved with respect to the control-fed transgenic group only in the last day of training (# P = 0.036 for the comparison of performance between transgenic groups, Student's t test), indicating improved learning of rapamycin-fed PDAPP mice at day 4.\n",
            "The data presented here are, to our knowledge, the first to show that inhibition of mTOR by rapamycin decreased Aβ  levels ( Fig. 2 ) and rescued cognitive function ( Fig. 1 ) in a mouse model of AD.\n",
            "These data indicate that inhibition of the mTOR pathway by long-term rapamycin treatment can reduce Aβ  levels in vivo and block or delay AD in mice.\n",
            "The effect of rapamycin treatment became more pronounced as training progressed, as indicated by the slopes for the learning curves (m = −5.14 for rapamycin-treated as compared to m = −3.58 for control-treated PDAPP transgenic mice; m = −4 for rapamycin-treated as compared to m = −2.95 for control-treated non-transgenic mice).\n",
            " \n"
          ]
        }
      ]
    },
    {
      "cell_type": "markdown",
      "source": [
        "# Claim 5"
      ],
      "metadata": {
        "id": "Iwd_8_xLpQYR"
      }
    },
    {
      "cell_type": "code",
      "source": [
        "claim = \"The 3xTg-AD15-18 mice were treated for 3 months based on previous studies showing that in young mice 10-12 weeks of rapamycin administration is sufficient to reduce soluble Aβ and tau [29], [32].\""
      ],
      "metadata": {
        "id": "B0JZenLgpFJx"
      },
      "execution_count": null,
      "outputs": []
    },
    {
      "cell_type": "code",
      "source": [
        "evidence = []\n",
        "sents = []\n",
        "for i, sentence in enumerate(sentences):\n",
        "    encoded_dict = encode([claim], [sentence])\n",
        "    logits = model(**encoded_dict)[0]\n",
        "    pred = logits.argmax(dim=1).tolist()[0]\n",
        "    if pred == 1 and sentences[i] != '\\n\\n':\n",
        "        sents.append((i, logits[0][1].cpu().item()))\n",
        "evidence.append(sents)\n",
        "\n",
        "sents.sort(key = lambda x : -x[1])\n",
        "\n",
        "for (i, j) in sents[:10]:\n",
        "    print(sentences[i])"
      ],
      "metadata": {
        "colab": {
          "base_uri": "https://localhost:8080/"
        },
        "id": "l7s85-zkpFMH",
        "outputId": "abf746ac-7080-48ec-cf38-a77c254e5222"
      },
      "execution_count": null,
      "outputs": [
        {
          "output_type": "stream",
          "name": "stdout",
          "text": [
            "Here we show that long-term inhibition of mTOR by rapamycin prevented AD-like cognitive deficits and lowered levels of Aβ , a major toxic species in AD[7], in the PDAPP transgenic mouse model.\n",
            "These data indicate that inhibition of the mTOR pathway by long-term rapamycin treatment can reduce Aβ  levels in vivo and block or delay AD in mice.\n",
            " , rapamycin did not alter Aβ  levels but significantly decreased soluble Aβ  levels in the brains of transgenic PDAPP mice *, P = 0.02.\n",
            "Prolonged rapamycin treatment may thus release mTOR-mediated inhibition of autophagy and allow for the reduction of Aβ levels through this clearance mechanism in transgenic PDAPP brains.\n"
          ]
        }
      ]
    },
    {
      "cell_type": "code",
      "source": [],
      "metadata": {
        "id": "w-fZ8SDTpW2U"
      },
      "execution_count": null,
      "outputs": []
    },
    {
      "cell_type": "code",
      "source": [],
      "metadata": {
        "id": "YRHmqqBqpW4o"
      },
      "execution_count": null,
      "outputs": []
    },
    {
      "cell_type": "code",
      "source": [],
      "metadata": {
        "id": "iN_8vXQ2pW7P"
      },
      "execution_count": null,
      "outputs": []
    },
    {
      "cell_type": "code",
      "source": [],
      "metadata": {
        "id": "kZkKht7epW-n"
      },
      "execution_count": null,
      "outputs": []
    },
    {
      "cell_type": "code",
      "source": [
        "with open(\"PMC2995166_3.txt\") as f:\n",
        "    content = f.read()"
      ],
      "metadata": {
        "id": "6O_AujDuhjxN"
      },
      "execution_count": null,
      "outputs": []
    },
    {
      "cell_type": "code",
      "source": [
        "!pip install scispacy"
      ],
      "metadata": {
        "colab": {
          "base_uri": "https://localhost:8080/"
        },
        "id": "dL14-sfEh2p-",
        "outputId": "87e0b27f-999d-41f3-d77a-d1d0e97fd199"
      },
      "execution_count": null,
      "outputs": [
        {
          "output_type": "stream",
          "name": "stdout",
          "text": [
            "Looking in indexes: https://pypi.org/simple, https://us-python.pkg.dev/colab-wheels/public/simple/\n",
            "Collecting scispacy\n",
            "  Downloading scispacy-0.5.1-py3-none-any.whl (44 kB)\n",
            "\u001b[K     |████████████████████████████████| 44 kB 3.2 MB/s \n",
            "\u001b[?25hRequirement already satisfied: scikit-learn>=0.20.3 in /usr/local/lib/python3.7/dist-packages (from scispacy) (1.0.2)\n",
            "Collecting nmslib>=1.7.3.6\n",
            "  Downloading nmslib-2.1.1-cp37-cp37m-manylinux2010_x86_64.whl (13.5 MB)\n",
            "\u001b[K     |████████████████████████████████| 13.5 MB 43.6 MB/s \n",
            "\u001b[?25hCollecting pysbd\n",
            "  Downloading pysbd-0.3.4-py3-none-any.whl (71 kB)\n",
            "\u001b[K     |████████████████████████████████| 71 kB 10.9 MB/s \n",
            "\u001b[?25hCollecting conllu\n",
            "  Downloading conllu-4.5.2-py2.py3-none-any.whl (16 kB)\n",
            "Requirement already satisfied: numpy in /usr/local/lib/python3.7/dist-packages (from scispacy) (1.21.6)\n",
            "Requirement already satisfied: joblib in /usr/local/lib/python3.7/dist-packages (from scispacy) (1.2.0)\n",
            "Requirement already satisfied: requests<3.0.0,>=2.0.0 in /usr/local/lib/python3.7/dist-packages (from scispacy) (2.23.0)\n",
            "Requirement already satisfied: spacy<3.5.0,>=3.4.0 in /usr/local/lib/python3.7/dist-packages (from scispacy) (3.4.2)\n",
            "Collecting pybind11<2.6.2\n",
            "  Downloading pybind11-2.6.1-py2.py3-none-any.whl (188 kB)\n",
            "\u001b[K     |████████████████████████████████| 188 kB 75.3 MB/s \n",
            "\u001b[?25hRequirement already satisfied: psutil in /usr/local/lib/python3.7/dist-packages (from nmslib>=1.7.3.6->scispacy) (5.4.8)\n",
            "Requirement already satisfied: chardet<4,>=3.0.2 in /usr/local/lib/python3.7/dist-packages (from requests<3.0.0,>=2.0.0->scispacy) (3.0.4)\n",
            "Requirement already satisfied: certifi>=2017.4.17 in /usr/local/lib/python3.7/dist-packages (from requests<3.0.0,>=2.0.0->scispacy) (2022.9.24)\n",
            "Requirement already satisfied: idna<3,>=2.5 in /usr/local/lib/python3.7/dist-packages (from requests<3.0.0,>=2.0.0->scispacy) (2.10)\n",
            "Requirement already satisfied: urllib3!=1.25.0,!=1.25.1,<1.26,>=1.21.1 in /usr/local/lib/python3.7/dist-packages (from requests<3.0.0,>=2.0.0->scispacy) (1.24.3)\n",
            "Requirement already satisfied: threadpoolctl>=2.0.0 in /usr/local/lib/python3.7/dist-packages (from scikit-learn>=0.20.3->scispacy) (3.1.0)\n",
            "Requirement already satisfied: scipy>=1.1.0 in /usr/local/lib/python3.7/dist-packages (from scikit-learn>=0.20.3->scispacy) (1.7.3)\n",
            "Requirement already satisfied: spacy-legacy<3.1.0,>=3.0.10 in /usr/local/lib/python3.7/dist-packages (from spacy<3.5.0,>=3.4.0->scispacy) (3.0.10)\n",
            "Requirement already satisfied: packaging>=20.0 in /usr/local/lib/python3.7/dist-packages (from spacy<3.5.0,>=3.4.0->scispacy) (21.3)\n",
            "Requirement already satisfied: preshed<3.1.0,>=3.0.2 in /usr/local/lib/python3.7/dist-packages (from spacy<3.5.0,>=3.4.0->scispacy) (3.0.8)\n",
            "Requirement already satisfied: typing-extensions<4.2.0,>=3.7.4 in /usr/local/lib/python3.7/dist-packages (from spacy<3.5.0,>=3.4.0->scispacy) (4.1.1)\n",
            "Requirement already satisfied: pydantic!=1.8,!=1.8.1,<1.11.0,>=1.7.4 in /usr/local/lib/python3.7/dist-packages (from spacy<3.5.0,>=3.4.0->scispacy) (1.10.2)\n",
            "Requirement already satisfied: wasabi<1.1.0,>=0.9.1 in /usr/local/lib/python3.7/dist-packages (from spacy<3.5.0,>=3.4.0->scispacy) (0.10.1)\n",
            "Requirement already satisfied: murmurhash<1.1.0,>=0.28.0 in /usr/local/lib/python3.7/dist-packages (from spacy<3.5.0,>=3.4.0->scispacy) (1.0.9)\n",
            "Requirement already satisfied: cymem<2.1.0,>=2.0.2 in /usr/local/lib/python3.7/dist-packages (from spacy<3.5.0,>=3.4.0->scispacy) (2.0.7)\n",
            "Requirement already satisfied: typer<0.5.0,>=0.3.0 in /usr/local/lib/python3.7/dist-packages (from spacy<3.5.0,>=3.4.0->scispacy) (0.4.2)\n",
            "Requirement already satisfied: thinc<8.2.0,>=8.1.0 in /usr/local/lib/python3.7/dist-packages (from spacy<3.5.0,>=3.4.0->scispacy) (8.1.5)\n",
            "Requirement already satisfied: jinja2 in /usr/local/lib/python3.7/dist-packages (from spacy<3.5.0,>=3.4.0->scispacy) (2.11.3)\n",
            "Requirement already satisfied: catalogue<2.1.0,>=2.0.6 in /usr/local/lib/python3.7/dist-packages (from spacy<3.5.0,>=3.4.0->scispacy) (2.0.8)\n",
            "Requirement already satisfied: tqdm<5.0.0,>=4.38.0 in /usr/local/lib/python3.7/dist-packages (from spacy<3.5.0,>=3.4.0->scispacy) (4.64.1)\n",
            "Requirement already satisfied: langcodes<4.0.0,>=3.2.0 in /usr/local/lib/python3.7/dist-packages (from spacy<3.5.0,>=3.4.0->scispacy) (3.3.0)\n",
            "Requirement already satisfied: spacy-loggers<2.0.0,>=1.0.0 in /usr/local/lib/python3.7/dist-packages (from spacy<3.5.0,>=3.4.0->scispacy) (1.0.3)\n",
            "Requirement already satisfied: srsly<3.0.0,>=2.4.3 in /usr/local/lib/python3.7/dist-packages (from spacy<3.5.0,>=3.4.0->scispacy) (2.4.5)\n",
            "Requirement already satisfied: pathy>=0.3.5 in /usr/local/lib/python3.7/dist-packages (from spacy<3.5.0,>=3.4.0->scispacy) (0.6.2)\n",
            "Requirement already satisfied: setuptools in /usr/local/lib/python3.7/dist-packages (from spacy<3.5.0,>=3.4.0->scispacy) (57.4.0)\n",
            "Requirement already satisfied: zipp>=0.5 in /usr/local/lib/python3.7/dist-packages (from catalogue<2.1.0,>=2.0.6->spacy<3.5.0,>=3.4.0->scispacy) (3.9.0)\n",
            "Requirement already satisfied: pyparsing!=3.0.5,>=2.0.2 in /usr/local/lib/python3.7/dist-packages (from packaging>=20.0->spacy<3.5.0,>=3.4.0->scispacy) (3.0.9)\n",
            "Requirement already satisfied: smart-open<6.0.0,>=5.2.1 in /usr/local/lib/python3.7/dist-packages (from pathy>=0.3.5->spacy<3.5.0,>=3.4.0->scispacy) (5.2.1)\n",
            "Requirement already satisfied: confection<1.0.0,>=0.0.1 in /usr/local/lib/python3.7/dist-packages (from thinc<8.2.0,>=8.1.0->spacy<3.5.0,>=3.4.0->scispacy) (0.0.3)\n",
            "Requirement already satisfied: blis<0.8.0,>=0.7.8 in /usr/local/lib/python3.7/dist-packages (from thinc<8.2.0,>=8.1.0->spacy<3.5.0,>=3.4.0->scispacy) (0.7.9)\n",
            "Requirement already satisfied: click<9.0.0,>=7.1.1 in /usr/local/lib/python3.7/dist-packages (from typer<0.5.0,>=0.3.0->spacy<3.5.0,>=3.4.0->scispacy) (7.1.2)\n",
            "Requirement already satisfied: MarkupSafe>=0.23 in /usr/local/lib/python3.7/dist-packages (from jinja2->spacy<3.5.0,>=3.4.0->scispacy) (2.0.1)\n",
            "Installing collected packages: pybind11, pysbd, nmslib, conllu, scispacy\n",
            "Successfully installed conllu-4.5.2 nmslib-2.1.1 pybind11-2.6.1 pysbd-0.3.4 scispacy-0.5.1\n"
          ]
        }
      ]
    },
    {
      "cell_type": "code",
      "source": [
        "!pip install https://s3-us-west-2.amazonaws.com/ai2-s2-scispacy/releases/v0.5.1/en_core_sci_scibert-0.5.1.tar.gz"
      ],
      "metadata": {
        "colab": {
          "base_uri": "https://localhost:8080/",
          "height": 1000
        },
        "id": "IzHZ2oKiiAJi",
        "outputId": "3979ea0f-6869-4931-88c2-01109f219980"
      },
      "execution_count": null,
      "outputs": [
        {
          "output_type": "stream",
          "name": "stdout",
          "text": [
            "Looking in indexes: https://pypi.org/simple, https://us-python.pkg.dev/colab-wheels/public/simple/\n",
            "Collecting https://s3-us-west-2.amazonaws.com/ai2-s2-scispacy/releases/v0.5.1/en_core_sci_scibert-0.5.1.tar.gz\n",
            "  Downloading https://s3-us-west-2.amazonaws.com/ai2-s2-scispacy/releases/v0.5.1/en_core_sci_scibert-0.5.1.tar.gz (417.6 MB)\n",
            "\u001b[K     |████████████████████████████████| 417.6 MB 29 kB/s \n",
            "\u001b[?25hRequirement already satisfied: spacy<3.5.0,>=3.4.1 in /usr/local/lib/python3.7/dist-packages (from en-core-sci-scibert==0.5.1) (3.4.2)\n",
            "Collecting spacy-transformers\n",
            "  Downloading spacy_transformers-1.1.8-py2.py3-none-any.whl (53 kB)\n",
            "\u001b[K     |████████████████████████████████| 53 kB 1.8 MB/s \n",
            "\u001b[?25hRequirement already satisfied: spacy-legacy<3.1.0,>=3.0.10 in /usr/local/lib/python3.7/dist-packages (from spacy<3.5.0,>=3.4.1->en-core-sci-scibert==0.5.1) (3.0.10)\n",
            "Requirement already satisfied: preshed<3.1.0,>=3.0.2 in /usr/local/lib/python3.7/dist-packages (from spacy<3.5.0,>=3.4.1->en-core-sci-scibert==0.5.1) (3.0.8)\n",
            "Requirement already satisfied: typer<0.5.0,>=0.3.0 in /usr/local/lib/python3.7/dist-packages (from spacy<3.5.0,>=3.4.1->en-core-sci-scibert==0.5.1) (0.4.2)\n",
            "Requirement already satisfied: langcodes<4.0.0,>=3.2.0 in /usr/local/lib/python3.7/dist-packages (from spacy<3.5.0,>=3.4.1->en-core-sci-scibert==0.5.1) (3.3.0)\n",
            "Requirement already satisfied: packaging>=20.0 in /usr/local/lib/python3.7/dist-packages (from spacy<3.5.0,>=3.4.1->en-core-sci-scibert==0.5.1) (21.3)\n",
            "Requirement already satisfied: requests<3.0.0,>=2.13.0 in /usr/local/lib/python3.7/dist-packages (from spacy<3.5.0,>=3.4.1->en-core-sci-scibert==0.5.1) (2.23.0)\n",
            "Requirement already satisfied: murmurhash<1.1.0,>=0.28.0 in /usr/local/lib/python3.7/dist-packages (from spacy<3.5.0,>=3.4.1->en-core-sci-scibert==0.5.1) (1.0.9)\n",
            "Requirement already satisfied: jinja2 in /usr/local/lib/python3.7/dist-packages (from spacy<3.5.0,>=3.4.1->en-core-sci-scibert==0.5.1) (2.11.3)\n",
            "Requirement already satisfied: thinc<8.2.0,>=8.1.0 in /usr/local/lib/python3.7/dist-packages (from spacy<3.5.0,>=3.4.1->en-core-sci-scibert==0.5.1) (8.1.5)\n",
            "Requirement already satisfied: wasabi<1.1.0,>=0.9.1 in /usr/local/lib/python3.7/dist-packages (from spacy<3.5.0,>=3.4.1->en-core-sci-scibert==0.5.1) (0.10.1)\n",
            "Requirement already satisfied: setuptools in /usr/local/lib/python3.7/dist-packages (from spacy<3.5.0,>=3.4.1->en-core-sci-scibert==0.5.1) (57.4.0)\n",
            "Requirement already satisfied: cymem<2.1.0,>=2.0.2 in /usr/local/lib/python3.7/dist-packages (from spacy<3.5.0,>=3.4.1->en-core-sci-scibert==0.5.1) (2.0.7)\n",
            "Requirement already satisfied: spacy-loggers<2.0.0,>=1.0.0 in /usr/local/lib/python3.7/dist-packages (from spacy<3.5.0,>=3.4.1->en-core-sci-scibert==0.5.1) (1.0.3)\n",
            "Requirement already satisfied: catalogue<2.1.0,>=2.0.6 in /usr/local/lib/python3.7/dist-packages (from spacy<3.5.0,>=3.4.1->en-core-sci-scibert==0.5.1) (2.0.8)\n",
            "Requirement already satisfied: typing-extensions<4.2.0,>=3.7.4 in /usr/local/lib/python3.7/dist-packages (from spacy<3.5.0,>=3.4.1->en-core-sci-scibert==0.5.1) (4.1.1)\n",
            "Requirement already satisfied: srsly<3.0.0,>=2.4.3 in /usr/local/lib/python3.7/dist-packages (from spacy<3.5.0,>=3.4.1->en-core-sci-scibert==0.5.1) (2.4.5)\n",
            "Requirement already satisfied: tqdm<5.0.0,>=4.38.0 in /usr/local/lib/python3.7/dist-packages (from spacy<3.5.0,>=3.4.1->en-core-sci-scibert==0.5.1) (4.64.1)\n",
            "Requirement already satisfied: pathy>=0.3.5 in /usr/local/lib/python3.7/dist-packages (from spacy<3.5.0,>=3.4.1->en-core-sci-scibert==0.5.1) (0.6.2)\n",
            "Requirement already satisfied: pydantic!=1.8,!=1.8.1,<1.11.0,>=1.7.4 in /usr/local/lib/python3.7/dist-packages (from spacy<3.5.0,>=3.4.1->en-core-sci-scibert==0.5.1) (1.10.2)\n",
            "Requirement already satisfied: numpy>=1.15.0 in /usr/local/lib/python3.7/dist-packages (from spacy<3.5.0,>=3.4.1->en-core-sci-scibert==0.5.1) (1.21.6)\n",
            "Requirement already satisfied: zipp>=0.5 in /usr/local/lib/python3.7/dist-packages (from catalogue<2.1.0,>=2.0.6->spacy<3.5.0,>=3.4.1->en-core-sci-scibert==0.5.1) (3.9.0)\n",
            "Requirement already satisfied: pyparsing!=3.0.5,>=2.0.2 in /usr/local/lib/python3.7/dist-packages (from packaging>=20.0->spacy<3.5.0,>=3.4.1->en-core-sci-scibert==0.5.1) (3.0.9)\n",
            "Requirement already satisfied: smart-open<6.0.0,>=5.2.1 in /usr/local/lib/python3.7/dist-packages (from pathy>=0.3.5->spacy<3.5.0,>=3.4.1->en-core-sci-scibert==0.5.1) (5.2.1)\n",
            "Requirement already satisfied: idna<3,>=2.5 in /usr/local/lib/python3.7/dist-packages (from requests<3.0.0,>=2.13.0->spacy<3.5.0,>=3.4.1->en-core-sci-scibert==0.5.1) (2.10)\n",
            "Requirement already satisfied: chardet<4,>=3.0.2 in /usr/local/lib/python3.7/dist-packages (from requests<3.0.0,>=2.13.0->spacy<3.5.0,>=3.4.1->en-core-sci-scibert==0.5.1) (3.0.4)\n",
            "Requirement already satisfied: urllib3!=1.25.0,!=1.25.1,<1.26,>=1.21.1 in /usr/local/lib/python3.7/dist-packages (from requests<3.0.0,>=2.13.0->spacy<3.5.0,>=3.4.1->en-core-sci-scibert==0.5.1) (1.24.3)\n",
            "Requirement already satisfied: certifi>=2017.4.17 in /usr/local/lib/python3.7/dist-packages (from requests<3.0.0,>=2.13.0->spacy<3.5.0,>=3.4.1->en-core-sci-scibert==0.5.1) (2022.9.24)\n",
            "Requirement already satisfied: confection<1.0.0,>=0.0.1 in /usr/local/lib/python3.7/dist-packages (from thinc<8.2.0,>=8.1.0->spacy<3.5.0,>=3.4.1->en-core-sci-scibert==0.5.1) (0.0.3)\n",
            "Requirement already satisfied: blis<0.8.0,>=0.7.8 in /usr/local/lib/python3.7/dist-packages (from thinc<8.2.0,>=8.1.0->spacy<3.5.0,>=3.4.1->en-core-sci-scibert==0.5.1) (0.7.9)\n",
            "Requirement already satisfied: click<9.0.0,>=7.1.1 in /usr/local/lib/python3.7/dist-packages (from typer<0.5.0,>=0.3.0->spacy<3.5.0,>=3.4.1->en-core-sci-scibert==0.5.1) (7.1.2)\n",
            "Requirement already satisfied: MarkupSafe>=0.23 in /usr/local/lib/python3.7/dist-packages (from jinja2->spacy<3.5.0,>=3.4.1->en-core-sci-scibert==0.5.1) (2.0.1)\n",
            "Requirement already satisfied: torch>=1.6.0 in /usr/local/lib/python3.7/dist-packages (from spacy-transformers->en-core-sci-scibert==0.5.1) (1.12.1+cu113)\n",
            "Collecting spacy-alignments<1.0.0,>=0.7.2\n",
            "  Downloading spacy_alignments-0.8.6-cp37-cp37m-manylinux_2_17_x86_64.manylinux2014_x86_64.whl (1.1 MB)\n",
            "\u001b[K     |████████████████████████████████| 1.1 MB 24.9 MB/s \n",
            "\u001b[?25hCollecting transformers<4.22.0,>=3.4.0\n",
            "  Downloading transformers-4.21.3-py3-none-any.whl (4.7 MB)\n",
            "\u001b[K     |████████████████████████████████| 4.7 MB 60.3 MB/s \n",
            "\u001b[?25hRequirement already satisfied: filelock in /usr/local/lib/python3.7/dist-packages (from transformers<4.22.0,>=3.4.0->spacy-transformers->en-core-sci-scibert==0.5.1) (3.8.0)\n",
            "Requirement already satisfied: importlib-metadata in /usr/local/lib/python3.7/dist-packages (from transformers<4.22.0,>=3.4.0->spacy-transformers->en-core-sci-scibert==0.5.1) (4.13.0)\n",
            "Collecting tokenizers!=0.11.3,<0.13,>=0.11.1\n",
            "  Downloading tokenizers-0.12.1-cp37-cp37m-manylinux_2_12_x86_64.manylinux2010_x86_64.whl (6.6 MB)\n",
            "\u001b[K     |████████████████████████████████| 6.6 MB 63.6 MB/s \n",
            "\u001b[?25hRequirement already satisfied: pyyaml>=5.1 in /usr/local/lib/python3.7/dist-packages (from transformers<4.22.0,>=3.4.0->spacy-transformers->en-core-sci-scibert==0.5.1) (6.0)\n",
            "Requirement already satisfied: regex!=2019.12.17 in /usr/local/lib/python3.7/dist-packages (from transformers<4.22.0,>=3.4.0->spacy-transformers->en-core-sci-scibert==0.5.1) (2022.6.2)\n",
            "Requirement already satisfied: huggingface-hub<1.0,>=0.1.0 in /usr/local/lib/python3.7/dist-packages (from transformers<4.22.0,>=3.4.0->spacy-transformers->en-core-sci-scibert==0.5.1) (0.10.1)\n",
            "Building wheels for collected packages: en-core-sci-scibert\n",
            "  Building wheel for en-core-sci-scibert (setup.py) ... \u001b[?25l\u001b[?25hdone\n",
            "  Created wheel for en-core-sci-scibert: filename=en_core_sci_scibert-0.5.1-py3-none-any.whl size=417647713 sha256=922bec919451d759113df0b76708b50c9b5ce0d1a2b74537dd092f5c21279b65\n",
            "  Stored in directory: /root/.cache/pip/wheels/40/fa/08/b604c1861cae676d07bdfa0a1991297cac61c99761a4080313\n",
            "Successfully built en-core-sci-scibert\n",
            "Installing collected packages: tokenizers, transformers, spacy-alignments, spacy-transformers, en-core-sci-scibert\n",
            "  Attempting uninstall: tokenizers\n",
            "    Found existing installation: tokenizers 0.13.1\n",
            "    Uninstalling tokenizers-0.13.1:\n",
            "      Successfully uninstalled tokenizers-0.13.1\n",
            "  Attempting uninstall: transformers\n",
            "    Found existing installation: transformers 4.23.1\n",
            "    Uninstalling transformers-4.23.1:\n",
            "      Successfully uninstalled transformers-4.23.1\n",
            "Successfully installed en-core-sci-scibert-0.5.1 spacy-alignments-0.8.6 spacy-transformers-1.1.8 tokenizers-0.12.1 transformers-4.21.3\n"
          ]
        },
        {
          "output_type": "display_data",
          "data": {
            "application/vnd.colab-display-data+json": {
              "pip_warning": {
                "packages": [
                  "tokenizers",
                  "transformers"
                ]
              }
            }
          },
          "metadata": {}
        }
      ]
    },
    {
      "cell_type": "code",
      "source": [
        "import spacy\n",
        "nlp = spacy.load(\"en_core_sci_scibert\")"
      ],
      "metadata": {
        "id": "GpEsfc9_hzYt"
      },
      "execution_count": null,
      "outputs": []
    },
    {
      "cell_type": "code",
      "source": [
        "doc = nlp(content)\n",
        "sentences = [str(s) for s in list(doc.sents)]"
      ],
      "metadata": {
        "id": "IsNGXMHJh1at"
      },
      "execution_count": null,
      "outputs": []
    },
    {
      "cell_type": "code",
      "source": [
        "!unzip rationale_biobert_large-20221031T002534Z-001.zip"
      ],
      "metadata": {
        "colab": {
          "base_uri": "https://localhost:8080/"
        },
        "id": "bLLnSRxUjF1G",
        "outputId": "ca8163eb-4ccd-4cc2-c813-b0e21c9ebb46"
      },
      "execution_count": null,
      "outputs": [
        {
          "output_type": "stream",
          "name": "stdout",
          "text": [
            "Archive:  rationale_biobert_large-20221031T002534Z-001.zip\n",
            "  inflating: rationale_biobert_large/pytorch_model.bin  \n",
            "  inflating: rationale_biobert_large/tokenizer_config.json  \n",
            "  inflating: rationale_biobert_large/config.json  \n",
            "  inflating: rationale_biobert_large/vocab.txt  \n",
            "  inflating: rationale_biobert_large/special_tokens_map.json  \n"
          ]
        }
      ]
    },
    {
      "cell_type": "code",
      "source": [
        "tokenizer = AutoTokenizer.from_pretrained(\"./rationale_biobert_large\")\n",
        "model = AutoModelForSequenceClassification.from_pretrained(\"./rationale_biobert_large\").to(device).eval()\n",
        "\n",
        "# abstract_retrieval = jsonlines.open(args.abstract)\n",
        "# dataset = jsonlines.open(args.dataset)\n",
        "# corpus = {doc['doc_id']: doc for doc in jsonlines.open(args.corpus)}\n",
        "# output = jsonlines.open('{}/rationale_selection.jsonl'.format(args.output), 'w')\n",
        "\n",
        "# with torch.no_grad():\n",
        "#     for data, retrieval in tqdm(list(zip(dataset, abstract_retrieval))):\n",
        "#         assert data['id'] == retrieval['id']\n",
        "\n",
        "# Claim\n",
        "# claim = \"\"\n",
        "evidence = []\n",
        "sents = []\n",
        "for i, sentence in enumerate(sentences):\n",
        "    encoded_dict = encode([claim], [sentence])\n",
        "    logits = model(**encoded_dict)[0]\n",
        "    pred = logits.argmax(dim=1).tolist()[0]\n",
        "    if pred == 1:\n",
        "        sents.append((i, logits[0][1].cpu().item()))\n",
        "evidence.append(sents)"
      ],
      "metadata": {
        "id": "V6v3aJ2Wiluk"
      },
      "execution_count": null,
      "outputs": []
    },
    {
      "cell_type": "code",
      "source": [
        "sents.sort(key = lambda x : -x[1])"
      ],
      "metadata": {
        "id": "daGC7xcpluw8"
      },
      "execution_count": null,
      "outputs": []
    },
    {
      "cell_type": "code",
      "source": [
        "for (i, j) in sents[:5]:\n",
        "    print(sentences[i])"
      ],
      "metadata": {
        "colab": {
          "base_uri": "https://localhost:8080/"
        },
        "id": "ZbG54Rf1lo4q",
        "outputId": "d3c7a714-0ee1-4e6a-f7c6-cdd056514ac3"
      },
      "execution_count": null,
      "outputs": [
        {
          "output_type": "stream",
          "name": "stdout",
          "text": [
            "Thus, FRB-PINK1Δ1-110-YFP should be recruited from the cytosol to mitochondria if the FKBP domain of TOM20-FKBP faces the cytosol but not if it faces the inter membrane space or the matrix.\n",
            "Selective accumulation of PINK1 on the impaired mitochondria recruits Parkin, and Parkin, in turn, induces the degradation of the damaged mitochondria.\n",
            "Consistent with necessity of PINK1's mitochondrial localization and kinase activity, exogenous expression of PINK1 KD or PINK1 ΔN fails to accelerate the kinetics of Parkin recruitment (Figure 5B).\n",
            "Thus, increased expression of PINK1 on the outer mitochondrial membrane is sufficient to recruit Parkin to mitochondria.\n",
            "\n",
            "Increased expression of PINK1 on the outer mitochondrial membrane is sufficient for Parkin recruitment.\n"
          ]
        }
      ]
    },
    {
      "cell_type": "code",
      "source": [
        "sents"
      ],
      "metadata": {
        "id": "hWCWMBQ1kqSM"
      },
      "execution_count": null,
      "outputs": []
    },
    {
      "cell_type": "code",
      "source": [
        "len(sentences)"
      ],
      "metadata": {
        "colab": {
          "base_uri": "https://localhost:8080/"
        },
        "id": "tFyV3Qr9jDGI",
        "outputId": "825be636-3c50-47ff-aea0-256dc34f1869"
      },
      "execution_count": null,
      "outputs": [
        {
          "output_type": "execute_result",
          "data": {
            "text/plain": [
              "521"
            ]
          },
          "metadata": {},
          "execution_count": 19
        }
      ]
    },
    {
      "cell_type": "code",
      "source": [],
      "metadata": {
        "id": "Rn3M2uRYjdvS"
      },
      "execution_count": null,
      "outputs": []
    }
  ]
}