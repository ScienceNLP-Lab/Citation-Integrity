{
  "nbformat": 4,
  "nbformat_minor": 0,
  "metadata": {
    "colab": {
      "provenance": [],
      "collapsed_sections": [
        "iDCppBtNH3tq",
        "CafT7FfKIT-z",
        "6z6Z5nScIVbx",
        "m7MD_8hQIVhc",
        "n9UWBsNaIVnK",
        "t7WDJXX6IVuc",
        "ibgrD15HIV6L",
        "6UGPKCe9RRBD",
        "SKLHpBlbRcjl",
        "Xu8m2wGKRp5O",
        "xGcBKWAKR3X-",
        "YzDZOeurSJOa",
        "cht93-OjLvIC",
        "K9KUymj1L34q",
        "lYRypFCuOM2O",
        "oLHpy5yYO0kY",
        "B0UCXgz9PQmB",
        "jrlSY8cjPxRB"
      ]
    },
    "kernelspec": {
      "name": "python3",
      "display_name": "Python 3"
    },
    "language_info": {
      "name": "python"
    },
    "accelerator": "GPU",
    "gpuClass": "standard",
    "widgets": {
      "application/vnd.jupyter.widget-state+json": {
        "5b5ddb812fb84582843ccae46b060644": {
          "model_module": "@jupyter-widgets/controls",
          "model_name": "HBoxModel",
          "model_module_version": "1.5.0",
          "state": {
            "_dom_classes": [],
            "_model_module": "@jupyter-widgets/controls",
            "_model_module_version": "1.5.0",
            "_model_name": "HBoxModel",
            "_view_count": null,
            "_view_module": "@jupyter-widgets/controls",
            "_view_module_version": "1.5.0",
            "_view_name": "HBoxView",
            "box_style": "",
            "children": [
              "IPY_MODEL_85fc29f1027a4ad3bc79e4e5002d3920",
              "IPY_MODEL_092c6f3c26564f169ca7f4f5779d9153",
              "IPY_MODEL_611c0495b5e04b0592458a9e1d48062a"
            ],
            "layout": "IPY_MODEL_366ef5e50d2c416f923d631144ec11d5"
          }
        },
        "85fc29f1027a4ad3bc79e4e5002d3920": {
          "model_module": "@jupyter-widgets/controls",
          "model_name": "HTMLModel",
          "model_module_version": "1.5.0",
          "state": {
            "_dom_classes": [],
            "_model_module": "@jupyter-widgets/controls",
            "_model_module_version": "1.5.0",
            "_model_name": "HTMLModel",
            "_view_count": null,
            "_view_module": "@jupyter-widgets/controls",
            "_view_module_version": "1.5.0",
            "_view_name": "HTMLView",
            "description": "",
            "description_tooltip": null,
            "layout": "IPY_MODEL_f87fd75db92e4525a12a47217ccf0417",
            "placeholder": "​",
            "style": "IPY_MODEL_30a6078bf4374106be057a5c78f0be8c",
            "value": "Downloading: 100%"
          }
        },
        "092c6f3c26564f169ca7f4f5779d9153": {
          "model_module": "@jupyter-widgets/controls",
          "model_name": "FloatProgressModel",
          "model_module_version": "1.5.0",
          "state": {
            "_dom_classes": [],
            "_model_module": "@jupyter-widgets/controls",
            "_model_module_version": "1.5.0",
            "_model_name": "FloatProgressModel",
            "_view_count": null,
            "_view_module": "@jupyter-widgets/controls",
            "_view_module_version": "1.5.0",
            "_view_name": "ProgressView",
            "bar_style": "success",
            "description": "",
            "description_tooltip": null,
            "layout": "IPY_MODEL_8cb4af265cf24989b7ef2e595b3e0ce2",
            "max": 1189,
            "min": 0,
            "orientation": "horizontal",
            "style": "IPY_MODEL_524e428991154637b261b7fccab83bb7",
            "value": 1189
          }
        },
        "611c0495b5e04b0592458a9e1d48062a": {
          "model_module": "@jupyter-widgets/controls",
          "model_name": "HTMLModel",
          "model_module_version": "1.5.0",
          "state": {
            "_dom_classes": [],
            "_model_module": "@jupyter-widgets/controls",
            "_model_module_version": "1.5.0",
            "_model_name": "HTMLModel",
            "_view_count": null,
            "_view_module": "@jupyter-widgets/controls",
            "_view_module_version": "1.5.0",
            "_view_name": "HTMLView",
            "description": "",
            "description_tooltip": null,
            "layout": "IPY_MODEL_8957f5b780d041e4bfdea87acd020f72",
            "placeholder": "​",
            "style": "IPY_MODEL_e237ff137fa441a3b9a6e39b13976911",
            "value": " 1.19k/1.19k [00:00&lt;00:00, 60.1kB/s]"
          }
        },
        "366ef5e50d2c416f923d631144ec11d5": {
          "model_module": "@jupyter-widgets/base",
          "model_name": "LayoutModel",
          "model_module_version": "1.2.0",
          "state": {
            "_model_module": "@jupyter-widgets/base",
            "_model_module_version": "1.2.0",
            "_model_name": "LayoutModel",
            "_view_count": null,
            "_view_module": "@jupyter-widgets/base",
            "_view_module_version": "1.2.0",
            "_view_name": "LayoutView",
            "align_content": null,
            "align_items": null,
            "align_self": null,
            "border": null,
            "bottom": null,
            "display": null,
            "flex": null,
            "flex_flow": null,
            "grid_area": null,
            "grid_auto_columns": null,
            "grid_auto_flow": null,
            "grid_auto_rows": null,
            "grid_column": null,
            "grid_gap": null,
            "grid_row": null,
            "grid_template_areas": null,
            "grid_template_columns": null,
            "grid_template_rows": null,
            "height": null,
            "justify_content": null,
            "justify_items": null,
            "left": null,
            "margin": null,
            "max_height": null,
            "max_width": null,
            "min_height": null,
            "min_width": null,
            "object_fit": null,
            "object_position": null,
            "order": null,
            "overflow": null,
            "overflow_x": null,
            "overflow_y": null,
            "padding": null,
            "right": null,
            "top": null,
            "visibility": null,
            "width": null
          }
        },
        "f87fd75db92e4525a12a47217ccf0417": {
          "model_module": "@jupyter-widgets/base",
          "model_name": "LayoutModel",
          "model_module_version": "1.2.0",
          "state": {
            "_model_module": "@jupyter-widgets/base",
            "_model_module_version": "1.2.0",
            "_model_name": "LayoutModel",
            "_view_count": null,
            "_view_module": "@jupyter-widgets/base",
            "_view_module_version": "1.2.0",
            "_view_name": "LayoutView",
            "align_content": null,
            "align_items": null,
            "align_self": null,
            "border": null,
            "bottom": null,
            "display": null,
            "flex": null,
            "flex_flow": null,
            "grid_area": null,
            "grid_auto_columns": null,
            "grid_auto_flow": null,
            "grid_auto_rows": null,
            "grid_column": null,
            "grid_gap": null,
            "grid_row": null,
            "grid_template_areas": null,
            "grid_template_columns": null,
            "grid_template_rows": null,
            "height": null,
            "justify_content": null,
            "justify_items": null,
            "left": null,
            "margin": null,
            "max_height": null,
            "max_width": null,
            "min_height": null,
            "min_width": null,
            "object_fit": null,
            "object_position": null,
            "order": null,
            "overflow": null,
            "overflow_x": null,
            "overflow_y": null,
            "padding": null,
            "right": null,
            "top": null,
            "visibility": null,
            "width": null
          }
        },
        "30a6078bf4374106be057a5c78f0be8c": {
          "model_module": "@jupyter-widgets/controls",
          "model_name": "DescriptionStyleModel",
          "model_module_version": "1.5.0",
          "state": {
            "_model_module": "@jupyter-widgets/controls",
            "_model_module_version": "1.5.0",
            "_model_name": "DescriptionStyleModel",
            "_view_count": null,
            "_view_module": "@jupyter-widgets/base",
            "_view_module_version": "1.2.0",
            "_view_name": "StyleView",
            "description_width": ""
          }
        },
        "8cb4af265cf24989b7ef2e595b3e0ce2": {
          "model_module": "@jupyter-widgets/base",
          "model_name": "LayoutModel",
          "model_module_version": "1.2.0",
          "state": {
            "_model_module": "@jupyter-widgets/base",
            "_model_module_version": "1.2.0",
            "_model_name": "LayoutModel",
            "_view_count": null,
            "_view_module": "@jupyter-widgets/base",
            "_view_module_version": "1.2.0",
            "_view_name": "LayoutView",
            "align_content": null,
            "align_items": null,
            "align_self": null,
            "border": null,
            "bottom": null,
            "display": null,
            "flex": null,
            "flex_flow": null,
            "grid_area": null,
            "grid_auto_columns": null,
            "grid_auto_flow": null,
            "grid_auto_rows": null,
            "grid_column": null,
            "grid_gap": null,
            "grid_row": null,
            "grid_template_areas": null,
            "grid_template_columns": null,
            "grid_template_rows": null,
            "height": null,
            "justify_content": null,
            "justify_items": null,
            "left": null,
            "margin": null,
            "max_height": null,
            "max_width": null,
            "min_height": null,
            "min_width": null,
            "object_fit": null,
            "object_position": null,
            "order": null,
            "overflow": null,
            "overflow_x": null,
            "overflow_y": null,
            "padding": null,
            "right": null,
            "top": null,
            "visibility": null,
            "width": null
          }
        },
        "524e428991154637b261b7fccab83bb7": {
          "model_module": "@jupyter-widgets/controls",
          "model_name": "ProgressStyleModel",
          "model_module_version": "1.5.0",
          "state": {
            "_model_module": "@jupyter-widgets/controls",
            "_model_module_version": "1.5.0",
            "_model_name": "ProgressStyleModel",
            "_view_count": null,
            "_view_module": "@jupyter-widgets/base",
            "_view_module_version": "1.2.0",
            "_view_name": "StyleView",
            "bar_color": null,
            "description_width": ""
          }
        },
        "8957f5b780d041e4bfdea87acd020f72": {
          "model_module": "@jupyter-widgets/base",
          "model_name": "LayoutModel",
          "model_module_version": "1.2.0",
          "state": {
            "_model_module": "@jupyter-widgets/base",
            "_model_module_version": "1.2.0",
            "_model_name": "LayoutModel",
            "_view_count": null,
            "_view_module": "@jupyter-widgets/base",
            "_view_module_version": "1.2.0",
            "_view_name": "LayoutView",
            "align_content": null,
            "align_items": null,
            "align_self": null,
            "border": null,
            "bottom": null,
            "display": null,
            "flex": null,
            "flex_flow": null,
            "grid_area": null,
            "grid_auto_columns": null,
            "grid_auto_flow": null,
            "grid_auto_rows": null,
            "grid_column": null,
            "grid_gap": null,
            "grid_row": null,
            "grid_template_areas": null,
            "grid_template_columns": null,
            "grid_template_rows": null,
            "height": null,
            "justify_content": null,
            "justify_items": null,
            "left": null,
            "margin": null,
            "max_height": null,
            "max_width": null,
            "min_height": null,
            "min_width": null,
            "object_fit": null,
            "object_position": null,
            "order": null,
            "overflow": null,
            "overflow_x": null,
            "overflow_y": null,
            "padding": null,
            "right": null,
            "top": null,
            "visibility": null,
            "width": null
          }
        },
        "e237ff137fa441a3b9a6e39b13976911": {
          "model_module": "@jupyter-widgets/controls",
          "model_name": "DescriptionStyleModel",
          "model_module_version": "1.5.0",
          "state": {
            "_model_module": "@jupyter-widgets/controls",
            "_model_module_version": "1.5.0",
            "_model_name": "DescriptionStyleModel",
            "_view_count": null,
            "_view_module": "@jupyter-widgets/base",
            "_view_module_version": "1.2.0",
            "_view_name": "StyleView",
            "description_width": ""
          }
        },
        "c325c64f402a4866bc78c16e38112a40": {
          "model_module": "@jupyter-widgets/controls",
          "model_name": "HBoxModel",
          "model_module_version": "1.5.0",
          "state": {
            "_dom_classes": [],
            "_model_module": "@jupyter-widgets/controls",
            "_model_module_version": "1.5.0",
            "_model_name": "HBoxModel",
            "_view_count": null,
            "_view_module": "@jupyter-widgets/controls",
            "_view_module_version": "1.5.0",
            "_view_name": "HBoxView",
            "box_style": "",
            "children": [
              "IPY_MODEL_9c5cd04dfda0407e875dd1fbba16b1ba",
              "IPY_MODEL_e58240a78f39476c99095d56ea953573",
              "IPY_MODEL_179e749b3ecd42d38d6a5c5736e73d72"
            ],
            "layout": "IPY_MODEL_8c422185018541fcb4a959617a795a41"
          }
        },
        "9c5cd04dfda0407e875dd1fbba16b1ba": {
          "model_module": "@jupyter-widgets/controls",
          "model_name": "HTMLModel",
          "model_module_version": "1.5.0",
          "state": {
            "_dom_classes": [],
            "_model_module": "@jupyter-widgets/controls",
            "_model_module_version": "1.5.0",
            "_model_name": "HTMLModel",
            "_view_count": null,
            "_view_module": "@jupyter-widgets/controls",
            "_view_module_version": "1.5.0",
            "_view_name": "HTMLView",
            "description": "",
            "description_tooltip": null,
            "layout": "IPY_MODEL_6684d1970d954054987aed039b104355",
            "placeholder": "​",
            "style": "IPY_MODEL_d4636247ba8a40bba0a4d8d6c3e835ef",
            "value": "Downloading: 100%"
          }
        },
        "e58240a78f39476c99095d56ea953573": {
          "model_module": "@jupyter-widgets/controls",
          "model_name": "FloatProgressModel",
          "model_module_version": "1.5.0",
          "state": {
            "_dom_classes": [],
            "_model_module": "@jupyter-widgets/controls",
            "_model_module_version": "1.5.0",
            "_model_name": "FloatProgressModel",
            "_view_count": null,
            "_view_module": "@jupyter-widgets/controls",
            "_view_module_version": "1.5.0",
            "_view_name": "ProgressView",
            "bar_style": "success",
            "description": "",
            "description_tooltip": null,
            "layout": "IPY_MODEL_8268d11ba5f04fe1a06e00f1d079f060",
            "max": 891691264,
            "min": 0,
            "orientation": "horizontal",
            "style": "IPY_MODEL_0a511d41fc4645d6babe7fc6aba07df8",
            "value": 891691264
          }
        },
        "179e749b3ecd42d38d6a5c5736e73d72": {
          "model_module": "@jupyter-widgets/controls",
          "model_name": "HTMLModel",
          "model_module_version": "1.5.0",
          "state": {
            "_dom_classes": [],
            "_model_module": "@jupyter-widgets/controls",
            "_model_module_version": "1.5.0",
            "_model_name": "HTMLModel",
            "_view_count": null,
            "_view_module": "@jupyter-widgets/controls",
            "_view_module_version": "1.5.0",
            "_view_name": "HTMLView",
            "description": "",
            "description_tooltip": null,
            "layout": "IPY_MODEL_480fe19d81984c28ac450e704602be4f",
            "placeholder": "​",
            "style": "IPY_MODEL_0b20544265f34cc3a72aea535826cd21",
            "value": " 892M/892M [00:21&lt;00:00, 48.7MB/s]"
          }
        },
        "8c422185018541fcb4a959617a795a41": {
          "model_module": "@jupyter-widgets/base",
          "model_name": "LayoutModel",
          "model_module_version": "1.2.0",
          "state": {
            "_model_module": "@jupyter-widgets/base",
            "_model_module_version": "1.2.0",
            "_model_name": "LayoutModel",
            "_view_count": null,
            "_view_module": "@jupyter-widgets/base",
            "_view_module_version": "1.2.0",
            "_view_name": "LayoutView",
            "align_content": null,
            "align_items": null,
            "align_self": null,
            "border": null,
            "bottom": null,
            "display": null,
            "flex": null,
            "flex_flow": null,
            "grid_area": null,
            "grid_auto_columns": null,
            "grid_auto_flow": null,
            "grid_auto_rows": null,
            "grid_column": null,
            "grid_gap": null,
            "grid_row": null,
            "grid_template_areas": null,
            "grid_template_columns": null,
            "grid_template_rows": null,
            "height": null,
            "justify_content": null,
            "justify_items": null,
            "left": null,
            "margin": null,
            "max_height": null,
            "max_width": null,
            "min_height": null,
            "min_width": null,
            "object_fit": null,
            "object_position": null,
            "order": null,
            "overflow": null,
            "overflow_x": null,
            "overflow_y": null,
            "padding": null,
            "right": null,
            "top": null,
            "visibility": null,
            "width": null
          }
        },
        "6684d1970d954054987aed039b104355": {
          "model_module": "@jupyter-widgets/base",
          "model_name": "LayoutModel",
          "model_module_version": "1.2.0",
          "state": {
            "_model_module": "@jupyter-widgets/base",
            "_model_module_version": "1.2.0",
            "_model_name": "LayoutModel",
            "_view_count": null,
            "_view_module": "@jupyter-widgets/base",
            "_view_module_version": "1.2.0",
            "_view_name": "LayoutView",
            "align_content": null,
            "align_items": null,
            "align_self": null,
            "border": null,
            "bottom": null,
            "display": null,
            "flex": null,
            "flex_flow": null,
            "grid_area": null,
            "grid_auto_columns": null,
            "grid_auto_flow": null,
            "grid_auto_rows": null,
            "grid_column": null,
            "grid_gap": null,
            "grid_row": null,
            "grid_template_areas": null,
            "grid_template_columns": null,
            "grid_template_rows": null,
            "height": null,
            "justify_content": null,
            "justify_items": null,
            "left": null,
            "margin": null,
            "max_height": null,
            "max_width": null,
            "min_height": null,
            "min_width": null,
            "object_fit": null,
            "object_position": null,
            "order": null,
            "overflow": null,
            "overflow_x": null,
            "overflow_y": null,
            "padding": null,
            "right": null,
            "top": null,
            "visibility": null,
            "width": null
          }
        },
        "d4636247ba8a40bba0a4d8d6c3e835ef": {
          "model_module": "@jupyter-widgets/controls",
          "model_name": "DescriptionStyleModel",
          "model_module_version": "1.5.0",
          "state": {
            "_model_module": "@jupyter-widgets/controls",
            "_model_module_version": "1.5.0",
            "_model_name": "DescriptionStyleModel",
            "_view_count": null,
            "_view_module": "@jupyter-widgets/base",
            "_view_module_version": "1.2.0",
            "_view_name": "StyleView",
            "description_width": ""
          }
        },
        "8268d11ba5f04fe1a06e00f1d079f060": {
          "model_module": "@jupyter-widgets/base",
          "model_name": "LayoutModel",
          "model_module_version": "1.2.0",
          "state": {
            "_model_module": "@jupyter-widgets/base",
            "_model_module_version": "1.2.0",
            "_model_name": "LayoutModel",
            "_view_count": null,
            "_view_module": "@jupyter-widgets/base",
            "_view_module_version": "1.2.0",
            "_view_name": "LayoutView",
            "align_content": null,
            "align_items": null,
            "align_self": null,
            "border": null,
            "bottom": null,
            "display": null,
            "flex": null,
            "flex_flow": null,
            "grid_area": null,
            "grid_auto_columns": null,
            "grid_auto_flow": null,
            "grid_auto_rows": null,
            "grid_column": null,
            "grid_gap": null,
            "grid_row": null,
            "grid_template_areas": null,
            "grid_template_columns": null,
            "grid_template_rows": null,
            "height": null,
            "justify_content": null,
            "justify_items": null,
            "left": null,
            "margin": null,
            "max_height": null,
            "max_width": null,
            "min_height": null,
            "min_width": null,
            "object_fit": null,
            "object_position": null,
            "order": null,
            "overflow": null,
            "overflow_x": null,
            "overflow_y": null,
            "padding": null,
            "right": null,
            "top": null,
            "visibility": null,
            "width": null
          }
        },
        "0a511d41fc4645d6babe7fc6aba07df8": {
          "model_module": "@jupyter-widgets/controls",
          "model_name": "ProgressStyleModel",
          "model_module_version": "1.5.0",
          "state": {
            "_model_module": "@jupyter-widgets/controls",
            "_model_module_version": "1.5.0",
            "_model_name": "ProgressStyleModel",
            "_view_count": null,
            "_view_module": "@jupyter-widgets/base",
            "_view_module_version": "1.2.0",
            "_view_name": "StyleView",
            "bar_color": null,
            "description_width": ""
          }
        },
        "480fe19d81984c28ac450e704602be4f": {
          "model_module": "@jupyter-widgets/base",
          "model_name": "LayoutModel",
          "model_module_version": "1.2.0",
          "state": {
            "_model_module": "@jupyter-widgets/base",
            "_model_module_version": "1.2.0",
            "_model_name": "LayoutModel",
            "_view_count": null,
            "_view_module": "@jupyter-widgets/base",
            "_view_module_version": "1.2.0",
            "_view_name": "LayoutView",
            "align_content": null,
            "align_items": null,
            "align_self": null,
            "border": null,
            "bottom": null,
            "display": null,
            "flex": null,
            "flex_flow": null,
            "grid_area": null,
            "grid_auto_columns": null,
            "grid_auto_flow": null,
            "grid_auto_rows": null,
            "grid_column": null,
            "grid_gap": null,
            "grid_row": null,
            "grid_template_areas": null,
            "grid_template_columns": null,
            "grid_template_rows": null,
            "height": null,
            "justify_content": null,
            "justify_items": null,
            "left": null,
            "margin": null,
            "max_height": null,
            "max_width": null,
            "min_height": null,
            "min_width": null,
            "object_fit": null,
            "object_position": null,
            "order": null,
            "overflow": null,
            "overflow_x": null,
            "overflow_y": null,
            "padding": null,
            "right": null,
            "top": null,
            "visibility": null,
            "width": null
          }
        },
        "0b20544265f34cc3a72aea535826cd21": {
          "model_module": "@jupyter-widgets/controls",
          "model_name": "DescriptionStyleModel",
          "model_module_version": "1.5.0",
          "state": {
            "_model_module": "@jupyter-widgets/controls",
            "_model_module_version": "1.5.0",
            "_model_name": "DescriptionStyleModel",
            "_view_count": null,
            "_view_module": "@jupyter-widgets/base",
            "_view_module_version": "1.2.0",
            "_view_name": "StyleView",
            "description_width": ""
          }
        },
        "c8b2266f678a442d8aff4ef8bf9c73c1": {
          "model_module": "@jupyter-widgets/controls",
          "model_name": "HBoxModel",
          "model_module_version": "1.5.0",
          "state": {
            "_dom_classes": [],
            "_model_module": "@jupyter-widgets/controls",
            "_model_module_version": "1.5.0",
            "_model_name": "HBoxModel",
            "_view_count": null,
            "_view_module": "@jupyter-widgets/controls",
            "_view_module_version": "1.5.0",
            "_view_name": "HBoxView",
            "box_style": "",
            "children": [
              "IPY_MODEL_1713fd8b420f4bc89552fd62eb9baf50",
              "IPY_MODEL_b80c935b2edf47e7ae5e3e89323009e6",
              "IPY_MODEL_55b92194646044dd8edefc4f40852f46"
            ],
            "layout": "IPY_MODEL_9e38410a721e4973aa6ead21a8ae2e2c"
          }
        },
        "1713fd8b420f4bc89552fd62eb9baf50": {
          "model_module": "@jupyter-widgets/controls",
          "model_name": "HTMLModel",
          "model_module_version": "1.5.0",
          "state": {
            "_dom_classes": [],
            "_model_module": "@jupyter-widgets/controls",
            "_model_module_version": "1.5.0",
            "_model_name": "HTMLModel",
            "_view_count": null,
            "_view_module": "@jupyter-widgets/controls",
            "_view_module_version": "1.5.0",
            "_view_name": "HTMLView",
            "description": "",
            "description_tooltip": null,
            "layout": "IPY_MODEL_a3d75cf466f74b0f9e993937d3c02f4a",
            "placeholder": "​",
            "style": "IPY_MODEL_a3b911a8e99c4e31b3c390a6aa895255",
            "value": "Downloading: 100%"
          }
        },
        "b80c935b2edf47e7ae5e3e89323009e6": {
          "model_module": "@jupyter-widgets/controls",
          "model_name": "FloatProgressModel",
          "model_module_version": "1.5.0",
          "state": {
            "_dom_classes": [],
            "_model_module": "@jupyter-widgets/controls",
            "_model_module_version": "1.5.0",
            "_model_name": "FloatProgressModel",
            "_view_count": null,
            "_view_module": "@jupyter-widgets/controls",
            "_view_module_version": "1.5.0",
            "_view_name": "ProgressView",
            "bar_style": "success",
            "description": "",
            "description_tooltip": null,
            "layout": "IPY_MODEL_2f15e53667554db29c7e353c97168032",
            "max": 791656,
            "min": 0,
            "orientation": "horizontal",
            "style": "IPY_MODEL_63a966af108d42519b3648f5721ca2e8",
            "value": 791656
          }
        },
        "55b92194646044dd8edefc4f40852f46": {
          "model_module": "@jupyter-widgets/controls",
          "model_name": "HTMLModel",
          "model_module_version": "1.5.0",
          "state": {
            "_dom_classes": [],
            "_model_module": "@jupyter-widgets/controls",
            "_model_module_version": "1.5.0",
            "_model_name": "HTMLModel",
            "_view_count": null,
            "_view_module": "@jupyter-widgets/controls",
            "_view_module_version": "1.5.0",
            "_view_name": "HTMLView",
            "description": "",
            "description_tooltip": null,
            "layout": "IPY_MODEL_b96fd62b3a994048a1059e3fd18423dd",
            "placeholder": "​",
            "style": "IPY_MODEL_43d31b7ddd8a4899bf0d081d0d3360b5",
            "value": " 792k/792k [00:00&lt;00:00, 18.5MB/s]"
          }
        },
        "9e38410a721e4973aa6ead21a8ae2e2c": {
          "model_module": "@jupyter-widgets/base",
          "model_name": "LayoutModel",
          "model_module_version": "1.2.0",
          "state": {
            "_model_module": "@jupyter-widgets/base",
            "_model_module_version": "1.2.0",
            "_model_name": "LayoutModel",
            "_view_count": null,
            "_view_module": "@jupyter-widgets/base",
            "_view_module_version": "1.2.0",
            "_view_name": "LayoutView",
            "align_content": null,
            "align_items": null,
            "align_self": null,
            "border": null,
            "bottom": null,
            "display": null,
            "flex": null,
            "flex_flow": null,
            "grid_area": null,
            "grid_auto_columns": null,
            "grid_auto_flow": null,
            "grid_auto_rows": null,
            "grid_column": null,
            "grid_gap": null,
            "grid_row": null,
            "grid_template_areas": null,
            "grid_template_columns": null,
            "grid_template_rows": null,
            "height": null,
            "justify_content": null,
            "justify_items": null,
            "left": null,
            "margin": null,
            "max_height": null,
            "max_width": null,
            "min_height": null,
            "min_width": null,
            "object_fit": null,
            "object_position": null,
            "order": null,
            "overflow": null,
            "overflow_x": null,
            "overflow_y": null,
            "padding": null,
            "right": null,
            "top": null,
            "visibility": null,
            "width": null
          }
        },
        "a3d75cf466f74b0f9e993937d3c02f4a": {
          "model_module": "@jupyter-widgets/base",
          "model_name": "LayoutModel",
          "model_module_version": "1.2.0",
          "state": {
            "_model_module": "@jupyter-widgets/base",
            "_model_module_version": "1.2.0",
            "_model_name": "LayoutModel",
            "_view_count": null,
            "_view_module": "@jupyter-widgets/base",
            "_view_module_version": "1.2.0",
            "_view_name": "LayoutView",
            "align_content": null,
            "align_items": null,
            "align_self": null,
            "border": null,
            "bottom": null,
            "display": null,
            "flex": null,
            "flex_flow": null,
            "grid_area": null,
            "grid_auto_columns": null,
            "grid_auto_flow": null,
            "grid_auto_rows": null,
            "grid_column": null,
            "grid_gap": null,
            "grid_row": null,
            "grid_template_areas": null,
            "grid_template_columns": null,
            "grid_template_rows": null,
            "height": null,
            "justify_content": null,
            "justify_items": null,
            "left": null,
            "margin": null,
            "max_height": null,
            "max_width": null,
            "min_height": null,
            "min_width": null,
            "object_fit": null,
            "object_position": null,
            "order": null,
            "overflow": null,
            "overflow_x": null,
            "overflow_y": null,
            "padding": null,
            "right": null,
            "top": null,
            "visibility": null,
            "width": null
          }
        },
        "a3b911a8e99c4e31b3c390a6aa895255": {
          "model_module": "@jupyter-widgets/controls",
          "model_name": "DescriptionStyleModel",
          "model_module_version": "1.5.0",
          "state": {
            "_model_module": "@jupyter-widgets/controls",
            "_model_module_version": "1.5.0",
            "_model_name": "DescriptionStyleModel",
            "_view_count": null,
            "_view_module": "@jupyter-widgets/base",
            "_view_module_version": "1.2.0",
            "_view_name": "StyleView",
            "description_width": ""
          }
        },
        "2f15e53667554db29c7e353c97168032": {
          "model_module": "@jupyter-widgets/base",
          "model_name": "LayoutModel",
          "model_module_version": "1.2.0",
          "state": {
            "_model_module": "@jupyter-widgets/base",
            "_model_module_version": "1.2.0",
            "_model_name": "LayoutModel",
            "_view_count": null,
            "_view_module": "@jupyter-widgets/base",
            "_view_module_version": "1.2.0",
            "_view_name": "LayoutView",
            "align_content": null,
            "align_items": null,
            "align_self": null,
            "border": null,
            "bottom": null,
            "display": null,
            "flex": null,
            "flex_flow": null,
            "grid_area": null,
            "grid_auto_columns": null,
            "grid_auto_flow": null,
            "grid_auto_rows": null,
            "grid_column": null,
            "grid_gap": null,
            "grid_row": null,
            "grid_template_areas": null,
            "grid_template_columns": null,
            "grid_template_rows": null,
            "height": null,
            "justify_content": null,
            "justify_items": null,
            "left": null,
            "margin": null,
            "max_height": null,
            "max_width": null,
            "min_height": null,
            "min_width": null,
            "object_fit": null,
            "object_position": null,
            "order": null,
            "overflow": null,
            "overflow_x": null,
            "overflow_y": null,
            "padding": null,
            "right": null,
            "top": null,
            "visibility": null,
            "width": null
          }
        },
        "63a966af108d42519b3648f5721ca2e8": {
          "model_module": "@jupyter-widgets/controls",
          "model_name": "ProgressStyleModel",
          "model_module_version": "1.5.0",
          "state": {
            "_model_module": "@jupyter-widgets/controls",
            "_model_module_version": "1.5.0",
            "_model_name": "ProgressStyleModel",
            "_view_count": null,
            "_view_module": "@jupyter-widgets/base",
            "_view_module_version": "1.2.0",
            "_view_name": "StyleView",
            "bar_color": null,
            "description_width": ""
          }
        },
        "b96fd62b3a994048a1059e3fd18423dd": {
          "model_module": "@jupyter-widgets/base",
          "model_name": "LayoutModel",
          "model_module_version": "1.2.0",
          "state": {
            "_model_module": "@jupyter-widgets/base",
            "_model_module_version": "1.2.0",
            "_model_name": "LayoutModel",
            "_view_count": null,
            "_view_module": "@jupyter-widgets/base",
            "_view_module_version": "1.2.0",
            "_view_name": "LayoutView",
            "align_content": null,
            "align_items": null,
            "align_self": null,
            "border": null,
            "bottom": null,
            "display": null,
            "flex": null,
            "flex_flow": null,
            "grid_area": null,
            "grid_auto_columns": null,
            "grid_auto_flow": null,
            "grid_auto_rows": null,
            "grid_column": null,
            "grid_gap": null,
            "grid_row": null,
            "grid_template_areas": null,
            "grid_template_columns": null,
            "grid_template_rows": null,
            "height": null,
            "justify_content": null,
            "justify_items": null,
            "left": null,
            "margin": null,
            "max_height": null,
            "max_width": null,
            "min_height": null,
            "min_width": null,
            "object_fit": null,
            "object_position": null,
            "order": null,
            "overflow": null,
            "overflow_x": null,
            "overflow_y": null,
            "padding": null,
            "right": null,
            "top": null,
            "visibility": null,
            "width": null
          }
        },
        "43d31b7ddd8a4899bf0d081d0d3360b5": {
          "model_module": "@jupyter-widgets/controls",
          "model_name": "DescriptionStyleModel",
          "model_module_version": "1.5.0",
          "state": {
            "_model_module": "@jupyter-widgets/controls",
            "_model_module_version": "1.5.0",
            "_model_name": "DescriptionStyleModel",
            "_view_count": null,
            "_view_module": "@jupyter-widgets/base",
            "_view_module_version": "1.2.0",
            "_view_name": "StyleView",
            "description_width": ""
          }
        },
        "9087f47f99de4d709880295764fd1b5d": {
          "model_module": "@jupyter-widgets/controls",
          "model_name": "HBoxModel",
          "model_module_version": "1.5.0",
          "state": {
            "_dom_classes": [],
            "_model_module": "@jupyter-widgets/controls",
            "_model_module_version": "1.5.0",
            "_model_name": "HBoxModel",
            "_view_count": null,
            "_view_module": "@jupyter-widgets/controls",
            "_view_module_version": "1.5.0",
            "_view_name": "HBoxView",
            "box_style": "",
            "children": [
              "IPY_MODEL_dde2b67f2b054ad1a25657bf63593ac2",
              "IPY_MODEL_3af573bf9718456799e477c636352e96",
              "IPY_MODEL_6d12b1fff955447399874ea49f91f6ff"
            ],
            "layout": "IPY_MODEL_09e3f7ff1a484e4785345a3ad26fc8a3"
          }
        },
        "dde2b67f2b054ad1a25657bf63593ac2": {
          "model_module": "@jupyter-widgets/controls",
          "model_name": "HTMLModel",
          "model_module_version": "1.5.0",
          "state": {
            "_dom_classes": [],
            "_model_module": "@jupyter-widgets/controls",
            "_model_module_version": "1.5.0",
            "_model_name": "HTMLModel",
            "_view_count": null,
            "_view_module": "@jupyter-widgets/controls",
            "_view_module_version": "1.5.0",
            "_view_name": "HTMLView",
            "description": "",
            "description_tooltip": null,
            "layout": "IPY_MODEL_18ed62e97baf40f082e030e0b72318c7",
            "placeholder": "​",
            "style": "IPY_MODEL_559adf5c5bb64a47bc91f0939c116284",
            "value": "Downloading: 100%"
          }
        },
        "3af573bf9718456799e477c636352e96": {
          "model_module": "@jupyter-widgets/controls",
          "model_name": "FloatProgressModel",
          "model_module_version": "1.5.0",
          "state": {
            "_dom_classes": [],
            "_model_module": "@jupyter-widgets/controls",
            "_model_module_version": "1.5.0",
            "_model_name": "FloatProgressModel",
            "_view_count": null,
            "_view_module": "@jupyter-widgets/controls",
            "_view_module_version": "1.5.0",
            "_view_name": "ProgressView",
            "bar_style": "success",
            "description": "",
            "description_tooltip": null,
            "layout": "IPY_MODEL_7b7a9d1591174c8782895bfe90883490",
            "max": 1786,
            "min": 0,
            "orientation": "horizontal",
            "style": "IPY_MODEL_78d6d0386edb4f79aeb1bd4a40bda116",
            "value": 1786
          }
        },
        "6d12b1fff955447399874ea49f91f6ff": {
          "model_module": "@jupyter-widgets/controls",
          "model_name": "HTMLModel",
          "model_module_version": "1.5.0",
          "state": {
            "_dom_classes": [],
            "_model_module": "@jupyter-widgets/controls",
            "_model_module_version": "1.5.0",
            "_model_name": "HTMLModel",
            "_view_count": null,
            "_view_module": "@jupyter-widgets/controls",
            "_view_module_version": "1.5.0",
            "_view_name": "HTMLView",
            "description": "",
            "description_tooltip": null,
            "layout": "IPY_MODEL_afc1e2f0953a45d9a7cc9886ab788b1f",
            "placeholder": "​",
            "style": "IPY_MODEL_f4f3c0af7e6a495a907bab5642f69417",
            "value": " 1.79k/1.79k [00:00&lt;00:00, 101kB/s]"
          }
        },
        "09e3f7ff1a484e4785345a3ad26fc8a3": {
          "model_module": "@jupyter-widgets/base",
          "model_name": "LayoutModel",
          "model_module_version": "1.2.0",
          "state": {
            "_model_module": "@jupyter-widgets/base",
            "_model_module_version": "1.2.0",
            "_model_name": "LayoutModel",
            "_view_count": null,
            "_view_module": "@jupyter-widgets/base",
            "_view_module_version": "1.2.0",
            "_view_name": "LayoutView",
            "align_content": null,
            "align_items": null,
            "align_self": null,
            "border": null,
            "bottom": null,
            "display": null,
            "flex": null,
            "flex_flow": null,
            "grid_area": null,
            "grid_auto_columns": null,
            "grid_auto_flow": null,
            "grid_auto_rows": null,
            "grid_column": null,
            "grid_gap": null,
            "grid_row": null,
            "grid_template_areas": null,
            "grid_template_columns": null,
            "grid_template_rows": null,
            "height": null,
            "justify_content": null,
            "justify_items": null,
            "left": null,
            "margin": null,
            "max_height": null,
            "max_width": null,
            "min_height": null,
            "min_width": null,
            "object_fit": null,
            "object_position": null,
            "order": null,
            "overflow": null,
            "overflow_x": null,
            "overflow_y": null,
            "padding": null,
            "right": null,
            "top": null,
            "visibility": null,
            "width": null
          }
        },
        "18ed62e97baf40f082e030e0b72318c7": {
          "model_module": "@jupyter-widgets/base",
          "model_name": "LayoutModel",
          "model_module_version": "1.2.0",
          "state": {
            "_model_module": "@jupyter-widgets/base",
            "_model_module_version": "1.2.0",
            "_model_name": "LayoutModel",
            "_view_count": null,
            "_view_module": "@jupyter-widgets/base",
            "_view_module_version": "1.2.0",
            "_view_name": "LayoutView",
            "align_content": null,
            "align_items": null,
            "align_self": null,
            "border": null,
            "bottom": null,
            "display": null,
            "flex": null,
            "flex_flow": null,
            "grid_area": null,
            "grid_auto_columns": null,
            "grid_auto_flow": null,
            "grid_auto_rows": null,
            "grid_column": null,
            "grid_gap": null,
            "grid_row": null,
            "grid_template_areas": null,
            "grid_template_columns": null,
            "grid_template_rows": null,
            "height": null,
            "justify_content": null,
            "justify_items": null,
            "left": null,
            "margin": null,
            "max_height": null,
            "max_width": null,
            "min_height": null,
            "min_width": null,
            "object_fit": null,
            "object_position": null,
            "order": null,
            "overflow": null,
            "overflow_x": null,
            "overflow_y": null,
            "padding": null,
            "right": null,
            "top": null,
            "visibility": null,
            "width": null
          }
        },
        "559adf5c5bb64a47bc91f0939c116284": {
          "model_module": "@jupyter-widgets/controls",
          "model_name": "DescriptionStyleModel",
          "model_module_version": "1.5.0",
          "state": {
            "_model_module": "@jupyter-widgets/controls",
            "_model_module_version": "1.5.0",
            "_model_name": "DescriptionStyleModel",
            "_view_count": null,
            "_view_module": "@jupyter-widgets/base",
            "_view_module_version": "1.2.0",
            "_view_name": "StyleView",
            "description_width": ""
          }
        },
        "7b7a9d1591174c8782895bfe90883490": {
          "model_module": "@jupyter-widgets/base",
          "model_name": "LayoutModel",
          "model_module_version": "1.2.0",
          "state": {
            "_model_module": "@jupyter-widgets/base",
            "_model_module_version": "1.2.0",
            "_model_name": "LayoutModel",
            "_view_count": null,
            "_view_module": "@jupyter-widgets/base",
            "_view_module_version": "1.2.0",
            "_view_name": "LayoutView",
            "align_content": null,
            "align_items": null,
            "align_self": null,
            "border": null,
            "bottom": null,
            "display": null,
            "flex": null,
            "flex_flow": null,
            "grid_area": null,
            "grid_auto_columns": null,
            "grid_auto_flow": null,
            "grid_auto_rows": null,
            "grid_column": null,
            "grid_gap": null,
            "grid_row": null,
            "grid_template_areas": null,
            "grid_template_columns": null,
            "grid_template_rows": null,
            "height": null,
            "justify_content": null,
            "justify_items": null,
            "left": null,
            "margin": null,
            "max_height": null,
            "max_width": null,
            "min_height": null,
            "min_width": null,
            "object_fit": null,
            "object_position": null,
            "order": null,
            "overflow": null,
            "overflow_x": null,
            "overflow_y": null,
            "padding": null,
            "right": null,
            "top": null,
            "visibility": null,
            "width": null
          }
        },
        "78d6d0386edb4f79aeb1bd4a40bda116": {
          "model_module": "@jupyter-widgets/controls",
          "model_name": "ProgressStyleModel",
          "model_module_version": "1.5.0",
          "state": {
            "_model_module": "@jupyter-widgets/controls",
            "_model_module_version": "1.5.0",
            "_model_name": "ProgressStyleModel",
            "_view_count": null,
            "_view_module": "@jupyter-widgets/base",
            "_view_module_version": "1.2.0",
            "_view_name": "StyleView",
            "bar_color": null,
            "description_width": ""
          }
        },
        "afc1e2f0953a45d9a7cc9886ab788b1f": {
          "model_module": "@jupyter-widgets/base",
          "model_name": "LayoutModel",
          "model_module_version": "1.2.0",
          "state": {
            "_model_module": "@jupyter-widgets/base",
            "_model_module_version": "1.2.0",
            "_model_name": "LayoutModel",
            "_view_count": null,
            "_view_module": "@jupyter-widgets/base",
            "_view_module_version": "1.2.0",
            "_view_name": "LayoutView",
            "align_content": null,
            "align_items": null,
            "align_self": null,
            "border": null,
            "bottom": null,
            "display": null,
            "flex": null,
            "flex_flow": null,
            "grid_area": null,
            "grid_auto_columns": null,
            "grid_auto_flow": null,
            "grid_auto_rows": null,
            "grid_column": null,
            "grid_gap": null,
            "grid_row": null,
            "grid_template_areas": null,
            "grid_template_columns": null,
            "grid_template_rows": null,
            "height": null,
            "justify_content": null,
            "justify_items": null,
            "left": null,
            "margin": null,
            "max_height": null,
            "max_width": null,
            "min_height": null,
            "min_width": null,
            "object_fit": null,
            "object_position": null,
            "order": null,
            "overflow": null,
            "overflow_x": null,
            "overflow_y": null,
            "padding": null,
            "right": null,
            "top": null,
            "visibility": null,
            "width": null
          }
        },
        "f4f3c0af7e6a495a907bab5642f69417": {
          "model_module": "@jupyter-widgets/controls",
          "model_name": "DescriptionStyleModel",
          "model_module_version": "1.5.0",
          "state": {
            "_model_module": "@jupyter-widgets/controls",
            "_model_module_version": "1.5.0",
            "_model_name": "DescriptionStyleModel",
            "_view_count": null,
            "_view_module": "@jupyter-widgets/base",
            "_view_module_version": "1.2.0",
            "_view_name": "StyleView",
            "description_width": ""
          }
        },
        "24ca686dc076425186fa1822e353eb86": {
          "model_module": "@jupyter-widgets/controls",
          "model_name": "HBoxModel",
          "model_module_version": "1.5.0",
          "state": {
            "_dom_classes": [],
            "_model_module": "@jupyter-widgets/controls",
            "_model_module_version": "1.5.0",
            "_model_name": "HBoxModel",
            "_view_count": null,
            "_view_module": "@jupyter-widgets/controls",
            "_view_module_version": "1.5.0",
            "_view_name": "HBoxView",
            "box_style": "",
            "children": [
              "IPY_MODEL_5ee800804728410b9444342bf45c0f27",
              "IPY_MODEL_caf59c91c78f4b5dbd7c72a27a2cb2fb",
              "IPY_MODEL_14825391351e42cbb9c167679e984c47"
            ],
            "layout": "IPY_MODEL_f0b58878cc4645f4b68002d0a535b183"
          }
        },
        "5ee800804728410b9444342bf45c0f27": {
          "model_module": "@jupyter-widgets/controls",
          "model_name": "HTMLModel",
          "model_module_version": "1.5.0",
          "state": {
            "_dom_classes": [],
            "_model_module": "@jupyter-widgets/controls",
            "_model_module_version": "1.5.0",
            "_model_name": "HTMLModel",
            "_view_count": null,
            "_view_module": "@jupyter-widgets/controls",
            "_view_module_version": "1.5.0",
            "_view_name": "HTMLView",
            "description": "",
            "description_tooltip": null,
            "layout": "IPY_MODEL_585d83138f8342858d170ade1f5f9219",
            "placeholder": "​",
            "style": "IPY_MODEL_8b1e2aacbb4f4fc5af930503373c9f15",
            "value": "Downloading: 100%"
          }
        },
        "caf59c91c78f4b5dbd7c72a27a2cb2fb": {
          "model_module": "@jupyter-widgets/controls",
          "model_name": "FloatProgressModel",
          "model_module_version": "1.5.0",
          "state": {
            "_dom_classes": [],
            "_model_module": "@jupyter-widgets/controls",
            "_model_module_version": "1.5.0",
            "_model_name": "FloatProgressModel",
            "_view_count": null,
            "_view_module": "@jupyter-widgets/controls",
            "_view_module_version": "1.5.0",
            "_view_name": "ProgressView",
            "bar_style": "success",
            "description": "",
            "description_tooltip": null,
            "layout": "IPY_MODEL_548d9eb5efbe43d2a1222584d1c85d80",
            "max": 25,
            "min": 0,
            "orientation": "horizontal",
            "style": "IPY_MODEL_ad164e0fef3a4bca9a1b9a2d883e9f54",
            "value": 25
          }
        },
        "14825391351e42cbb9c167679e984c47": {
          "model_module": "@jupyter-widgets/controls",
          "model_name": "HTMLModel",
          "model_module_version": "1.5.0",
          "state": {
            "_dom_classes": [],
            "_model_module": "@jupyter-widgets/controls",
            "_model_module_version": "1.5.0",
            "_model_name": "HTMLModel",
            "_view_count": null,
            "_view_module": "@jupyter-widgets/controls",
            "_view_module_version": "1.5.0",
            "_view_name": "HTMLView",
            "description": "",
            "description_tooltip": null,
            "layout": "IPY_MODEL_3ef7a6d1bdab47bdb51ec394b929ccba",
            "placeholder": "​",
            "style": "IPY_MODEL_e49a2841a0784bd9b55406bf0652c8ea",
            "value": " 25.0/25.0 [00:00&lt;00:00, 1.30kB/s]"
          }
        },
        "f0b58878cc4645f4b68002d0a535b183": {
          "model_module": "@jupyter-widgets/base",
          "model_name": "LayoutModel",
          "model_module_version": "1.2.0",
          "state": {
            "_model_module": "@jupyter-widgets/base",
            "_model_module_version": "1.2.0",
            "_model_name": "LayoutModel",
            "_view_count": null,
            "_view_module": "@jupyter-widgets/base",
            "_view_module_version": "1.2.0",
            "_view_name": "LayoutView",
            "align_content": null,
            "align_items": null,
            "align_self": null,
            "border": null,
            "bottom": null,
            "display": null,
            "flex": null,
            "flex_flow": null,
            "grid_area": null,
            "grid_auto_columns": null,
            "grid_auto_flow": null,
            "grid_auto_rows": null,
            "grid_column": null,
            "grid_gap": null,
            "grid_row": null,
            "grid_template_areas": null,
            "grid_template_columns": null,
            "grid_template_rows": null,
            "height": null,
            "justify_content": null,
            "justify_items": null,
            "left": null,
            "margin": null,
            "max_height": null,
            "max_width": null,
            "min_height": null,
            "min_width": null,
            "object_fit": null,
            "object_position": null,
            "order": null,
            "overflow": null,
            "overflow_x": null,
            "overflow_y": null,
            "padding": null,
            "right": null,
            "top": null,
            "visibility": null,
            "width": null
          }
        },
        "585d83138f8342858d170ade1f5f9219": {
          "model_module": "@jupyter-widgets/base",
          "model_name": "LayoutModel",
          "model_module_version": "1.2.0",
          "state": {
            "_model_module": "@jupyter-widgets/base",
            "_model_module_version": "1.2.0",
            "_model_name": "LayoutModel",
            "_view_count": null,
            "_view_module": "@jupyter-widgets/base",
            "_view_module_version": "1.2.0",
            "_view_name": "LayoutView",
            "align_content": null,
            "align_items": null,
            "align_self": null,
            "border": null,
            "bottom": null,
            "display": null,
            "flex": null,
            "flex_flow": null,
            "grid_area": null,
            "grid_auto_columns": null,
            "grid_auto_flow": null,
            "grid_auto_rows": null,
            "grid_column": null,
            "grid_gap": null,
            "grid_row": null,
            "grid_template_areas": null,
            "grid_template_columns": null,
            "grid_template_rows": null,
            "height": null,
            "justify_content": null,
            "justify_items": null,
            "left": null,
            "margin": null,
            "max_height": null,
            "max_width": null,
            "min_height": null,
            "min_width": null,
            "object_fit": null,
            "object_position": null,
            "order": null,
            "overflow": null,
            "overflow_x": null,
            "overflow_y": null,
            "padding": null,
            "right": null,
            "top": null,
            "visibility": null,
            "width": null
          }
        },
        "8b1e2aacbb4f4fc5af930503373c9f15": {
          "model_module": "@jupyter-widgets/controls",
          "model_name": "DescriptionStyleModel",
          "model_module_version": "1.5.0",
          "state": {
            "_model_module": "@jupyter-widgets/controls",
            "_model_module_version": "1.5.0",
            "_model_name": "DescriptionStyleModel",
            "_view_count": null,
            "_view_module": "@jupyter-widgets/base",
            "_view_module_version": "1.2.0",
            "_view_name": "StyleView",
            "description_width": ""
          }
        },
        "548d9eb5efbe43d2a1222584d1c85d80": {
          "model_module": "@jupyter-widgets/base",
          "model_name": "LayoutModel",
          "model_module_version": "1.2.0",
          "state": {
            "_model_module": "@jupyter-widgets/base",
            "_model_module_version": "1.2.0",
            "_model_name": "LayoutModel",
            "_view_count": null,
            "_view_module": "@jupyter-widgets/base",
            "_view_module_version": "1.2.0",
            "_view_name": "LayoutView",
            "align_content": null,
            "align_items": null,
            "align_self": null,
            "border": null,
            "bottom": null,
            "display": null,
            "flex": null,
            "flex_flow": null,
            "grid_area": null,
            "grid_auto_columns": null,
            "grid_auto_flow": null,
            "grid_auto_rows": null,
            "grid_column": null,
            "grid_gap": null,
            "grid_row": null,
            "grid_template_areas": null,
            "grid_template_columns": null,
            "grid_template_rows": null,
            "height": null,
            "justify_content": null,
            "justify_items": null,
            "left": null,
            "margin": null,
            "max_height": null,
            "max_width": null,
            "min_height": null,
            "min_width": null,
            "object_fit": null,
            "object_position": null,
            "order": null,
            "overflow": null,
            "overflow_x": null,
            "overflow_y": null,
            "padding": null,
            "right": null,
            "top": null,
            "visibility": null,
            "width": null
          }
        },
        "ad164e0fef3a4bca9a1b9a2d883e9f54": {
          "model_module": "@jupyter-widgets/controls",
          "model_name": "ProgressStyleModel",
          "model_module_version": "1.5.0",
          "state": {
            "_model_module": "@jupyter-widgets/controls",
            "_model_module_version": "1.5.0",
            "_model_name": "ProgressStyleModel",
            "_view_count": null,
            "_view_module": "@jupyter-widgets/base",
            "_view_module_version": "1.2.0",
            "_view_name": "StyleView",
            "bar_color": null,
            "description_width": ""
          }
        },
        "3ef7a6d1bdab47bdb51ec394b929ccba": {
          "model_module": "@jupyter-widgets/base",
          "model_name": "LayoutModel",
          "model_module_version": "1.2.0",
          "state": {
            "_model_module": "@jupyter-widgets/base",
            "_model_module_version": "1.2.0",
            "_model_name": "LayoutModel",
            "_view_count": null,
            "_view_module": "@jupyter-widgets/base",
            "_view_module_version": "1.2.0",
            "_view_name": "LayoutView",
            "align_content": null,
            "align_items": null,
            "align_self": null,
            "border": null,
            "bottom": null,
            "display": null,
            "flex": null,
            "flex_flow": null,
            "grid_area": null,
            "grid_auto_columns": null,
            "grid_auto_flow": null,
            "grid_auto_rows": null,
            "grid_column": null,
            "grid_gap": null,
            "grid_row": null,
            "grid_template_areas": null,
            "grid_template_columns": null,
            "grid_template_rows": null,
            "height": null,
            "justify_content": null,
            "justify_items": null,
            "left": null,
            "margin": null,
            "max_height": null,
            "max_width": null,
            "min_height": null,
            "min_width": null,
            "object_fit": null,
            "object_position": null,
            "order": null,
            "overflow": null,
            "overflow_x": null,
            "overflow_y": null,
            "padding": null,
            "right": null,
            "top": null,
            "visibility": null,
            "width": null
          }
        },
        "e49a2841a0784bd9b55406bf0652c8ea": {
          "model_module": "@jupyter-widgets/controls",
          "model_name": "DescriptionStyleModel",
          "model_module_version": "1.5.0",
          "state": {
            "_model_module": "@jupyter-widgets/controls",
            "_model_module_version": "1.5.0",
            "_model_name": "DescriptionStyleModel",
            "_view_count": null,
            "_view_module": "@jupyter-widgets/base",
            "_view_module_version": "1.2.0",
            "_view_name": "StyleView",
            "description_width": ""
          }
        }
      }
    }
  },
  "cells": [
    {
      "cell_type": "code",
      "execution_count": null,
      "metadata": {
        "colab": {
          "base_uri": "https://localhost:8080/"
        },
        "id": "S0h75xNcP2IR",
        "outputId": "aaa4c81e-527d-4962-b099-6cd7191b20bb"
      },
      "outputs": [
        {
          "output_type": "stream",
          "name": "stdout",
          "text": [
            "Cloning into 'pygaggle'...\n",
            "remote: Enumerating objects: 1528, done.\u001b[K\n",
            "remote: Counting objects: 100% (598/598), done.\u001b[K\n",
            "remote: Compressing objects: 100% (209/209), done.\u001b[K\n",
            "remote: Total 1528 (delta 503), reused 408 (delta 389), pack-reused 930\u001b[K\n",
            "Receiving objects: 100% (1528/1528), 503.25 KiB | 20.13 MiB/s, done.\n",
            "Resolving deltas: 100% (977/977), done.\n",
            "Submodule 'tools' (https://github.com/castorini/anserini-tools.git) registered for path 'tools'\n",
            "Cloning into '/content/pygaggle/tools'...\n",
            "remote: Enumerating objects: 707, done.        \n",
            "remote: Counting objects: 100% (464/464), done.        \n",
            "remote: Compressing objects: 100% (405/405), done.        \n",
            "remote: Total 707 (delta 68), reused 447 (delta 58), pack-reused 243        \n",
            "Receiving objects: 100% (707/707), 57.74 MiB | 30.24 MiB/s, done.\n",
            "Resolving deltas: 100% (152/152), done.\n",
            "Submodule path 'tools': checked out '808f48711b5e172da6aec8b1855518c8ea65489f'\n",
            "/content/pygaggle\n"
          ]
        }
      ],
      "source": [
        "! git clone --recursive https://github.com/castorini/pygaggle.git\n",
        "\n",
        "%cd pygaggle/"
      ]
    },
    {
      "cell_type": "code",
      "source": [
        "!pip install /content/pygaggle"
      ],
      "metadata": {
        "colab": {
          "base_uri": "https://localhost:8080/",
          "height": 1000
        },
        "id": "RMo9u0FdRlSR",
        "outputId": "e9b2d80b-1134-481a-82eb-1e347325e88b"
      },
      "execution_count": null,
      "outputs": [
        {
          "output_type": "stream",
          "name": "stdout",
          "text": [
            "Looking in indexes: https://pypi.org/simple, https://us-python.pkg.dev/colab-wheels/public/simple/\n",
            "Processing /content/pygaggle\n",
            "\u001b[33m  DEPRECATION: A future pip version will change local packages to be built in-place without first copying to a temporary directory. We recommend you use --use-feature=in-tree-build to test your packages with this new behavior before it becomes the default.\n",
            "   pip 21.3 will remove support for this functionality. You can find discussion regarding this at https://github.com/pypa/pip/issues/7555.\u001b[0m\n",
            "Collecting coloredlogs==14.0\n",
            "  Downloading coloredlogs-14.0-py2.py3-none-any.whl (43 kB)\n",
            "\u001b[K     |████████████████████████████████| 43 kB 2.7 MB/s \n",
            "\u001b[?25hRequirement already satisfied: numpy>=1.18 in /usr/local/lib/python3.8/dist-packages (from pygaggle==0.0.3.1) (1.21.6)\n",
            "Collecting pydantic==1.7.4\n",
            "  Downloading pydantic-1.7.4-cp38-cp38-manylinux2014_x86_64.whl (12.3 MB)\n",
            "\u001b[K     |████████████████████████████████| 12.3 MB 56.8 MB/s \n",
            "\u001b[?25hCollecting pyserini>=0.16.0\n",
            "  Downloading pyserini-0.19.2-py3-none-any.whl (130.7 MB)\n",
            "\u001b[K     |████████████████████████████████| 130.7 MB 10 kB/s \n",
            "\u001b[?25hCollecting scikit-learn==0.24.2\n",
            "  Downloading scikit_learn-0.24.2-cp38-cp38-manylinux2010_x86_64.whl (24.9 MB)\n",
            "\u001b[K     |████████████████████████████████| 24.9 MB 1.3 MB/s \n",
            "\u001b[?25hCollecting scipy==1.5.4\n",
            "  Downloading scipy-1.5.4-cp38-cp38-manylinux1_x86_64.whl (25.8 MB)\n",
            "\u001b[K     |████████████████████████████████| 25.8 MB 76.6 MB/s \n",
            "\u001b[?25hRequirement already satisfied: spacy>=3.2.1 in /usr/local/lib/python3.8/dist-packages (from pygaggle==0.0.3.1) (3.4.4)\n",
            "Collecting tensorboard==2.5.0\n",
            "  Downloading tensorboard-2.5.0-py3-none-any.whl (6.0 MB)\n",
            "\u001b[K     |████████████████████████████████| 6.0 MB 60.4 MB/s \n",
            "\u001b[?25hCollecting tensorflow==2.5.0\n",
            "  Downloading tensorflow-2.5.0-cp38-cp38-manylinux2010_x86_64.whl (454.4 MB)\n",
            "\u001b[K     |████████████████████████████████| 454.4 MB 40 kB/s \n",
            "\u001b[?25hCollecting tokenizers==0.10.2\n",
            "  Downloading tokenizers-0.10.2-cp38-cp38-manylinux2010_x86_64.whl (3.3 MB)\n",
            "\u001b[K     |████████████████████████████████| 3.3 MB 61.7 MB/s \n",
            "\u001b[?25hCollecting tqdm==4.56.0\n",
            "  Downloading tqdm-4.56.0-py2.py3-none-any.whl (72 kB)\n",
            "\u001b[K     |████████████████████████████████| 72 kB 1.4 MB/s \n",
            "\u001b[?25hCollecting transformers==4.6.1\n",
            "  Downloading transformers-4.6.1-py3-none-any.whl (2.2 MB)\n",
            "\u001b[K     |████████████████████████████████| 2.2 MB 72.8 MB/s \n",
            "\u001b[?25hCollecting sentencepiece==0.1.95\n",
            "  Downloading sentencepiece-0.1.95-cp38-cp38-manylinux2014_x86_64.whl (1.2 MB)\n",
            "\u001b[K     |████████████████████████████████| 1.2 MB 74.7 MB/s \n",
            "\u001b[?25hCollecting sentence_transformers==2.0.0\n",
            "  Downloading sentence-transformers-2.0.0.tar.gz (85 kB)\n",
            "\u001b[K     |████████████████████████████████| 85 kB 6.2 MB/s \n",
            "\u001b[?25hRequirement already satisfied: torch>=1.8.1 in /usr/local/lib/python3.8/dist-packages (from pygaggle==0.0.3.1) (1.13.0+cu116)\n",
            "Collecting humanfriendly>=7.1\n",
            "  Downloading humanfriendly-10.0-py2.py3-none-any.whl (86 kB)\n",
            "\u001b[K     |████████████████████████████████| 86 kB 7.5 MB/s \n",
            "\u001b[?25hRequirement already satisfied: joblib>=0.11 in /usr/local/lib/python3.8/dist-packages (from scikit-learn==0.24.2->pygaggle==0.0.3.1) (1.2.0)\n",
            "Requirement already satisfied: threadpoolctl>=2.0.0 in /usr/local/lib/python3.8/dist-packages (from scikit-learn==0.24.2->pygaggle==0.0.3.1) (3.1.0)\n",
            "Requirement already satisfied: torchvision in /usr/local/lib/python3.8/dist-packages (from sentence_transformers==2.0.0->pygaggle==0.0.3.1) (0.14.0+cu116)\n",
            "Requirement already satisfied: nltk in /usr/local/lib/python3.8/dist-packages (from sentence_transformers==2.0.0->pygaggle==0.0.3.1) (3.7)\n",
            "Collecting huggingface-hub\n",
            "  Downloading huggingface_hub-0.11.1-py3-none-any.whl (182 kB)\n",
            "\u001b[K     |████████████████████████████████| 182 kB 83.2 MB/s \n",
            "\u001b[?25hRequirement already satisfied: absl-py>=0.4 in /usr/local/lib/python3.8/dist-packages (from tensorboard==2.5.0->pygaggle==0.0.3.1) (1.3.0)\n",
            "Requirement already satisfied: requests<3,>=2.21.0 in /usr/local/lib/python3.8/dist-packages (from tensorboard==2.5.0->pygaggle==0.0.3.1) (2.23.0)\n",
            "Requirement already satisfied: google-auth-oauthlib<0.5,>=0.4.1 in /usr/local/lib/python3.8/dist-packages (from tensorboard==2.5.0->pygaggle==0.0.3.1) (0.4.6)\n",
            "Collecting google-auth<2,>=1.6.3\n",
            "  Downloading google_auth-1.35.0-py2.py3-none-any.whl (152 kB)\n",
            "\u001b[K     |████████████████████████████████| 152 kB 73.9 MB/s \n",
            "\u001b[?25hRequirement already satisfied: protobuf>=3.6.0 in /usr/local/lib/python3.8/dist-packages (from tensorboard==2.5.0->pygaggle==0.0.3.1) (3.19.6)\n",
            "Requirement already satisfied: tensorboard-plugin-wit>=1.6.0 in /usr/local/lib/python3.8/dist-packages (from tensorboard==2.5.0->pygaggle==0.0.3.1) (1.8.1)\n",
            "Requirement already satisfied: werkzeug>=0.11.15 in /usr/local/lib/python3.8/dist-packages (from tensorboard==2.5.0->pygaggle==0.0.3.1) (1.0.1)\n",
            "Requirement already satisfied: wheel>=0.26 in /usr/local/lib/python3.8/dist-packages (from tensorboard==2.5.0->pygaggle==0.0.3.1) (0.38.4)\n",
            "Requirement already satisfied: setuptools>=41.0.0 in /usr/local/lib/python3.8/dist-packages (from tensorboard==2.5.0->pygaggle==0.0.3.1) (57.4.0)\n",
            "Requirement already satisfied: markdown>=2.6.8 in /usr/local/lib/python3.8/dist-packages (from tensorboard==2.5.0->pygaggle==0.0.3.1) (3.4.1)\n",
            "Requirement already satisfied: grpcio>=1.24.3 in /usr/local/lib/python3.8/dist-packages (from tensorboard==2.5.0->pygaggle==0.0.3.1) (1.51.1)\n",
            "Requirement already satisfied: tensorboard-data-server<0.7.0,>=0.6.0 in /usr/local/lib/python3.8/dist-packages (from tensorboard==2.5.0->pygaggle==0.0.3.1) (0.6.1)\n",
            "Requirement already satisfied: six~=1.15.0 in /usr/local/lib/python3.8/dist-packages (from tensorflow==2.5.0->pygaggle==0.0.3.1) (1.15.0)\n",
            "Collecting numpy>=1.18\n",
            "  Downloading numpy-1.19.5-cp38-cp38-manylinux2010_x86_64.whl (14.9 MB)\n",
            "\u001b[K     |████████████████████████████████| 14.9 MB 69.4 MB/s \n",
            "\u001b[?25hCollecting tensorflow-estimator<2.6.0,>=2.5.0rc0\n",
            "  Downloading tensorflow_estimator-2.5.0-py2.py3-none-any.whl (462 kB)\n",
            "\u001b[K     |████████████████████████████████| 462 kB 69.3 MB/s \n",
            "\u001b[?25hCollecting grpcio>=1.24.3\n",
            "  Downloading grpcio-1.34.1-cp38-cp38-manylinux2014_x86_64.whl (4.0 MB)\n",
            "\u001b[K     |████████████████████████████████| 4.0 MB 70.1 MB/s \n",
            "\u001b[?25hRequirement already satisfied: flatbuffers~=1.12.0 in /usr/local/lib/python3.8/dist-packages (from tensorflow==2.5.0->pygaggle==0.0.3.1) (1.12)\n",
            "Requirement already satisfied: gast==0.4.0 in /usr/local/lib/python3.8/dist-packages (from tensorflow==2.5.0->pygaggle==0.0.3.1) (0.4.0)\n",
            "Collecting termcolor~=1.1.0\n",
            "  Downloading termcolor-1.1.0.tar.gz (3.9 kB)\n",
            "Requirement already satisfied: google-pasta~=0.2 in /usr/local/lib/python3.8/dist-packages (from tensorflow==2.5.0->pygaggle==0.0.3.1) (0.2.0)\n",
            "Requirement already satisfied: h5py~=3.1.0 in /usr/local/lib/python3.8/dist-packages (from tensorflow==2.5.0->pygaggle==0.0.3.1) (3.1.0)\n",
            "Collecting typing-extensions~=3.7.4\n",
            "  Downloading typing_extensions-3.7.4.3-py3-none-any.whl (22 kB)\n",
            "Collecting wrapt~=1.12.1\n",
            "  Downloading wrapt-1.12.1.tar.gz (27 kB)\n",
            "Requirement already satisfied: opt-einsum~=3.3.0 in /usr/local/lib/python3.8/dist-packages (from tensorflow==2.5.0->pygaggle==0.0.3.1) (3.3.0)\n",
            "Collecting absl-py>=0.4\n",
            "  Downloading absl_py-0.15.0-py3-none-any.whl (132 kB)\n",
            "\u001b[K     |████████████████████████████████| 132 kB 60.4 MB/s \n",
            "\u001b[?25hRequirement already satisfied: astunparse~=1.6.3 in /usr/local/lib/python3.8/dist-packages (from tensorflow==2.5.0->pygaggle==0.0.3.1) (1.6.3)\n",
            "Collecting keras-nightly~=2.5.0.dev\n",
            "  Downloading keras_nightly-2.5.0.dev2021032900-py2.py3-none-any.whl (1.2 MB)\n",
            "\u001b[K     |████████████████████████████████| 1.2 MB 76.0 MB/s \n",
            "\u001b[?25hRequirement already satisfied: keras-preprocessing~=1.1.2 in /usr/local/lib/python3.8/dist-packages (from tensorflow==2.5.0->pygaggle==0.0.3.1) (1.1.2)\n",
            "Collecting sacremoses\n",
            "  Downloading sacremoses-0.0.53.tar.gz (880 kB)\n",
            "\u001b[K     |████████████████████████████████| 880 kB 66.9 MB/s \n",
            "\u001b[?25hCollecting huggingface-hub\n",
            "  Downloading huggingface_hub-0.0.8-py3-none-any.whl (34 kB)\n",
            "Requirement already satisfied: packaging in /usr/local/lib/python3.8/dist-packages (from transformers==4.6.1->pygaggle==0.0.3.1) (21.3)\n",
            "Requirement already satisfied: filelock in /usr/local/lib/python3.8/dist-packages (from transformers==4.6.1->pygaggle==0.0.3.1) (3.8.2)\n",
            "Requirement already satisfied: regex!=2019.12.17 in /usr/local/lib/python3.8/dist-packages (from transformers==4.6.1->pygaggle==0.0.3.1) (2022.6.2)\n",
            "Requirement already satisfied: pyasn1-modules>=0.2.1 in /usr/local/lib/python3.8/dist-packages (from google-auth<2,>=1.6.3->tensorboard==2.5.0->pygaggle==0.0.3.1) (0.2.8)\n",
            "Requirement already satisfied: rsa<5,>=3.1.4 in /usr/local/lib/python3.8/dist-packages (from google-auth<2,>=1.6.3->tensorboard==2.5.0->pygaggle==0.0.3.1) (4.9)\n",
            "Collecting cachetools<5.0,>=2.0.0\n",
            "  Downloading cachetools-4.2.4-py3-none-any.whl (10 kB)\n",
            "Requirement already satisfied: requests-oauthlib>=0.7.0 in /usr/local/lib/python3.8/dist-packages (from google-auth-oauthlib<0.5,>=0.4.1->tensorboard==2.5.0->pygaggle==0.0.3.1) (1.3.1)\n",
            "Requirement already satisfied: importlib-metadata>=4.4 in /usr/local/lib/python3.8/dist-packages (from markdown>=2.6.8->tensorboard==2.5.0->pygaggle==0.0.3.1) (5.1.0)\n",
            "Requirement already satisfied: zipp>=0.5 in /usr/local/lib/python3.8/dist-packages (from importlib-metadata>=4.4->markdown>=2.6.8->tensorboard==2.5.0->pygaggle==0.0.3.1) (3.11.0)\n",
            "Requirement already satisfied: pyasn1<0.5.0,>=0.4.6 in /usr/local/lib/python3.8/dist-packages (from pyasn1-modules>=0.2.1->google-auth<2,>=1.6.3->tensorboard==2.5.0->pygaggle==0.0.3.1) (0.4.8)\n",
            "Collecting onnxruntime>=1.8.1\n",
            "  Downloading onnxruntime-1.13.1-cp38-cp38-manylinux_2_27_x86_64.whl (4.5 MB)\n",
            "\u001b[K     |████████████████████████████████| 4.5 MB 70.4 MB/s \n",
            "\u001b[?25hRequirement already satisfied: Cython>=0.29.21 in /usr/local/lib/python3.8/dist-packages (from pyserini>=0.16.0->pygaggle==0.0.3.1) (0.29.32)\n",
            "Collecting nmslib>=2.1.1\n",
            "  Downloading nmslib-2.1.1-cp38-cp38-manylinux2010_x86_64.whl (13.4 MB)\n",
            "\u001b[K     |████████████████████████████████| 13.4 MB 60.7 MB/s \n",
            "\u001b[?25hRequirement already satisfied: pandas>=1.1.5 in /usr/local/lib/python3.8/dist-packages (from pyserini>=0.16.0->pygaggle==0.0.3.1) (1.3.5)\n",
            "Collecting lightgbm>=3.3.2\n",
            "  Downloading lightgbm-3.3.3-py3-none-manylinux1_x86_64.whl (2.0 MB)\n",
            "\u001b[K     |████████████████████████████████| 2.0 MB 65.3 MB/s \n",
            "\u001b[?25hCollecting pyjnius>=1.4.0\n",
            "  Downloading pyjnius-1.4.2-cp38-cp38-manylinux_2_17_x86_64.manylinux2014_x86_64.whl (1.5 MB)\n",
            "\u001b[K     |████████████████████████████████| 1.5 MB 71.8 MB/s \n",
            "\u001b[?25hCollecting pybind11<2.6.2\n",
            "  Downloading pybind11-2.6.1-py2.py3-none-any.whl (188 kB)\n",
            "\u001b[K     |████████████████████████████████| 188 kB 69.1 MB/s \n",
            "\u001b[?25hRequirement already satisfied: psutil in /usr/local/lib/python3.8/dist-packages (from nmslib>=2.1.1->pyserini>=0.16.0->pygaggle==0.0.3.1) (5.4.8)\n",
            "Requirement already satisfied: sympy in /usr/local/lib/python3.8/dist-packages (from onnxruntime>=1.8.1->pyserini>=0.16.0->pygaggle==0.0.3.1) (1.7.1)\n",
            "Collecting onnxruntime>=1.8.1\n",
            "  Downloading onnxruntime-1.12.1-cp38-cp38-manylinux_2_27_x86_64.whl (4.9 MB)\n",
            "\u001b[K     |████████████████████████████████| 4.9 MB 74.1 MB/s \n",
            "\u001b[?25h  Downloading onnxruntime-1.12.0-cp38-cp38-manylinux_2_27_x86_64.whl (4.9 MB)\n",
            "\u001b[K     |████████████████████████████████| 4.9 MB 70.6 MB/s \n",
            "\u001b[?25h  Downloading onnxruntime-1.11.1-cp38-cp38-manylinux_2_17_x86_64.manylinux2014_x86_64.whl (5.2 MB)\n",
            "\u001b[K     |████████████████████████████████| 5.2 MB 76.8 MB/s \n",
            "\u001b[?25h  Downloading onnxruntime-1.11.0-cp38-cp38-manylinux_2_17_x86_64.manylinux2014_x86_64.whl (5.2 MB)\n",
            "\u001b[K     |████████████████████████████████| 5.2 MB 70.4 MB/s \n",
            "\u001b[?25h  Downloading onnxruntime-1.10.0-cp38-cp38-manylinux_2_17_x86_64.manylinux2014_x86_64.whl (4.9 MB)\n",
            "\u001b[K     |████████████████████████████████| 4.9 MB 68.2 MB/s \n",
            "\u001b[?25hRequirement already satisfied: python-dateutil>=2.7.3 in /usr/local/lib/python3.8/dist-packages (from pandas>=1.1.5->pyserini>=0.16.0->pygaggle==0.0.3.1) (2.8.2)\n",
            "Requirement already satisfied: pytz>=2017.3 in /usr/local/lib/python3.8/dist-packages (from pandas>=1.1.5->pyserini>=0.16.0->pygaggle==0.0.3.1) (2022.6)\n",
            "Requirement already satisfied: chardet<4,>=3.0.2 in /usr/local/lib/python3.8/dist-packages (from requests<3,>=2.21.0->tensorboard==2.5.0->pygaggle==0.0.3.1) (3.0.4)\n",
            "Requirement already satisfied: urllib3!=1.25.0,!=1.25.1,<1.26,>=1.21.1 in /usr/local/lib/python3.8/dist-packages (from requests<3,>=2.21.0->tensorboard==2.5.0->pygaggle==0.0.3.1) (1.24.3)\n",
            "Requirement already satisfied: idna<3,>=2.5 in /usr/local/lib/python3.8/dist-packages (from requests<3,>=2.21.0->tensorboard==2.5.0->pygaggle==0.0.3.1) (2.10)\n",
            "Requirement already satisfied: certifi>=2017.4.17 in /usr/local/lib/python3.8/dist-packages (from requests<3,>=2.21.0->tensorboard==2.5.0->pygaggle==0.0.3.1) (2022.12.7)\n",
            "Requirement already satisfied: oauthlib>=3.0.0 in /usr/local/lib/python3.8/dist-packages (from requests-oauthlib>=0.7.0->google-auth-oauthlib<0.5,>=0.4.1->tensorboard==2.5.0->pygaggle==0.0.3.1) (3.2.2)\n",
            "Requirement already satisfied: preshed<3.1.0,>=3.0.2 in /usr/local/lib/python3.8/dist-packages (from spacy>=3.2.1->pygaggle==0.0.3.1) (3.0.8)\n",
            "Requirement already satisfied: wasabi<1.1.0,>=0.9.1 in /usr/local/lib/python3.8/dist-packages (from spacy>=3.2.1->pygaggle==0.0.3.1) (0.10.1)\n",
            "Requirement already satisfied: spacy-loggers<2.0.0,>=1.0.0 in /usr/local/lib/python3.8/dist-packages (from spacy>=3.2.1->pygaggle==0.0.3.1) (1.0.4)\n",
            "Requirement already satisfied: catalogue<2.1.0,>=2.0.6 in /usr/local/lib/python3.8/dist-packages (from spacy>=3.2.1->pygaggle==0.0.3.1) (2.0.8)\n",
            "Requirement already satisfied: jinja2 in /usr/local/lib/python3.8/dist-packages (from spacy>=3.2.1->pygaggle==0.0.3.1) (2.11.3)\n",
            "Requirement already satisfied: cymem<2.1.0,>=2.0.2 in /usr/local/lib/python3.8/dist-packages (from spacy>=3.2.1->pygaggle==0.0.3.1) (2.0.7)\n",
            "Requirement already satisfied: typer<0.8.0,>=0.3.0 in /usr/local/lib/python3.8/dist-packages (from spacy>=3.2.1->pygaggle==0.0.3.1) (0.7.0)\n",
            "Requirement already satisfied: langcodes<4.0.0,>=3.2.0 in /usr/local/lib/python3.8/dist-packages (from spacy>=3.2.1->pygaggle==0.0.3.1) (3.3.0)\n",
            "Requirement already satisfied: murmurhash<1.1.0,>=0.28.0 in /usr/local/lib/python3.8/dist-packages (from spacy>=3.2.1->pygaggle==0.0.3.1) (1.0.9)\n",
            "Requirement already satisfied: srsly<3.0.0,>=2.4.3 in /usr/local/lib/python3.8/dist-packages (from spacy>=3.2.1->pygaggle==0.0.3.1) (2.4.5)\n",
            "Requirement already satisfied: smart-open<7.0.0,>=5.2.1 in /usr/local/lib/python3.8/dist-packages (from spacy>=3.2.1->pygaggle==0.0.3.1) (6.3.0)\n",
            "Requirement already satisfied: spacy-legacy<3.1.0,>=3.0.10 in /usr/local/lib/python3.8/dist-packages (from spacy>=3.2.1->pygaggle==0.0.3.1) (3.0.10)\n",
            "Requirement already satisfied: thinc<8.2.0,>=8.1.0 in /usr/local/lib/python3.8/dist-packages (from spacy>=3.2.1->pygaggle==0.0.3.1) (8.1.5)\n",
            "Requirement already satisfied: pathy>=0.3.5 in /usr/local/lib/python3.8/dist-packages (from spacy>=3.2.1->pygaggle==0.0.3.1) (0.10.1)\n",
            "Requirement already satisfied: pyparsing!=3.0.5,>=2.0.2 in /usr/local/lib/python3.8/dist-packages (from packaging->transformers==4.6.1->pygaggle==0.0.3.1) (3.0.9)\n",
            "Requirement already satisfied: blis<0.8.0,>=0.7.8 in /usr/local/lib/python3.8/dist-packages (from thinc<8.2.0,>=8.1.0->spacy>=3.2.1->pygaggle==0.0.3.1) (0.7.9)\n",
            "Requirement already satisfied: confection<1.0.0,>=0.0.1 in /usr/local/lib/python3.8/dist-packages (from thinc<8.2.0,>=8.1.0->spacy>=3.2.1->pygaggle==0.0.3.1) (0.0.3)\n",
            "Requirement already satisfied: click<9.0.0,>=7.1.1 in /usr/local/lib/python3.8/dist-packages (from typer<0.8.0,>=0.3.0->spacy>=3.2.1->pygaggle==0.0.3.1) (7.1.2)\n",
            "Requirement already satisfied: MarkupSafe>=0.23 in /usr/local/lib/python3.8/dist-packages (from jinja2->spacy>=3.2.1->pygaggle==0.0.3.1) (2.0.1)\n",
            "Requirement already satisfied: pillow!=8.3.*,>=5.3.0 in /usr/local/lib/python3.8/dist-packages (from torchvision->sentence_transformers==2.0.0->pygaggle==0.0.3.1) (7.1.2)\n",
            "Building wheels for collected packages: pygaggle, sentence-transformers, termcolor, wrapt, sacremoses\n",
            "  Building wheel for pygaggle (setup.py) ... \u001b[?25l\u001b[?25hdone\n",
            "  Created wheel for pygaggle: filename=pygaggle-0.0.3.1-py3-none-any.whl size=75855 sha256=5e6e2e9199426b03f1380cdd34394f201bfe2a178e19af3a90214cf35b88a568\n",
            "  Stored in directory: /tmp/pip-ephem-wheel-cache-6swa5wqr/wheels/9c/25/21/aa8daeb737add51f7ed17c1adb9f97265179d19ca5a38b5c30\n",
            "  Building wheel for sentence-transformers (setup.py) ... \u001b[?25l\u001b[?25hdone\n",
            "  Created wheel for sentence-transformers: filename=sentence_transformers-2.0.0-py3-none-any.whl size=126709 sha256=630a2b47d93ee1ac8ac717fe7e9ee470f7e0692d1792233ad0382154f0bbeea8\n",
            "  Stored in directory: /root/.cache/pip/wheels/8c/b7/50/451c9a52a337aac5521dbc10544a69e1447d28012feba30742\n",
            "  Building wheel for termcolor (setup.py) ... \u001b[?25l\u001b[?25hdone\n",
            "  Created wheel for termcolor: filename=termcolor-1.1.0-py3-none-any.whl size=4849 sha256=2b29d02308dff86a391b4b3c1fd7d18486608086b47a904a0f605c68d0ef9435\n",
            "  Stored in directory: /root/.cache/pip/wheels/a0/16/9c/5473df82468f958445479c59e784896fa24f4a5fc024b0f501\n",
            "  Building wheel for wrapt (setup.py) ... \u001b[?25l\u001b[?25hdone\n",
            "  Created wheel for wrapt: filename=wrapt-1.12.1-cp38-cp38-linux_x86_64.whl size=72344 sha256=17d439a81aeb8672b3f89e444f8e651ce7e225d59e207d6c1f4b019d2490d52a\n",
            "  Stored in directory: /root/.cache/pip/wheels/5f/fd/9e/b6cf5890494cb8ef0b5eaff72e5d55a70fb56316007d6dfe73\n",
            "  Building wheel for sacremoses (setup.py) ... \u001b[?25l\u001b[?25hdone\n",
            "  Created wheel for sacremoses: filename=sacremoses-0.0.53-py3-none-any.whl size=895260 sha256=54f4a97aac467717a693a90432aac8b43602ca313517150804e1c494fc1100d0\n",
            "  Stored in directory: /root/.cache/pip/wheels/82/ab/9b/c15899bf659ba74f623ac776e861cf2eb8608c1825ddec66a4\n",
            "Successfully built pygaggle sentence-transformers termcolor wrapt sacremoses\n",
            "Installing collected packages: pydantic, numpy, cachetools, typing-extensions, tqdm, scipy, google-auth, tokenizers, scikit-learn, sacremoses, pybind11, huggingface-hub, grpcio, absl-py, wrapt, transformers, termcolor, tensorflow-estimator, tensorboard, sentencepiece, pyjnius, onnxruntime, nmslib, lightgbm, keras-nightly, humanfriendly, tensorflow, sentence-transformers, pyserini, coloredlogs, pygaggle\n",
            "  Attempting uninstall: pydantic\n",
            "    Found existing installation: pydantic 1.10.2\n",
            "    Uninstalling pydantic-1.10.2:\n",
            "      Successfully uninstalled pydantic-1.10.2\n",
            "  Attempting uninstall: numpy\n",
            "    Found existing installation: numpy 1.21.6\n",
            "    Uninstalling numpy-1.21.6:\n",
            "      Successfully uninstalled numpy-1.21.6\n",
            "  Attempting uninstall: cachetools\n",
            "    Found existing installation: cachetools 5.2.0\n",
            "    Uninstalling cachetools-5.2.0:\n",
            "      Successfully uninstalled cachetools-5.2.0\n",
            "  Attempting uninstall: typing-extensions\n",
            "    Found existing installation: typing-extensions 4.4.0\n",
            "    Uninstalling typing-extensions-4.4.0:\n",
            "      Successfully uninstalled typing-extensions-4.4.0\n",
            "  Attempting uninstall: tqdm\n",
            "    Found existing installation: tqdm 4.64.1\n",
            "    Uninstalling tqdm-4.64.1:\n",
            "      Successfully uninstalled tqdm-4.64.1\n",
            "  Attempting uninstall: scipy\n",
            "    Found existing installation: scipy 1.7.3\n",
            "    Uninstalling scipy-1.7.3:\n",
            "      Successfully uninstalled scipy-1.7.3\n",
            "  Attempting uninstall: google-auth\n",
            "    Found existing installation: google-auth 2.15.0\n",
            "    Uninstalling google-auth-2.15.0:\n",
            "      Successfully uninstalled google-auth-2.15.0\n",
            "  Attempting uninstall: scikit-learn\n",
            "    Found existing installation: scikit-learn 1.0.2\n",
            "    Uninstalling scikit-learn-1.0.2:\n",
            "      Successfully uninstalled scikit-learn-1.0.2\n",
            "  Attempting uninstall: grpcio\n",
            "    Found existing installation: grpcio 1.51.1\n",
            "    Uninstalling grpcio-1.51.1:\n",
            "      Successfully uninstalled grpcio-1.51.1\n",
            "  Attempting uninstall: absl-py\n",
            "    Found existing installation: absl-py 1.3.0\n",
            "    Uninstalling absl-py-1.3.0:\n",
            "      Successfully uninstalled absl-py-1.3.0\n",
            "  Attempting uninstall: wrapt\n",
            "    Found existing installation: wrapt 1.14.1\n",
            "    Uninstalling wrapt-1.14.1:\n",
            "      Successfully uninstalled wrapt-1.14.1\n",
            "  Attempting uninstall: termcolor\n",
            "    Found existing installation: termcolor 2.1.1\n",
            "    Uninstalling termcolor-2.1.1:\n",
            "      Successfully uninstalled termcolor-2.1.1\n",
            "  Attempting uninstall: tensorflow-estimator\n",
            "    Found existing installation: tensorflow-estimator 2.9.0\n",
            "    Uninstalling tensorflow-estimator-2.9.0:\n",
            "      Successfully uninstalled tensorflow-estimator-2.9.0\n",
            "  Attempting uninstall: tensorboard\n",
            "    Found existing installation: tensorboard 2.9.1\n",
            "    Uninstalling tensorboard-2.9.1:\n",
            "      Successfully uninstalled tensorboard-2.9.1\n",
            "  Attempting uninstall: lightgbm\n",
            "    Found existing installation: lightgbm 2.2.3\n",
            "    Uninstalling lightgbm-2.2.3:\n",
            "      Successfully uninstalled lightgbm-2.2.3\n",
            "  Attempting uninstall: tensorflow\n",
            "    Found existing installation: tensorflow 2.9.2\n",
            "    Uninstalling tensorflow-2.9.2:\n",
            "      Successfully uninstalled tensorflow-2.9.2\n",
            "\u001b[31mERROR: pip's dependency resolver does not currently take into account all the packages that are installed. This behaviour is the source of the following dependency conflicts.\n",
            "yellowbrick 1.5 requires scikit-learn>=1.0.0, but you have scikit-learn 0.24.2 which is incompatible.\n",
            "xarray 2022.12.0 requires numpy>=1.20, but you have numpy 1.19.5 which is incompatible.\n",
            "xarray-einstats 0.4.0 requires numpy>=1.20, but you have numpy 1.19.5 which is incompatible.\n",
            "xarray-einstats 0.4.0 requires scipy>=1.6, but you have scipy 1.5.4 which is incompatible.\n",
            "jaxlib 0.3.25+cuda11.cudnn805 requires numpy>=1.20, but you have numpy 1.19.5 which is incompatible.\n",
            "jax 0.3.25 requires numpy>=1.20, but you have numpy 1.19.5 which is incompatible.\n",
            "grpcio-status 1.48.2 requires grpcio>=1.48.2, but you have grpcio 1.34.1 which is incompatible.\n",
            "google-cloud-bigquery 3.3.6 requires grpcio<2.0dev,>=1.47.0, but you have grpcio 1.34.1 which is incompatible.\n",
            "cupy-cuda11x 11.0.0 requires numpy<1.26,>=1.20, but you have numpy 1.19.5 which is incompatible.\n",
            "cmdstanpy 1.0.8 requires numpy>=1.21, but you have numpy 1.19.5 which is incompatible.\u001b[0m\n",
            "Successfully installed absl-py-0.15.0 cachetools-4.2.4 coloredlogs-14.0 google-auth-1.35.0 grpcio-1.34.1 huggingface-hub-0.0.8 humanfriendly-10.0 keras-nightly-2.5.0.dev2021032900 lightgbm-3.3.3 nmslib-2.1.1 numpy-1.19.5 onnxruntime-1.10.0 pybind11-2.6.1 pydantic-1.7.4 pygaggle-0.0.3.1 pyjnius-1.4.2 pyserini-0.19.2 sacremoses-0.0.53 scikit-learn-0.24.2 scipy-1.5.4 sentence-transformers-2.0.0 sentencepiece-0.1.95 tensorboard-2.5.0 tensorflow-2.5.0 tensorflow-estimator-2.5.0 termcolor-1.1.0 tokenizers-0.10.2 tqdm-4.56.0 transformers-4.6.1 typing-extensions-3.7.4.3 wrapt-1.12.1\n"
          ]
        },
        {
          "output_type": "display_data",
          "data": {
            "application/vnd.colab-display-data+json": {
              "pip_warning": {
                "packages": [
                  "google",
                  "numpy"
                ]
              }
            }
          },
          "metadata": {}
        }
      ]
    },
    {
      "cell_type": "code",
      "source": [
        "!pip install faiss-gpu"
      ],
      "metadata": {
        "colab": {
          "base_uri": "https://localhost:8080/"
        },
        "id": "NNY521iNRteN",
        "outputId": "b87c9781-0b86-4688-9fa4-73027ee37455"
      },
      "execution_count": null,
      "outputs": [
        {
          "output_type": "stream",
          "name": "stdout",
          "text": [
            "Looking in indexes: https://pypi.org/simple, https://us-python.pkg.dev/colab-wheels/public/simple/\n",
            "Collecting faiss-gpu\n",
            "  Downloading faiss_gpu-1.7.2-cp38-cp38-manylinux_2_17_x86_64.manylinux2014_x86_64.whl (85.5 MB)\n",
            "\u001b[K     |████████████████████████████████| 85.5 MB 1.2 MB/s \n",
            "\u001b[?25hInstalling collected packages: faiss-gpu\n",
            "Successfully installed faiss-gpu-1.7.2\n"
          ]
        }
      ]
    },
    {
      "cell_type": "code",
      "source": [
        "from pygaggle.rerank.base import Query, Text\n",
        "from pygaggle.rerank.transformer import MonoT5\n",
        "\n",
        "reranker =  MonoT5('castorini/monot5-base-med-msmarco')"
      ],
      "metadata": {
        "colab": {
          "base_uri": "https://localhost:8080/",
          "height": 281,
          "referenced_widgets": [
            "5b5ddb812fb84582843ccae46b060644",
            "85fc29f1027a4ad3bc79e4e5002d3920",
            "092c6f3c26564f169ca7f4f5779d9153",
            "611c0495b5e04b0592458a9e1d48062a",
            "366ef5e50d2c416f923d631144ec11d5",
            "f87fd75db92e4525a12a47217ccf0417",
            "30a6078bf4374106be057a5c78f0be8c",
            "8cb4af265cf24989b7ef2e595b3e0ce2",
            "524e428991154637b261b7fccab83bb7",
            "8957f5b780d041e4bfdea87acd020f72",
            "e237ff137fa441a3b9a6e39b13976911",
            "c325c64f402a4866bc78c16e38112a40",
            "9c5cd04dfda0407e875dd1fbba16b1ba",
            "e58240a78f39476c99095d56ea953573",
            "179e749b3ecd42d38d6a5c5736e73d72",
            "8c422185018541fcb4a959617a795a41",
            "6684d1970d954054987aed039b104355",
            "d4636247ba8a40bba0a4d8d6c3e835ef",
            "8268d11ba5f04fe1a06e00f1d079f060",
            "0a511d41fc4645d6babe7fc6aba07df8",
            "480fe19d81984c28ac450e704602be4f",
            "0b20544265f34cc3a72aea535826cd21",
            "c8b2266f678a442d8aff4ef8bf9c73c1",
            "1713fd8b420f4bc89552fd62eb9baf50",
            "b80c935b2edf47e7ae5e3e89323009e6",
            "55b92194646044dd8edefc4f40852f46",
            "9e38410a721e4973aa6ead21a8ae2e2c",
            "a3d75cf466f74b0f9e993937d3c02f4a",
            "a3b911a8e99c4e31b3c390a6aa895255",
            "2f15e53667554db29c7e353c97168032",
            "63a966af108d42519b3648f5721ca2e8",
            "b96fd62b3a994048a1059e3fd18423dd",
            "43d31b7ddd8a4899bf0d081d0d3360b5",
            "9087f47f99de4d709880295764fd1b5d",
            "dde2b67f2b054ad1a25657bf63593ac2",
            "3af573bf9718456799e477c636352e96",
            "6d12b1fff955447399874ea49f91f6ff",
            "09e3f7ff1a484e4785345a3ad26fc8a3",
            "18ed62e97baf40f082e030e0b72318c7",
            "559adf5c5bb64a47bc91f0939c116284",
            "7b7a9d1591174c8782895bfe90883490",
            "78d6d0386edb4f79aeb1bd4a40bda116",
            "afc1e2f0953a45d9a7cc9886ab788b1f",
            "f4f3c0af7e6a495a907bab5642f69417",
            "24ca686dc076425186fa1822e353eb86",
            "5ee800804728410b9444342bf45c0f27",
            "caf59c91c78f4b5dbd7c72a27a2cb2fb",
            "14825391351e42cbb9c167679e984c47",
            "f0b58878cc4645f4b68002d0a535b183",
            "585d83138f8342858d170ade1f5f9219",
            "8b1e2aacbb4f4fc5af930503373c9f15",
            "548d9eb5efbe43d2a1222584d1c85d80",
            "ad164e0fef3a4bca9a1b9a2d883e9f54",
            "3ef7a6d1bdab47bdb51ec394b929ccba",
            "e49a2841a0784bd9b55406bf0652c8ea"
          ]
        },
        "id": "QE4po7EgP9dp",
        "outputId": "5c200939-fd33-46b5-c961-c0f37945e315"
      },
      "execution_count": null,
      "outputs": [
        {
          "output_type": "stream",
          "name": "stderr",
          "text": [
            "2023-01-02 13:32:02 [INFO] utils: NumExpr defaulting to 2 threads.\n",
            "2023-01-02 13:32:04 [INFO] loader: Loading faiss with AVX2 support.\n",
            "2023-01-02 13:32:04 [INFO] loader: Could not load library with AVX2 support due to:\n",
            "ModuleNotFoundError(\"No module named 'faiss.swigfaiss_avx2'\")\n",
            "2023-01-02 13:32:04 [INFO] loader: Loading faiss.\n",
            "2023-01-02 13:32:04 [INFO] loader: Successfully loaded faiss.\n"
          ]
        },
        {
          "output_type": "display_data",
          "data": {
            "text/plain": [
              "Downloading:   0%|          | 0.00/1.19k [00:00<?, ?B/s]"
            ],
            "application/vnd.jupyter.widget-view+json": {
              "version_major": 2,
              "version_minor": 0,
              "model_id": "5b5ddb812fb84582843ccae46b060644"
            }
          },
          "metadata": {}
        },
        {
          "output_type": "display_data",
          "data": {
            "text/plain": [
              "Downloading:   0%|          | 0.00/892M [00:00<?, ?B/s]"
            ],
            "application/vnd.jupyter.widget-view+json": {
              "version_major": 2,
              "version_minor": 0,
              "model_id": "c325c64f402a4866bc78c16e38112a40"
            }
          },
          "metadata": {}
        },
        {
          "output_type": "display_data",
          "data": {
            "text/plain": [
              "Downloading:   0%|          | 0.00/792k [00:00<?, ?B/s]"
            ],
            "application/vnd.jupyter.widget-view+json": {
              "version_major": 2,
              "version_minor": 0,
              "model_id": "c8b2266f678a442d8aff4ef8bf9c73c1"
            }
          },
          "metadata": {}
        },
        {
          "output_type": "display_data",
          "data": {
            "text/plain": [
              "Downloading:   0%|          | 0.00/1.79k [00:00<?, ?B/s]"
            ],
            "application/vnd.jupyter.widget-view+json": {
              "version_major": 2,
              "version_minor": 0,
              "model_id": "9087f47f99de4d709880295764fd1b5d"
            }
          },
          "metadata": {}
        },
        {
          "output_type": "display_data",
          "data": {
            "text/plain": [
              "Downloading:   0%|          | 0.00/25.0 [00:00<?, ?B/s]"
            ],
            "application/vnd.jupyter.widget-view+json": {
              "version_major": 2,
              "version_minor": 0,
              "model_id": "24ca686dc076425186fa1822e353eb86"
            }
          },
          "metadata": {}
        }
      ]
    },
    {
      "cell_type": "code",
      "source": [
        "from google.colab import drive\n",
        "drive.mount('/content/drive/')"
      ],
      "metadata": {
        "colab": {
          "base_uri": "https://localhost:8080/"
        },
        "id": "2-apf_2WT4uV",
        "outputId": "7a0ab21b-0693-418b-b3af-1c35a2514a73"
      },
      "execution_count": null,
      "outputs": [
        {
          "output_type": "stream",
          "name": "stdout",
          "text": [
            "Mounted at /content/drive/\n"
          ]
        }
      ]
    },
    {
      "cell_type": "code",
      "source": [
        "%cd /content/drive/My Drive/Work/"
      ],
      "metadata": {
        "colab": {
          "base_uri": "https://localhost:8080/"
        },
        "id": "BYN7ye2sUard",
        "outputId": "572021b5-dbdb-408c-8202-7c4daaa1719c"
      },
      "execution_count": null,
      "outputs": [
        {
          "output_type": "stream",
          "name": "stdout",
          "text": [
            "/content/drive/My Drive/Work\n"
          ]
        }
      ]
    },
    {
      "cell_type": "code",
      "source": [
        "!pip install https://s3-us-west-2.amazonaws.com/ai2-s2-scispacy/releases/v0.5.1/en_core_sci_scibert-0.5.1.tar.gz"
      ],
      "metadata": {
        "colab": {
          "base_uri": "https://localhost:8080/"
        },
        "id": "o0uzd-PaVGhz",
        "outputId": "597202d5-fa0b-4978-b8cb-2042ebe9d3d9"
      },
      "execution_count": null,
      "outputs": [
        {
          "output_type": "stream",
          "name": "stdout",
          "text": [
            "Looking in indexes: https://pypi.org/simple, https://us-python.pkg.dev/colab-wheels/public/simple/\n",
            "Collecting https://s3-us-west-2.amazonaws.com/ai2-s2-scispacy/releases/v0.5.1/en_core_sci_scibert-0.5.1.tar.gz\n",
            "  Downloading https://s3-us-west-2.amazonaws.com/ai2-s2-scispacy/releases/v0.5.1/en_core_sci_scibert-0.5.1.tar.gz (417.6 MB)\n",
            "\u001b[K     |████████████████████████████████| 417.6 MB 29 kB/s \n",
            "\u001b[?25hRequirement already satisfied: spacy<3.5.0,>=3.4.1 in /usr/local/lib/python3.8/dist-packages (from en-core-sci-scibert==0.5.1) (3.4.4)\n",
            "Collecting spacy-transformers\n",
            "  Downloading spacy_transformers-1.1.9-py2.py3-none-any.whl (53 kB)\n",
            "\u001b[K     |████████████████████████████████| 53 kB 2.2 MB/s \n",
            "\u001b[?25hRequirement already satisfied: preshed<3.1.0,>=3.0.2 in /usr/local/lib/python3.8/dist-packages (from spacy<3.5.0,>=3.4.1->en-core-sci-scibert==0.5.1) (3.0.8)\n",
            "Requirement already satisfied: tqdm<5.0.0,>=4.38.0 in /usr/local/lib/python3.8/dist-packages (from spacy<3.5.0,>=3.4.1->en-core-sci-scibert==0.5.1) (4.56.0)\n",
            "Requirement already satisfied: murmurhash<1.1.0,>=0.28.0 in /usr/local/lib/python3.8/dist-packages (from spacy<3.5.0,>=3.4.1->en-core-sci-scibert==0.5.1) (1.0.9)\n",
            "Requirement already satisfied: pathy>=0.3.5 in /usr/local/lib/python3.8/dist-packages (from spacy<3.5.0,>=3.4.1->en-core-sci-scibert==0.5.1) (0.10.1)\n",
            "Requirement already satisfied: spacy-loggers<2.0.0,>=1.0.0 in /usr/local/lib/python3.8/dist-packages (from spacy<3.5.0,>=3.4.1->en-core-sci-scibert==0.5.1) (1.0.4)\n",
            "Requirement already satisfied: typer<0.8.0,>=0.3.0 in /usr/local/lib/python3.8/dist-packages (from spacy<3.5.0,>=3.4.1->en-core-sci-scibert==0.5.1) (0.7.0)\n",
            "Requirement already satisfied: pydantic!=1.8,!=1.8.1,<1.11.0,>=1.7.4 in /usr/local/lib/python3.8/dist-packages (from spacy<3.5.0,>=3.4.1->en-core-sci-scibert==0.5.1) (1.7.4)\n",
            "Requirement already satisfied: numpy>=1.15.0 in /usr/local/lib/python3.8/dist-packages (from spacy<3.5.0,>=3.4.1->en-core-sci-scibert==0.5.1) (1.19.5)\n",
            "Requirement already satisfied: jinja2 in /usr/local/lib/python3.8/dist-packages (from spacy<3.5.0,>=3.4.1->en-core-sci-scibert==0.5.1) (2.11.3)\n",
            "Requirement already satisfied: cymem<2.1.0,>=2.0.2 in /usr/local/lib/python3.8/dist-packages (from spacy<3.5.0,>=3.4.1->en-core-sci-scibert==0.5.1) (2.0.7)\n",
            "Requirement already satisfied: setuptools in /usr/local/lib/python3.8/dist-packages (from spacy<3.5.0,>=3.4.1->en-core-sci-scibert==0.5.1) (57.4.0)\n",
            "Requirement already satisfied: catalogue<2.1.0,>=2.0.6 in /usr/local/lib/python3.8/dist-packages (from spacy<3.5.0,>=3.4.1->en-core-sci-scibert==0.5.1) (2.0.8)\n",
            "Requirement already satisfied: spacy-legacy<3.1.0,>=3.0.10 in /usr/local/lib/python3.8/dist-packages (from spacy<3.5.0,>=3.4.1->en-core-sci-scibert==0.5.1) (3.0.10)\n",
            "Requirement already satisfied: srsly<3.0.0,>=2.4.3 in /usr/local/lib/python3.8/dist-packages (from spacy<3.5.0,>=3.4.1->en-core-sci-scibert==0.5.1) (2.4.5)\n",
            "Requirement already satisfied: wasabi<1.1.0,>=0.9.1 in /usr/local/lib/python3.8/dist-packages (from spacy<3.5.0,>=3.4.1->en-core-sci-scibert==0.5.1) (0.10.1)\n",
            "Requirement already satisfied: langcodes<4.0.0,>=3.2.0 in /usr/local/lib/python3.8/dist-packages (from spacy<3.5.0,>=3.4.1->en-core-sci-scibert==0.5.1) (3.3.0)\n",
            "Requirement already satisfied: requests<3.0.0,>=2.13.0 in /usr/local/lib/python3.8/dist-packages (from spacy<3.5.0,>=3.4.1->en-core-sci-scibert==0.5.1) (2.23.0)\n",
            "Requirement already satisfied: packaging>=20.0 in /usr/local/lib/python3.8/dist-packages (from spacy<3.5.0,>=3.4.1->en-core-sci-scibert==0.5.1) (21.3)\n",
            "Requirement already satisfied: thinc<8.2.0,>=8.1.0 in /usr/local/lib/python3.8/dist-packages (from spacy<3.5.0,>=3.4.1->en-core-sci-scibert==0.5.1) (8.1.5)\n",
            "Requirement already satisfied: smart-open<7.0.0,>=5.2.1 in /usr/local/lib/python3.8/dist-packages (from spacy<3.5.0,>=3.4.1->en-core-sci-scibert==0.5.1) (6.3.0)\n",
            "Requirement already satisfied: pyparsing!=3.0.5,>=2.0.2 in /usr/local/lib/python3.8/dist-packages (from packaging>=20.0->spacy<3.5.0,>=3.4.1->en-core-sci-scibert==0.5.1) (3.0.9)\n",
            "Requirement already satisfied: idna<3,>=2.5 in /usr/local/lib/python3.8/dist-packages (from requests<3.0.0,>=2.13.0->spacy<3.5.0,>=3.4.1->en-core-sci-scibert==0.5.1) (2.10)\n",
            "Requirement already satisfied: chardet<4,>=3.0.2 in /usr/local/lib/python3.8/dist-packages (from requests<3.0.0,>=2.13.0->spacy<3.5.0,>=3.4.1->en-core-sci-scibert==0.5.1) (3.0.4)\n",
            "Requirement already satisfied: urllib3!=1.25.0,!=1.25.1,<1.26,>=1.21.1 in /usr/local/lib/python3.8/dist-packages (from requests<3.0.0,>=2.13.0->spacy<3.5.0,>=3.4.1->en-core-sci-scibert==0.5.1) (1.24.3)\n",
            "Requirement already satisfied: certifi>=2017.4.17 in /usr/local/lib/python3.8/dist-packages (from requests<3.0.0,>=2.13.0->spacy<3.5.0,>=3.4.1->en-core-sci-scibert==0.5.1) (2022.12.7)\n",
            "Requirement already satisfied: confection<1.0.0,>=0.0.1 in /usr/local/lib/python3.8/dist-packages (from thinc<8.2.0,>=8.1.0->spacy<3.5.0,>=3.4.1->en-core-sci-scibert==0.5.1) (0.0.3)\n",
            "Requirement already satisfied: blis<0.8.0,>=0.7.8 in /usr/local/lib/python3.8/dist-packages (from thinc<8.2.0,>=8.1.0->spacy<3.5.0,>=3.4.1->en-core-sci-scibert==0.5.1) (0.7.9)\n",
            "Requirement already satisfied: click<9.0.0,>=7.1.1 in /usr/local/lib/python3.8/dist-packages (from typer<0.8.0,>=0.3.0->spacy<3.5.0,>=3.4.1->en-core-sci-scibert==0.5.1) (7.1.2)\n",
            "Requirement already satisfied: MarkupSafe>=0.23 in /usr/local/lib/python3.8/dist-packages (from jinja2->spacy<3.5.0,>=3.4.1->en-core-sci-scibert==0.5.1) (2.0.1)\n",
            "Requirement already satisfied: transformers<4.26.0,>=3.4.0 in /usr/local/lib/python3.8/dist-packages (from spacy-transformers->en-core-sci-scibert==0.5.1) (4.6.1)\n",
            "Requirement already satisfied: torch>=1.6.0 in /usr/local/lib/python3.8/dist-packages (from spacy-transformers->en-core-sci-scibert==0.5.1) (1.13.0+cu116)\n",
            "Collecting spacy-alignments<1.0.0,>=0.7.2\n",
            "  Downloading spacy_alignments-0.9.0-cp38-cp38-manylinux_2_17_x86_64.manylinux2014_x86_64.whl (1.2 MB)\n",
            "\u001b[K     |████████████████████████████████| 1.2 MB 43.0 MB/s \n",
            "\u001b[?25hRequirement already satisfied: typing-extensions in /usr/local/lib/python3.8/dist-packages (from torch>=1.6.0->spacy-transformers->en-core-sci-scibert==0.5.1) (3.7.4.3)\n",
            "Requirement already satisfied: huggingface-hub==0.0.8 in /usr/local/lib/python3.8/dist-packages (from transformers<4.26.0,>=3.4.0->spacy-transformers->en-core-sci-scibert==0.5.1) (0.0.8)\n",
            "Requirement already satisfied: regex!=2019.12.17 in /usr/local/lib/python3.8/dist-packages (from transformers<4.26.0,>=3.4.0->spacy-transformers->en-core-sci-scibert==0.5.1) (2022.6.2)\n",
            "Requirement already satisfied: sacremoses in /usr/local/lib/python3.8/dist-packages (from transformers<4.26.0,>=3.4.0->spacy-transformers->en-core-sci-scibert==0.5.1) (0.0.53)\n",
            "Requirement already satisfied: tokenizers<0.11,>=0.10.1 in /usr/local/lib/python3.8/dist-packages (from transformers<4.26.0,>=3.4.0->spacy-transformers->en-core-sci-scibert==0.5.1) (0.10.2)\n",
            "Requirement already satisfied: filelock in /usr/local/lib/python3.8/dist-packages (from transformers<4.26.0,>=3.4.0->spacy-transformers->en-core-sci-scibert==0.5.1) (3.8.2)\n",
            "Requirement already satisfied: joblib in /usr/local/lib/python3.8/dist-packages (from sacremoses->transformers<4.26.0,>=3.4.0->spacy-transformers->en-core-sci-scibert==0.5.1) (1.2.0)\n",
            "Requirement already satisfied: six in /usr/local/lib/python3.8/dist-packages (from sacremoses->transformers<4.26.0,>=3.4.0->spacy-transformers->en-core-sci-scibert==0.5.1) (1.15.0)\n",
            "Building wheels for collected packages: en-core-sci-scibert\n",
            "  Building wheel for en-core-sci-scibert (setup.py) ... \u001b[?25l\u001b[?25hdone\n",
            "  Created wheel for en-core-sci-scibert: filename=en_core_sci_scibert-0.5.1-py3-none-any.whl size=417647713 sha256=21b364f81ae161353e6baf4e5d9d9df3378610c822434a509991aacc1736eee5\n",
            "  Stored in directory: /root/.cache/pip/wheels/6c/7a/02/9d611fbc2ee94aa94c84e7bbeb805f59d27d8ccb9d2016564d\n",
            "Successfully built en-core-sci-scibert\n",
            "Installing collected packages: spacy-alignments, spacy-transformers, en-core-sci-scibert\n",
            "Successfully installed en-core-sci-scibert-0.5.1 spacy-alignments-0.9.0 spacy-transformers-1.1.9\n"
          ]
        }
      ]
    },
    {
      "cell_type": "code",
      "source": [
        "import spacy\n",
        "import spacy_transformers\n",
        "nlp = spacy.load(\"en_core_sci_scibert\")"
      ],
      "metadata": {
        "id": "n5Y2AwrZUjKS"
      },
      "execution_count": null,
      "outputs": []
    },
    {
      "cell_type": "code",
      "source": [
        "contexts = {\n",
        "    \"PMC2811155\" : [\n",
        "        \"which is dependent on PINK1 kinase activity (Geisler et al., 2010; Matsuda et al., 2010; Narendra et al., 2010; Vives-Bauza et al., 2010).\",\n",
        "        \"Although endogenous PINK1 protein expression is constitutively low owing to rapid turnover, PINK1 proteolysis is inhibited by mitochondrial uncoupling, allowing a robust increase in expression when a mitochondrion is damaged and loses membrane potential (Lin and Kang, 2008; Matsuda et al., 2010; Narendra et al., 2010).\",\n",
        "        \"ectopic and endogenous PINK1 have been reported to span the outer mitochondrial membrane with the C-terminal kinase region facing the cytosol poised to induce Parkin translocation (Zhou et al., 2008; Narendra et al., 2010).\",\n",
        "        \"This contrasts with our previous work using short hairpin RNAi targeting a different site in PARL mRNA that was interpreted to exclude PARL as a protease for PINK1 cleavage, likely owing to insufficient knockdown of endogenous PARL in HeLa cells and to insufficient expression of ectopic PINK1 in PARL knockout (KO) mouse embryonic fibroblasts (MEFs; Narendra et al., 201\",\n",
        "        \"proteosome-independent proteolysis yields a 52-kD form of PINK1 that is subsequently degraded by the proteosome (Narendra et al., 2010).\",\n",
        "        \"These results suggest that in contrast to FL, the CCCP-stabilized form of PINK1 that localizes to the outer mitochondrial membrane facing the cytosol (Narendra et al., 2010), the 60-kD ΔMTS-PINK1, which appears in the absence of PARL, and the 52-kD PINK1 are protease-protected within polarized mitochondria (Fig. 1 d).\",\n",
        "        \"We have previously shown that experimentally stabilized PINK1 on the mitochondrial outer membrane recruits Parkin even in the absence of mitochondrial uncoupling (Narendra et al., 2010).\",\n",
        "        \"When we treated HeLa cells stably expressing YFP-Parkin with MG132 for 8 h to accumulate the 52-kD PINK1 (Fig. 1 c; Narendra et al., 2010), we detected no mitochondrial translocation of Parkin (Fig. 2 d), which is consistent with import and PARL-mediated cleavage of PINK1 in the inner mitochondrial membrane in the absence of uncoupling.\",\n",
        "        \"We and others have previously demonstrated that endogenous PINK1 behaves similarly to the overexpressed PINK1 counterparts in that PINK1 FL accumulates under valinomycin treatment and PINK1 Δ1 and Δ2 accumulate under proteasome inhibitor treatment [9,12,22].\",\n",
        "        \"While this functional role is unclear, several studies suggest a role of PINK1 in the mitochondrial fission/fusion pathway [26-28] and in mitophagy of damaged mitochondria [22,29-32].\",\n",
        "    ],\n",
        "    \"PMC2848616\" : [\n",
        "        \"Autophagy has been shown to protect neurons from Aβ induced cytotoxicity [44], [45], [46].\",\n",
        "        \"pharmacological stimulation of autophagy can be beneficial and reduce Aβ mediated toxicity [44], [45], [46].\",\n",
        "        \"In contrast, mTOR signaling was shown to be up-regulated in 7PA2 cells over-expressing mutant APP and in brains of another AD transgenic mouse, with rapamycin treatment reported as protective against behavioral decline [13], [14].\",\n",
        "        \"it was recently reported that chronic treatment with rapamycin improved behavior of AD transgenic mice [13], [14], although effects were mild. \",\n",
        "        \"The 3xTg-AD15-18 mice were treated for 3 months based on previous studies showing that in young mice 10-12 weeks of rapamycin administration is sufficient to reduce soluble Aβ and tau [29], [32].\",\n",
        "        \"We, and others, have previously shown that rapamycin reduces soluble Aβ and tau pathology and the associated early cognitive deficits in 6-month-old transgenic mice [29], [32].\",\n",
        "        \"Data in apparent contradiction to each other have been also reported by others [5], [29], [32], [71], [72], [73], [74], [75].\",\n",
        "        \"Under some conditions, autophagy can offer cytoprotection during neurodegenerative disorders [92,93].\",\n",
        "        \"In addition, mTOR inhibition that can lead to autophagy in murine models of AD has been shown to improve memory and limit Aβ levels [93].\",\n",
        "        \"autophagy may be necessary during inhibition of mTOR signaling to improve cognitive function, limit Aβ toxicity [93],\",\n",
        "    ],\n",
        "    \"PMC2958248\" : [\n",
        "        \"The cellular exonuclease TREX1 was recently shown to bind and digest excess cytosolic HIV-1 DNA that would otherwise activate type I IFN expression and trigger an innate immune response [15]\",\n",
        "        \"Interestingly, similar to SAMHD1, TREX1 mutations in humans are associated with autoimmune and inflammatory diseases, including AGS [15].\",\n",
        "        \"It is interesting to note that TREX1 has previously been implicated in the HIV-1 life cycle [42]\",\n",
        "        \"Yan et al. proposed that TREX1 suppressed a type I IFN response that otherwise would be induced by HIV-1 infection [42].\",\n",
        "        \"TREX1 was proposed to degrade cytosolic DNA resulting from HIV-1 reverse transcription, which would otherwise be capable of inducing an IFN response [42].\",\n",
        "        \"More recently, Lieberman and associates presented evidence that the cytosolic exonuclease TREX1 inhibits the innate immune response to HIV by degrading ssDNA derived from integrated provirus [36].\",\n",
        "        \"It was demonstrated that in the absence of TREX1, a type I IFN response is induced that inhibits HIV replication and spreading, although the specific DNA sensor responsible remains to be identified [36].\",\n",
        "        \"Recently, innate immune responses have been appreciated to play an important role in both control and pathogenesis of HIV infection [13], [29], [36], [45].\",\n",
        "        \"There is now evidence that HIV-1 has the potential to stimulate the innate immune system through its RNA, DNA, and capsid [16], [34], [36], [37].\",\n",
        "        \"Since only a few copies of HIV DNA integrate, the bulk of HIV DNA remains in the cytosol unless cleared by host enzymes (Yan et al., 2010)\",  \n",
        "    ]\n",
        "}"
      ],
      "metadata": {
        "id": "cSxxfRxJr-Xp"
      },
      "execution_count": null,
      "outputs": []
    },
    {
      "cell_type": "code",
      "source": [
        "results = {}"
      ],
      "metadata": {
        "id": "3CKAeJcpIABr"
      },
      "execution_count": null,
      "outputs": []
    },
    {
      "cell_type": "code",
      "source": [
        "def get_relevant_sentences(pmcid, claims):\n",
        "    global results\n",
        "\n",
        "    CURR_PMC = pmcid\n",
        "\n",
        "    with open(f'{CURR_PMC}.txt') as f:\n",
        "        text = f.read()\n",
        "\n",
        "    doc = nlp(text)\n",
        "    sentences = [str(s) for s in list(doc.sents)]\n",
        "    texts = [Text(s, {'sent_idx' : i}, 0) for i, s in enumerate(sentences)]\n",
        "\n",
        "    results[CURR_PMC] = []\n",
        "    zx = 0\n",
        "    for claim in claims:\n",
        "        print(zx)\n",
        "        zx += 1\n",
        "        query = Query(claim)\n",
        "        reranked = reranker.rerank(query, texts)\n",
        "        current_indices = []\n",
        "        # Print out reranked results:\n",
        "        for i in range(0, 10):\n",
        "            # print(f'{i+1:2} {reranked[i].text}')\n",
        "            current_indices.append(reranked[i].metadata['sent_idx'])\n",
        "        results[CURR_PMC].append(current_indices)"
      ],
      "metadata": {
        "id": "1eAc4YR0BJgd"
      },
      "execution_count": null,
      "outputs": []
    },
    {
      "cell_type": "code",
      "source": [
        "for key, value in contexts.items():\n",
        "    get_relevant_sentences(key, value)"
      ],
      "metadata": {
        "colab": {
          "base_uri": "https://localhost:8080/"
        },
        "id": "WRbZGvS8r-e7",
        "outputId": "d260ca54-f97e-4260-b4fc-e281a90e467a"
      },
      "execution_count": null,
      "outputs": [
        {
          "output_type": "stream",
          "name": "stdout",
          "text": [
            "0\n",
            "1\n",
            "2\n",
            "3\n",
            "4\n",
            "5\n",
            "6\n",
            "7\n",
            "8\n",
            "9\n",
            "0\n",
            "1\n",
            "2\n",
            "3\n",
            "4\n",
            "5\n",
            "6\n",
            "7\n",
            "8\n",
            "9\n",
            "0\n",
            "1\n",
            "2\n",
            "3\n",
            "4\n",
            "5\n",
            "6\n",
            "7\n",
            "8\n",
            "9\n"
          ]
        }
      ]
    },
    {
      "cell_type": "code",
      "source": [
        "def get_full_sentence(resObj):\n",
        "    newResObj = {}\n",
        "    for pmcid in resObj.keys():\n",
        "        print(pmcid)\n",
        "        with open(f'{pmcid}.txt') as f:\n",
        "            text = f.read()\n",
        "\n",
        "        doc = nlp(text)\n",
        "        sentences = [str(s) for s in list(doc.sents)]\n",
        "\n",
        "        pmcid_list = []\n",
        "        for lst in resObj[pmcid]:\n",
        "            newList = []\n",
        "            for idx in lst:\n",
        "                newList.append(sentences[idx])\n",
        "            pmcid_list.append(newList)\n",
        "        newResObj[pmcid] = pmcid_list\n",
        "    return newResObj"
      ],
      "metadata": {
        "id": "dVvirOA_sWyh"
      },
      "execution_count": null,
      "outputs": []
    },
    {
      "cell_type": "code",
      "source": [
        "res_sents = get_full_sentence(results)"
      ],
      "metadata": {
        "colab": {
          "base_uri": "https://localhost:8080/"
        },
        "id": "aF2_rfaPsW1D",
        "outputId": "a9a0d274-d685-4d33-c058-448efe17c2ac"
      },
      "execution_count": null,
      "outputs": [
        {
          "output_type": "stream",
          "name": "stdout",
          "text": [
            "PMC2811155\n",
            "PMC2848616\n",
            "PMC2958248\n"
          ]
        }
      ]
    },
    {
      "cell_type": "code",
      "source": [
        "import json\n",
        "with open('res_t5_ft.json', 'w') as f:\n",
        "    json.dump(res_sents, f)"
      ],
      "metadata": {
        "id": "WpSEZhbzt-lG"
      },
      "execution_count": null,
      "outputs": []
    },
    {
      "cell_type": "code",
      "source": [
        "cd ArticlesSelected/"
      ],
      "metadata": {
        "colab": {
          "base_uri": "https://localhost:8080/"
        },
        "id": "drElN44Ct-uL",
        "outputId": "50b94e78-c44d-4f6b-e261-5f62365961c4"
      },
      "execution_count": null,
      "outputs": [
        {
          "output_type": "stream",
          "name": "stdout",
          "text": [
            "/content/drive/MyDrive/Work/ArticlesSelected\n"
          ]
        }
      ]
    },
    {
      "cell_type": "code",
      "source": [
        "results = {}\n",
        "for key, value in contexts.items():\n",
        "    get_relevant_sentences(key, value)"
      ],
      "metadata": {
        "colab": {
          "base_uri": "https://localhost:8080/"
        },
        "id": "wHObAq9GvR-P",
        "outputId": "ddbd9d9c-32f6-485a-8065-5d0204147cf0"
      },
      "execution_count": null,
      "outputs": [
        {
          "output_type": "stream",
          "name": "stdout",
          "text": [
            "0\n",
            "1\n",
            "2\n",
            "3\n",
            "4\n",
            "5\n",
            "6\n",
            "7\n",
            "8\n",
            "9\n",
            "0\n",
            "1\n",
            "2\n",
            "3\n",
            "4\n",
            "5\n",
            "6\n",
            "7\n",
            "8\n",
            "9\n",
            "0\n",
            "1\n",
            "2\n",
            "3\n",
            "4\n",
            "5\n",
            "6\n",
            "7\n",
            "8\n",
            "9\n"
          ]
        }
      ]
    },
    {
      "cell_type": "code",
      "source": [
        "res_sents = get_full_sentence(results)"
      ],
      "metadata": {
        "colab": {
          "base_uri": "https://localhost:8080/"
        },
        "id": "a0b-ZY3KvSCp",
        "outputId": "4788f68c-ab07-44af-bd20-71b2f0574603"
      },
      "execution_count": null,
      "outputs": [
        {
          "output_type": "stream",
          "name": "stdout",
          "text": [
            "PMC2811155\n",
            "PMC2848616\n",
            "PMC2958248\n"
          ]
        }
      ]
    },
    {
      "cell_type": "code",
      "source": [
        "import json\n",
        "with open('res_t5_discussion.json', 'w') as f:\n",
        "    json.dump(res_sents, f)"
      ],
      "metadata": {
        "id": "mjscCOkowEqp"
      },
      "execution_count": null,
      "outputs": []
    },
    {
      "cell_type": "code",
      "source": [],
      "metadata": {
        "id": "H1Ej7Sadv-dv"
      },
      "execution_count": null,
      "outputs": []
    },
    {
      "cell_type": "code",
      "source": [],
      "metadata": {
        "id": "dxQJBCKKv-hG"
      },
      "execution_count": null,
      "outputs": []
    },
    {
      "cell_type": "code",
      "source": [
        "claims_list = [\n",
        "    \"the CCCP-stabilized form of PINK1 that localizes to the outer mitochondrial membrane facing the cytosol (Narendra et al., 2010)\",\n",
        "    \"experimentally stabilized PINK1 on the mitochondrial outer membrane recruits Parkin even in the absence of mitochondrial uncoupling (Narendra et al., 2010)\",\n",
        "    \"When we treated HeLa cells stably expressing YFP-Parkin with MG132 for 8 h to accumulate the 52-kD PINK1 (Fig. 1 c; Narendra et al., 2010)\",\n",
        "    \"We and others have previously demonstrated that endogenous PINK1 behaves similarly to the overexpressed PINK1 counterparts in that PINK1 FL accumulates under valinomycin treatment and PINK1 Δ1 and Δ2 accumulate under proteasome inhibitor treatment [9,12,22]\",\n",
        "    \"mitophagy of damaged mitochondria [22,29-32].\",\n",
        "    \"PINK1 and Parkin have also been suggested to collaborate to form a mitochondrial quality control system [11], [12]\",\n",
        "    \"This translocation of Parkin requires the function of PINK1, which is stabilized and accumulates on damaged mitochondria [12]\",\n",
        "    \"Consistent with genetic studies in flies that indicated that they work in the same pathway, Parkin translocation and mitophagy induction require PINK1 activity (Geisler et al., 2010; Matsuda et al., 2010; Narendra et al., 2010; Vives-Bauza et al., 2010)\",\n",
        "    \"To achieve this, we applied two Parkin mutants: ParkinR275W, which translocates to depolarized mitochondria but fails to induce mitophagy; and ParkinC441R, which fails to translocate to mitochondria (Narendra et al., 2010)\",\n",
        "    \"PINK1, a mitochondrial kinase, is essential for the Parkin translocation to depolarized mitochondria and for Parkin-mediated mitophagy (Geisler et al., 2010; Matsuda et al., 2010; Narendra et al., 2010; Vives-Bauza et al., 2010)\",\n",
        "    \"In contrast to inhibition of transcription, inhibition of translation by treatment with cycloheximide (CHX) prevents both the CCCP-dependent induction of PINK1 expression and Parkin translocation to CCCP-uncoupled mitochondria (Narendra et al., 2010)\",\n",
        "    \"M17 neuroblastoma carrying small hairpin RNA (shRNA) for control or PINK1 (Narendra et al., 2010)\",\n",
        "    \"The plasmids carrying shRNA sequences for DRP1, Mito-YFP, mCherry-Parkin, YFP-Parkin (wild type, R275W, C441R), and Mfn2-YFP have been described previously (Karbowski et al., 2007; Narendra et al., 2008, 2010)\",\n",
        "    \"PINK1 is required for recruitment of Parkin to mitochondria with impaired membrane potential [11], [12]\",\n",
        "    \"Parkin promotes the degradation of functionally impaired mitochondria through ubiquitination-dependent autophagy [11], [12], [13]\",\n",
        "    \"PINK1 kinase activity is required for many Parkin functions and Parkin acts downstream of PINK1 [11]\",\n",
        "    \"Under stress conditions, PINK1 recruits Parkin to dysfunctional mitochondria [14], [15], [16], [17].\",\n",
        "    \"a deficit in mitophagy leads to accumulation of dysfunctional mitochondria in the cell [14], [15], [16], [17].\",\n",
        "    \"Several studies reported that mitochondrial stress, such as exposure to membrane potential inhibitors, initiates the PINK1/Parkin mitophagy pathway [14], [15], [16], [17], [20], [28].\",\n",
        "    \"the “increased” mfn levels in pink1 or parkin knockdown flies may reflect an increase in mitochondrial biogenesis in these mutants [17].\",\n",
        "    \"Miro protein level might be regulated by PINK1 and possibly Parkin, which tends to work together with PINK1 in a common pathway [3]–[5], [39].\",\n",
        "    \"A decline in mitochondrial membrane-potential induced by the mitochondrial uncoupler carbonyl cyanide m-chlorophenylhydrazone (CCCP) was reported to activate the PINK1/Parkin pathway [13], [14], [39].\",\n",
        "    \"normally labile PINK1 protein is stabilized on damaged mitochondria [39],\",\n",
        "    \"PINK1 recruits Parkin to mitochondria via its kinase activity (Geisler et al., 2010; Matsuda et al., 2010; Narendra et al., 2010; Vives-Bauza et al., 2010).\",\n",
        "    \"Previously examined Parkin mutations that occur in PD patients display a range of mitochondrial translocation activities but most fail to induce mitophagy (Geisler et al., 2010; Matsuda et al., 2010; Narendra et al., 2010).\", \n",
        "]"
      ],
      "metadata": {
        "id": "OrN6PtXUP1XY"
      },
      "execution_count": null,
      "outputs": []
    },
    {
      "cell_type": "code",
      "source": [
        "get_relevant_sentences('PMC2811155', claims_list)"
      ],
      "metadata": {
        "colab": {
          "base_uri": "https://localhost:8080/"
        },
        "id": "rl2uxPN9Pysm",
        "outputId": "8aab58c3-0dd8-4cff-b115-2829aa52b21d"
      },
      "execution_count": null,
      "outputs": [
        {
          "output_type": "stream",
          "name": "stdout",
          "text": [
            "0\n",
            "1\n",
            "2\n",
            "3\n",
            "4\n",
            "5\n",
            "6\n",
            "7\n",
            "8\n",
            "9\n",
            "10\n",
            "11\n",
            "12\n",
            "13\n",
            "14\n",
            "15\n",
            "16\n",
            "17\n",
            "18\n",
            "19\n",
            "20\n",
            "21\n",
            "22\n",
            "23\n",
            "24\n"
          ]
        }
      ]
    },
    {
      "cell_type": "code",
      "source": [
        "results"
      ],
      "metadata": {
        "colab": {
          "base_uri": "https://localhost:8080/"
        },
        "id": "rb4-vRtqR3my",
        "outputId": "88793383-fc1c-4a3f-ae76-a14ccb04ba9e"
      },
      "execution_count": null,
      "outputs": [
        {
          "output_type": "execute_result",
          "data": {
            "text/plain": [
              "{'PMC2811155': [[168, 180, 167, 160, 299, 153, 85, 157, 221, 220],\n",
              "  [168, 149, 121, 156, 145, 163, 154, 157, 164, 0],\n",
              "  [82, 83, 169, 415, 353, 399, 420, 504, 485, 103],\n",
              "  [81, 103, 104, 83, 75, 50, 93, 61, 57, 68],\n",
              "  [122, 1, 205, 125, 381, 168, 129, 22, 380, 138],\n",
              "  [211, 28, 37, 24, 11, 274, 9, 10, 176, 234],\n",
              "  [156, 33, 149, 57, 4, 0, 216, 101, 40, 36],\n",
              "  [139, 9, 106, 129, 137, 123, 127, 168, 28, 4],\n",
              "  [185, 203, 197, 164, 253, 168, 243, 123, 249, 157],\n",
              "  [129, 106, 4, 123, 169, 216, 141, 328, 33, 139],\n",
              "  [172, 91, 171, 170, 151, 166, 169, 154, 113, 174],\n",
              "  [47, 444, 433, 400, 329, 448, 451, 435, 278, 131],\n",
              "  [281, 278, 189, 120, 61, 251, 293, 290, 161, 155],\n",
              "  [156, 169, 4, 106, 141, 216, 328, 36, 217, 109],\n",
              "  [211, 29, 36, 381, 1, 122, 125, 134, 248, 33],\n",
              "  [139, 101, 105, 216, 175, 328, 41, 26, 129, 106],\n",
              "  [211, 33, 40, 176, 259, 156, 216, 275, 29, 169],\n",
              "  [275, 211, 33, 380, 22, 138, 71, 29, 205, 262],\n",
              "  [232, 168, 24, 217, 33, 137, 129, 34, 139, 234],\n",
              "  [134, 274, 333, 275, 163, 27, 217, 157, 164, 109],\n",
              "  [274, 28, 26, 175, 232, 67, 9, 24, 178, 234],\n",
              "  [217, 143, 41, 169, 0, 43, 176, 164, 75, 232],\n",
              "  [0, 57, 149, 35, 156, 78, 215, 3, 168, 167],\n",
              "  [393, 176, 274, 110, 381, 235, 238, 234, 156, 328],\n",
              "  [205, 185, 203, 243, 249, 248, 122, 367, 176, 168]]}"
            ]
          },
          "metadata": {},
          "execution_count": 15
        }
      ]
    },
    {
      "cell_type": "code",
      "source": [
        "full_res = get_full_sentence(results)"
      ],
      "metadata": {
        "colab": {
          "base_uri": "https://localhost:8080/"
        },
        "id": "oA8FWF5CSEDH",
        "outputId": "1b825d3c-837b-4387-c071-6ac4e0ac89e3"
      },
      "execution_count": null,
      "outputs": [
        {
          "output_type": "stream",
          "name": "stdout",
          "text": [
            "PMC2811155\n"
          ]
        }
      ]
    },
    {
      "cell_type": "code",
      "source": [
        "full_res = get_full_sentence(results)\n",
        "\n",
        "import json\n",
        "with open('res1_t5.json', 'w') as f:\n",
        "    json.dump(full_res, f)"
      ],
      "metadata": {
        "id": "OxxQE5mYSSgk"
      },
      "execution_count": null,
      "outputs": []
    },
    {
      "cell_type": "code",
      "source": [
        "pmc_claim = {\n",
        "    'PMC2811155' : [\n",
        "        \"which is dependent on PINK1 kinase activity (Geisler et al., 2010; Matsuda et al., 2010; Narendra et al., 2010; Vives-Bauza et al., 2010).\",\n",
        "        \"Although endogenous PINK1 protein expression is constitutively low owing to rapid turnover, PINK1 proteolysis is inhibited by mitochondrial uncoupling, allowing a robust increase in expression when a mitochondrion is damaged and loses membrane potential (Lin and Kang, 2008; Matsuda et al., 2010; Narendra et al., 2010).\",\n",
        "        \"ectopic and endogenous PINK1 have been reported to span the outer mitochondrial membrane with the C-terminal kinase region facing the cytosol poised to induce Parkin translocation (Zhou et al., 2008; Narendra et al., 2010).\",\n",
        "        \"owing to insufficient knockdown of endogenous PARL in HeLa cells and to insufficient expression of ectopic PINK1 in PARL knockout (KO) mouse embryonic fibroblasts (MEFs; Narendra et al., 2010).\",\n",
        "        \"proteosome-independent proteolysis yields a 52-kD form of PINK1 that is subsequently degraded by the proteosome (Narendra et al., 2010).\",\n",
        "    ],\n",
        "\n",
        "    'PMC2848616' : [\n",
        "        \"Autophagy has been shown to protect neurons from Aβ induced cytotoxicity\",\n",
        "        \"pharmacological stimulation of autophagy can be beneficial and reduce Aβ mediated toxicity\",\n",
        "        \"mTOR signaling was shown to be up-regulated in 7PA2 cells over-expressing mutant APP and in brains of another AD transgenic mouse, with rapamycin treatment reported as protective against behavioral decline\",\n",
        "        \"chronic treatment with rapamycin improved behavior of AD transgenic mice although effects were mild\",\n",
        "        \"The 3xTg-AD15-18 mice were treated for 3 months based on previous studies showing that in young mice 10-12 weeks of rapamycin administration is sufficient to reduce soluble Aβ and tau [29], [32].\"\n",
        "    ],\n",
        "\n",
        "    'PMC2958248' : [\n",
        "        \"The cellular exonuclease TREX1 was recently shown to bind and digest excess cytosolic HIV-1 DNA that would otherwise activate type I IFN expression and trigger an innate immune response\",\n",
        "        \"Interestingly, similar to SAMHD1, TREX1 mutations in humans are associated with autoimmune and inflammatory diseases, including AGS\",\n",
        "        \"TREX1 has previously been implicated in the HIV-1 life cycle\",\n",
        "        \"TREX1 suppressed a type I IFN response that otherwise would be induced by HIV-1 infection\",\n",
        "        \"TREX1 was proposed to degrade cytosolic DNA resulting from HIV-1 reverse transcription, which would otherwise be capable of inducing an IFN response\"\n",
        "    ],\n",
        "\n",
        "    'PMC3090745': [\n",
        "        \"These studies have identified several new genes that show significant association after multiple test correction in multiple datasets: CLU, PICALM, BIN1, CR1, ABCA7, MS4A6A, CD33 and CD2AP [31]–[35].\",\n",
        "        \"All variants classified as “likely pathogenic” or with an “unknown pathogenicity”, and some “non-pathogenic” variants were genotyped in 961 sporadic AD cases, 1,346 unrelated elderly non-demented controls\",\n",
        "        \"Since 2009, four GWAS and a three-stage analysis of the GWAS resulted in the identification of nine novel loci associated with late-onset AD: CLU, PICALM, CR1, BIN1, ABCA7, MS4A cluster (MS4A6A/MS4A4E), CD2AP, CD33, and EPHA1 (Harold et al., 2009; Lambert et al., 2009; Seshadri et al., 2010; Hollingworth et al., 2011a,b; Naj et al., 2011).\",\n",
        "        \"Examining the amount of genetic risk effect attributable to these genes (other than APOE), the most strongly associated single-nucleotide polymorphisms at each locus have population attributable fractions between 2.72 and 5.97%, with a cumulative population attributable fraction for non-APOE loci estimated to be as much as 35% (Naj et al., 2011).\",\n",
        "        \"To investigate whether any of the significant brain cisSNPs may influence risk of AD, we compared our eGWAS results to the AD risk associations from the large AD GWAS conducted by ADGC [28].\"\n",
        "    ],\n",
        "\n",
        "    'PMC3096954': [\n",
        "        \"Recently, a subgroup of Basal-like tumors associated with poor prognosis has also been reported [4,5].\",\n",
        "        \"Context 130, a Basal-like context has under-expression of GATA3 which is in concordance with previous studies of Basal-like subgroup, ’claudin-low’ with poor prognosis and more refractory to chemotherapy [5] .\",\n",
        "        \"Molecular profiling has identified 5 distinct subtypes of human breast tumors, luminal A, luminal B, HER2-enriched, basal-like and claudin-low [1-7].\",\n",
        "        \"Claudin-low tumors express mesenchymal genes such as Twist1, Twist2, Zeb1, Zeb2, Slug and Snail and low levels of E-cadherin and claudins 3, 4 and 7 [6,7].\",\n",
        "        \"Since claudin-low tumors possess features of stem cells [7], it is possible that the tumors that regress and recur or only partially regress are those that contain claudin-low cells.\",\n",
        "    ],\n",
        "\n",
        "    'PMC3179858': [\n",
        "        \"By contrast, Hrecka and colleagues identified SAMHD1 from HEK 293T cells expressing tagged Vpx in a proteomic screen using multidimensional protein identification technology [10].\",\n",
        "        \"They demonstrated that Vpx relieves the inhibition of HIV-1 infection in monocyte-derived macrophages by mediating proteasome-dependent degradation of SAMHD1 through the CUL4A/DCAF1 E3 ubiquitin ligase [10].\",\n",
        "        \"Both studies confirmed that Vpx interacts with SAMHD1 and induces proteasomal degradation of SAMHD1 in THP-1 cells or macrophages, which can be restored by treatment with a proteasome inhibitor [9,10].\",\n",
        "        \"Further analysis revealed that SAMHD1 blocks HIV-1 reverse transcription, as silencing SAMHD1 in THP-1 cells [9] and macrophages [10] increases the levels of viral DNA.\",\n",
        "        \"Together, these studies suggested that SAMHD1 is the myeloid-cell specific HIV-1 restriction factor counteracted by Vpx [9,10] (Figure 1).\"\n",
        "    ],\n",
        "\n",
        "    'PMC3442244': [\n",
        "        \"Currently, over 60 common risk variants have been identified [30–34], with a combined disease risk of 5–10% [34, 35], suggesting the existence of many more as yet undiscovered loci [34, 36, 37].\",\n",
        "        \"A fundamental challenge facing those wishing to determine which of the genes in a particular locus is responsible for affecting disease risk, and dissect how this/these act, is the very scale of the problem (currently more than 500 genes in total to interrogate, with others emerging) [35]\",\n",
        "        \"According to the most recent meta-analysis of genome-wide association studies, 63 individual SNPs have now been linked with diabetes risk [1].\",\n",
        "        \"However, these variants explain only ∼5.7% of variance in disease susceptibility [1].\",\n",
        "        \"Of these SNPs, 66,000 were selected for efficient replication of top signals across multiple traits, with the hope that when tested in sufficiently large samples they might exceed genome-wide statistical significance (9,10)\"\n",
        "    ],\n",
        "\n",
        "    'PMC3522098': [\n",
        "        \"Interestingly, we found that Fndc5, the gene that codes for the recently discovered antidiabetic hormone irisin [39] was also significantly increased in Cox6a2 −/− diaphragm (data not shown).\",\n",
        "        \"This suggests the existence of a crosstalk between skeletal muscle and adipose tissue, as was recently shown with the identification of a new hormone, irisin, which stimulates browning and UCP1 expression in WAT [39].\",\n",
        "        \"Irisin, encoded by the Fndc5 gene, is a newly identified hormone from the muscle of PGC-1α transgenic mice.67 Irisin can be induced by exercise in both mice and humans\",\n",
        "        \"Overexpression of irisin in the liver of mice, via adenoviral delivery, increases energy expenditure and reduces high fat diet-induced obesity.67\",\n",
        "        \"This question is especially pertinent because interest in thermogenic drugs and drug targets has been rekindled by new evidence that brown adipose tissue can be active in adult humans and the discovery of new targets for drugs that might augment and activate brown adipose tissue (Fruhbeck et al., 2009; Wu et al., 2011; Bostrom et al., 2012; Fournier et al., 2012; Ye et al., 2012).\"\n",
        "    ],\n",
        "\n",
        "    'PMC3607626': [\n",
        "        \"To date, a number of studies have investigated gene expression in ASD (for review see [29]), with three examining ASD brain tissue on a genome-wide scale [30], [31], [32].\",\n",
        "        \"Lastly, we were interested in considering our findings in the context of the major three published transcriptomics studies on ASD brain tissue [30], [31], [32].\",\n",
        "        \"The most comprehensive transcriptomics study of ASD post-mortem brain to date (Voineagu et al) concludes that one of two significant co-expression networks is involved in immune function [32].\",\n",
        "        \"This network analysis led to the identification of specific co-expression modules that are differentially expressed in ASD and controls [20].\",\n",
        "        \"These included a neuronal module that was enriched for genes with low GWAS P-values, suggesting that the differential expression of this module between cases and controls reflects a causal relationship [20].\"\n",
        "    ],\n",
        "\n",
        "    'PMC3650111': [\n",
        "        \"Interestingly, Prevotella-dominated healthy omnivore individuals were recently reported to have increased basal levels of serum TMAO (trimethylamine N-oxide), a product of inflammation linked to atherogenesis, compared to Bacteroides-dominated healthy individuals (Koeth et al., 2013).\",\n",
        "        \"While TMAO could be derived from increased consumption of meat (Koeth et al., 2013), Prevotella has been previously associated with a dearth of meat in the diet (Wu et al., 2011).\",\n",
        "        \"Additional, recent mouse studies [145] investigating how consumption of red meat may accelerate cardiovascular disease and inflammation in humans [146,147] suggest an additional and potentially serious limitation on probiotic supplementation.\",\n",
        "        \"Dietary L-carnitine and choline, compounds abundant in red meat, are metabolized into trimethylamine-N-oxide (TMAO) by way of some normal gut commensals; in mice TMAO enhances atherosclerosis through disrupting cholesterol metabolism and foam-cell macrophage activity [145].\",\n",
        "        \"In both humans and mice, TMAO concentrations correlate positively with CVD risk, and dietary supplementation with either TMAO or compounds that can be metabolized to TMAO increases atherosclerosis in mice12\"\n",
        "    ]\n",
        "\n",
        "\n",
        "}"
      ],
      "metadata": {
        "id": "8RfYBFbbHsQH"
      },
      "execution_count": null,
      "outputs": []
    },
    {
      "cell_type": "code",
      "source": [],
      "metadata": {
        "id": "MqsBC4xvSRY-"
      },
      "execution_count": null,
      "outputs": []
    },
    {
      "cell_type": "markdown",
      "source": [
        "# PMC2811155"
      ],
      "metadata": {
        "id": "iDCppBtNH3tq"
      }
    },
    {
      "cell_type": "code",
      "source": [
        "pwd"
      ],
      "metadata": {
        "colab": {
          "base_uri": "https://localhost:8080/",
          "height": 35
        },
        "id": "NI_VQVm2BWuy",
        "outputId": "cbe277bf-3d08-48d1-9d01-92ccb2dbed2d"
      },
      "execution_count": null,
      "outputs": [
        {
          "output_type": "execute_result",
          "data": {
            "text/plain": [
              "'/content/drive/MyDrive/Work'"
            ],
            "application/vnd.google.colaboratory.intrinsic+json": {
              "type": "string"
            }
          },
          "metadata": {},
          "execution_count": 13
        }
      ]
    },
    {
      "cell_type": "code",
      "source": [
        "claims = [\n",
        "    \"which is dependent on PINK1 kinase activity (Geisler et al., 2010; Matsuda et al., 2010; Narendra et al., 2010; Vives-Bauza et al., 2010).\",\n",
        "    \"Although endogenous PINK1 protein expression is constitutively low owing to rapid turnover, PINK1 proteolysis is inhibited by mitochondrial uncoupling, allowing a robust increase in expression when a mitochondrion is damaged and loses membrane potential (Lin and Kang, 2008; Matsuda et al., 2010; Narendra et al., 2010).\",\n",
        "    \"ectopic and endogenous PINK1 have been reported to span the outer mitochondrial membrane with the C-terminal kinase region facing the cytosol poised to induce Parkin translocation (Zhou et al., 2008; Narendra et al., 2010).\",\n",
        "    \"owing to insufficient knockdown of endogenous PARL in HeLa cells and to insufficient expression of ectopic PINK1 in PARL knockout (KO) mouse embryonic fibroblasts (MEFs; Narendra et al., 2010).\",\n",
        "    \"proteosome-independent proteolysis yields a 52-kD form of PINK1 that is subsequently degraded by the proteosome (Narendra et al., 2010).\",\n",
        "]"
      ],
      "metadata": {
        "id": "mM2cqG8tAlSd"
      },
      "execution_count": null,
      "outputs": []
    },
    {
      "cell_type": "code",
      "source": [
        "get_relevant_sentences('PMC2811155', claims)"
      ],
      "metadata": {
        "id": "sp3LSFatAlV7"
      },
      "execution_count": null,
      "outputs": []
    },
    {
      "cell_type": "code",
      "source": [
        "results"
      ],
      "metadata": {
        "id": "9qnUkgxFAleg",
        "colab": {
          "base_uri": "https://localhost:8080/"
        },
        "outputId": "bd43615a-ae6a-40b8-d4db-10e802f0d1d1"
      },
      "execution_count": null,
      "outputs": [
        {
          "output_type": "execute_result",
          "data": {
            "text/plain": [
              "{'PMC2811155': [[33, 127, 112, 257, 101, 269, 105, 95, 147, 106],\n",
              "  [215, 73, 3, 42, 380, 89, 217, 333, 61, 35],\n",
              "  [157, 168, 141, 163, 161, 333, 217, 176, 94, 299],\n",
              "  [98, 103, 399, 97, 238, 353, 99, 96, 91, 170],\n",
              "  [86, 74, 379, 81, 220, 315, 3, 95, 152, 35]]}"
            ]
          },
          "metadata": {},
          "execution_count": 13
        }
      ]
    },
    {
      "cell_type": "code",
      "source": [
        "with open('PMC2811155.txt') as f:\n",
        "    text = f.read()\n",
        "\n",
        "doc = nlp(text)\n",
        "sentences = [str(s) for s in list(doc.sents)]\n",
        "texts = [Text(s, {'sent_idx' : i}, 0) for i, s in enumerate(sentences)]\n",
        "\n",
        "results['PMC2811155'] = []\n",
        "\n",
        "CURR_PMC = 'PMC2811155'"
      ],
      "metadata": {
        "id": "4l7NCsNtH21K"
      },
      "execution_count": null,
      "outputs": []
    },
    {
      "cell_type": "markdown",
      "source": [
        "## Claim 1"
      ],
      "metadata": {
        "id": "CafT7FfKIT-z"
      }
    },
    {
      "cell_type": "code",
      "source": [
        "claim = \"which is dependent on PINK1 kinase activity (Geisler et al., 2010; Matsuda et al., 2010; Narendra et al., 2010; Vives-Bauza et al., 2010).\""
      ],
      "metadata": {
        "id": "s92TJcLzIdns"
      },
      "execution_count": null,
      "outputs": []
    },
    {
      "cell_type": "code",
      "source": [
        "query = Query(claim)\n",
        "reranked = reranker.rerank(query, texts)\n",
        "current_indices = []\n",
        "# Print out reranked results:\n",
        "for i in range(0, 10):\n",
        "    print(f'{i+1:2} {reranked[i].text}')\n",
        "    current_indices.append(reranked[i].metadata['sent_idx'])\n",
        "results[CURR_PMC].append(current_indices)"
      ],
      "metadata": {
        "colab": {
          "base_uri": "https://localhost:8080/"
        },
        "id": "gM2z5RfVIdpv",
        "outputId": "504c9c2c-1449-4023-f535-f449ebaa9fe9"
      },
      "execution_count": null,
      "outputs": [
        {
          "output_type": "stream",
          "name": "stdout",
          "text": [
            " 1 Here, we show that full-length PINK1 accumulates selectively on dysfunctional mitochondria, and that Parkin recruitment to depolarized mitochondria and subsequent Parkin-induced mitophagy are strictly dependent on PINK1's mitochondrial targeting signal and depolarization-induced accumulation.\n",
            " 2 We found that Parkin-induced mitophagy is also dependent on PINK1 expression in the M17 human neuroblastoma cell line.\n",
            " 3 We further tested the dependence of Parkin recruitment on PINK1 in a SV40-transformed MEF cell line, which was derived from an independently generated PINK1−/− mouse [29] (Figure 3C and Figure S3A).\n",
            " 4 The stringent dependence of Parkin recruitment on PINK1 under depolarizing conditions is a little surprising given that, when overexpressed, Parkin can partially compensate for PINK1 loss in Drosophila and in mammalian cells [11]–[13],[20].\n",
            " 5 \n",
            "\n",
            "PINK1 Accumulation on Depolarized Mitochondria Is Independent of Parkin Expression\n",
            "\n",
            "Previous studies in Drosophila and mammalian cells indicate that PINK1 functions genetically upstream of Parkin [11]–[13],[20],[32], although the molecular mechanism of this genetic interaction remains unexplained.\n",
            " 6 PINK1's interaction with HtrA2/OMI, for instance, appears to be independent of Parkin function in Drosophila [31],[52],[53].\n",
            " 7 Together, these results show that PINK1 accumulation is upstream of Parkin recruitment to depolarized mitochondria and independent of Parkin expression.\n",
            " 8 \n",
            "\n",
            "PINK1 Accumulation on Depolarized Mitochondria Is Independent of the Protease PARL\n",
            "\n",
            "The protease responsible for PINK1 cleavage in mammalian cells is unknown, but in Drosophila cells, the intramembrane serine protease, Rhomboid-7, appears to be required for PINK1 cleavage [31].\n",
            " 9 Together, these results demonstrate that the kinetics of Parkin recruitment is exquisitely sensitive to PINK1 levels in the cell.\n",
            "10 \n",
            "\n",
            "PINK1 Expression Is Required for Parkin Recruitment to Depolarized Mitochondria and Parkin-Induced Mitophagy\n",
            "\n",
            "Next, we tested whether Parkin recruitment to depolarized mitochondria is dependent on PINK1 expression.\n"
          ]
        }
      ]
    },
    {
      "cell_type": "markdown",
      "source": [
        "## Claim 2"
      ],
      "metadata": {
        "id": "6z6Z5nScIVbx"
      }
    },
    {
      "cell_type": "code",
      "source": [
        "claim = \"Although endogenous PINK1 protein expression is constitutively low owing to rapid turnover, PINK1 proteolysis is inhibited by mitochondrial uncoupling, allowing a robust increase in expression when a mitochondrion is damaged and loses membrane potential (Lin and Kang, 2008; Matsuda et al., 2010; Narendra et al., 2010).\""
      ],
      "metadata": {
        "id": "uRaOzF97KPL9"
      },
      "execution_count": null,
      "outputs": []
    },
    {
      "cell_type": "code",
      "source": [
        "query = Query(claim)\n",
        "reranked = reranker.rerank(query, texts)\n",
        "current_indices = []\n",
        "# Print out reranked results:\n",
        "for i in range(0, 10):\n",
        "    print(f'{i+1:2} {reranked[i].text}')\n",
        "    current_indices.append(reranked[i].metadata['sent_idx'])\n",
        "results[CURR_PMC].append(current_indices)"
      ],
      "metadata": {
        "colab": {
          "base_uri": "https://localhost:8080/"
        },
        "id": "7GnX6D8vKPSd",
        "outputId": "7dbffdd5-20bc-4f9f-ca0a-be12c2f6ef16"
      },
      "execution_count": null,
      "outputs": [
        {
          "output_type": "stream",
          "name": "stdout",
          "text": [
            " 1 On damaged mitochondria that have lost their membrane potential, however, PINK1 cleavage is inhibited, leading to high PINK1 expression on the dysfunctional mitochondria.\n",
            " 2 PINK1 Cleavage Is Inhibited by Loss of Membrane Potential, Leading to Its Accumulation on the Outer Mitochondrial Membrane\n",
            "\n",
            "Regulation of PINK1 expression at the level of transcription or translation would likely not be selective for a subpopulation of mitochondria, and so we assessed whether increased PINK1 expression on damaged mitochondria is achieved by the selective removal of PINK1 from functional mitochondria.\n",
            " 3 Here, we show that expression of PINK1 on individual mitochondria is regulated by voltage-dependent proteolysis to maintain low levels of PINK1 on healthy, polarized mitochondria, while facilitating the rapid accumulation of PINK1 on mitochondria that sustain damage.\n",
            " 4 Remarkably, levels of endogenous mitochondrial PINK1 respond robustly to changes in mitochondrial membrane potential.\n",
            " 5 On damaged mitochondria with low membrane potentials (ΔΨ), however, PINK1 cleavage is blocked, leading to accumulation of mitochondrial PINK1 on the dysfunctional mitochondria.\n",
            " 6 Although these experiments suggest that the increased expression of PINK1 is due at least in part to inhibition of PINK1 cleavage, it is possible that increased transcription of PINK1 following depolarization might also be contributing to the increase in PINK1 abundance.\n",
            " 7 In addition, increased expression of PINK1 on the outer mitochondrial membrane is sufficient for Parkin recruitment and Parkin-induced mitophagy, suggesting that loss of membrane potential activates Parkin recruitment primarily through the up-regulation of mitochondrial PINK1.\n",
            " 8 \n",
            "Increased expression of PINK1 on the outer mitochondrial membrane is sufficient for Parkin recruitment.\n",
            " 9 Similar to results with Parkin reported previously [21], we found that PINK1-YFP accumulates preferentially on damaged mitochondria with low membrane potential (Figure 1G).\n",
            "10 In this model, mitochondrial PINK1 is rapidly turned over on bioenergetically well-coupled mitochondria by proteolysis, but is selectively stabilized on mitochondria with low membrane potential.\n"
          ]
        }
      ]
    },
    {
      "cell_type": "markdown",
      "source": [
        "## Claim 3"
      ],
      "metadata": {
        "id": "m7MD_8hQIVhc"
      }
    },
    {
      "cell_type": "code",
      "source": [
        "claim = \"ectopic and endogenous PINK1 have been reported to span the outer mitochondrial membrane with the C-terminal kinase region facing the cytosol poised to induce Parkin translocation (Zhou et al., 2008; Narendra et al., 2010).\""
      ],
      "metadata": {
        "id": "GDX_LNy9Ka_d"
      },
      "execution_count": null,
      "outputs": []
    },
    {
      "cell_type": "code",
      "source": [
        "query = Query(claim)\n",
        "reranked = reranker.rerank(query, texts)\n",
        "current_indices = []\n",
        "# Print out reranked results:\n",
        "for i in range(0, 10):\n",
        "    print(f'{i+1:2} {reranked[i].text}')\n",
        "    current_indices.append(reranked[i].metadata['sent_idx'])\n",
        "results[CURR_PMC].append(current_indices)"
      ],
      "metadata": {
        "colab": {
          "base_uri": "https://localhost:8080/"
        },
        "id": "dgbHSyKmKfRI",
        "outputId": "84d9098d-c7c9-447f-904e-ed0033313b40"
      },
      "execution_count": null,
      "outputs": [
        {
          "output_type": "stream",
          "name": "stdout",
          "text": [
            " 1 \n",
            "\n",
            "To verify that increased expression of PINK1 on the outer mitochondrial membrane is sufficient to induce Parkin recruitment, we used a regulated heterodimerization system [40], in which the modified FRB domain was fused to PINK1 Δ1-110-YFP and the FKBP domain was fused to the outer mitochondrial membrane anchor of TOM20 (residues 1 through 33) (Figure S4A).\n",
            " 2 These data demonstrate that stable expression of PINK1 on the outer mitochondrial membrane is sufficient to induce mitophagy in the presence of Parkin, irrespective of membrane potential.\n",
            " 3 Expression of PINK1 on the Outer Mitochondrial Membrane Is Sufficient for Parkin Recruitment and Mitophagy\n",
            "\n",
            "The expression of mitochondrial PINK1 is necessary for recruitment of Parkin to mitochondria.\n",
            " 4 Thus, increased expression of PINK1 on the outer mitochondrial membrane is sufficient to recruit Parkin to mitochondria.\n",
            " 5 To assess whether PINK1 expression on the outer mitochondrial membrane is sufficient to recruit Parkin, we cotransfected mCherry-Parkin, FRB-PINK1Δ1-110-YFP, and TOM20-FKBP.\n",
            " 6 \n",
            "Increased expression of PINK1 on the outer mitochondrial membrane is sufficient for Parkin recruitment.\n",
            " 7 In addition, increased expression of PINK1 on the outer mitochondrial membrane is sufficient for Parkin recruitment and Parkin-induced mitophagy, suggesting that loss of membrane potential activates Parkin recruitment primarily through the up-regulation of mitochondrial PINK1.\n",
            " 8 \n",
            "\n",
            "Threonines 175 and 217 in Parkin May Not Be Involved in Parkin Recruitment to Mitochondria\n",
            "\n",
            "It has been proposed that PINK1 may induce mitochondrial recruitment of Parkin through phosphorylation of threonines 175 and 217 in a highly conserved region/domain of Parkin, which has been recently named RING0 (Figure S5A) [27],[41]. We found that although mutation of T175 and T217 to alanine blocked recruitment of Parkin to mitochondria, as was reported previously, the phosphomimetic mutants T175E, T217E, and T175, 217E do not translocate to mitochondria spontaneously. In addition, these phosphomimetic mutants appear to inhibit CCCP-induced recruitment of Parkin. Although these findings do not rule out the possibility that phosphorylation of these sites by PINK1 or another kinase induces Parkin recruitment, they suggest that these threonines are more likely to play an important structural role (Figure S5B and S5C).\n",
            " 9 Consistent with results from a recent study of PINK1's topology when it is ectopically expressed [22], we found that the kinase domain of endogenous PINK1 faces the cytosol following depolarization (Figure S1E).\n",
            "10 Supporting Information\n",
            "\n",
            "Mitochondrial PINK1 accumulates on the outer mitochondrial membrane following mitochondrial depolarization.\n"
          ]
        }
      ]
    },
    {
      "cell_type": "markdown",
      "source": [
        "## Claim 4"
      ],
      "metadata": {
        "id": "n9UWBsNaIVnK"
      }
    },
    {
      "cell_type": "code",
      "source": [
        "claim = \"owing to insufficient knockdown of endogenous PARL in HeLa cells and to insufficient expression of ectopic PINK1 in PARL knockout (KO) mouse embryonic fibroblasts (MEFs; Narendra et al., 2010).\""
      ],
      "metadata": {
        "id": "N7mcp8jVKr3o"
      },
      "execution_count": null,
      "outputs": []
    },
    {
      "cell_type": "code",
      "source": [
        "query = Query(claim)\n",
        "reranked = reranker.rerank(query, texts)\n",
        "current_indices = []\n",
        "# Print out reranked results:\n",
        "for i in range(0, 10):\n",
        "    print(f'{i+1:2} {reranked[i].text}')\n",
        "    current_indices.append(reranked[i].metadata['sent_idx'])\n",
        "results[CURR_PMC].append(current_indices)"
      ],
      "metadata": {
        "colab": {
          "base_uri": "https://localhost:8080/"
        },
        "id": "zh90zD8rKr5r",
        "outputId": "86ab618d-e783-4256-c86e-f146ec1e04b8"
      },
      "execution_count": null,
      "outputs": [
        {
          "output_type": "stream",
          "name": "stdout",
          "text": [
            " 1 Knockdown of PARL did not appreciably change basal levels of endogenous PINK1 or augment the depolarization-induced accumulation of endogenous PINK1 in HeLa cells (Figure S2B).\n",
            " 2 Endogenous PINK1 accumulates similarly in HeLa cells, which display little or no endogenous Parkin expression, and HeLa cells stably expressing YFP-Parkin (Figure S2D).\n",
            " 3 HeLa cells stably expressing YFP-Parkin were used in our initial experiments because it was unclear whether the stability of PINK1 would be affected by the absence of Parkin, as has been reported previously [29].\n",
            " 4 Although endogenous PARL could not be detected in HeLa cells, PARL shRNA inhibited expression of overexpressed PARL (Figure S2A and S2B).\n",
            " 5 Consistent with a role for phosphorylation in the activation of Parkin, we found a kinase-deficient version of PINK1 fails to rescue Parkin recruitment to mitochondria in PINK1 null MEFs (even though PINK1 KD appears to be processed identically to wild-type PINK1).\n",
            " 6 (A) HeLa cells stably expressing Parkin transfected with the indicated V5-tagged PINK1 constructs were treated with DMSO or 2 µM CCCP in serum-free medium.\n",
            " 7 Likewise, PINK1-V5 levels were similar in PARL−/− and PARL+/+ MEFs, under basal conditions and following depolarization with CCCP (Figure S2C).\n",
            " 8 To examine whether the mammalian ortholog of Rhomboid-7, PARL, is responsible for PINK1 cleavage in mammalian cells, we tested whether PINK1-V5 accumulates in HeLa cells transfected with PARL shRNA and treated with CCCP.\n",
            " 9 We found that whereas exogenous expression of PINK1 causes a significant increase in PINK1 transcription relative to untransfected HeLa cells, PINK1 transcription does not significantly increase following depolarization with CCCP (p = 0.4499).\n",
            "10 Treatment of HeLa cells for 90 min with cycloheximide blocked the depolarization-induced accumulation of endogenous PINK1 in whole-cell lysates as well as in the mitochondria-rich membrane fraction (Figure 7A and 7B).\n"
          ]
        }
      ]
    },
    {
      "cell_type": "markdown",
      "source": [
        "## Claim 5"
      ],
      "metadata": {
        "id": "t7WDJXX6IVuc"
      }
    },
    {
      "cell_type": "code",
      "source": [
        "claim = \"proteosome-independent proteolysis yields a 52-kD form of PINK1 that is subsequently degraded by the proteosome (Narendra et al., 2010).\""
      ],
      "metadata": {
        "id": "52Zz3vewKsR6"
      },
      "execution_count": null,
      "outputs": []
    },
    {
      "cell_type": "code",
      "source": [
        "query = Query(claim)\n",
        "reranked = reranker.rerank(query, texts)\n",
        "current_indices = []\n",
        "# Print out reranked results:\n",
        "for i in range(0, 10):\n",
        "    print(f'{i+1:2} {reranked[i].text}')\n",
        "    current_indices.append(reranked[i].metadata['sent_idx'])\n",
        "results[CURR_PMC].append(current_indices)"
      ],
      "metadata": {
        "colab": {
          "base_uri": "https://localhost:8080/"
        },
        "id": "qa5_4Yg5KsUP",
        "outputId": "4e5fc5c0-77fd-4e4a-a37f-96b29bc6ad4a"
      },
      "execution_count": null,
      "outputs": [
        {
          "output_type": "stream",
          "name": "stdout",
          "text": [
            " 1 Taken together, these results support a two-step model for the processing of PINK1: first, full-length PINK1 is cleaved into the ∼52-kDa short form in a voltage-dependent, proteasome-independent manner, and second, the short form of PINK1 is rapidly degraded by the proteasome (Figure 2B).\n",
            " 2 Full-length PINK1 (∼63 kDa), which is anchored in the mitochondrial membrane, is proteolytically cleaved into an ∼52-kDa cytosolic fragment that can be degraded by the proteasome [22],[28]–[30].\n",
            " 3 On healthy mitochondria PINK1 is constitutively imported, proteolytically cleaved into a cytosolic form, and degraded by the proteasome, resulting in low levels of mitochondrial PINK1.\n",
            " 4 \n",
            "\n",
            "To further assess the stability of PINK1 under depolarizing conditions, we performed the same set of experiments in the presence of MG132, an inhibitor of proteasomal degradation.\n",
            " 5 Full-length mitochondrial PINK1 (∼63 kDa) is cleaved into a short ∼52-kDa form, but the short, primarily cytosolic form is unstable, raising the questions: why is PINK1 found both on the mitochondria and in the cytosol, and which form of PINK1 is active in the PINK1/Parkin pathway [22],[28]–[30].\n",
            " 6 \n",
            "PINK1 accumulates independently of PARL and Parkin expression.\n",
            " 7 Here, we show that expression of PINK1 on individual mitochondria is regulated by voltage-dependent proteolysis to maintain low levels of PINK1 on healthy, polarized mitochondria, while facilitating the rapid accumulation of PINK1 on mitochondria that sustain damage.\n",
            " 8 \n",
            "\n",
            "PINK1 Accumulation on Depolarized Mitochondria Is Independent of the Protease PARL\n",
            "\n",
            "The protease responsible for PINK1 cleavage in mammalian cells is unknown, but in Drosophila cells, the intramembrane serine protease, Rhomboid-7, appears to be required for PINK1 cleavage [31].\n",
            " 9 As predicted by the proteolytic cleavage results (Figure 2A), OPA3-PINK1 Δ1-110-YFP exhibits increased stability compared to PINK1-YFP (Figure 6C).\n",
            "10 In this model, mitochondrial PINK1 is rapidly turned over on bioenergetically well-coupled mitochondria by proteolysis, but is selectively stabilized on mitochondria with low membrane potential.\n"
          ]
        }
      ]
    },
    {
      "cell_type": "markdown",
      "source": [
        "# PMC2848616"
      ],
      "metadata": {
        "id": "ibgrD15HIV6L"
      }
    },
    {
      "cell_type": "code",
      "source": [
        "CURR_PMC = 'PMC2848616'\n",
        "\n",
        "with open(f'{CURR_PMC}.txt') as f:\n",
        "    text = f.read()\n",
        "\n",
        "doc = nlp(text)\n",
        "sentences = [str(s) for s in list(doc.sents)]\n",
        "texts = [Text(s, {'sent_idx' : i}, 0) for i, s in enumerate(sentences)]\n",
        "\n",
        "results[CURR_PMC] = []"
      ],
      "metadata": {
        "id": "cTxfWdbJLP0O"
      },
      "execution_count": null,
      "outputs": []
    },
    {
      "cell_type": "markdown",
      "source": [
        "# Claim 1"
      ],
      "metadata": {
        "id": "6UGPKCe9RRBD"
      }
    },
    {
      "cell_type": "code",
      "source": [
        "claim = \"Autophagy has been shown to protect neurons from Aβ induced cytotoxicity\""
      ],
      "metadata": {
        "id": "wW9ukVKFTcak"
      },
      "execution_count": null,
      "outputs": []
    },
    {
      "cell_type": "code",
      "source": [
        "query = Query(claim)\n",
        "reranked = reranker.rerank(query, texts)\n",
        "current_indices = []\n",
        "# Print out reranked results:\n",
        "for i in range(0, 10):\n",
        "    print(f'{i+1:2} {reranked[i].text}')\n",
        "    current_indices.append(reranked[i].metadata['sent_idx'])\n",
        "results[CURR_PMC].append(current_indices)"
      ],
      "metadata": {
        "id": "0Dguz14_T2YB",
        "colab": {
          "base_uri": "https://localhost:8080/"
        },
        "outputId": "76487ca0-4f5d-4f25-9ec5-13e2665fba69"
      },
      "execution_count": null,
      "outputs": [
        {
          "output_type": "stream",
          "name": "stdout",
          "text": [
            " 1 While excessive autophagic activity can lead to cell death, increased autophagy has been shown to facilitate the clearance of aggregation-prone proteins such as Aβ[20], [21], [22], pathological prion protein[23], [24], and α-synuclein[25], and to promote neuronal survival in a variety of neurodegenerative disease models.\n",
            " 2 As expected from the inhibition of mTOR, autophagy was increased in neurons of rapamycin-treated transgenic, but not in non-transgenic, PDAPP mice, suggesting that the reduction in Aβ and the improvement in cognitive function are due in part to increased autophagy, possibly as a response to high levels of Aβ.\n",
            " 3 Activation of autophagy was prominent in transgenic, but not in non-transgenic, PDAPP mice ( Fig. 3 ), suggesting that the reduction in Aβ and the improvement in cognitive function may be due in part to increased autophagy in neurons, possibly as a response to high levels of Aβ in transgenic mice.\n",
            " 4 Supporting the notion that autophagy may have a protective role in AD, deletion of the beclin 1 gene in PDAPP mice impaired autophagy and resulted in large increases in Aβ levels and accelerated Aβ deposition[26].\n",
            " 5 In addition, rapamycin treatment did not induce autophagy and did not affect levels of endogenous Aβ in non-transgenic mice, suggesting that autophagy may have a key role in reducing Aβ  in transgenic PDAPP brains.\n",
            " 6 Taken together, our results suggest that autophagy is induced by rapamycin-mediated mTOR inhibition specifically as a response to high Aβ levels in hippocampi of rapamycin-treated PDAPP mice.\n",
            " 7 It is possible that the activation of autophagy as a response to Aβ accumulation is reduced with increasing age[47], [48].\n",
            " 8 Thus, our data suggest that inhibition of mTOR by rapamycin, an intervention that extends lifespan in mice, can lower Aβ levels and slow or block AD progression in a transgenic mouse model of the disease, possibly by stimulating autophagy.\n",
            " 9 Prolonged rapamycin treatment may thus release mTOR-mediated inhibition of autophagy and allow for the reduction of Aβ levels through this clearance mechanism in transgenic PDAPP brains.\n",
            "10 Our data suggest that the reduction in Aβ  levels and the improvement in cognitive function in rapamycin-treated PDAPP mice may be a consequence of the induction of autophagy in hippocampus ( Fig. 3 ) by high levels of Aβ in PDAPP transgenic brains. Consistent with a key role for high levels of Aβ in the activation of autophagy when mTOR activity is reduced, rapamycin did not induce autophagy in brains of rapamycin-treated non-transgenic mice, in which levels of endogenous Aβ are much lower than those in PDAPP transgenic brains.\n"
          ]
        }
      ]
    },
    {
      "cell_type": "markdown",
      "source": [
        "# Claim 2"
      ],
      "metadata": {
        "id": "SKLHpBlbRcjl"
      }
    },
    {
      "cell_type": "code",
      "source": [
        "claim = \"pharmacological stimulation of autophagy can be beneficial and reduce Aβ mediated toxicity\""
      ],
      "metadata": {
        "id": "dunlt3a_Re9w"
      },
      "execution_count": null,
      "outputs": []
    },
    {
      "cell_type": "code",
      "source": [
        "query = Query(claim)\n",
        "reranked = reranker.rerank(query, texts)\n",
        "current_indices = []\n",
        "# Print out reranked results:\n",
        "for i in range(0, 10):\n",
        "    print(f'{i+1:2} {reranked[i].text}')\n",
        "    current_indices.append(reranked[i].metadata['sent_idx'])\n",
        "results[CURR_PMC].append(current_indices)"
      ],
      "metadata": {
        "colab": {
          "base_uri": "https://localhost:8080/"
        },
        "id": "NWVUQp_3Re_0",
        "outputId": "1c38423e-b8ec-4f83-b6cb-57aa8227b229"
      },
      "execution_count": null,
      "outputs": [
        {
          "output_type": "stream",
          "name": "stdout",
          "text": [
            " 1 Thus, our data suggest that inhibition of mTOR by rapamycin, an intervention that extends lifespan in mice, can lower Aβ levels and slow or block AD progression in a transgenic mouse model of the disease, possibly by stimulating autophagy.\n",
            " 2 Prolonged rapamycin treatment may thus release mTOR-mediated inhibition of autophagy and allow for the reduction of Aβ levels through this clearance mechanism in transgenic PDAPP brains.\n",
            " 3 In addition, rapamycin treatment did not induce autophagy and did not affect levels of endogenous Aβ in non-transgenic mice, suggesting that autophagy may have a key role in reducing Aβ  in transgenic PDAPP brains.\n",
            " 4 As expected from the inhibition of mTOR, autophagy was increased in neurons of rapamycin-treated transgenic, but not in non-transgenic, PDAPP mice, suggesting that the reduction in Aβ and the improvement in cognitive function are due in part to increased autophagy, possibly as a response to high levels of Aβ.\n",
            " 5 Taken together, our results suggest that autophagy is induced by rapamycin-mediated mTOR inhibition specifically as a response to high Aβ levels in hippocampi of rapamycin-treated PDAPP mice.\n",
            " 6 It is possible that the activation of autophagy as a response to Aβ accumulation is reduced with increasing age[47], [48].\n",
            " 7 Although rapamycin treatment did not activate autophagy nor reduce endogenous mouse Aβ levels, it inhibited mTOR function in non-transgenic littermate brains, and this group showed trends to improved learning and retention.\n",
            " 8 Activation of autophagy was prominent in transgenic, but not in non-transgenic, PDAPP mice ( Fig. 3 ), suggesting that the reduction in Aβ and the improvement in cognitive function may be due in part to increased autophagy in neurons, possibly as a response to high levels of Aβ in transgenic mice.\n",
            " 9 These data indicate that inhibition of the mTOR pathway by long-term rapamycin treatment can reduce Aβ  levels in vivo and block or delay AD in mice.\n",
            "10 Our data suggest that the reduction in Aβ  levels and the improvement in cognitive function in rapamycin-treated PDAPP mice may be a consequence of the induction of autophagy in hippocampus ( Fig. 3 ) by high levels of Aβ in PDAPP transgenic brains. Consistent with a key role for high levels of Aβ in the activation of autophagy when mTOR activity is reduced, rapamycin did not induce autophagy in brains of rapamycin-treated non-transgenic mice, in which levels of endogenous Aβ are much lower than those in PDAPP transgenic brains.\n"
          ]
        }
      ]
    },
    {
      "cell_type": "markdown",
      "source": [
        "# Claim 3"
      ],
      "metadata": {
        "id": "Xu8m2wGKRp5O"
      }
    },
    {
      "cell_type": "code",
      "source": [
        "claim = \"mTOR signaling was shown to be up-regulated in 7PA2 cells over-expressing mutant APP and in brains of another AD transgenic mouse, with rapamycin treatment reported as protective against behavioral decline\""
      ],
      "metadata": {
        "id": "NS4JY3SCRfB5"
      },
      "execution_count": null,
      "outputs": []
    },
    {
      "cell_type": "code",
      "source": [
        "query = Query(claim)\n",
        "reranked = reranker.rerank(query, texts)\n",
        "current_indices = []\n",
        "# Print out reranked results:\n",
        "for i in range(0, 10):\n",
        "    print(f'{i+1:2} {reranked[i].text}')\n",
        "    current_indices.append(reranked[i].metadata['sent_idx'])\n",
        "results[CURR_PMC].append(current_indices)"
      ],
      "metadata": {
        "colab": {
          "base_uri": "https://localhost:8080/"
        },
        "id": "bJ5kX8AWRfD-",
        "outputId": "de514ac1-d57f-4355-8a73-97bd77fae92e"
      },
      "execution_count": null,
      "outputs": [
        {
          "output_type": "stream",
          "name": "stdout",
          "text": [
            " 1 Here we show that long-term mTOR inhibition by rapamycin inhibited mTOR in brain, prevented AD-like cognitive deficits ( Fig. 1 ) and lowered levels of Aβ  ( Fig. 2 ) in the PDAPP transgenic mouse model.\n",
            " 2 Here we show that long-term inhibition of mTOR by rapamycin prevented AD-like cognitive deficits and lowered levels of Aβ , a major toxic species in AD[7], in the PDAPP transgenic mouse model.\n",
            " 3 The data presented here are, to our knowledge, the first to show that inhibition of mTOR by rapamycin decreased Aβ  levels ( Fig. 2 ) and rescued cognitive function ( Fig. 1 ) in a mouse model of AD.\n",
            " 4 To determine the mechanism by which rapamycin treatment abolishes AD-like cognitive deficits in transgenic PDAPP mice, we examined (a) mTOR activity and (b) the proteolytic processes that generate of Aβ in PDAPP mouse brains.\n",
            " 5 \n",
            "\n",
            "Conclusions/Significance\n",
            "\n",
            "Our data suggest that inhibition of mTOR by rapamycin, an intervention that extends lifespan in mice, can slow or block AD progression in a transgenic mouse model of the disease.\n",
            " 6 Thus, our data suggest that inhibition of mTOR by rapamycin, an intervention that extends lifespan in mice, can lower Aβ levels and slow or block AD progression in a transgenic mouse model of the disease, possibly by stimulating autophagy.\n",
            " 7 These data indicate that inhibition of the mTOR pathway by long-term rapamycin treatment can reduce Aβ  levels in vivo and block or delay AD in mice.\n",
            " 8 Although rapamycin treatment did not activate autophagy nor reduce endogenous mouse Aβ levels, it inhibited mTOR function in non-transgenic littermate brains, and this group showed trends to improved learning and retention.\n",
            " 9 \n",
            "\n",
            "In summary, our data suggest that inhibition of mTOR by rapamycin[5], an intervention that extends lifespan in mice[5], [6], can slow or block AD progression in a transgenic mouse model of the disease.\n",
            "10 Phosphorylation of the mTOR target p70S6K[6] was reduced in brains of both rapamycin-treated PDAPP mice and non-transgenic littermates, indicating that mTOR activity was inhibited ( Fig. 2a–c )[36], [37] in brains of both genotypes.\n"
          ]
        }
      ]
    },
    {
      "cell_type": "markdown",
      "source": [
        "# Claim 4"
      ],
      "metadata": {
        "id": "xGcBKWAKR3X-"
      }
    },
    {
      "cell_type": "code",
      "source": [
        "claim = \"chronic treatment with rapamycin improved behavior of AD transgenic mice although effects were mild\""
      ],
      "metadata": {
        "id": "tDbYwRRIR3mj"
      },
      "execution_count": null,
      "outputs": []
    },
    {
      "cell_type": "code",
      "source": [
        "query = Query(claim)\n",
        "reranked = reranker.rerank(query, texts)\n",
        "current_indices = []\n",
        "# Print out reranked results:\n",
        "for i in range(0, 10):\n",
        "    print(f'{i+1:2} {reranked[i].text}')\n",
        "    current_indices.append(reranked[i].metadata['sent_idx'])\n",
        "results[CURR_PMC].append(current_indices)"
      ],
      "metadata": {
        "colab": {
          "base_uri": "https://localhost:8080/"
        },
        "id": "25YbsB_wR3w9",
        "outputId": "1fdac948-266d-43e6-ad62-7458feccaca4"
      },
      "execution_count": null,
      "outputs": [
        {
          "output_type": "stream",
          "name": "stdout",
          "text": [
            " 1 While learning in both transgenic groups was impaired with respect to wild-type littermates' [**, P<0.001 for both comparisons, Bonferroni's post hoc test applied to a significant effect of genotype and treatment, F(3,120) = 29.46, P<0.0001, repeated measures two-way ANOVA], performance of rapamycin-fed PDAPP mice was improved with respect to the control-fed transgenic group only in the last day of training (# P = 0.036 for the comparison of performance between transgenic groups, Student's t test), indicating improved learning of rapamycin-fed PDAPP mice at day 4.\n",
            " 2 Here we show that long-term inhibition of mTOR by rapamycin prevented AD-like cognitive deficits and lowered levels of Aβ , a major toxic species in AD[7], in the PDAPP transgenic mouse model.\n",
            " 3 No significant differences in thigmotaxis and floating, measures of anxiety and helplessness respectively ( Figure 1c and d ) nor in visual acuity ( Figure 1a, inset) were found among groups, suggesting that improved performance in rapamycin-treated PDAPP mice is a result of effects on cognitive processes but not to effects related to non-cognitive components of behaviour, nor to differences in visual ability.\n",
            " 4 Rapamycin-fed transgenic PDAPP mice, however, showed improved learning ( Figure 1a ) and memory ( Figure 1b ), with improved performances on the last day of training and retention of the former location of the escape platform restored to levels indistinguishable from those of non-transgenic littermates ( Figure 1b ).\n",
            " 5 To determine the mechanism by which rapamycin treatment abolishes AD-like cognitive deficits in transgenic PDAPP mice, we examined (a) mTOR activity and (b) the proteolytic processes that generate of Aβ in PDAPP mouse brains.\n",
            " 6 As expected from the inhibition of mTOR, autophagy was increased in neurons of rapamycin-treated transgenic, but not in non-transgenic, PDAPP mice, suggesting that the reduction in Aβ and the improvement in cognitive function are due in part to increased autophagy, possibly as a response to high levels of Aβ.\n",
            " 7 Here we show that long-term mTOR inhibition by rapamycin inhibited mTOR in brain, prevented AD-like cognitive deficits ( Fig. 1 ) and lowered levels of Aβ  ( Fig. 2 ) in the PDAPP transgenic mouse model.\n",
            " 8 Although rapamycin treatment did not activate autophagy nor reduce endogenous mouse Aβ levels, it inhibited mTOR function in non-transgenic littermate brains, and this group showed trends to improved learning and retention.\n",
            " 9 The effect of rapamycin treatment became more pronounced as training progressed, as indicated by the slopes for the learning curves (m = −5.14 for rapamycin-treated as compared to m = −3.58 for control-treated PDAPP transgenic mice; m = −4 for rapamycin-treated as compared to m = −2.95 for control-treated non-transgenic mice).\n",
            "10 These data indicate that inhibition of the mTOR pathway by long-term rapamycin treatment can reduce Aβ  levels in vivo and block or delay AD in mice.\n"
          ]
        }
      ]
    },
    {
      "cell_type": "markdown",
      "source": [
        "# Claim 5"
      ],
      "metadata": {
        "id": "YzDZOeurSJOa"
      }
    },
    {
      "cell_type": "code",
      "source": [
        "claim = \"The 3xTg-AD15-18 mice were treated for 3 months based on previous studies showing that in young mice 10-12 weeks of rapamycin administration is sufficient to reduce soluble Aβ and tau [29], [32].\""
      ],
      "metadata": {
        "id": "QGk4F1IrSLNw"
      },
      "execution_count": null,
      "outputs": []
    },
    {
      "cell_type": "code",
      "source": [
        "query = Query(claim)\n",
        "reranked = reranker.rerank(query, texts)\n",
        "current_indices = []\n",
        "# Print out reranked results:\n",
        "for i in range(0, 10):\n",
        "    print(f'{i+1:2} {reranked[i].text}')\n",
        "    current_indices.append(reranked[i].metadata['sent_idx'])\n",
        "results[CURR_PMC].append(current_indices)"
      ],
      "metadata": {
        "colab": {
          "base_uri": "https://localhost:8080/"
        },
        "id": "nTkVRoAlSLPz",
        "outputId": "8ea57d1d-aa42-4618-c462-87408e71105b"
      },
      "execution_count": null,
      "outputs": [
        {
          "output_type": "stream",
          "name": "stdout",
          "text": [
            " 1 These data indicate that inhibition of the mTOR pathway by long-term rapamycin treatment can reduce Aβ  levels in vivo and block or delay AD in mice.\n",
            " 2 Our data suggest that the reduction in Aβ  levels and the improvement in cognitive function in rapamycin-treated PDAPP mice may be a consequence of the induction of autophagy in hippocampus ( Fig. 3 ) by high levels of Aβ in PDAPP transgenic brains. Consistent with a key role for high levels of Aβ in the activation of autophagy when mTOR activity is reduced, rapamycin did not induce autophagy in brains of rapamycin-treated non-transgenic mice, in which levels of endogenous Aβ are much lower than those in PDAPP transgenic brains.\n",
            " 3  , rapamycin did not alter Aβ  levels but significantly decreased soluble Aβ  levels in the brains of transgenic PDAPP mice *, P = 0.02.\n",
            " 4 Levels of Aβ , but not of Aβ , were reduced in rapamycin-treated transgenic PDAPP mice ( Figure 2d ).\n",
            " 5 In addition, rapamycin treatment did not induce autophagy and did not affect levels of endogenous Aβ in non-transgenic mice, suggesting that autophagy may have a key role in reducing Aβ  in transgenic PDAPP brains.\n",
            " 6 Although rapamycin treatment did not activate autophagy nor reduce endogenous mouse Aβ levels, it inhibited mTOR function in non-transgenic littermate brains, and this group showed trends to improved learning and retention.\n",
            " 7 The reduction in Aβ  in PDAPP brains did not likely arise from changes in production, since the abundance of C99, the C-terminal product of β-secretase cleavage of APP, as well the levels of expression of hAPP were unchanged by rapamycin ( Fig. 2f–h ). An increase in α-secretase cleavage could not explain the reduction in Aβ  either, since increased α-cleavage would result in increased C83 ( Fig. 2f and i ). In addition, the reduction in Aβ  did not likely arise from increased degradation, since levels of the two major Aβ-degrading activities, neprilysin (NEP)[35], and insulin-degrading enzyme (IDE)[38] were unchanged in brains of control- and rapamycin-fed PDAPP mice as well ( Fig. 2f, j–k ). Aβ deposition was not determined since no Aβ plaques are detectable in PDAPP mice at 7 mo. To determine whether levels of endogenous mouse Aβ (mAβ) would be affected by rapamycin treatment we measured mAβ  and mAβ  in brains of control- and rapamycin-treated non-transgenic littermates using specific ELISAs.\n",
            " 8 Thus, our data suggest that inhibition of mTOR by rapamycin, an intervention that extends lifespan in mice, can lower Aβ levels and slow or block AD progression in a transgenic mouse model of the disease, possibly by stimulating autophagy.\n",
            " 9 Prolonged rapamycin treatment may thus release mTOR-mediated inhibition of autophagy and allow for the reduction of Aβ levels through this clearance mechanism in transgenic PDAPP brains.\n",
            "10 As expected from the inhibition of mTOR, autophagy was increased in neurons of rapamycin-treated transgenic, but not in non-transgenic, PDAPP mice, suggesting that the reduction in Aβ and the improvement in cognitive function are due in part to increased autophagy, possibly as a response to high levels of Aβ.\n"
          ]
        }
      ]
    },
    {
      "cell_type": "code",
      "source": [
        "def get_relevant_sentences(pmcid, claims):\n",
        "    global results\n",
        "\n",
        "    CURR_PMC = pmcid\n",
        "\n",
        "    with open(f'{CURR_PMC}.txt') as f:\n",
        "        text = f.read()\n",
        "\n",
        "    doc = nlp(text)\n",
        "    sentences = [str(s) for s in list(doc.sents)]\n",
        "    texts = [Text(s, {'sent_idx' : i}, 0) for i, s in enumerate(sentences)]\n",
        "\n",
        "    results[CURR_PMC] = []\n",
        "\n",
        "    for claim in claims:\n",
        "        query = Query(claim)\n",
        "        reranked = reranker.rerank(query, texts)\n",
        "        current_indices = []\n",
        "        # Print out reranked results:\n",
        "        for i in range(0, 10):\n",
        "            # print(f'{i+1:2} {reranked[i].text}')\n",
        "            current_indices.append(reranked[i].metadata['sent_idx'])\n",
        "        results[CURR_PMC].append(current_indices)"
      ],
      "metadata": {
        "id": "NOudmeSvMFMW"
      },
      "execution_count": null,
      "outputs": []
    },
    {
      "cell_type": "markdown",
      "source": [
        "# PMC2958248"
      ],
      "metadata": {
        "id": "cht93-OjLvIC"
      }
    },
    {
      "cell_type": "code",
      "source": [
        "claims = [\n",
        "    \"The cellular exonuclease TREX1 was recently shown to bind and digest excess cytosolic HIV-1 DNA that would otherwise activate type I IFN expression and trigger an innate immune response\",\n",
        "    \"Interestingly, similar to SAMHD1, TREX1 mutations in humans are associated with autoimmune and inflammatory diseases, including AGS\",\n",
        "    \"TREX1 has previously been implicated in the HIV-1 life cycle\",\n",
        "    \"TREX1 suppressed a type I IFN response that otherwise would be induced by HIV-1 infection\",\n",
        "    \"TREX1 was proposed to degrade cytosolic DNA resulting from HIV-1 reverse transcription, which would otherwise be capable of inducing an IFN response\"\n",
        "]"
      ],
      "metadata": {
        "id": "ZEn4zQUxL-Uq"
      },
      "execution_count": null,
      "outputs": []
    },
    {
      "cell_type": "code",
      "source": [
        "get_relevant_sentences('PMC2958248', claims)"
      ],
      "metadata": {
        "id": "2L451otJMDiI"
      },
      "execution_count": null,
      "outputs": []
    },
    {
      "cell_type": "code",
      "source": [
        "# results"
      ],
      "metadata": {
        "id": "uqDwoVQhNKnd"
      },
      "execution_count": null,
      "outputs": []
    },
    {
      "cell_type": "markdown",
      "source": [
        "# PMC3090745"
      ],
      "metadata": {
        "id": "K9KUymj1L34q"
      }
    },
    {
      "cell_type": "code",
      "source": [
        "claims = [\n",
        "    \"These studies have identified several new genes that show significant association after multiple test correction in multiple datasets: CLU, PICALM, BIN1, CR1, ABCA7, MS4A6A, CD33 and CD2AP [31]–[35].\",\n",
        "    \"All variants classified as “likely pathogenic” or with an “unknown pathogenicity”, and some “non-pathogenic” variants were genotyped in 961 sporadic AD cases, 1,346 unrelated elderly non-demented controls\",\n",
        "    \"Since 2009, four GWAS and a three-stage analysis of the GWAS resulted in the identification of nine novel loci associated with late-onset AD: CLU, PICALM, CR1, BIN1, ABCA7, MS4A cluster (MS4A6A/MS4A4E), CD2AP, CD33, and EPHA1 (Harold et al., 2009; Lambert et al., 2009; Seshadri et al., 2010; Hollingworth et al., 2011a,b; Naj et al., 2011).\",\n",
        "    \"Examining the amount of genetic risk effect attributable to these genes (other than APOE), the most strongly associated single-nucleotide polymorphisms at each locus have population attributable fractions between 2.72 and 5.97%, with a cumulative population attributable fraction for non-APOE loci estimated to be as much as 35% (Naj et al., 2011).\",\n",
        "    \"To investigate whether any of the significant brain cisSNPs may influence risk of AD, we compared our eGWAS results to the AD risk associations from the large AD GWAS conducted by ADGC [28].\"\n",
        "]"
      ],
      "metadata": {
        "id": "H5XN8qz6L1I-"
      },
      "execution_count": null,
      "outputs": []
    },
    {
      "cell_type": "code",
      "source": [
        "get_relevant_sentences('PMC3090745', claims)"
      ],
      "metadata": {
        "id": "le1SxuM_Nf4n"
      },
      "execution_count": null,
      "outputs": []
    },
    {
      "cell_type": "markdown",
      "source": [
        "# PMC3096954"
      ],
      "metadata": {
        "id": "lYRypFCuOM2O"
      }
    },
    {
      "cell_type": "code",
      "source": [
        "claims = [\n",
        "    \"Recently, a subgroup of Basal-like tumors associated with poor prognosis has also been reported [4,5].\",\n",
        "    \"Context 130, a Basal-like context has under-expression of GATA3 which is in concordance with previous studies of Basal-like subgroup, ’claudin-low’ with poor prognosis and more refractory to chemotherapy [5] .\",\n",
        "    \"Molecular profiling has identified 5 distinct subtypes of human breast tumors, luminal A, luminal B, HER2-enriched, basal-like and claudin-low [1-7].\",\n",
        "    \"Claudin-low tumors express mesenchymal genes such as Twist1, Twist2, Zeb1, Zeb2, Slug and Snail and low levels of E-cadherin and claudins 3, 4 and 7 [6,7].\",\n",
        "    \"Since claudin-low tumors possess features of stem cells [7], it is possible that the tumors that regress and recur or only partially regress are those that contain claudin-low cells.\",\n",
        "]"
      ],
      "metadata": {
        "id": "04ri9WzKOJJL"
      },
      "execution_count": null,
      "outputs": []
    },
    {
      "cell_type": "code",
      "source": [
        "get_relevant_sentences('PMC3096954', claims)"
      ],
      "metadata": {
        "id": "2jEhE9DXOUNl"
      },
      "execution_count": null,
      "outputs": []
    },
    {
      "cell_type": "markdown",
      "source": [
        "# PMC3179858"
      ],
      "metadata": {
        "id": "oLHpy5yYO0kY"
      }
    },
    {
      "cell_type": "code",
      "source": [
        "claims = [\n",
        "    \"By contrast, Hrecka and colleagues identified SAMHD1 from HEK 293T cells expressing tagged Vpx in a proteomic screen using multidimensional protein identification technology [10].\",\n",
        "    \"They demonstrated that Vpx relieves the inhibition of HIV-1 infection in monocyte-derived macrophages by mediating proteasome-dependent degradation of SAMHD1 through the CUL4A/DCAF1 E3 ubiquitin ligase [10].\",\n",
        "    \"Both studies confirmed that Vpx interacts with SAMHD1 and induces proteasomal degradation of SAMHD1 in THP-1 cells or macrophages, which can be restored by treatment with a proteasome inhibitor [9,10].\",\n",
        "    \"Further analysis revealed that SAMHD1 blocks HIV-1 reverse transcription, as silencing SAMHD1 in THP-1 cells [9] and macrophages [10] increases the levels of viral DNA.\",\n",
        "    \"Together, these studies suggested that SAMHD1 is the myeloid-cell specific HIV-1 restriction factor counteracted by Vpx [9,10] (Figure 1).\"\n",
        "]"
      ],
      "metadata": {
        "id": "pyTa4M6_O5Kq"
      },
      "execution_count": null,
      "outputs": []
    },
    {
      "cell_type": "code",
      "source": [
        "get_relevant_sentences('PMC3179858', claims)"
      ],
      "metadata": {
        "id": "DSJXhoeqOwQK"
      },
      "execution_count": null,
      "outputs": []
    },
    {
      "cell_type": "markdown",
      "source": [
        "# PMC3442244"
      ],
      "metadata": {
        "id": "B0UCXgz9PQmB"
      }
    },
    {
      "cell_type": "code",
      "source": [
        "claims = [\n",
        "    \"Currently, over 60 common risk variants have been identified [30–34], with a combined disease risk of 5–10% [34, 35], suggesting the existence of many more as yet undiscovered loci [34, 36, 37].\",\n",
        "    \"A fundamental challenge facing those wishing to determine which of the genes in a particular locus is responsible for affecting disease risk, and dissect how this/these act, is the very scale of the problem (currently more than 500 genes in total to interrogate, with others emerging) [35]\",\n",
        "    \"According to the most recent meta-analysis of genome-wide association studies, 63 individual SNPs have now been linked with diabetes risk [1].\",\n",
        "    \"However, these variants explain only ∼5.7% of variance in disease susceptibility [1].\",\n",
        "    \"Of these SNPs, 66,000 were selected for efficient replication of top signals across multiple traits, with the hope that when tested in sufficiently large samples they might exceed genome-wide statistical significance (9,10)\"\n",
        "]"
      ],
      "metadata": {
        "id": "szNWHwnKPXTh"
      },
      "execution_count": null,
      "outputs": []
    },
    {
      "cell_type": "code",
      "source": [
        "get_relevant_sentences('PMC3442244', claims)"
      ],
      "metadata": {
        "id": "rScOCpROPPot"
      },
      "execution_count": null,
      "outputs": []
    },
    {
      "cell_type": "markdown",
      "source": [
        "# PMC3522098"
      ],
      "metadata": {
        "id": "jrlSY8cjPxRB"
      }
    },
    {
      "cell_type": "code",
      "source": [
        "claims = [\n",
        "    \"Interestingly, we found that Fndc5, the gene that codes for the recently discovered antidiabetic hormone irisin [39] was also significantly increased in Cox6a2 −/− diaphragm (data not shown).\",\n",
        "    \"This suggests the existence of a crosstalk between skeletal muscle and adipose tissue, as was recently shown with the identification of a new hormone, irisin, which stimulates browning and UCP1 expression in WAT [39].\",\n",
        "    \"Irisin, encoded by the Fndc5 gene, is a newly identified hormone from the muscle of PGC-1α transgenic mice.67 Irisin can be induced by exercise in both mice and humans\",\n",
        "    \"Overexpression of irisin in the liver of mice, via adenoviral delivery, increases energy expenditure and reduces high fat diet-induced obesity.67\",\n",
        "    \"This question is especially pertinent because interest in thermogenic drugs and drug targets has been rekindled by new evidence that brown adipose tissue can be active in adult humans and the discovery of new targets for drugs that might augment and activate brown adipose tissue (Fruhbeck et al., 2009; Wu et al., 2011; Bostrom et al., 2012; Fournier et al., 2012; Ye et al., 2012).\"\n",
        "]"
      ],
      "metadata": {
        "id": "qDw2PGZ1P3pl"
      },
      "execution_count": null,
      "outputs": []
    },
    {
      "cell_type": "code",
      "source": [
        "get_relevant_sentences('PMC3522098', claims)"
      ],
      "metadata": {
        "id": "jV1FxNSTPvcs"
      },
      "execution_count": null,
      "outputs": []
    },
    {
      "cell_type": "markdown",
      "source": [
        "# PMC3607626"
      ],
      "metadata": {
        "id": "DqQ8GNkUQVWv"
      }
    },
    {
      "cell_type": "code",
      "source": [
        "claims = [\n",
        "    \"To date, a number of studies have investigated gene expression in ASD (for review see [29]), with three examining ASD brain tissue on a genome-wide scale [30], [31], [32].\",\n",
        "    \"Lastly, we were interested in considering our findings in the context of the major three published transcriptomics studies on ASD brain tissue [30], [31], [32].\",\n",
        "    \"The most comprehensive transcriptomics study of ASD post-mortem brain to date (Voineagu et al) concludes that one of two significant co-expression networks is involved in immune function [32].\",\n",
        "    \"This network analysis led to the identification of specific co-expression modules that are differentially expressed in ASD and controls [20].\",\n",
        "    \"These included a neuronal module that was enriched for genes with low GWAS P-values, suggesting that the differential expression of this module between cases and controls reflects a causal relationship [20].\"\n",
        "]"
      ],
      "metadata": {
        "id": "Mtd7W8ieQjWz"
      },
      "execution_count": null,
      "outputs": []
    },
    {
      "cell_type": "code",
      "source": [
        "get_relevant_sentences('PMC3607626', claims)"
      ],
      "metadata": {
        "id": "PCcXlsxaQUVX"
      },
      "execution_count": null,
      "outputs": []
    },
    {
      "cell_type": "code",
      "source": [
        "results['PMC3607626']"
      ],
      "metadata": {
        "colab": {
          "base_uri": "https://localhost:8080/"
        },
        "id": "WFMGkkxJLfDq",
        "outputId": "0efdeb58-cf15-4a76-ee82-c65b51b0ee4d"
      },
      "execution_count": null,
      "outputs": [
        {
          "output_type": "execute_result",
          "data": {
            "text/plain": [
              "{'PMC2811155': [[33, 127, 112, 257, 101, 269, 105, 95, 147, 106],\n",
              "  [215, 73, 3, 42, 380, 89, 217, 333, 61, 35],\n",
              "  [157, 168, 141, 163, 161, 333, 217, 176, 94, 299],\n",
              "  [98, 103, 399, 97, 238, 353, 99, 96, 91, 170],\n",
              "  [86, 74, 379, 81, 220, 315, 3, 95, 152, 35]],\n",
              " 'PMC3607626': [[85, 12, 88, 86, 84, 57, 3, 27, 4, 65],\n",
              "  [86, 84, 0, 65, 22, 8, 68, 5, 9, 89],\n",
              "  [86, 87, 82, 4, 85, 89, 84, 78, 45, 59],\n",
              "  [45, 68, 4, 12, 38, 60, 78, 65, 49, 137],\n",
              "  [6, 50, 4, 7, 133, 138, 79, 137, 52, 69]]}"
            ]
          },
          "metadata": {},
          "execution_count": 32
        }
      ]
    },
    {
      "cell_type": "markdown",
      "source": [
        "# PMC3650111"
      ],
      "metadata": {
        "id": "34Mh_22fQ_qN"
      }
    },
    {
      "cell_type": "code",
      "source": [
        "claims = [\n",
        "    \"Interestingly, Prevotella-dominated healthy omnivore individuals were recently reported to have increased basal levels of serum TMAO (trimethylamine N-oxide), a product of inflammation linked to atherogenesis, compared to Bacteroides-dominated healthy individuals (Koeth et al., 2013).\",\n",
        "    \"While TMAO could be derived from increased consumption of meat (Koeth et al., 2013), Prevotella has been previously associated with a dearth of meat in the diet (Wu et al., 2011).\",\n",
        "    \"Additional, recent mouse studies [145] investigating how consumption of red meat may accelerate cardiovascular disease and inflammation in humans [146,147] suggest an additional and potentially serious limitation on probiotic supplementation.\",\n",
        "    \"Dietary L-carnitine and choline, compounds abundant in red meat, are metabolized into trimethylamine-N-oxide (TMAO) by way of some normal gut commensals; in mice TMAO enhances atherosclerosis through disrupting cholesterol metabolism and foam-cell macrophage activity [145].\",\n",
        "    \"In both humans and mice, TMAO concentrations correlate positively with CVD risk, and dietary supplementation with either TMAO or compounds that can be metabolized to TMAO increases atherosclerosis in mice12\"\n",
        "]"
      ],
      "metadata": {
        "id": "FFxiwvjHREH1"
      },
      "execution_count": null,
      "outputs": []
    },
    {
      "cell_type": "code",
      "source": [
        "get_relevant_sentences('PMC3650111', claims)"
      ],
      "metadata": {
        "id": "7wxgAQmFQ2-7"
      },
      "execution_count": null,
      "outputs": []
    },
    {
      "cell_type": "code",
      "source": [
        "import json\n",
        "\n",
        "with open('results.json', 'w') as f:\n",
        "    json.dump(results, f)"
      ],
      "metadata": {
        "id": "EN8TYrmyRCwk"
      },
      "execution_count": null,
      "outputs": []
    },
    {
      "cell_type": "code",
      "source": [
        "ls"
      ],
      "metadata": {
        "colab": {
          "base_uri": "https://localhost:8080/"
        },
        "id": "sb48IjDKRxot",
        "outputId": "acc10cc9-04ac-4fa6-8c81-c72f61011035"
      },
      "execution_count": null,
      "outputs": [
        {
          "output_type": "stream",
          "name": "stdout",
          "text": [
            "PMC2811155.txt    PMC3442244.txt\n",
            "PMC2848616.txt    PMC3522098.txt\n",
            "PMC2958248.txt    PMC3607626.txt\n",
            "PMC2995166_3.txt  PMC3650111.txt\n",
            "PMC3090745.txt    \u001b[0m\u001b[01;34mrationale_biobert_large\u001b[0m/\n",
            "PMC3096954.txt    rationale_biobert_large-20221031T002534Z-001.zip\n",
            "PMC3179858.txt    results.json\n"
          ]
        }
      ]
    },
    {
      "cell_type": "code",
      "source": [
        "import json\n",
        "with open('results.json') as f:\n",
        "    res = json.load(f)"
      ],
      "metadata": {
        "id": "fDzNX7vtR1gd"
      },
      "execution_count": null,
      "outputs": []
    },
    {
      "cell_type": "code",
      "source": [
        "res.keys()"
      ],
      "metadata": {
        "id": "AIHcXqV1SEGg",
        "colab": {
          "base_uri": "https://localhost:8080/"
        },
        "outputId": "0c6115d7-bd81-4772-bdbe-f0369321fc26"
      },
      "execution_count": null,
      "outputs": [
        {
          "output_type": "execute_result",
          "data": {
            "text/plain": [
              "dict_keys(['PMC2811155', 'PMC2848616', 'PMC2958248', 'PMC3090745', 'PMC3096954', 'PMC3179858', 'PMC3442244', 'PMC3522098', 'PMC3607626', 'PMC3650111'])"
            ]
          },
          "metadata": {},
          "execution_count": 8
        }
      ]
    },
    {
      "cell_type": "code",
      "source": [
        "CURR_PMC='PMC2958248'\n",
        "\n",
        "with open(f'{CURR_PMC}.txt') as f:\n",
        "    text = f.read()\n",
        "\n",
        "doc = nlp(text)\n",
        "sentences = [str(s) for s in list(doc.sents)]\n",
        "\n",
        "claims = [\n",
        "    \"The cellular exonuclease TREX1 was recently shown to bind and digest excess cytosolic HIV-1 DNA that would otherwise activate type I IFN expression and trigger an innate immune response\",\n",
        "    \"Interestingly, similar to SAMHD1, TREX1 mutations in humans are associated with autoimmune and inflammatory diseases, including AGS\",\n",
        "    \"TREX1 has previously been implicated in the HIV-1 life cycle\",\n",
        "    \"TREX1 suppressed a type I IFN response that otherwise would be induced by HIV-1 infection\",\n",
        "    \"TREX1 was proposed to degrade cytosolic DNA resulting from HIV-1 reverse transcription, which would otherwise be capable of inducing an IFN response\"\n",
        "]"
      ],
      "metadata": {
        "id": "j6yToujxOLIA"
      },
      "execution_count": null,
      "outputs": []
    },
    {
      "cell_type": "code",
      "source": [
        "for i in range(5):\n",
        "    print(\"Claim:\", claims[i])\n",
        "    for j in res[CURR_PMC][i]:\n",
        "        print(f\"{j}:\", sentences[j])\n",
        "    print()"
      ],
      "metadata": {
        "colab": {
          "base_uri": "https://localhost:8080/"
        },
        "id": "_sWlogNLOcQr",
        "outputId": "8e6c1aad-4781-49d3-b4ba-45f3e44845c3"
      },
      "execution_count": null,
      "outputs": [
        {
          "output_type": "stream",
          "name": "stdout",
          "text": [
            "Claim: The cellular exonuclease TREX1 was recently shown to bind and digest excess cytosolic HIV-1 DNA that would otherwise activate type I IFN expression and trigger an innate immune response\n",
            "5: TREX1 bound to cytosolic HIV DNA and digested excess HIV DNA that would otherwise activate IFN expression via a TBK1, STING and IRF3 dependent pathway.\n",
            "131: We showed here that the host cytoplasmic exonuclease TREX1 helps HIV evade innate immunity by digesting reverse transcripts that are not imported into the nucleus and would otherwise induce IFNs.\n",
            "0: The cytosolic exonuclease TREX1 inhibits the innate immune response to HIV-1\n",
            "\n",
            "Abstract\n",
            "\n",
            "Viral infection triggers innate immune sensors to produce type I interferons (IFN).\n",
            "3: The cytosolic exonuclease TREX1 suppressed IFN triggered by HIV.\n",
            "132: When TREX1 is inhibited by RNAi, HIV infection of primary cells triggers Type I IFN expression and secretion.\n",
            "81: These results strongly suggest that TREX1 suppresses IFN-β induction by digesting cytosolic DNA.\n",
            "152: \n",
            "\n",
            "HIV-stimulated IFN activation in Trex1−/− cells is eliminated by treating infected cells with an RT inhibitor, but not an IN inhibitor, suggesting that HIV DNA, but not gRNA, is the nucleic acid that triggers innate immunity.\n",
            "70: \n",
            "\n",
            "TREX1 metabolizes HIV RT products to suppress IFN induction\n",
            "\n",
            "To identify which HIV nucleic acids trigger IFN-β expression, we transfected WT and Trex1−/− MEFs with synthetic 100 bp gag sequence oligonucleotides that correspond to HIV nucleic acids in the cytosol during reverse transcription (ssRNA to represent gRNA, RNA:DNA hybrid, ssDNA, dsDNA) and measured IFN-β mRNA 6 h later by qRT-PCR (Fig. 4a,b).\n",
            "21: RESULTS\n",
            "\n",
            "TREX1 inhibits IFN production in response to HIV\n",
            "\n",
            "We first compared HIV replication and IFN and inflammatory cytokine expression and secretion after infection of Trex1+/+ (WT) or Trex1−/− mouse embryonic fibroblasts (MEFs) with vesicular stomatitis virus G (VSV-G)-pseudotyped single-round HIV-Luc virus that contains a near full-length HIV genome (ΔEnv, Luc replaces Nef) and can infect MEFs, integrate and execute LTR-driven luciferase (Luc) reporter expression8.\n",
            "17: TREX1 binds to transfected immunostimulatory DNA (ISD), and Trex1−/− cells accumulate cytoplasmic DNA derived from endogenous retroelements, which activates interferon regulatory factor 3 (IRF3)-dependent IFN expression6,7.\n",
            "\n",
            "Claim: Interestingly, similar to SAMHD1, TREX1 mutations in humans are associated with autoimmune and inflammatory diseases, including AGS\n",
            "16: TREX1 mutations are associated with inflammatory and autoimmune diseases, including Aicardi-Goutieres syndrome, chilblain lupus, and systemic lupus erythematosus (SLE), some of which have increased type I IFN3-5.\n",
            "205: TREX1 mutations that interfere with TREX1 enzymatic function or localization are associated with SLE and other autoimmune/inflammatory diseases3-5.\n",
            "207: It would be worth evaluating whether TREX1 polymorphisms or autoimmune disease are associated with reduced HIV transmission or a more benign disease course.\n",
            "208: The innate immune pathway uncovered in this study will improve understanding of how HIV intersects with innate immunity and may also shed light on autoimmune and inflammatory syndromes linked to TREX1 mutation.\n",
            "188: TREX1 promotes HIV replication in two ways – it inhibits autointegration and suppresses the IFN response.\n",
            "0: The cytosolic exonuclease TREX1 inhibits the innate immune response to HIV-1\n",
            "\n",
            "Abstract\n",
            "\n",
            "Viral infection triggers innate immune sensors to produce type I interferons (IFN).\n",
            "211: The human fibroblast line carrying the D18N heterozygous mutation in TREX1 was derived from a chilblain lupus patient.\n",
            "337: ( ) TREX1 siRNA inhibits HIV  replication in MDM measured by p24 Gag Ag ELISA of culture supernatants.\n",
            "41: Similarly in human 293T cells, TREX1 siRNA increased HIV-induced Luc expression from the IFN-β promoter, whereas siRNAs against some other SET complex genes had no effect on IFN-β expression (Supplementary Fig. 1).\n",
            "105: Therefore, during wild-type HIV infection of primary human cells, TREX1 suppresses HIV-induced IFN-β activation through IRF3 to promote HIV replication.\n",
            "\n",
            "Claim: TREX1 has previously been implicated in the HIV-1 life cycle\n",
            "0: The cytosolic exonuclease TREX1 inhibits the innate immune response to HIV-1\n",
            "\n",
            "Abstract\n",
            "\n",
            "Viral infection triggers innate immune sensors to produce type I interferons (IFN).\n",
            "12: We previously found that the ER-associated SET complex, which contains 3 DNases (APE1, NM23-H1, TREX1) and other proteins (SET, pp32, HMGB2), binds to the HIV PIC and protects the integrase (IN)-activated DNA ends from self-attack in suicidal autointegration2.\n",
            "59: \n",
            "\n",
            "HIV-stimulated IFN-β from Trex1−/− cells inhibits HIV\n",
            "\n",
            "Type I IFNs inhibit replication of most viruses by both cell autonomous and nonautonomous effects and block both early and late stages of the HIV life cycle11-14.\n",
            "188: TREX1 promotes HIV replication in two ways – it inhibits autointegration and suppresses the IFN response.\n",
            "82: \n",
            "\n",
            "For further evidence that TREX1 is responsible for removing extraneous cytosolic HIV DNA, we assessed whether TREX1 interacts with HIV DNA during infection with wild-type HIV .\n",
            "97: When IRF3 and TREX1 expression were both suppressed, HIV replication was partially rescued, suggesting that IRF3-dependent IFN-β induction contributes to inhibiting HIV replication caused by TREX1 siRNA (Fig. 5d).\n",
            "131: We showed here that the host cytoplasmic exonuclease TREX1 helps HIV evade innate immunity by digesting reverse transcripts that are not imported into the nucleus and would otherwise induce IFNs.\n",
            "105: Therefore, during wild-type HIV infection of primary human cells, TREX1 suppresses HIV-induced IFN-β activation through IRF3 to promote HIV replication.\n",
            "86: \n",
            "\n",
            "To test whether the enzymatic activity of TREX1 is required to enhance HIV infection, we determined whether expressing WT or D18N TREX1 in Trex1−/− cells could rescue HIV-Luc infectivity (Fig. 4e). WT TREX1 partially rescued HIV infection, but the enzymatically inactive D18N mutant had no effect, indicating that TREX1's exonuclease activity is needed for both inhibiting autointegration and blocking IFN-β induction.\n",
            "80: The accumulation of HIV DNA in Trex1−/− or TREX1 mutant cells is consistent with a previous report that ssDNA derived from endogenous retroelements is increased in the cytosol of Trex1−/− cells7.\n",
            "\n",
            "Claim: TREX1 suppressed a type I IFN response that otherwise would be induced by HIV-1 infection\n",
            "0: The cytosolic exonuclease TREX1 inhibits the innate immune response to HIV-1\n",
            "\n",
            "Abstract\n",
            "\n",
            "Viral infection triggers innate immune sensors to produce type I interferons (IFN).\n",
            "3: The cytosolic exonuclease TREX1 suppressed IFN triggered by HIV.\n",
            "131: We showed here that the host cytoplasmic exonuclease TREX1 helps HIV evade innate immunity by digesting reverse transcripts that are not imported into the nucleus and would otherwise induce IFNs.\n",
            "105: Therefore, during wild-type HIV infection of primary human cells, TREX1 suppresses HIV-induced IFN-β activation through IRF3 to promote HIV replication.\n",
            "21: RESULTS\n",
            "\n",
            "TREX1 inhibits IFN production in response to HIV\n",
            "\n",
            "We first compared HIV replication and IFN and inflammatory cytokine expression and secretion after infection of Trex1+/+ (WT) or Trex1−/− mouse embryonic fibroblasts (MEFs) with vesicular stomatitis virus G (VSV-G)-pseudotyped single-round HIV-Luc virus that contains a near full-length HIV genome (ΔEnv, Luc replaces Nef) and can infect MEFs, integrate and execute LTR-driven luciferase (Luc) reporter expression8.\n",
            "4: In Trex1−/− mouse cells and human CD4+ T cells and macrophages in which TREX1 was inhibited by RNA interference, cytosolic HIV DNA accumulated, and HIV infection induced type I IFN that inhibited HIV replication and spreading.\n",
            "132: When TREX1 is inhibited by RNAi, HIV infection of primary cells triggers Type I IFN expression and secretion.\n",
            "97: When IRF3 and TREX1 expression were both suppressed, HIV replication was partially rescued, suggesting that IRF3-dependent IFN-β induction contributes to inhibiting HIV replication caused by TREX1 siRNA (Fig. 5d).\n",
            "70: \n",
            "\n",
            "TREX1 metabolizes HIV RT products to suppress IFN induction\n",
            "\n",
            "To identify which HIV nucleic acids trigger IFN-β expression, we transfected WT and Trex1−/− MEFs with synthetic 100 bp gag sequence oligonucleotides that correspond to HIV nucleic acids in the cytosol during reverse transcription (ssRNA to represent gRNA, RNA:DNA hybrid, ssDNA, dsDNA) and measured IFN-β mRNA 6 h later by qRT-PCR (Fig. 4a,b).\n",
            "51: \n",
            "\n",
            "HIV reverse transcripts accumulate in Trex1−/− cells\n",
            "\n",
            "To gain insight into how TREX1 suppresses HIV-stimulated IFN-β induction, we measured cytosolic HIV DNA and IFN-β mRNA in WT and Trex1−/− cells during single-round HIV-Luc infection (MOI =1) (Fig. 3a).\n",
            "\n",
            "Claim: TREX1 was proposed to degrade cytosolic DNA resulting from HIV-1 reverse transcription, which would otherwise be capable of inducing an IFN response\n",
            "5: TREX1 bound to cytosolic HIV DNA and digested excess HIV DNA that would otherwise activate IFN expression via a TBK1, STING and IRF3 dependent pathway.\n",
            "131: We showed here that the host cytoplasmic exonuclease TREX1 helps HIV evade innate immunity by digesting reverse transcripts that are not imported into the nucleus and would otherwise induce IFNs.\n",
            "70: \n",
            "\n",
            "TREX1 metabolizes HIV RT products to suppress IFN induction\n",
            "\n",
            "To identify which HIV nucleic acids trigger IFN-β expression, we transfected WT and Trex1−/− MEFs with synthetic 100 bp gag sequence oligonucleotides that correspond to HIV nucleic acids in the cytosol during reverse transcription (ssRNA to represent gRNA, RNA:DNA hybrid, ssDNA, dsDNA) and measured IFN-β mRNA 6 h later by qRT-PCR (Fig. 4a,b).\n",
            "0: The cytosolic exonuclease TREX1 inhibits the innate immune response to HIV-1\n",
            "\n",
            "Abstract\n",
            "\n",
            "Viral infection triggers innate immune sensors to produce type I interferons (IFN).\n",
            "51: \n",
            "\n",
            "HIV reverse transcripts accumulate in Trex1−/− cells\n",
            "\n",
            "To gain insight into how TREX1 suppresses HIV-stimulated IFN-β induction, we measured cytosolic HIV DNA and IFN-β mRNA in WT and Trex1−/− cells during single-round HIV-Luc infection (MOI =1) (Fig. 3a).\n",
            "3: The cytosolic exonuclease TREX1 suppressed IFN triggered by HIV.\n",
            "81: These results strongly suggest that TREX1 suppresses IFN-β induction by digesting cytosolic DNA.\n",
            "21: RESULTS\n",
            "\n",
            "TREX1 inhibits IFN production in response to HIV\n",
            "\n",
            "We first compared HIV replication and IFN and inflammatory cytokine expression and secretion after infection of Trex1+/+ (WT) or Trex1−/− mouse embryonic fibroblasts (MEFs) with vesicular stomatitis virus G (VSV-G)-pseudotyped single-round HIV-Luc virus that contains a near full-length HIV genome (ΔEnv, Luc replaces Nef) and can infect MEFs, integrate and execute LTR-driven luciferase (Luc) reporter expression8.\n",
            "100: In TREX1 siRNA-treated T cells, HIV DNA accumulated in the cytosol and both IFN-α and IFN-β expression were induced.\n",
            "160: Although Hmgb2 RNAi in Trex1−/− MEFs did not increase cytosolic HIV DNA, HMGB2 RNAi in human 293T cells, also treated with TREX1 siRNA, enhanced cytosolic HIV DNA and IFN-β and IFN-β induction.\n",
            "\n"
          ]
        }
      ]
    },
    {
      "cell_type": "code",
      "source": [
        "CURR_PMC='PMC3090745'\n",
        "\n",
        "with open(f'{CURR_PMC}.txt') as f:\n",
        "    text = f.read()\n",
        "\n",
        "doc = nlp(text)\n",
        "sentences = [str(s) for s in list(doc.sents)]\n",
        "\n",
        "claims = [\n",
        "    \"These studies have identified several new genes that show significant association after multiple test correction in multiple datasets: CLU, PICALM, BIN1, CR1, ABCA7, MS4A6A, CD33 and CD2AP [31]–[35].\",\n",
        "    \"All variants classified as “likely pathogenic” or with an “unknown pathogenicity”, and some “non-pathogenic” variants were genotyped in 961 sporadic AD cases, 1,346 unrelated elderly non-demented controls\",\n",
        "    \"Since 2009, four GWAS and a three-stage analysis of the GWAS resulted in the identification of nine novel loci associated with late-onset AD: CLU, PICALM, CR1, BIN1, ABCA7, MS4A cluster (MS4A6A/MS4A4E), CD2AP, CD33, and EPHA1 (Harold et al., 2009; Lambert et al., 2009; Seshadri et al., 2010; Hollingworth et al., 2011a,b; Naj et al., 2011).\",\n",
        "    \"Examining the amount of genetic risk effect attributable to these genes (other than APOE), the most strongly associated single-nucleotide polymorphisms at each locus have population attributable fractions between 2.72 and 5.97%, with a cumulative population attributable fraction for non-APOE loci estimated to be as much as 35% (Naj et al., 2011).\",\n",
        "    \"To investigate whether any of the significant brain cisSNPs may influence risk of AD, we compared our eGWAS results to the AD risk associations from the large AD GWAS conducted by ADGC [28].\"\n",
        "]\n",
        "\n",
        "for i in range(5):\n",
        "    print(\"Claim:\", claims[i])\n",
        "    for j in res[CURR_PMC][i]:\n",
        "        print(f\"{j}:\", sentences[j])\n",
        "    print()"
      ],
      "metadata": {
        "colab": {
          "base_uri": "https://localhost:8080/"
        },
        "id": "Y7VQKfktO5Cb",
        "outputId": "7a259966-645e-4840-9df3-89b8f9330230"
      },
      "execution_count": null,
      "outputs": [
        {
          "output_type": "stream",
          "name": "stdout",
          "text": [
            "Claim: These studies have identified several new genes that show significant association after multiple test correction in multiple datasets: CLU, PICALM, BIN1, CR1, ABCA7, MS4A6A, CD33 and CD2AP [31]–[35].\n",
            "79: Our observation of genome-wide significant associations at MS4A4A, CD2AP, EPHA1, and CD33 extend our understanding of the genetic architecture of LOAD and confirm the emerging consensus that common genetic variation plays a significant role in the etiology of LOAD.\n",
            "3: We obtained genome-wide significant results at MS4A4A [rs4938933; Stages 1+2, meta-analysis (PM) = 1.7 × 10−9, joint analysis (PJ) = 1.7 × 10−9; Stages 1–3, PM = 8.2 × 10−12], CD2AP (rs9349407; Stages 1–3, PM = 8.6 × 10−9), EPHA1 (rs11767557; Stages 1–3 PM = 6.0 × 10−10), and CD33 (rs3865444; Stages 1–3, PM = 1.6 × 10−9).\n",
            "80: With our findings and those by Hollingsworth et al.12, there are now ten LOAD susceptibility loci (APOE, CR1, CLU, PICALM, BIN1, EPHA1, MS4A, CD33, CD2AP, and ABCA7).\n",
            "52: \n",
            "\n",
            "In Stages 1 and 2, strong evidence for association was also obtained for SNPs in CD33, a gene located approximately 6Mb from APOE, but the results did not reach genome-wide significance.\n",
            "61: Our Stage 1+2 analyses also confirmed the association of previously reported loci (BIN1, CR1, CLU, and PICALM) with LOAD (Table 1).\n",
            "32: For three of these (CD33, EPHA1, and CD2AP), Stage 3 analysis strengthened evidence for association.\n",
            "27: Five of these had not previously been associated with LOAD at a genome-wide significance level of P ≤ 5.0 × 10−8 (MS4A, EPHA1, CD33, ARID5B, and CD2AP).\n",
            "90: PM values for association are shown for: (A) MS4A gene cluster, (B) CD2AP, (C) EPHA1, and (D) CD33.\n",
            "42: Stage 3 analysis yielded a genome-wide significance result for rs9349407 (PM = 8.6 × 10−9), identifying CD2AP as a novel LOAD locus.\n",
            "58: \n",
            "\n",
            "Hollingworth et al 12 report highly significant evidence for the association of an ABCA7 SNP rs3764650 with LOAD (PM = 4.5 × 10−17) that included data from our study.\n",
            "\n",
            "Claim: All variants classified as “likely pathogenic” or with an “unknown pathogenicity”, and some “non-pathogenic” variants were genotyped in 961 sporadic AD cases, 1,346 unrelated elderly non-demented controls\n",
            "9: \n",
            "\n",
            "To identify genetic variants associated with risk for AD, the ADGC assembled a discovery dataset [Stage 1; 8,309 LOAD cases, 7,366 cognitively normal controls (CNEs)] using data from eight cohorts and a ninth newly assembled cohort from the 29 NIA-funded Alzheimer Disease Centers (ADCs) (Supplementary Tables 1 and 2, Supplementary Note) with data coordinated by the National Alzheimer Coordinating Center (NACC) and samples coordinated by the National Cell Repository for Alzheimer Disease (NCRAD).\n",
            "84: Our discovery dataset (Stage 1; 8,309 cases and 7,366 controls), was well-powered to detect associations exceeding the statistical significance threshold of P < 10−6 (Supplementary Table 9).\n",
            "5: \n",
            "\n",
            "Alzheimer Disease (AD) is a neurodegenerative disorder affecting more than 13% of individuals aged 65 years and older and 30%–50% aged 80 years and older4–5.\n",
            "11: The Stage 3 replication used the results of association analyses provided by three other consortia (Hollingworth et al.12; 7,650 LOAD cases, 25,839 mixed-age controls).\n",
            "55: A single SNP (rs3826656) in the 5’ region of CD33, was previously reported as an AD-related locus using a family-based approach as genome-wide significant (P = 6.6 × 10−6) 15.\n",
            "1:  are associated with late-onset Alzheimer’s disease\n",
            "\n",
            "Abstract\n",
            "\n",
            "The Alzheimer Disease Genetics Consortium (ADGC) performed a genome-wide association study (GWAS) of late-onset Alzheimer disease (LOAD) using a 3 stage design consisting of a discovery stage (Stage 1) and two replication stages (Stages 2 and 3).\n",
            "6: Early work identified mutations in APP, PSEN1, and PSEN2 that cause early-onset autosomal dominant AD6–9 and variants in APOE that affect LOAD susceptibility10.\n",
            "15: \n",
            "\n",
            "Because cohorts were genotyped using different platforms, we used imputation to generate a common set of 2,324,889 SNPs.\n",
            "10: For the Stage 2 replication, we used four additional datasets and additional samples from the ADCs (3,531 LOAD cases, 3,565 CNEs).\n",
            "23: \n",
            "\n",
            "\n",
            "\n",
            "Claim: Since 2009, four GWAS and a three-stage analysis of the GWAS resulted in the identification of nine novel loci associated with late-onset AD: CLU, PICALM, CR1, BIN1, ABCA7, MS4A cluster (MS4A6A/MS4A4E), CD2AP, CD33, and EPHA1 (Harold et al., 2009; Lambert et al., 2009; Seshadri et al., 2010; Hollingworth et al., 2011a,b; Naj et al., 2011).\n",
            "1:  are associated with late-onset Alzheimer’s disease\n",
            "\n",
            "Abstract\n",
            "\n",
            "The Alzheimer Disease Genetics Consortium (ADGC) performed a genome-wide association study (GWAS) of late-onset Alzheimer disease (LOAD) using a 3 stage design consisting of a discovery stage (Stage 1) and two replication stages (Stages 2 and 3).\n",
            "26: SNPs from these nine loci were carried forward to Stage 2.\n",
            "80: With our findings and those by Hollingsworth et al.12, there are now ten LOAD susceptibility loci (APOE, CR1, CLU, PICALM, BIN1, EPHA1, MS4A, CD33, CD2AP, and ABCA7).\n",
            "34: \n",
            "\n",
            "Stage 1+2 analysis identified the MS4A gene cluster as a novel LOAD locus (PM = 1.7 × 10−9, PJ = 1.7 × 10−9)(Table 1, Fig. 1A).\n",
            "7: A recent GWAS identified CR1, CLU, PICALM, and BIN1 as LOAD susceptibility loci1–3.\n",
            "30: One novel locus (MS4A) was significant in the Stage 1+2 analysis.\n",
            "42: Stage 3 analysis yielded a genome-wide significance result for rs9349407 (PM = 8.6 × 10−9), identifying CD2AP as a novel LOAD locus.\n",
            "79: Our observation of genome-wide significant associations at MS4A4A, CD2AP, EPHA1, and CD33 extend our understanding of the genetic architecture of LOAD and confirm the emerging consensus that common genetic variation plays a significant role in the etiology of LOAD.\n",
            "9: \n",
            "\n",
            "To identify genetic variants associated with risk for AD, the ADGC assembled a discovery dataset [Stage 1; 8,309 LOAD cases, 7,366 cognitively normal controls (CNEs)] using data from eight cohorts and a ninth newly assembled cohort from the 29 NIA-funded Alzheimer Disease Centers (ADCs) (Supplementary Tables 1 and 2, Supplementary Note) with data coordinated by the National Alzheimer Coordinating Center (NACC) and samples coordinated by the National Cell Repository for Alzheimer Disease (NCRAD).\n",
            "32: For three of these (CD33, EPHA1, and CD2AP), Stage 3 analysis strengthened evidence for association.\n",
            "\n",
            "Claim: Examining the amount of genetic risk effect attributable to these genes (other than APOE), the most strongly associated single-nucleotide polymorphisms at each locus have population attributable fractions between 2.72 and 5.97%, with a cumulative population attributable fraction for non-APOE loci estimated to be as much as 35% (Naj et al., 2011).\n",
            "81: Examining the amount of genetic effect attributable to these candidate genes, the most strongly associated SNPs at each locus other than APOE demonstrated population attributable fractions (PAFs) between 2.72–5.97% (Supplemental Table 9), with a cumulative PAF for non-APOE loci estimated to be as much as 35%; however, these estimates may vary widely between studies22, and the actual effect sizes are likely to be much smaller than those estimated here because of the ‘winner’s curse’.\n",
            "73: After adjustment, all loci had similar effect sizes to the unadjusted analyses with some showing a modest reduction in statistical significance.\n",
            "52: \n",
            "\n",
            "In Stages 1 and 2, strong evidence for association was also obtained for SNPs in CD33, a gene located approximately 6Mb from APOE, but the results did not reach genome-wide significance.\n",
            "72: \n",
            "\n",
            "We examined the influence of the APOE ε4 allele on the loci in Table 1, stratified by and in interactions with APOE ε4 allele carrier status.\n",
            "65: Only SNPs in the APOE, CR1, PICALM, and BIN1 loci demonstrated P < 10−6.\n",
            "82: Also the results do not account for interaction among loci, and are not derived from appropriate population-based samples.\n",
            "26: SNPs from these nine loci were carried forward to Stage 2.\n",
            "29: For all loci in Table 1, we did not detect evidence for effect heterogeneity (Supplementary Fig. 2).\n",
            "80: With our findings and those by Hollingsworth et al.12, there are now ten LOAD susceptibility loci (APOE, CR1, CLU, PICALM, BIN1, EPHA1, MS4A, CD33, CD2AP, and ABCA7).\n",
            "85: If there are many loci of more modest effects, some, but not all, will likely be detected in any one study.\n",
            "\n",
            "Claim: To investigate whether any of the significant brain cisSNPs may influence risk of AD, we compared our eGWAS results to the AD risk associations from the large AD GWAS conducted by ADGC [28].\n",
            "9: \n",
            "\n",
            "To identify genetic variants associated with risk for AD, the ADGC assembled a discovery dataset [Stage 1; 8,309 LOAD cases, 7,366 cognitively normal controls (CNEs)] using data from eight cohorts and a ninth newly assembled cohort from the 29 NIA-funded Alzheimer Disease Centers (ADCs) (Supplementary Tables 1 and 2, Supplementary Note) with data coordinated by the National Alzheimer Coordinating Center (NACC) and samples coordinated by the National Cell Repository for Alzheimer Disease (NCRAD).\n",
            "1:  are associated with late-onset Alzheimer’s disease\n",
            "\n",
            "Abstract\n",
            "\n",
            "The Alzheimer Disease Genetics Consortium (ADGC) performed a genome-wide association study (GWAS) of late-onset Alzheimer disease (LOAD) using a 3 stage design consisting of a discovery stage (Stage 1) and two replication stages (Stages 2 and 3).\n",
            "92: For the SNP with the lowest P-value at each locus in Stage 1 analyses, three P-values for association are shown: P1 meta-analysis of the ADGC Discovery (Stage 1) dataset (highlighted with a black diamond), P1+2 meta-analysis of the Combined ADGC Discovery and Replication (Stages 1 + 2) datasets (highlighted with a blue diamond), and P1+2+3 meta-analysis of the combined ADGC dataset and the external replication (Stages 1 + 2 + 3) datasets (highlighted with a red diamond).\n",
            "63: \n",
            "\n",
            "We also examined SNPs with statistically significant GWAS results reported by others (GAB216, PCDH11X17, GOLM118, and MTHFD1L 19, Supplementary Table 7).\n",
            "38: In a combined analysis of ADGC results and those from Hollingworth et al.12, the evidence for this locus at rs4938933 increased to PM = 8.2 × 10−12 (Table 3: OR  = 0.89, 95% CI: 0.87–0.92; Fig. 1A).\n",
            "55: A single SNP (rs3826656) in the 5’ region of CD33, was previously reported as an AD-related locus using a family-based approach as genome-wide significant (P = 6.6 × 10−6) 15.\n",
            "52: \n",
            "\n",
            "In Stages 1 and 2, strong evidence for association was also obtained for SNPs in CD33, a gene located approximately 6Mb from APOE, but the results did not reach genome-wide significance.\n",
            "58: \n",
            "\n",
            "Hollingworth et al 12 report highly significant evidence for the association of an ABCA7 SNP rs3764650 with LOAD (PM = 4.5 × 10−17) that included data from our study.\n",
            "3: We obtained genome-wide significant results at MS4A4A [rs4938933; Stages 1+2, meta-analysis (PM) = 1.7 × 10−9, joint analysis (PJ) = 1.7 × 10−9; Stages 1–3, PM = 8.2 × 10−12], CD2AP (rs9349407; Stages 1–3, PM = 8.6 × 10−9), EPHA1 (rs11767557; Stages 1–3 PM = 6.0 × 10−10), and CD33 (rs3865444; Stages 1–3, PM = 1.6 × 10−9).\n",
            "22: Association findings from meta-analysis and joint analysis were comparable.\n",
            "\n"
          ]
        }
      ]
    },
    {
      "cell_type": "code",
      "source": [
        "CURR_PMC='PMC3096954'\n",
        "\n",
        "with open(f'{CURR_PMC}.txt') as f:\n",
        "    text = f.read()\n",
        "\n",
        "doc = nlp(text)\n",
        "sentences = [str(s) for s in list(doc.sents)]\n",
        "\n",
        "claims = [\n",
        "    \"Recently, a subgroup of Basal-like tumors associated with poor prognosis has also been reported [4,5].\",\n",
        "    \"Context 130, a Basal-like context has under-expression of GATA3 which is in concordance with previous studies of Basal-like subgroup, ’claudin-low’ with poor prognosis and more refractory to chemotherapy [5] .\",\n",
        "    \"Molecular profiling has identified 5 distinct subtypes of human breast tumors, luminal A, luminal B, HER2-enriched, basal-like and claudin-low [1-7].\",\n",
        "    \"Claudin-low tumors express mesenchymal genes such as Twist1, Twist2, Zeb1, Zeb2, Slug and Snail and low levels of E-cadherin and claudins 3, 4 and 7 [6,7].\",\n",
        "    \"Since claudin-low tumors possess features of stem cells [7], it is possible that the tumors that regress and recur or only partially regress are those that contain claudin-low cells.\",\n",
        "]\n",
        "\n",
        "for i in range(5):\n",
        "    print(\"Claim:\", claims[i])\n",
        "    for j in res[CURR_PMC][i]:\n",
        "        print(f\"{j}:\", sentences[j])\n",
        "    print()"
      ],
      "metadata": {
        "colab": {
          "base_uri": "https://localhost:8080/"
        },
        "id": "3W78wjc40GS5",
        "outputId": "873dfd38-ce40-4de9-e143-62d13255b994"
      },
      "execution_count": null,
      "outputs": [
        {
          "output_type": "stream",
          "name": "stdout",
          "text": [
            "Claim: Recently, a subgroup of Basal-like tumors associated with poor prognosis has also been reported [4,5].\n",
            "158: Conversely, similar survival curves were observed between claudin-low tumors and the other poor prognosis subtypes such as luminal B, HER2-enriched and basal-like tumors (Figure 3b).\n",
            "216: Thus, as has been described for basal-like tumors [4], claudin-low tumors show some chemotherapy sensitivity, yet patients with these tumors still have poor survival outcomes overall (Figure 3b).\n",
            "186: These data suggest that tumors with an undifferentiated phenotype similar to the normal MaSC and/or early progenitors have a poorer prognosis compared to tumors with a more mature luminal phenotype, and this association is independent of the luminal B and HER2-enriched subtypes and the common clinical variables.\n",
            "123: This contrasts with other studies that have linked the basal-like subtype with stem cell- or embryonic cell-like features [36,37]; however, these other studies did not examine claudin-low tumors as a separate group, and in the absence of a claudin-low predictor, claudin-low tumors are typically classified as basal-like (or normal breast-like) by the PAM50 gene expression assay [9].\n",
            "252: In this article, we characterize an important new disease group, namely the claudin-low subtype of breast cancer, and show that these tumors have a poor prognosis and features of mesenchymal and mammary stem cells.\n",
            "161: Notably, claudin-low tumors showed a lower pathological complete response (pCR) rate after anthracycline/taxane-based chemotherapy compared to basal-like tumors (38.9% vs. 73.3% pCR rates; P = 0.08, Fisher's exact test), but their pCR rate was higher than luminal A or B tumors; interestingly, the apparent pCR rate of the basal-like tumors increased from 59% (reported in Parker et al. [9]) to ~73% when the claudin-low subtype was included, because among 18 claudin-low tumors identified in this set, 12 (67%) of 18 of them were previously identified as basal-like and the response rate of this subgroup of patients was 41.7%.\n",
            "217: A potential explanation for this similar scenario of basal-like and claudin-low tumors is that chemoresistant cells with TIC or mesenchymal properties are present at diagnosis in these two tumor subtypes as suggested by our immunofluorescence dual staining (Figure S9 in Additional file 1).\n",
            "14: Introduction\n",
            "\n",
            "Genomic studies have established four major breast cancer intrinsic subtypes (luminal A, Luminal B, HER2-enriched, basal-like) and a normal breast-like group that show significant differences in incidence, survival and response to therapy [1-3].\n",
            "162: These findings suggest that claudin-low tumors show some chemotherapy sensitivity but overall have a poor prognosis and may not be managed effectively with existing chemotherapy regimens.\n",
            "0: Phenotypic and molecular characterization of the claudin-low intrinsic subtype of breast cancer\n",
            "\n",
            "Abstract\n",
            "\n",
            "Introduction\n",
            "\n",
            "In breast cancer, gene expression analyses have defined five tumor subtypes (luminal A, luminal B, HER2-enriched, basal-like and claudin-low), each of which has unique biologic and prognostic features.\n",
            "\n",
            "Claim: Context 130, a Basal-like context has under-expression of GATA3 which is in concordance with previous studies of Basal-like subgroup, ’claudin-low’ with poor prognosis and more refractory to chemotherapy [5] .\n",
            "162: These findings suggest that claudin-low tumors show some chemotherapy sensitivity but overall have a poor prognosis and may not be managed effectively with existing chemotherapy regimens.\n",
            "161: Notably, claudin-low tumors showed a lower pathological complete response (pCR) rate after anthracycline/taxane-based chemotherapy compared to basal-like tumors (38.9% vs. 73.3% pCR rates; P = 0.08, Fisher's exact test), but their pCR rate was higher than luminal A or B tumors; interestingly, the apparent pCR rate of the basal-like tumors increased from 59% (reported in Parker et al. [9]) to ~73% when the claudin-low subtype was included, because among 18 claudin-low tumors identified in this set, 12 (67%) of 18 of them were previously identified as basal-like and the response rate of this subgroup of patients was 41.7%.\n",
            "216: Thus, as has been described for basal-like tumors [4], claudin-low tumors show some chemotherapy sensitivity, yet patients with these tumors still have poor survival outcomes overall (Figure 3b).\n",
            "7: Clinically, the majority of claudin-low tumors are poor prognosis estrogen receptor (ER)-negative, progesterone receptor (PR)-negative, and epidermal growth factor receptor 2 (HER2)-negative (triple negative) invasive ductal carcinomas with a high frequency of metaplastic and medullary differentiation.\n",
            "217: A potential explanation for this similar scenario of basal-like and claudin-low tumors is that chemoresistant cells with TIC or mesenchymal properties are present at diagnosis in these two tumor subtypes as suggested by our immunofluorescence dual staining (Figure S9 in Additional file 1).\n",
            "158: Conversely, similar survival curves were observed between claudin-low tumors and the other poor prognosis subtypes such as luminal B, HER2-enriched and basal-like tumors (Figure 3b).\n",
            "157: In terms of prognosis, Kaplan-Meier survival analysis revealed that claudin-low tumors have a worse prognosis compared to luminal A tumors in both the UNC337 (hazard ratio [HR] of 2.83 and 5.66 for relapse-free survival [RFS] and overall survival [OS], respectively; P < 0.05) and NKI295 data sets (HR of 4.71 and 17.98 for RFS and OS, respectively; P < 0.001).\n",
            "105: The validity of the claudin-low sample cluster was confirmed by parsing the dendogram with SigClust [22] (P < 0.001); notably, this clustering analysis placed the claudin-low tumors in close proximity to the basal-like subtype and was composed of 32 arrays, representing 32 patients (~12% of all patients).\n",
            "20: \n",
            "\n",
            "In this study, we comprehensively characterize the claudin-low subtype using an updated human tumor database and multiple independent data sets and present the pathological and chemotherapy response characteristics of this subtype of \"triple negative\" breast cancers.\n",
            "106: Compared to the luminal A, luminal B, HER2-enriched, and basal-like subtypes, claudin-low tumors showed inconsistent expression of basal keratins (keratins 5, 14 and 17) and low expression of HER2 and luminal markers such as ER, PR, GATA3, keratins 18 and 19 and the luminal gene cluster (Figure 1a).\n",
            "\n",
            "Claim: Molecular profiling has identified 5 distinct subtypes of human breast tumors, luminal A, luminal B, HER2-enriched, basal-like and claudin-low [1-7].\n",
            "0: Phenotypic and molecular characterization of the claudin-low intrinsic subtype of breast cancer\n",
            "\n",
            "Abstract\n",
            "\n",
            "Introduction\n",
            "\n",
            "In breast cancer, gene expression analyses have defined five tumor subtypes (luminal A, luminal B, HER2-enriched, basal-like and claudin-low), each of which has unique biologic and prognostic features.\n",
            "103: \n",
            "\n",
            "Results\n",
            "\n",
            "Molecular characterization of the claudin-low breast tumor subtype\n",
            "\n",
            "To identify the molecular characteristics of claudin-low tumors, we created a large genomic data set by combining three of our previously published data sets [5,6,9] and included 37 new tumor samples (n = 337; UNC337, GEO series GSE18229).\n",
            "209: \n",
            "\n",
            "Molecular characterization of the claudin-low subtype reveals that these tumors are significantly enriched in EMT and stem cell-like features while showing a low expression of luminal and proliferation-associated genes.\n",
            "114: Similarly, when compared to all other tumors (basal-like, HER2-enriched, luminal A, luminal B and normal breast-like) as a single group, the claudin-low tumor subtype maintained its characteristic for low to absent expression of E-cadherin and claudin 3 (45% vs. 15% for E-cadherin, P < 0.005; 59% vs. 22% for claudin 3, P < 0.001; χ2 test) (Figure S3 in Additional file 1).\n",
            "106: Compared to the luminal A, luminal B, HER2-enriched, and basal-like subtypes, claudin-low tumors showed inconsistent expression of basal keratins (keratins 5, 14 and 17) and low expression of HER2 and luminal markers such as ER, PR, GATA3, keratins 18 and 19 and the luminal gene cluster (Figure 1a).\n",
            "22: The molecular characterization of the claudin-low intrinsic subtype in tumors and cell lines reveals a breast cancer differentiation hierarchy that resembles the normal epithelial mammary developmental cascade.\n",
            "14: Introduction\n",
            "\n",
            "Genomic studies have established four major breast cancer intrinsic subtypes (luminal A, Luminal B, HER2-enriched, basal-like) and a normal breast-like group that show significant differences in incidence, survival and response to therapy [1-3].\n",
            "113: Further immunohistochemical analysis of 103 breast tumors of the UNC337 data set revealed that compared to the basal-like subtype, the claudin-low tumor subtype had a preponderance for low to absent expression of E-cadherin and claudin 3 (45% vs. 11% for E-cadherin, P < 0.05; 59% vs. 11% for claudin 3, P < 0.005; χ2 test).\n",
            "179: \n",
            "\n",
            "Notably, and as shown by Lim et al. [24], the breast cancer subtypes segregate along the normal mammary epithelial differentiation hierarchy starting with undifferentiated claudin-low tumors, followed by basal-like, then HER2-enriched tumors, and finally both luminal tumor subtypes (Figure 4c).\n",
            "266: Identification of the claudin-low subtype in a panel of breast cancer cell lines.\n",
            "\n",
            "Claim: Claudin-low tumors express mesenchymal genes such as Twist1, Twist2, Zeb1, Zeb2, Slug and Snail and low levels of E-cadherin and claudins 3, 4 and 7 [6,7].\n",
            "212: Consistent with this finding, we observed a high mRNA expression of known transcriptional repressors of E-cadherin such as SNAI1, SNAI2, TWIST1, TWIST2, ZEB1 and ZEB2, and other EMT-inducing factors such as hypoxia-inducible factor-1a in claudin-low tumors [31] (Figure 1b, Figure S2 in Additional file 1).\n",
            "17: These distinct tumors were found in both human and murine breast tumor data sets and were characterized by the low gene expression of tight junction proteins claudin 3, 4 and 7 and E-cadherin, a calcium-dependent cell-cell adhesion glycoprotein.\n",
            "203: Conversely, the CD49f+/EpCAM-/low cells from the basal-like SUM149PT cell line showed the presence of a mesenchymal/claudin-low-like gene expression profile, with high expression of genes involved in wound response (i.e., interleukin 6, chemokine [C-X-C motif], ligand 1), angiogenesis (i.e., VEGFA) and extracellular matrix (i.e., vimentin, SNAI1), while genes involved in luminal differentiation (i.e., keratin 19, CD24) and cell-cell adhesion such as E-cadherin or claudin 7 were low (Figure 7c and Supplemental Data in Additional file 2).\n",
            "116: These findings, together with the low expression of epithelial cell-cell adhesion molecules such as E-cadherin, are consistent with an EMT (changes in cell phenotype between epithelial and mesenchymal states) [31] in claudin-low tumors and a potential recruitment of multiple types of leukocytes into these tumors.\n",
            "209: \n",
            "\n",
            "Molecular characterization of the claudin-low subtype reveals that these tumors are significantly enriched in EMT and stem cell-like features while showing a low expression of luminal and proliferation-associated genes.\n",
            "113: Further immunohistochemical analysis of 103 breast tumors of the UNC337 data set revealed that compared to the basal-like subtype, the claudin-low tumor subtype had a preponderance for low to absent expression of E-cadherin and claudin 3 (45% vs. 11% for E-cadherin, P < 0.05; 59% vs. 11% for claudin 3, P < 0.005; χ2 test).\n",
            "133: These nine cell lines (MDA-MB-435, MDA-MB-436, Hs578T, BT549, MDA-MB-231, MDA-MB-157, SUM1315MO2, SUM159PT and HBL100) showed a gene expression pattern similar to the claudin-low tumor subtype with the lowest expression of genes involved in epithelial cell-cell adhesion (i.e., E-cadherin and claudins 3, 4 and 7), luminal differentiation (i.e., CD24, EpCAM) and high values for the CD44/CD24 and CD49f/EpCAM mRNA ratios (Figure S4, Table S3 in Additional file 1).\n",
            "112: Conversely, expression of various epithelial cell-cell adhesion genes such as claudin 3, claudin 4, claudin 7, occludin and E-cadherin was significantly lower as previously reported [5] (Figure 1b).\n",
            "114: Similarly, when compared to all other tumors (basal-like, HER2-enriched, luminal A, luminal B and normal breast-like) as a single group, the claudin-low tumor subtype maintained its characteristic for low to absent expression of E-cadherin and claudin 3 (45% vs. 15% for E-cadherin, P < 0.005; 59% vs. 22% for claudin 3, P < 0.001; χ2 test) (Figure S3 in Additional file 1).\n",
            "106: Compared to the luminal A, luminal B, HER2-enriched, and basal-like subtypes, claudin-low tumors showed inconsistent expression of basal keratins (keratins 5, 14 and 17) and low expression of HER2 and luminal markers such as ER, PR, GATA3, keratins 18 and 19 and the luminal gene cluster (Figure 1a).\n",
            "\n",
            "Claim: Since claudin-low tumors possess features of stem cells [7], it is possible that the tumors that regress and recur or only partially regress are those that contain claudin-low cells.\n",
            "224: Thus, we cannot rule out the possibility that some of the claudin-low tumors identified in this study are tumors with low epithelial and high myofibroblast content.\n",
            "213: Thus, our data suggest that claudin-low tumors, compared with the other intrinsic breast tumor subtypes, are the most enriched for stem cell and/or TIC features, and on the basis of our vimentin immunofluorescence staining, it appears that these mesenchymal features are present within epithelial cells, which is a feature not seen in normal breast tissues.\n",
            "209: \n",
            "\n",
            "Molecular characterization of the claudin-low subtype reveals that these tumors are significantly enriched in EMT and stem cell-like features while showing a low expression of luminal and proliferation-associated genes.\n",
            "236: Although we have not performed functional tumor cell repopulating assays on human claudin-low tumors to show their enrichment for TICs because of the low incidence of these tumors (i.e., ~7 to 14%), there is, however, evidence that the claudin-low cell lines identified here show stem cell properties and may be highly enriched for TICs.\n",
            "217: A potential explanation for this similar scenario of basal-like and claudin-low tumors is that chemoresistant cells with TIC or mesenchymal properties are present at diagnosis in these two tumor subtypes as suggested by our immunofluorescence dual staining (Figure S9 in Additional file 1).\n",
            "222: However, we acknowledge a potential caveat of the nine-cell line claudin-low predictor, which is that tumors with high stromal content might also be identified as claudin-low.\n",
            "223: It is possible that the signature set of genes that are high in claudin-low tumors (and cell lines) are also high in nonepithelial cells, including fibroblasts and other mesenchyme-derived cells.\n",
            "21: In contrast to the basal-like subtype, we provide evidence that claudin-low tumors are more enriched in epithelial-to-mesenchymal transition (EMT) features, immune system responses, and stem cell-associated biological processes.\n",
            "6: Results\n",
            "\n",
            "Claudin-low tumors are characterized by the low to absent expression of luminal differentiation markers, high enrichment for epithelial-to-mesenchymal transition markers, immune response genes and cancer stem cell-like features.\n",
            "19: Overall, these studies suggest that the claudin-low tumor subtype lacks common epithelial cell features and is enriched for TIC features.\n",
            "\n"
          ]
        }
      ]
    },
    {
      "cell_type": "code",
      "source": [
        "CURR_PMC='PMC3179858'\n",
        "\n",
        "with open(f'{CURR_PMC}.txt') as f:\n",
        "    text = f.read()\n",
        "\n",
        "doc = nlp(text)\n",
        "sentences = [str(s) for s in list(doc.sents)]\n",
        "\n",
        "claims = [\n",
        "    \"By contrast, Hrecka and colleagues identified SAMHD1 from HEK 293T cells expressing tagged Vpx in a proteomic screen using multidimensional protein identification technology [10].\",\n",
        "    \"They demonstrated that Vpx relieves the inhibition of HIV-1 infection in monocyte-derived macrophages by mediating proteasome-dependent degradation of SAMHD1 through the CUL4A/DCAF1 E3 ubiquitin ligase [10].\",\n",
        "    \"Both studies confirmed that Vpx interacts with SAMHD1 and induces proteasomal degradation of SAMHD1 in THP-1 cells or macrophages, which can be restored by treatment with a proteasome inhibitor [9,10].\",\n",
        "    \"Further analysis revealed that SAMHD1 blocks HIV-1 reverse transcription, as silencing SAMHD1 in THP-1 cells [9] and macrophages [10] increases the levels of viral DNA.\",\n",
        "    \"Together, these studies suggested that SAMHD1 is the myeloid-cell specific HIV-1 restriction factor counteracted by Vpx [9,10] (Figure 1).\"\n",
        "]\n",
        "\n",
        "for i in range(5):\n",
        "    print(\"Claim:\", claims[i])\n",
        "    for j in res[CURR_PMC][i]:\n",
        "        print(f\"{j}:\", sentences[j])\n",
        "    print()"
      ],
      "metadata": {
        "colab": {
          "base_uri": "https://localhost:8080/"
        },
        "id": "WsaW3KuwKWQn",
        "outputId": "4cfde6c4-0f60-41ee-c7e5-a52feb8c995c"
      },
      "execution_count": null,
      "outputs": [
        {
          "output_type": "stream",
          "name": "stdout",
          "text": [
            "Claim: By contrast, Hrecka and colleagues identified SAMHD1 from HEK 293T cells expressing tagged Vpx in a proteomic screen using multidimensional protein identification technology [10].\n",
            "39: \n",
            "\n",
            "Because SAMHD1 was originally identified in HEK 293T cells, it was important to confirm that it is both expressed and targeted by Vpx for degradation via CRL4DCAF1 in MDM.\n",
            "160: \n",
            "\n",
            "  HIV-2 and SIVmac Vpx bind SAMHD1. The indicated FLAG-tagged Vpx and Vpr proteins were transiently co-expressed with myc-tagged SAMHD1 in HEK 293T cells.\n",
            "32: Human epitope-tagged SAMHD1 was co-expressed with Vpx, or Vpr, in HEK 293T cells and Vpx/Vpr immune complexes were analyzed by Western blotting.\n",
            "25: \n",
            "\n",
            "The most abundant of the candidate proteins uncovered in this screen was the innate immune SAM-domain HD-domain containing protein 1 (SAMHD1), which co-purified with both Vpx (6 spectra) and Vpx-CRL4DCAF1 complex (37 spectra), but not with CRL4DCAF1 complex alone (Supplementary Table I).\n",
            "164: FLAG-SAMHD1 was transiently co-expressed with myc-tagged SIVmac Vpx, Vpx , or HIV-1 Vpr, in HEK293T cells.\n",
            "35: SAMHD1 was co-expressed with wild type SIVmac Vpx, a Vpx  variant that does not bind DCAF1, or HIV-1 Vpr that does not bind SAMHD1, in HEK 293T cells.\n",
            "53: By contrast, in the DCAF1 depleted cells degradation of SAMHD1 induced by Vpx was significantly inhibited providing further evidence for our hypothesis that Vpx utilizes CRL4DCAF1 E3 to program SAMHD1 degradation.\n",
            "78: SAMHD1 is expressed in HEK 293T cells, undifferentiated THP-1 cells and other non-myeloid cell types that do not possess a Vpx-sensitive mechanism restricting primate lentivirus infection (Supplementary Figures 6 and 7).\n",
            "18: To identify Vpx-recruited substrates for the CRL4DCAF1 ubiquitin ligase, a proteomic screen was used to search for the cellular protein(s) that associate with the CRL4DCAF1 complex only in the presence of Vpx.\n",
            "42: In contrast, Vpx , which is defective for DCAF1 binding12, did not decrease SAMHD1 levels.\n",
            "\n",
            "Claim: They demonstrated that Vpx relieves the inhibition of HIV-1 infection in monocyte-derived macrophages by mediating proteasome-dependent degradation of SAMHD1 through the CUL4A/DCAF1 E3 ubiquitin ligase [10].\n",
            "6: Vpx relieves the inhibition of lentivirus infection in macrophages by loading SAMHD1 onto the CRL4DCAF1 E3 ubiquitin ligase, leading to highly efficient proteasome-dependent degradation of the protein.\n",
            "16: This evidence supports the model in which Vpx relieves the inhibition of HIV-1 infection in MDM by targeting an unknown anti-viral inhibitory protein for proteasome-dependent degradation, via the CRL4DCAF1 E3 ubiquitin ligase.\n",
            "0: Vpx relieves inhibition of HIV-1 infection of macrophages mediated by the SAMHD1 protein\n",
            "\n",
            "Abstract\n",
            "53: By contrast, in the DCAF1 depleted cells degradation of SAMHD1 induced by Vpx was significantly inhibited providing further evidence for our hypothesis that Vpx utilizes CRL4DCAF1 E3 to program SAMHD1 degradation.\n",
            "14: To assess whether Vpx-mediated relief of the inhibition of HIV-1 infection in macrophages is also linked to CRL4DCAF1, we co-infected human MDM with VSV-G-pseudotyped HIV-1 NL4-3-derived single cycle reporter virus encoding the GFP reporter (HIV-1–GFP) in the presence of VSV-G-pseudotyped SIV VLP loaded with HIV-2 Rod Vpx (SIV VLP(Vpx)) or with a Vpx variant (Vpx ), that does not bind to DCAF112.\n",
            "69: The Vpx accessory protein of HIV-2/SIVsm lineage viruses removes this inhibition by targeting SAMHD1 for proteasome-dependent degradation via CRL4DCAF1 E3 ubiquitin ligase (Supplementary Figure 5).\n",
            "46: Our above biochemical and functional studies with Vpx  variants suggested that Vpx uses the CRL4DCAF1 E3 ubiquitin ligase to program SAMHD1 degradation.\n",
            "38: We conclude that Vpx specifically binds to, and recruits SAMHD1 to the DCAF1-DDB1 module of CRL4DCAF1 E3 ubiquitin ligase.\n",
            "5: Here we show that the inhibition of HIV-1 infection in macrophages involves the cellular SAM domain HD domain-containing protein 1 (SAMHD1).\n",
            "72: Our discovery that the SAMHD1 protein inhibits HIV infection in macrophages unveils a novel and unexpected link between unconventional cell-intrinsic innate immune mechanisms and the anti-viral defence.\n",
            "\n",
            "Claim: Both studies confirmed that Vpx interacts with SAMHD1 and induces proteasomal degradation of SAMHD1 in THP-1 cells or macrophages, which can be restored by treatment with a proteasome inhibitor [9,10].\n",
            "6: Vpx relieves the inhibition of lentivirus infection in macrophages by loading SAMHD1 onto the CRL4DCAF1 E3 ubiquitin ligase, leading to highly efficient proteasome-dependent degradation of the protein.\n",
            "52: Significantly, Vpx induced an almost complete degradation of SAMHD1 in cells treated with the control siRNAs.\n",
            "141: For studies with proteasome inhibitor MG132, MDM were cultured in the presence or absence of MG132 (1 μg/ml) for one hour and then infected with 3-fold dilutions of SIVmac Vpx-loaded SIV VLP for additional 3 hours, in the continuous presence or absence of MG132, and harvested for western blot analysis of SAMHD1 levels.\n",
            "53: By contrast, in the DCAF1 depleted cells degradation of SAMHD1 induced by Vpx was significantly inhibited providing further evidence for our hypothesis that Vpx utilizes CRL4DCAF1 E3 to program SAMHD1 degradation.\n",
            "43: Importantly, the effect of Vpx was blocked when macrophages were exposed to the proteasome inhibitor MG132 prior to and during infection with Vpx-loaded SIV VLP (Figure 3b).\n",
            "46: Our above biochemical and functional studies with Vpx  variants suggested that Vpx uses the CRL4DCAF1 E3 ubiquitin ligase to program SAMHD1 degradation.\n",
            "16: This evidence supports the model in which Vpx relieves the inhibition of HIV-1 infection in MDM by targeting an unknown anti-viral inhibitory protein for proteasome-dependent degradation, via the CRL4DCAF1 E3 ubiquitin ligase.\n",
            "44: We conclude that Vpx programs SAMHD1 for destruction in MDM.\n",
            "34: Next, we confirmed that Vpx specifically links SAMHD1 to the CRL4DCAF1 E3 complex.\n",
            "69: The Vpx accessory protein of HIV-2/SIVsm lineage viruses removes this inhibition by targeting SAMHD1 for proteasome-dependent degradation via CRL4DCAF1 E3 ubiquitin ligase (Supplementary Figure 5).\n",
            "\n",
            "Claim: Further analysis revealed that SAMHD1 blocks HIV-1 reverse transcription, as silencing SAMHD1 in THP-1 cells [9] and macrophages [10] increases the levels of viral DNA.\n",
            "68: \n",
            "\n",
            "In summary, our results show that SAMHD1 interferes with HIV infection of macrophages by preventing efficient viral cDNA synthesis.\n",
            "72: Our discovery that the SAMHD1 protein inhibits HIV infection in macrophages unveils a novel and unexpected link between unconventional cell-intrinsic innate immune mechanisms and the anti-viral defence.\n",
            "67: This evidence clearly demonstrates that SAMHD1 inhibits MDM infection by HIV-1 and other primate lentiviruses by disrupting synthesis of viral cDNA.\n",
            "5: Here we show that the inhibition of HIV-1 infection in macrophages involves the cellular SAM domain HD domain-containing protein 1 (SAMHD1).\n",
            "64: Quantification of viral reverse transcription intermediates showed that depleting SAMHD1 levels stimulated synthesis of viral full length cDNA by approximately 10-fold (Figure 4c), and again this effect was well pronounced even at the lowest doses of Vpx.\n",
            "180: \n",
            "\n",
            "  SAMHD1 depletion relieves HIV-1 cDNA synthesis.\n",
            "0: Vpx relieves inhibition of HIV-1 infection of macrophages mediated by the SAMHD1 protein\n",
            "\n",
            "Abstract\n",
            "36: Analysis of SAMHD1 immune complexes revealed that SAMHD1 directed assembly of a protein complex containing Vpx, and the DCAF1- and DDB1- subunits of CRL4DCAF1 complex (Figure 2c).\n",
            "54: \n",
            "\n",
            "Then we set out to investigate the role of SAMHD1 in HIV-1 infection in MDM.\n",
            "183: \n",
            "\n",
            "  SAMHD1 inhibits MDM transduction by vpx-defective HIV-2 –GFP and SIVmac –GFP single cycle reporter viruses.\n",
            "\n",
            "Claim: Together, these studies suggested that SAMHD1 is the myeloid-cell specific HIV-1 restriction factor counteracted by Vpx [9,10] (Figure 1).\n",
            "46: Our above biochemical and functional studies with Vpx  variants suggested that Vpx uses the CRL4DCAF1 E3 ubiquitin ligase to program SAMHD1 degradation.\n",
            "81: Of note, we observed that SAMHD1 levels are depleted by Vpx in both MDM and monocyte-derived dendritic cells in a Vpx glutamine Q76 dependent manner (data not shown) implicating SAMHD1 as the key AGS protein inhibiting lentivirus infection in myeloid cells.\n",
            "38: We conclude that Vpx specifically binds to, and recruits SAMHD1 to the DCAF1-DDB1 module of CRL4DCAF1 E3 ubiquitin ligase.\n",
            "53: By contrast, in the DCAF1 depleted cells degradation of SAMHD1 induced by Vpx was significantly inhibited providing further evidence for our hypothesis that Vpx utilizes CRL4DCAF1 E3 to program SAMHD1 degradation.\n",
            "34: Next, we confirmed that Vpx specifically links SAMHD1 to the CRL4DCAF1 E3 complex.\n",
            "160: \n",
            "\n",
            "  HIV-2 and SIVmac Vpx bind SAMHD1. The indicated FLAG-tagged Vpx and Vpr proteins were transiently co-expressed with myc-tagged SAMHD1 in HEK 293T cells.\n",
            "30: To assess whether SAMHD1 binding and recruitment to the DCAF-linked complex are conserved functions of Vpx, we investigated HIV-2 Rod Vpx, which, as SIVmac 239 Vpx, is also functional6,12,13.\n",
            "39: \n",
            "\n",
            "Because SAMHD1 was originally identified in HEK 293T cells, it was important to confirm that it is both expressed and targeted by Vpx for degradation via CRL4DCAF1 in MDM.\n",
            "35: SAMHD1 was co-expressed with wild type SIVmac Vpx, a Vpx  variant that does not bind DCAF1, or HIV-1 Vpr that does not bind SAMHD1, in HEK 293T cells.\n",
            "36: Analysis of SAMHD1 immune complexes revealed that SAMHD1 directed assembly of a protein complex containing Vpx, and the DCAF1- and DDB1- subunits of CRL4DCAF1 complex (Figure 2c).\n",
            "\n"
          ]
        }
      ]
    },
    {
      "cell_type": "code",
      "source": [
        "CURR_PMC='PMC3442244'\n",
        "\n",
        "with open(f'{CURR_PMC}.txt') as f:\n",
        "    text = f.read()\n",
        "\n",
        "doc = nlp(text)\n",
        "sentences = [str(s) for s in list(doc.sents)]\n",
        "\n",
        "claims = [\n",
        "    \"Currently, over 60 common risk variants have been identified [30–34], with a combined disease risk of 5–10% [34, 35], suggesting the existence of many more as yet undiscovered loci [34, 36, 37].\",\n",
        "    \"A fundamental challenge facing those wishing to determine which of the genes in a particular locus is responsible for affecting disease risk, and dissect how this/these act, is the very scale of the problem (currently more than 500 genes in total to interrogate, with others emerging) [35]\",\n",
        "    \"According to the most recent meta-analysis of genome-wide association studies, 63 individual SNPs have now been linked with diabetes risk [1].\",\n",
        "    \"However, these variants explain only ∼5.7% of variance in disease susceptibility [1].\",\n",
        "    \"Of these SNPs, 66,000 were selected for efficient replication of top signals across multiple traits, with the hope that when tested in sufficiently large samples they might exceed genome-wide statistical significance (9,10)\"\n",
        "]\n",
        "\n",
        "for i in range(5):\n",
        "    print(\"Claim:\", claims[i])\n",
        "    for j in res[CURR_PMC][i]:\n",
        "        print(f\"{j}:\", sentences[j])\n",
        "    print()"
      ],
      "metadata": {
        "colab": {
          "base_uri": "https://localhost:8080/"
        },
        "id": "wN-_dhlYKkLh",
        "outputId": "9f3fcc9a-1313-4c7a-9a4e-d40928464752"
      },
      "execution_count": null,
      "outputs": [
        {
          "output_type": "stream",
          "name": "stdout",
          "text": [
            "Claim: Currently, over 60 common risk variants have been identified [30–34], with a combined disease risk of 5–10% [34, 35], suggesting the existence of many more as yet undiscovered loci [34, 36, 37].\n",
            "88: However, the paucity of low-frequency candidate alleles across 36 loci suggests that most causal variants at these loci are common.\n",
            "165: In so doing, we have added another 10 loci to the list of confirmed common variant signals: for several of these, we have identified strong positional candidates based on expression data and known biology.\n",
            "7: Although the genetic contribution to T2D is well recognized, the current set of 56 established susceptibility loci, identified primarily through large-scale genome-wide association studies (GWAS)2-11, captures at best 10% of familial aggregation of the disease.\n",
            "3: Genome-wide analyses of these data are consistent with a long tail of further common variant loci explaining much of the variation in susceptibility to T2D.\n",
            "39: Assuming a T2D population prevalence of 8%, these 63 newly discovered and established autosomal loci together account for 5.7% of variance in disease susceptibility, as calculated by transforming dichotomous disease risk onto a continuous liability scale20 (Online Methods).\n",
            "65: These data indicate that a substantial proportion of the variation in T2D risk is captured by common variant association signals that, individually, lie beyond unequivocal detection in single SNP analyses.\n",
            "99: \n",
            "\n",
            "Understanding the biology of T2D susceptibility loci\n",
            "\n",
            "For most T2D susceptibility loci, the underlying causal variants and the genes through which they act are yet to be identified, and the pathophysiological processes mediating disease risk remain unclear.\n",
            "68: To understand the extent to which additional variance might be attributable to multiple variants at established and newly discovered loci, we extended these analyses, focusing on the detection of independent (CEU r2 < 0.05) association signals that lie outside the recombination interval containing the lead SNP (Supplementary Table 2).\n",
            "132: The only candidate allele uncovered was a non-synonymous variant in exon 6 of TM6SF2 (19-19379549, CEU r2 = 0.98 with rs10401969) at the CILP2 locus.\n",
            "166: The data support the view that much of the overall variance in T2D susceptibility can be attributed to the impact of a large number of common causal variants, most of very modest effect.\n",
            "\n",
            "Claim: A fundamental challenge facing those wishing to determine which of the genes in a particular locus is responsible for affecting disease risk, and dissect how this/these act, is the very scale of the problem (currently more than 500 genes in total to interrogate, with others emerging) [35]\n",
            "10: One key question is whether characterization of increasing numbers of risk loci will provide evidence, at the functional level, that susceptibility involves a limited set of molecular processes.\n",
            "7: Although the genetic contribution to T2D is well recognized, the current set of 56 established susceptibility loci, identified primarily through large-scale genome-wide association studies (GWAS)2-11, captures at best 10% of familial aggregation of the disease.\n",
            "169: In particular, it will be important to determine whether, as the number of susceptibility loci increases, there is evidence that the pathophysiological mechanisms implicated by human genetics coalesce around a limited set of core pathways and networks.\n",
            "167: While such a model poses challenges for accumulating genome-wide significant evidence of association at a specific variant, it does suggest that genetic profiling based on the entirety of sequence variation has the potential to provide useful risk stratification for T2D.\n",
            "39: Assuming a T2D population prevalence of 8%, these 63 newly discovered and established autosomal loci together account for 5.7% of variance in disease susceptibility, as calculated by transforming dichotomous disease risk onto a continuous liability scale20 (Online Methods).\n",
            "75: Imputation up to the more complete reference panels emerging from the 1000 Genomes Project13 and recently developed approaches that support approximate conditional analyses using meta-analysis summary level data27 will be important tools for documenting the full extent of such effects, especially where the variants map to the same recombination interval.\n",
            "9: At the same time, difficulties in inferring biological mechanisms from the variants of modest effect identified by GWAS have inhibited progress in defining the pathophysiological basis of disease susceptibility.\n",
            "88: However, the paucity of low-frequency candidate alleles across 36 loci suggests that most causal variants at these loci are common.\n",
            "99: \n",
            "\n",
            "Understanding the biology of T2D susceptibility loci\n",
            "\n",
            "For most T2D susceptibility loci, the underlying causal variants and the genes through which they act are yet to be identified, and the pathophysiological processes mediating disease risk remain unclear.\n",
            "4: Exploration of the enlarged set of susceptibility loci implicates several processes, including CREBBP-related transcription, adipocytokine signalling and cell cycle regulation, in diabetes pathogenesis.\n",
            "\n",
            "Claim: According to the most recent meta-analysis of genome-wide association studies, 63 individual SNPs have now been linked with diabetes risk [1].\n",
            "233: For each of these SNPs, we reported the allelic OR (aligned to the T2D risk-allele) and P-values in: (i) our Stage 1 T2D meta-analysis; and (ii) a GWAS meta-analysis of 7,514 T1D cases and 9,045 population controls from European descent populations from the Type 1 Diabetes Genetics Consortium35.\n",
            "120: \n",
            "\n",
            "Finally, we noticed that the lead T2D SNP at the BCAR1 locus is genome-wide significant for type 1 diabetes (T1D)35, although risk is conferred by the opposite alleles.\n",
            "49: Using simulations, based on parameter estimates from this mixture model, we estimated that 488 (95% confidence interval (CI) 456-521) of the independent replication SNPs, in addition to the 63 newly discovered and established loci, are associated with T2D susceptibility.\n",
            "15: This genome-wide meta-analysis (“DIAGRAMv3”) includes data from 12,171 cases and 56,862 controls of European descent imputed up to 2.5 million autosomal SNPs, and augments the previously published “DIAGRAMv2” meta-analysis4 with four additional GWAS (Supplementary Table 1).\n",
            "135: For these analyses, we generated a “primary” list of 77 transcripts mapping nearest to lead SNPs at T2D susceptibility loci or implicated in monogenic diabetes38 (Online Methods and Supplementary Table 15).\n",
            "224: We obtained summary statistics for lead SNPs in all newly discovered and established loci for glycemic traits in non-diabetic individuals from the MAGIC Investigators5,34.\n",
            "14: The T2D-nominated component of Metabochip comprises 21,774 variants, including 5,057 “replication” SNPs that capture the strongest, independent (CEU r2 < 0.2) autosomal association signals from the GWAS meta-analysis conducted by the DIAbetes Genetics Replication and Meta-analysis (DIAGRAM) Consortium.\n",
            "65: These data indicate that a substantial proportion of the variation in T2D risk is captured by common variant association signals that, individually, lie beyond unequivocal detection in single SNP analyses.\n",
            "250: The “primary” list included: (i) the nearest transcript to the lead SNP at 41 previously reported common variant loci identified in European descent populations; (ii) the nearest transcript to the lead SNP at the ten newly identified loci (P < 5 × 10−8) from the sex-combined meta-analysis, including GRB14 and HMG20A; (iii) the nearest transcript to the lead SNP at both novel signals (P < 5 × 10−8) from the sex-differentiated meta-analysis; (iv) the nearest transcript to the lead SNP at six additional loci with the strongest evidence of association (P < 5 × 10−7) from the sex-combined meta-analysis; and (v) 18 genes implicated in monogenic forms of diabetes38, not already overlapping other loci included in the list.\n",
            "142: However, it is the most connected gene for protein-level interactions (P < 0.005) in the PPI network, interacting with nine primary transcripts, eight implicated in monogenic diabetes or mapping to established T2D susceptibility loci (HNF1A, HNF1B, HNF4A, PLAGL1, TCF7L2, PPARG, PROX1 and NOTCH2) and one from a locus with a strong, but not genome-wide significant, association (ETS1, lead SNP rs7931302, P = 3.8 × 10−7).\n",
            "\n",
            "Claim: However, these variants explain only ∼5.7% of variance in disease susceptibility [1].\n",
            "39: Assuming a T2D population prevalence of 8%, these 63 newly discovered and established autosomal loci together account for 5.7% of variance in disease susceptibility, as calculated by transforming dichotomous disease risk onto a continuous liability scale20 (Online Methods).\n",
            "57: We estimate that these variants jointly account for λ  = 1.088 (95% CI 1.083-1.094), increasing the overall liability-scale variance explained to 10.7% (10.4-11.0%).\n",
            "166: The data support the view that much of the overall variance in T2D susceptibility can be attributed to the impact of a large number of common causal variants, most of very modest effect.\n",
            "64: These results are similar to those obtained from a complementary method integrating polygenic risk score analysis and approximate Bayesian computation23 applied to the DIAGRAMv2 meta-analysis4, which estimated that ~49% of liability-scale variance was explained by common variants genome-wide.\n",
            "3: Genome-wide analyses of these data are consistent with a long tail of further common variant loci explaining much of the variation in susceptibility to T2D.\n",
            "168: \n",
            "\n",
            "If common causal alleles explain a substantial component of T2D susceptibility, the contribution of rare and low-frequency risk variants may be less than is often assumed: re-sequencing studies will soon provide empirical data to address this question.\n",
            "62: \n",
            "\n",
            "To estimate the contribution to the variance explained by common variants genome-wide, we undertook polygenic mixed linear modelling analyses using GCTA21,22 in two DIAGRAMv3 GWAS data sets: DGI (1,022 cases, 1,075 controls) and WTCCC (1,924 cases, 2,938 controls).\n",
            "63: The estimated liability-scale variance explained by the full set of GWAS SNPs was consistent between the two studies: 62.6% for DGI (95% CI 38.1-87.1%) and 63.9% for WTCCC (95% CI 52.1-75.8%).\n",
            "40: \n",
            "\n",
            "To determine the extent to which additional common variant associations contribute to the overall variance explained, we compared directional consistency in allelic effects between the two stages of the meta-analysis.\n",
            "65: These data indicate that a substantial proportion of the variation in T2D risk is captured by common variant association signals that, individually, lie beyond unequivocal detection in single SNP analyses.\n",
            "\n",
            "Claim: Of these SNPs, 66,000 were selected for efficient replication of top signals across multiple traits, with the hope that when tested in sufficiently large samples they might exceed genome-wide statistical significance (9,10)\n",
            "50: For comparison, we undertook false-discovery rate (FDR) analysis of the 64,646 SNPs on the Metabochip selected for replication of any trait, using P-values from the combined meta-analysis (Online Methods).\n",
            "55: \n",
            "\n",
            "As expected, the estimated allelic ORs of the 488 SNPs are modest (1.01-1.11 in Stage 2), and larger samples would be required to establish association at genome-wide significance.\n",
            "91: \n",
            "\n",
            "Sex-differentiated analyses\n",
            "\n",
            "We performed sex-differentiated meta-analysis32 (Online Methods and Supplementary Figs. 5 and 6) to test for association of each SNP with T2D, allowing for heterogeneity in allelic effects between males (20,219 cases, 54,604 controls) and females (14,621 cases, 60,377 controls), thereby identifying two additional loci achieving genome-wide significance (Table 2 and Supplementary Table 7).\n",
            "273: For the “null” set, we used 1,600 LD-pruned Metabochip T2D replication SNPs with the lowest posterior probability of association (<5%) from the mixture model.\n",
            "49: Using simulations, based on parameter estimates from this mixture model, we estimated that 488 (95% confidence interval (CI) 456-521) of the independent replication SNPs, in addition to the 63 newly discovered and established loci, are associated with T2D susceptibility.\n",
            "69: We detected two loci at which multiple independent association signals attained genome-wide significance: KCNQ1 (rs163184, P = 1.2 × 10−11; rs231361, P = 1.2 × 10−9; CEU r2 = 0.01) and CDKN2A/B (rs10811661, P = 3.7 × 10−27; rs944801, P = 2.4 × 10−9; CEU r2 = 0.01) (Fig. 2).\n",
            "205: For each simulated replicate, we selected “causal” variants at random from these SNPs according to their posterior probability of association.\n",
            "196: \n",
            "\n",
            "Look-up of meta-analysis results for lead SNPs in GWAS of South and East Asian descent\n",
            "\n",
            "We obtained summary statistics (RAFs, association P-values, allelic ORs and 95% CIs) for lead SNPs at the newly discovered loci in meta-analyses of T2D GWAS in: (i) 5,561 cases and 14,458 controls of South Asian descent10, excluding 1,958 overlapping samples from PROMIS that were also included in our study, comprising 568,976 directly genotyped autosomal SNPs; and (ii) 6,952 cases and 11,865 controls of East Asian descent11, comprising 2,626,356 directly genotyped and imputed autosomal SNPs.\n",
            "56: For example, by simulating an additional 100,000 T2D cases and 100,000 controls as a “third stage” to the combined meta-analysis, we calculate that only ~37% of the 488 replication SNPs in the alternative distribution would achieve this threshold.\n",
            "212: We compared FST for the subset of T2D replication SNPs that were directionally consistent between Stage 1 and Stage 2 meta-analyses with all Metabochip replication SNPs (up to 65,345 SNPs), using the Kolmogorov-Smirnov test.\n",
            "\n"
          ]
        }
      ]
    },
    {
      "cell_type": "code",
      "source": [
        "CURR_PMC='PMC3607626'\n",
        "\n",
        "with open(f'{CURR_PMC}.txt') as f:\n",
        "    text = f.read()\n",
        "\n",
        "doc = nlp(text)\n",
        "sentences = [str(s) for s in list(doc.sents)]\n",
        "\n",
        "claims = [\n",
        "    \"To date, a number of studies have investigated gene expression in ASD (for review see [29]), with three examining ASD brain tissue on a genome-wide scale [30], [31], [32].\"\n",
        "    \"Lastly, we were interested in considering our findings in the context of the major three published transcriptomics studies on ASD brain tissue [30], [31], [32].\",\n",
        "    \"The most comprehensive transcriptomics study of ASD post-mortem brain to date (Voineagu et al) concludes that one of two significant co-expression networks is involved in immune function [32].\",\n",
        "    \"This network analysis led to the identification of specific co-expression modules that are differentially expressed in ASD and controls [20].\",\n",
        "    \"These included a neuronal module that was enriched for genes with low GWAS P-values, suggesting that the differential expression of this module between cases and controls reflects a causal relationship [20].\"\n",
        "]\n",
        "\n",
        "for i in range(4):\n",
        "    print(\"Claim:\", claims[i])\n",
        "    for j in res[CURR_PMC][i]:\n",
        "        print(f\"{j}:\", sentences[j])\n",
        "    print()"
      ],
      "metadata": {
        "colab": {
          "base_uri": "https://localhost:8080/"
        },
        "id": "WFF_uKbTOfxa",
        "outputId": "73c6d09f-0ec5-44cd-f979-cefa66f4d783"
      },
      "execution_count": null,
      "outputs": [
        {
          "output_type": "stream",
          "name": "stdout",
          "text": [
            "Claim: To date, a number of studies have investigated gene expression in ASD (for review see [29]), with three examining ASD brain tissue on a genome-wide scale [30], [31], [32].Lastly, we were interested in considering our findings in the context of the major three published transcriptomics studies on ASD brain tissue [30], [31], [32].\n",
            "0: Transcriptomic Analysis of Autistic Brain Reveals Convergent Molecular Pathology\n",
            "\n",
            "Abstract\n",
            "\n",
            "Autism spectrum disorder (ASD) is a common, highly heritable neuro-developmental condition characterized by marked genetic heterogeneity1–3.\n",
            "84: Our system-level analysis of the ASD brain transcriptome demonstrates the existence of convergent molecular abnormalities in ASD for the first time, providing a molecular neuropathological basis for the disease, whose genetic, epigenetic, or environmental etiologies can now be directly explored.\n",
            "86: We show that the transcriptome changes observed in ASD brain converge with GWAS data in supporting the genetic basis of synaptic and neuronal signaling dysfunction in ASD, while immune changes have a less pronounced genetic component and thus are most likely either secondary phenomena or caused by environmental factors.\n",
            "88: The striking attenuation of gene expression differences observed here between frontal and temporal cortex in ASD likely represents a defect of developmental patterning and provides a strong rationale for further studies to assess the pervasiveness of transcriptional patterning abnormalities across the ASD brain.\n",
            "85: The genome-wide analysis performed here significantly extends previous findings implicating synaptic dysfunction, as well as microglial and immune dysregulation in ASD6 by providing an unbiased systematic assessment of transcriptional alterations and their genetic basis.\n",
            "3: Remarkably, regional patterns of gene expression that typically distinguish frontal and temporal cortex are significantly attenuated in the ASD brain, suggesting abnormalities in cortical patterning.\n",
            "12: We identified 444 genes showing significant expression changes in autism cortex samples (DS1, Figure 1b), and only 2 genes differentially expressed (DE) between the autism and control groups in cerebellum (Methods), indicating that gene expression changes associated with autism were more pronounced in cerebral cortex, which became the focus of further analysis (Supplementary Table 2).\n",
            "8: Collectively, our results provide strong evidence for convergent molecular abnormalities in ASD, and implicate transcriptional and splicing dysregulation as underlying mechanisms of neuronal dysfunction in this disorder.\n",
            "22: To test whether these findings were replicable, and to further validate the results in an independent dataset, we obtained tissue from an additional frontal cortex region (BA44/45) from nine ASD cases and five controls (DS2; Supplementary Table 4).\n",
            "6: Moreover, using a published autism GWAS dataset, we show that the neuronal module is enriched for genetically associated variants, providing independent support for the causal involvement of these genes in autism.\n",
            "\n",
            "Claim: The most comprehensive transcriptomics study of ASD post-mortem brain to date (Voineagu et al) concludes that one of two significant co-expression networks is involved in immune function [32].\n",
            "86: We show that the transcriptome changes observed in ASD brain converge with GWAS data in supporting the genetic basis of synaptic and neuronal signaling dysfunction in ASD, while immune changes have a less pronounced genetic component and thus are most likely either secondary phenomena or caused by environmental factors.\n",
            "87: Since immune molecules and cells such as microglia play a role in synaptic development and function26, we speculate that the observed immune up-regulation may be related to abnormal ongoing plasticity in ASD brain.\n",
            "82: These results indicate that (a) M12 consists of a set of genes that are supported by independent lines of evidence to be causally involved in ASD pathophysiology, and (b) the upregulation of immune response genes in the autistic brain observed by us and others25 has no evidence of a common genetic component.\n",
            "4: We further identify discrete modules of co-expressed genes associated with autism: a neuronal module enriched for known autism susceptibility genes, including the neuronal specific splicing factor A2BP1/FOX1, and a module enriched for immune genes and glial markers.\n",
            "85: The genome-wide analysis performed here significantly extends previous findings implicating synaptic dysfunction, as well as microglial and immune dysregulation in ASD6 by providing an unbiased systematic assessment of transcriptional alterations and their genetic basis.\n",
            "89: We also demonstrate for the first time alterations in differential splicing associated with A2BP1/FOX1 levels in ASD brain, and show that many of the affected exons belong to genes involved in synaptic function.\n",
            "84: Our system-level analysis of the ASD brain transcriptome demonstrates the existence of convergent molecular abnormalities in ASD for the first time, providing a molecular neuropathological basis for the disease, whose genetic, epigenetic, or environmental etiologies can now be directly explored.\n",
            "78: The RNA-Seq data thus provides validation of the functional groups of genes identified by co-expression analysis, and evidence for a convergence of transcriptional and alternative-splicing abnormalities in the synaptic and signaling pathogenesis of ASD.\n",
            "45: \n",
            "\n",
            "To identify discrete groups of co-expressed genes showing transcriptional differences between autism and controls, we constructed a co-expression network using the entire dataset, composed of both autism and control samples (Methods).\n",
            "59: The second module of co-expressed genes highly related to autism disease status, M16, was enriched for astrocyte markers and markers of activated microglia (Supplementary Table 9), as well as for genes belonging to immune and inflammatory GO categories (Figure 2).\n",
            "\n",
            "Claim: This network analysis led to the identification of specific co-expression modules that are differentially expressed in ASD and controls [20].\n",
            "45: \n",
            "\n",
            "To identify discrete groups of co-expressed genes showing transcriptional differences between autism and controls, we constructed a co-expression network using the entire dataset, composed of both autism and control samples (Methods).\n",
            "68: In addition, five previously validated A2BP1 targets showed evidence of alternative splicing, four of which (ATP5C1, ATP2B1, GRIN1 and MEF2C) were confirmed as having differential splicing between ASD samples with low A2BP1 expression and control samples, indicating that we were able to identify a high proportion of the expected A2BP1-dependent DS events.\n",
            "4: We further identify discrete modules of co-expressed genes associated with autism: a neuronal module enriched for known autism susceptibility genes, including the neuronal specific splicing factor A2BP1/FOX1, and a module enriched for immune genes and glial markers.\n",
            "12: We identified 444 genes showing significant expression changes in autism cortex samples (DS1, Figure 1b), and only 2 genes differentially expressed (DE) between the autism and control groups in cerebellum (Methods), indicating that gene expression changes associated with autism were more pronounced in cerebral cortex, which became the focus of further analysis (Supplementary Table 2).\n",
            "38: This was not simply an issue of statistical thresholds, as relaxing the statistical criteria for DE to an FDR of 5%, identified over 500 DE genes in controls, and only 8 in ASD brains, confirming the large difference observed in regional cortical differential gene expression between ASD cases and controls (Figure 1d, Methods).\n",
            "60: This module, which was upregulated in ASD brain, showed significant similarity to two modules identified in previous studies of normal human brain8: an astrocyte module and a microglial module.\n",
            "78: The RNA-Seq data thus provides validation of the functional groups of genes identified by co-expression analysis, and evidence for a convergence of transcriptional and alternative-splicing abnormalities in the synaptic and signaling pathogenesis of ASD.\n",
            "65: To identify potential A2BP1-dependent differential splicing (DS) events in ASD brain, we performed high-throughput RNA sequencing (RNA-Seq) on 3 autism samples with significant down-regulation of A2BP1 (average fold change by qRT-PCR: 5.9) and 3 control samples with average A2BP1 levels.\n",
            "49: The comparison between autism and control groups revealed two network modules whose eigengenes were highly correlated with disease status, and not any of the potential confounding variables (Supplementary Table 9).\n",
            "137: \n",
            "\n",
            "  GWAS signal enrichment of DE genes and the autism-associated co-expression modules M12 and M16.\n",
            "\n",
            "Claim: These included a neuronal module that was enriched for genes with low GWAS P-values, suggesting that the differential expression of this module between cases and controls reflects a causal relationship [20].\n",
            "6: Moreover, using a published autism GWAS dataset, we show that the neuronal module is enriched for genetically associated variants, providing independent support for the causal involvement of these genes in autism.\n",
            "50: We found that the top module (M12) showed highly significant enrichment for neuronal markers (Supplementary Table 9), and high overlap with two neuronal modules previously identified as part of the human brain transcriptional network8: a PVALB+ interneuron module and a module of genes involved in synaptic function.\n",
            "4: We further identify discrete modules of co-expressed genes associated with autism: a neuronal module enriched for known autism susceptibility genes, including the neuronal specific splicing factor A2BP1/FOX1, and a module enriched for immune genes and glial markers.\n",
            "7: In contrast, the immune-glial module showed no enrichment for autism GWAS signals, indicating a non-genetic etiology for this process.\n",
            "133: \n",
            "\n",
            "  Relevant gene ontology categories enriched in the set of genes containing exons differentially spliced between low-A2BP1 autism cases and controls.\n",
            "138: Enrichment p values are shown for an autism GWAS dataset (Wang et al.27, AGRE discovery cohort) as well as two control datasets consisting of GWAS studies of non-psychiatric traits: Han et al.23 (Negative control 1) and Cooper et al.24 (Negative control 2).\n",
            "79: \n",
            "\n",
            "To test whether our findings are more generalizable, and determine whether the autism-associated transcriptional differences observed are likely to be causal, versus collateral effects or environmentally-induced changes, we tested whether our co-expression modules or the DE genes show enrichment for autism genetic association signals.\n",
            "137: \n",
            "\n",
            "  GWAS signal enrichment of DE genes and the autism-associated co-expression modules M12 and M16.\n",
            "52: Consistent with the pathways identified to be downregulated in autism by DE analysis (Supplementary Table 3), the functional enrichment of M12 included the GO categories involved in synaptic function, vesicular transport and neuronal projection.\n",
            "69: We also observe that alternative exons with increased skipping in ASD relative to control cases are significantly enriched for A2BP1 motifs in adjacent, downstream intronic sequences (p = 1.09E-7, Fisher exact test), consistent with previous data19.\n",
            "\n"
          ]
        }
      ]
    },
    {
      "cell_type": "code",
      "source": [
        "CURR_PMC='PMC3650111'\n",
        "\n",
        "with open(f'{CURR_PMC}.txt') as f:\n",
        "    text = f.read()\n",
        "\n",
        "doc = nlp(text)\n",
        "sentences = [str(s) for s in list(doc.sents)]\n",
        "\n",
        "claims = [\n",
        "    \"Interestingly, Prevotella-dominated healthy omnivore individuals were recently reported to have increased basal levels of serum TMAO (trimethylamine N-oxide), a product of inflammation linked to atherogenesis, compared to Bacteroides-dominated healthy individuals (Koeth et al., 2013).\",\n",
        "    \"While TMAO could be derived from increased consumption of meat (Koeth et al., 2013), Prevotella has been previously associated with a dearth of meat in the diet (Wu et al., 2011).\",\n",
        "    \"Additional, recent mouse studies [145] investigating how consumption of red meat may accelerate cardiovascular disease and inflammation in humans [146,147] suggest an additional and potentially serious limitation on probiotic supplementation.\",\n",
        "    \"Dietary L-carnitine and choline, compounds abundant in red meat, are metabolized into trimethylamine-N-oxide (TMAO) by way of some normal gut commensals; in mice TMAO enhances atherosclerosis through disrupting cholesterol metabolism and foam-cell macrophage activity [145].\",\n",
        "    \"In both humans and mice, TMAO concentrations correlate positively with CVD risk, and dietary supplementation with either TMAO or compounds that can be metabolized to TMAO increases atherosclerosis in mice12\"\n",
        "]\n",
        "\n",
        "for i in range(4):\n",
        "    print(\"Claim:\", claims[i])\n",
        "    for j in res[CURR_PMC][i]:\n",
        "        print(f\"{j}:\", sentences[j])\n",
        "    print()"
      ],
      "metadata": {
        "colab": {
          "base_uri": "https://localhost:8080/"
        },
        "id": "wudLTpFTSxXg",
        "outputId": "b41cca0e-4b22-4eae-eb49-a650a3e74340"
      },
      "execution_count": null,
      "outputs": [
        {
          "output_type": "stream",
          "name": "stdout",
          "text": [
            "Claim: Interestingly, Prevotella-dominated healthy omnivore individuals were recently reported to have increased basal levels of serum TMAO (trimethylamine N-oxide), a product of inflammation linked to atherogenesis, compared to Bacteroides-dominated healthy individuals (Koeth et al., 2013).\n",
            "2: Omnivorous subjects are shown to produce significantly more TMAO than vegans/vegetarians following ingestion of L-carnitine through a microbiota-dependent mechanism.\n",
            "67: When subjects were classified into previously reported enterotypes18 based upon fecal microbial composition, individuals with an enterotype characterized by enriched proportions of the genus Prevotella (n=4) demonstrated higher (p<0.05) plasma TMAO levels than subjects with an enterotype notable for enrichment of Bacteroides (n=49) genus (Fig. 2e).\n",
            "180: Of note, we observed a significant increase in baseline plasma TMAO concentrations in what historically was called enterotype 2 (Prevotella) (P < 0.05), a relatively rare enterotype that previously in one study was associated with low animal fat and protein consumption18.\n",
            "54: Post-prandially the omnivore showed both an increase in TMAO and d3-TMAO levels in sequential plasma measurements (Fig. 2a), and in a 24 hour urine collection sample (Fig. 2b).\n",
            "178: The differences observed in TMAO production following an “L-carnitine challenge” within omnivore versus vegan subjects is striking, consistent with the observed differences in microbial community composition.\n",
            "152: Conversely, an increased synthetic capacity for microbiota-dependent production of TMAO from carnitine may contribute to atherosclerosis, particularly in omnivores where carnitine consumption is elevated.\n",
            "58: Fasting baseline TMAO levels were significantly lower among vegan/vegetarian subjects compared to omnivores (Fig. 2c).\n",
            "18: TMAO was subsequently shown to be both proatherogenic and associated with cardiovascular risks.9 These findings raise the possibility that other dietary nutrients possessing a trimethylamine structure may also generate TMAO from gut microbiota and promote accelerated atherosclerosis.\n",
            "68: Examination of the proportion of specific bacterial genera and subject TMAO levels revealed several taxa (genus level) that simultaneously were significantly associated with both vegan/vegetarian versus omnivore status, and plasma TMAO levels (Fig. 2f).\n",
            "69: \n",
            "\n",
            "TMAO production from dietary L-carnitine is inducible\n",
            "\n",
            "Analyses of data from vegan/vegetarians versus omnivores suggested that preceding dietary habits may modulate both intestinal microbiota composition and synthetic capacity to produce TMA/TMAO from dietary L-carnitine.\n",
            "\n",
            "Claim: While TMAO could be derived from increased consumption of meat (Koeth et al., 2013), Prevotella has been previously associated with a dearth of meat in the diet (Wu et al., 2011).\n",
            "180: Of note, we observed a significant increase in baseline plasma TMAO concentrations in what historically was called enterotype 2 (Prevotella) (P < 0.05), a relatively rare enterotype that previously in one study was associated with low animal fat and protein consumption18.\n",
            "152: Conversely, an increased synthetic capacity for microbiota-dependent production of TMAO from carnitine may contribute to atherosclerosis, particularly in omnivores where carnitine consumption is elevated.\n",
            "173: A remarkable finding of the present studies is the magnitude with which long term dietary habits impact TMAO synthetic capacity in both humans (i.e. vegan and vegetarian vs. omnivore) and mice (normal chow vs. chronic carnitine supplementation).\n",
            "1: Herein we demonstrate that intestinal microbiota metabolism of dietary L-carnitine, a trimethylamine abundant in red meat, also produces TMAO and accelerates atherosclerosis.\n",
            "335: ( ) Baseline plasma concentrations of TMAO associates with Enterotype 2 (Prevotella) in male and female subjects with a characterized gut microbiome enterotype.\n",
            "50: \n",
            "\n",
            "Vegans and vegetarians produce less TMAO from L-carnitine\n",
            "\n",
            "The capacity to produce TMAO (native and d3-labeled) following L-carnitine ingestion was variable among individuals. A post-hoc nutritional survey performed amongst the volunteers suggested antecedent dietary habits (red meat consumption) may influence the capacity to generate TMAO from L-carnitine.\n",
            "2: Omnivorous subjects are shown to produce significantly more TMAO than vegans/vegetarians following ingestion of L-carnitine through a microbiota-dependent mechanism.\n",
            "177: An obligatory role for gut microbiota in TMAO formation from dietary carnitine was shown in mice and humans.\n",
            "28: Finally, we define microbial taxa in humans associated with both TMAO production and dietary carnitine ingestion.\n",
            "182: Indeed, other studies have demonstrated variable results in associating human bacterial genera, including Bacteroides and Prevotella, to omnivorous and vegetarian eating habits17,51.\n",
            "\n",
            "Claim: Additional, recent mouse studies [145] investigating how consumption of red meat may accelerate cardiovascular disease and inflammation in humans [146,147] suggest an additional and potentially serious limitation on probiotic supplementation.\n",
            "7: Intestinal microbiota may thus participate in the well-established link between increased red meat consumption and CVD risk.\n",
            "145: \n",
            "\n",
            "The present studies also suggest a novel mechanism for the observed relationship between dietary red meat ingestion and accelerated atherosclerosis.\n",
            "15: We recently reported a novel pathway in both humans and mice linking microbiota metabolism of dietary choline/phosphatidylcholine to CVD pathogenesis9.\n",
            "9: INTRODUCTION\n",
            "\n",
            "The high consumption of meat in the developed world is linked to cardiovascular disease (CVD) risk, presumably due to the large content of saturated fats and cholesterol found in meat1,2.\n",
            "1: Herein we demonstrate that intestinal microbiota metabolism of dietary L-carnitine, a trimethylamine abundant in red meat, also produces TMAO and accelerates atherosclerosis.\n",
            "10: However, recent meta-analysis of prospective cohort studies showed no association between dietary saturated fat intake and CVD, prompting the suggestion that other environmental exposures linked to increased meat consumption are responsible3.\n",
            "147: Meats and full fat dairy products are abundant components of the Western diet and are commonly implicated in CVD.\n",
            "12: To date no studies have explored the participation of our commensal intestinal microbiota in modifying the diet-host interaction during consumption of red meat.\n",
            "150: Interestingly, a recent 4.8 year randomized dietary study showed a 30% reduction in cardiovascular events in subjects consuming a Mediterranean diet (with specific avoidance of red meat) compared to subjects consuming a control diet 37.\n",
            "0: Intestinal microbiota metabolism of  L -carnitine, a nutrient in red meat, promotes atherosclerosis\n",
            "\n",
            "Abstract\n",
            "\n",
            "Intestinal microbiota metabolism of choline/phosphatidylcholine produces trimethylamine (TMA), which is further metabolized to a proatherogenic species, trimethylamine-N-oxide (TMAO).\n",
            "\n",
            "Claim: Dietary L-carnitine and choline, compounds abundant in red meat, are metabolized into trimethylamine-N-oxide (TMAO) by way of some normal gut commensals; in mice TMAO enhances atherosclerosis through disrupting cholesterol metabolism and foam-cell macrophage activity [145].\n",
            "0: Intestinal microbiota metabolism of  L -carnitine, a nutrient in red meat, promotes atherosclerosis\n",
            "\n",
            "Abstract\n",
            "\n",
            "Intestinal microbiota metabolism of choline/phosphatidylcholine produces trimethylamine (TMA), which is further metabolized to a proatherogenic species, trimethylamine-N-oxide (TMAO).\n",
            "1: Herein we demonstrate that intestinal microbiota metabolism of dietary L-carnitine, a trimethylamine abundant in red meat, also produces TMAO and accelerates atherosclerosis.\n",
            "368: ( ) Summary scheme outlining pathway for microbiota participation in atherosclerosis via metabolism of dietary carnitine and choline forming TMA and TMAO, as well as the impact of TMAO on cholesterol and sterol metabolism in macrophages, liver and intestines.\n",
            "98: \n",
            "\n",
            "Dietary L-carnitine promotes microbiota dependent atherosclerosis\n",
            "\n",
            "We therefore next sought to investigate whether dietary L-carnitine had any impact on the extent of atherosclerosis in the presence vs. absence of TMAO formation in animal models.\n",
            "5: Chronic dietary L-carnitine supplementation in mice significantly altered cecal microbial composition, markedly enhanced synthesis of TMA/TMAO, and increased atherosclerosis, but not following suppression of intestinal microbiota.\n",
            "27: In addition to the upregulation of macrophage scavenger receptors potentially contributing to enhanced “forward cholesterol transport”10, we show that TMAO, and its dietary precursors choline and carnitine, suppress reverse cholesterol transport through gut microbiota-dependent mechanisms in vivo.\n",
            "107: TMAO inhibits reverse cholesterol transport\n",
            "\n",
            "In an effort to identify additional mechanisms by which TMAO may promote atherosclerosis, we first noted that TMAO and its trimethylamine nutrient precursors are all cationic quaternary amines, and may have the potential to compete with arginine to limit its bioavailability and thus reduce nitric oxide synthesis.\n",
            "109: In recent studies we showed that TMAO can promote macrophage cholesterol accumulation in a microbiota dependent manner by increasing cell surface expression of two proatherogenic scavenger receptors, cluster of differentiation 36 (CD36) and scavenger receptor A (SRA)9,21,22.\n",
            "31: RESULTS\n",
            "\n",
            "Metabolomic studies link L-carnitine with CVD\n",
            "\n",
            "Given the similarity in structure between L-carnitine and choline (Fig. 1a) we hypothesized that dietary L-carnitine in humans, like choline and phosphatidylcholine, might both produce TMA and TMAO in a gut microbiota-dependent fashion and be associated with atherosclerosis risk.\n",
            "159: Another pro-atherosclerotic mechanism of TMAO is increases in macrophage SRA and CD36 surface expression and foam cell formation9 (Fig. 6c).\n",
            "\n"
          ]
        }
      ]
    },
    {
      "cell_type": "code",
      "source": [],
      "metadata": {
        "id": "jAmfn3kBaCm5"
      },
      "execution_count": null,
      "outputs": []
    },
    {
      "cell_type": "code",
      "source": [],
      "metadata": {
        "id": "_-NihgqmEJsC"
      },
      "execution_count": null,
      "outputs": []
    },
    {
      "cell_type": "code",
      "source": [],
      "metadata": {
        "id": "-eeHMbeIEJu5"
      },
      "execution_count": null,
      "outputs": []
    },
    {
      "cell_type": "code",
      "source": [
        "import json\n",
        "with open('results.json') as f:\n",
        "    res = json.load(f)"
      ],
      "metadata": {
        "id": "xblNdhFsEJxR"
      },
      "execution_count": null,
      "outputs": []
    },
    {
      "cell_type": "code",
      "source": [
        "res"
      ],
      "metadata": {
        "colab": {
          "base_uri": "https://localhost:8080/"
        },
        "id": "oXlGlJcpEKR7",
        "outputId": "41c3e448-bac6-4dcd-8ec5-05c31199a221"
      },
      "execution_count": null,
      "outputs": [
        {
          "output_type": "execute_result",
          "data": {
            "text/plain": [
              "{'PMC2811155': [[33, 127, 112, 257, 101, 269, 105, 95, 147, 106],\n",
              "  [215, 73, 3, 42, 380, 89, 217, 333, 61, 35],\n",
              "  [157, 168, 141, 163, 161, 333, 217, 176, 94, 299],\n",
              "  [98, 103, 399, 97, 238, 353, 99, 96, 91, 170],\n",
              "  [86, 74, 379, 81, 220, 315, 3, 95, 152, 35]],\n",
              " 'PMC2848616': [[30, 8, 40, 31, 86, 82, 89, 42, 91, 85],\n",
              "  [42, 91, 86, 8, 82, 89, 92, 40, 38, 85],\n",
              "  [37, 6, 84, 58, 9, 42, 38, 92, 96, 59],\n",
              "  [164, 6, 56, 51, 58, 8, 37, 92, 167, 38],\n",
              "  [38, 85, 179, 60, 86, 92, 61, 42, 91, 8]],\n",
              " 'PMC2958248': [[5, 131, 0, 3, 132, 81, 152, 70, 21, 17],\n",
              "  [16, 205, 207, 208, 188, 0, 211, 337, 41, 105],\n",
              "  [0, 12, 59, 188, 82, 97, 131, 105, 86, 80],\n",
              "  [0, 3, 131, 105, 21, 4, 132, 97, 70, 51],\n",
              "  [5, 131, 70, 0, 51, 3, 81, 21, 100, 160]],\n",
              " 'PMC3090745': [[79, 3, 80, 52, 61, 32, 27, 90, 42, 58],\n",
              "  [9, 84, 5, 11, 55, 1, 6, 15, 10, 23],\n",
              "  [1, 26, 80, 34, 7, 30, 42, 79, 9, 32],\n",
              "  [81, 73, 52, 72, 65, 82, 26, 29, 80, 85],\n",
              "  [9, 1, 92, 63, 38, 55, 52, 58, 3, 22]],\n",
              " 'PMC3096954': [[158, 216, 186, 123, 252, 161, 217, 14, 162, 0],\n",
              "  [162, 161, 216, 7, 217, 158, 157, 105, 20, 106],\n",
              "  [0, 103, 209, 114, 106, 22, 14, 113, 179, 266],\n",
              "  [212, 17, 203, 116, 209, 113, 133, 112, 114, 106],\n",
              "  [224, 213, 209, 236, 217, 222, 223, 21, 6, 19]],\n",
              " 'PMC3179858': [[39, 160, 32, 25, 164, 35, 53, 78, 18, 42],\n",
              "  [6, 16, 0, 53, 14, 69, 46, 38, 5, 72],\n",
              "  [6, 52, 141, 53, 43, 46, 16, 44, 34, 69],\n",
              "  [68, 72, 67, 5, 64, 180, 0, 36, 54, 183],\n",
              "  [46, 81, 38, 53, 34, 160, 30, 39, 35, 36]],\n",
              " 'PMC3442244': [[88, 165, 7, 3, 39, 65, 99, 68, 132, 166],\n",
              "  [10, 7, 169, 167, 39, 75, 9, 88, 99, 4],\n",
              "  [233, 120, 49, 15, 135, 224, 14, 65, 250, 142],\n",
              "  [39, 57, 166, 64, 3, 168, 62, 63, 40, 65],\n",
              "  [50, 55, 91, 273, 49, 69, 205, 196, 56, 212]],\n",
              " 'PMC3522098': [[98, 48, 121, 110, 51, 72, 109, 68, 12, 123],\n",
              "  [118, 13, 26, 1, 16, 144, 92, 139, 27, 19],\n",
              "  [1, 13, 105, 6, 156, 102, 37, 144, 3, 15],\n",
              "  [108, 143, 128, 144, 126, 1, 161, 121, 124, 94],\n",
              "  [22, 159, 46, 66, 56, 17, 251, 160, 0, 157]],\n",
              " 'PMC3607626': [[0, 84, 86, 88, 85, 3, 12, 8, 22, 6],\n",
              "  [86, 87, 82, 4, 85, 89, 84, 78, 45, 59],\n",
              "  [45, 68, 4, 12, 38, 60, 78, 65, 49, 137],\n",
              "  [6, 50, 4, 7, 133, 138, 79, 137, 52, 69]],\n",
              " 'PMC3650111': [[2, 67, 180, 54, 178, 152, 58, 18, 68, 69],\n",
              "  [180, 152, 173, 1, 335, 50, 2, 177, 28, 182],\n",
              "  [7, 145, 15, 9, 1, 10, 147, 12, 150, 0],\n",
              "  [0, 1, 368, 98, 5, 27, 107, 109, 31, 159],\n",
              "  [5, 101, 31, 144, 98, 152, 190, 1, 102, 18]]}"
            ]
          },
          "metadata": {},
          "execution_count": 34
        }
      ]
    },
    {
      "cell_type": "code",
      "source": [
        "res['PMC3607626'] = results['PMC3607626']"
      ],
      "metadata": {
        "id": "kFZWbCwGLo7J"
      },
      "execution_count": null,
      "outputs": []
    },
    {
      "cell_type": "code",
      "source": [
        "res"
      ],
      "metadata": {
        "colab": {
          "base_uri": "https://localhost:8080/"
        },
        "id": "fJDpjjTZNHYO",
        "outputId": "82bd2e48-6dbd-495f-d975-f513c4d40970"
      },
      "execution_count": null,
      "outputs": [
        {
          "output_type": "execute_result",
          "data": {
            "text/plain": [
              "{'PMC2811155': [[33, 127, 112, 257, 101, 269, 105, 95, 147, 106],\n",
              "  [215, 73, 3, 42, 380, 89, 217, 333, 61, 35],\n",
              "  [157, 168, 141, 163, 161, 333, 217, 176, 94, 299],\n",
              "  [98, 103, 399, 97, 238, 353, 99, 96, 91, 170],\n",
              "  [86, 74, 379, 81, 220, 315, 3, 95, 152, 35]],\n",
              " 'PMC2848616': [[30, 8, 40, 31, 86, 82, 89, 42, 91, 85],\n",
              "  [42, 91, 86, 8, 82, 89, 92, 40, 38, 85],\n",
              "  [37, 6, 84, 58, 9, 42, 38, 92, 96, 59],\n",
              "  [164, 6, 56, 51, 58, 8, 37, 92, 167, 38],\n",
              "  [38, 85, 179, 60, 86, 92, 61, 42, 91, 8]],\n",
              " 'PMC2958248': [[5, 131, 0, 3, 132, 81, 152, 70, 21, 17],\n",
              "  [16, 205, 207, 208, 188, 0, 211, 337, 41, 105],\n",
              "  [0, 12, 59, 188, 82, 97, 131, 105, 86, 80],\n",
              "  [0, 3, 131, 105, 21, 4, 132, 97, 70, 51],\n",
              "  [5, 131, 70, 0, 51, 3, 81, 21, 100, 160]],\n",
              " 'PMC3090745': [[79, 3, 80, 52, 61, 32, 27, 90, 42, 58],\n",
              "  [9, 84, 5, 11, 55, 1, 6, 15, 10, 23],\n",
              "  [1, 26, 80, 34, 7, 30, 42, 79, 9, 32],\n",
              "  [81, 73, 52, 72, 65, 82, 26, 29, 80, 85],\n",
              "  [9, 1, 92, 63, 38, 55, 52, 58, 3, 22]],\n",
              " 'PMC3096954': [[158, 216, 186, 123, 252, 161, 217, 14, 162, 0],\n",
              "  [162, 161, 216, 7, 217, 158, 157, 105, 20, 106],\n",
              "  [0, 103, 209, 114, 106, 22, 14, 113, 179, 266],\n",
              "  [212, 17, 203, 116, 209, 113, 133, 112, 114, 106],\n",
              "  [224, 213, 209, 236, 217, 222, 223, 21, 6, 19]],\n",
              " 'PMC3179858': [[39, 160, 32, 25, 164, 35, 53, 78, 18, 42],\n",
              "  [6, 16, 0, 53, 14, 69, 46, 38, 5, 72],\n",
              "  [6, 52, 141, 53, 43, 46, 16, 44, 34, 69],\n",
              "  [68, 72, 67, 5, 64, 180, 0, 36, 54, 183],\n",
              "  [46, 81, 38, 53, 34, 160, 30, 39, 35, 36]],\n",
              " 'PMC3442244': [[88, 165, 7, 3, 39, 65, 99, 68, 132, 166],\n",
              "  [10, 7, 169, 167, 39, 75, 9, 88, 99, 4],\n",
              "  [233, 120, 49, 15, 135, 224, 14, 65, 250, 142],\n",
              "  [39, 57, 166, 64, 3, 168, 62, 63, 40, 65],\n",
              "  [50, 55, 91, 273, 49, 69, 205, 196, 56, 212]],\n",
              " 'PMC3522098': [[98, 48, 121, 110, 51, 72, 109, 68, 12, 123],\n",
              "  [118, 13, 26, 1, 16, 144, 92, 139, 27, 19],\n",
              "  [1, 13, 105, 6, 156, 102, 37, 144, 3, 15],\n",
              "  [108, 143, 128, 144, 126, 1, 161, 121, 124, 94],\n",
              "  [22, 159, 46, 66, 56, 17, 251, 160, 0, 157]],\n",
              " 'PMC3607626': [[85, 12, 88, 86, 84, 57, 3, 27, 4, 65],\n",
              "  [86, 84, 0, 65, 22, 8, 68, 5, 9, 89],\n",
              "  [86, 87, 82, 4, 85, 89, 84, 78, 45, 59],\n",
              "  [45, 68, 4, 12, 38, 60, 78, 65, 49, 137],\n",
              "  [6, 50, 4, 7, 133, 138, 79, 137, 52, 69]],\n",
              " 'PMC3650111': [[2, 67, 180, 54, 178, 152, 58, 18, 68, 69],\n",
              "  [180, 152, 173, 1, 335, 50, 2, 177, 28, 182],\n",
              "  [7, 145, 15, 9, 1, 10, 147, 12, 150, 0],\n",
              "  [0, 1, 368, 98, 5, 27, 107, 109, 31, 159],\n",
              "  [5, 101, 31, 144, 98, 152, 190, 1, 102, 18]]}"
            ]
          },
          "metadata": {},
          "execution_count": 40
        }
      ]
    },
    {
      "cell_type": "code",
      "source": [
        "def get_full_sentence(resObj):\n",
        "    newResObj = {}\n",
        "    for pmcid in resObj.keys():\n",
        "        print(pmcid)\n",
        "        with open(f'{pmcid}.txt') as f:\n",
        "            text = f.read()\n",
        "\n",
        "        doc = nlp(text)\n",
        "        sentences = [str(s) for s in list(doc.sents)]\n",
        "\n",
        "        pmcid_list = []\n",
        "        for lst in resObj[pmcid]:\n",
        "            newList = []\n",
        "            for idx in lst:\n",
        "                newList.append(sentences[idx])\n",
        "            pmcid_list.append(newList)\n",
        "        newResObj[pmcid] = pmcid_list\n",
        "    return newResObj\n",
        "\n",
        "\n"
      ],
      "metadata": {
        "id": "08fhyeCGEqJf"
      },
      "execution_count": null,
      "outputs": []
    },
    {
      "cell_type": "code",
      "source": [
        "new_res = get_full_sentence(res)"
      ],
      "metadata": {
        "colab": {
          "base_uri": "https://localhost:8080/"
        },
        "id": "p0_ehuLKFqw1",
        "outputId": "3a508c2a-20bb-4348-dacb-d2a1e0849a45"
      },
      "execution_count": null,
      "outputs": [
        {
          "output_type": "stream",
          "name": "stdout",
          "text": [
            "PMC2811155\n",
            "PMC2848616\n",
            "PMC2958248\n",
            "PMC3090745\n",
            "PMC3096954\n",
            "PMC3179858\n",
            "PMC3442244\n",
            "PMC3522098\n",
            "PMC3607626\n",
            "PMC3650111\n"
          ]
        }
      ]
    },
    {
      "cell_type": "code",
      "source": [
        "final_res = {}\n",
        "for key, value in new_res.items():\n",
        "    curr_list = []\n",
        "    for i in range(5):\n",
        "        obj = {}\n",
        "        obj['claim'] = pmc_claim[key][i]\n",
        "        obj['sentences'] = value[i]\n",
        "        curr_list.append(obj)\n",
        "    final_res[key] = curr_list\n",
        "\n",
        "\n",
        "# new_res"
      ],
      "metadata": {
        "id": "c-JpFxNuFtlC"
      },
      "execution_count": null,
      "outputs": []
    },
    {
      "cell_type": "code",
      "source": [
        "len(final_res.keys())"
      ],
      "metadata": {
        "colab": {
          "base_uri": "https://localhost:8080/"
        },
        "id": "_NwIE52aHfTV",
        "outputId": "db3c1ba4-1e1d-4103-d67c-f7ac02bc5865"
      },
      "execution_count": null,
      "outputs": [
        {
          "output_type": "execute_result",
          "data": {
            "text/plain": [
              "10"
            ]
          },
          "metadata": {},
          "execution_count": 43
        }
      ]
    },
    {
      "cell_type": "code",
      "source": [
        "import json\n",
        "\n",
        "with open('res_T5_full_paper.json', 'w') as f:\n",
        "    json.dump(final_res, f)"
      ],
      "metadata": {
        "id": "ekM2M3VeKzdd"
      },
      "execution_count": null,
      "outputs": []
    },
    {
      "cell_type": "code",
      "source": [
        "with open('updated_results.json', 'w') as f:\n",
        "    json.dump(res, f)"
      ],
      "metadata": {
        "id": "vV2v1N1qNiWE"
      },
      "execution_count": null,
      "outputs": []
    },
    {
      "cell_type": "code",
      "source": [
        "pwd"
      ],
      "metadata": {
        "colab": {
          "base_uri": "https://localhost:8080/",
          "height": 35
        },
        "id": "auPUPTOzMhkH",
        "outputId": "edca1dcf-d74f-454c-eee1-1caf0f20ff08"
      },
      "execution_count": null,
      "outputs": [
        {
          "output_type": "execute_result",
          "data": {
            "text/plain": [
              "'/content/drive/My Drive/Work'"
            ],
            "application/vnd.google.colaboratory.intrinsic+json": {
              "type": "string"
            }
          },
          "metadata": {},
          "execution_count": 10
        }
      ]
    },
    {
      "cell_type": "code",
      "source": [
        "cd ArticlesSelected"
      ],
      "metadata": {
        "colab": {
          "base_uri": "https://localhost:8080/"
        },
        "id": "6Tfe66TeMp1i",
        "outputId": "223da68c-8f90-4893-ef94-7adbcddfb474"
      },
      "execution_count": null,
      "outputs": [
        {
          "output_type": "stream",
          "name": "stdout",
          "text": [
            "/content/drive/MyDrive/Work/ArticlesSelected\n"
          ]
        }
      ]
    },
    {
      "cell_type": "markdown",
      "source": [
        "# Selected"
      ],
      "metadata": {
        "id": "5fSNzPdwMdqo"
      }
    },
    {
      "cell_type": "code",
      "source": [
        "import pandas as pd"
      ],
      "metadata": {
        "id": "ChQQO0raOKXu"
      },
      "execution_count": null,
      "outputs": []
    },
    {
      "cell_type": "code",
      "source": [
        "def get_full_sentence_abstract(resObj):\n",
        "    newResObj = {}\n",
        "    for pmcid in resObj.keys():\n",
        "        print(pmcid)\n",
        "        with open(f'{pmcid}.txt') as f:\n",
        "            text = f.read()\n",
        "\n",
        "        doc = nlp(text)\n",
        "        sentences = [str(s) for s in list(doc.sents)]\n",
        "\n",
        "        pmcid_list = []\n",
        "        for lst in resObj[pmcid]:\n",
        "            newList = []\n",
        "            for idx in lst:\n",
        "                newList.append(sentences[idx])\n",
        "            pmcid_list.append(newList)\n",
        "        newResObj[pmcid] = pmcid_list\n",
        "    return newResObj"
      ],
      "metadata": {
        "id": "McpnDz7QOiOo"
      },
      "execution_count": null,
      "outputs": []
    },
    {
      "cell_type": "code",
      "source": [
        "results = {}\n",
        "def get_relevant_sentences_selected(pmcid, claims):\n",
        "    global results\n",
        "\n",
        "    CURR_PMC = pmcid\n",
        "\n",
        "    with open(f'{CURR_PMC}.txt') as f:\n",
        "        text = f.read()\n",
        "\n",
        "    doc = nlp(text)\n",
        "    sentences = [str(s) for s in list(doc.sents)]\n",
        "    texts = [Text(s, {'sent_idx' : i}, 0) for i, s in enumerate(sentences)]\n",
        "\n",
        "    results[CURR_PMC] = []\n",
        "\n",
        "    zx = 0\n",
        "    for claim in claims:\n",
        "        print(zx)\n",
        "        zx += 1\n",
        "        query = Query(claim)\n",
        "        reranked = reranker.rerank(query, texts)\n",
        "        current_indices = []\n",
        "        # Print out reranked results:\n",
        "        for i in range(0, 10):\n",
        "            if i >= len(reranked):\n",
        "                break\n",
        "            # print(f'{i+1:2} {reranked[i].text}')\n",
        "            current_indices.append(reranked[i].metadata['sent_idx'])\n",
        "        results[CURR_PMC].append(current_indices)"
      ],
      "metadata": {
        "id": "tsuVOTTFNlvP"
      },
      "execution_count": null,
      "outputs": []
    },
    {
      "cell_type": "code",
      "source": [
        "get_relevant_sentences_selected('PMC2811155', claims_list)"
      ],
      "metadata": {
        "colab": {
          "base_uri": "https://localhost:8080/"
        },
        "id": "44N0JV-rS6Lk",
        "outputId": "5219f8bc-a665-4006-a674-52e100e7c1bb"
      },
      "execution_count": null,
      "outputs": [
        {
          "output_type": "stream",
          "name": "stdout",
          "text": [
            "0\n",
            "1\n",
            "2\n",
            "3\n",
            "4\n",
            "5\n",
            "6\n",
            "7\n",
            "8\n",
            "9\n",
            "10\n",
            "11\n",
            "12\n",
            "13\n",
            "14\n",
            "15\n",
            "16\n",
            "17\n",
            "18\n",
            "19\n",
            "20\n",
            "21\n",
            "22\n",
            "23\n",
            "24\n"
          ]
        }
      ]
    },
    {
      "cell_type": "code",
      "source": [
        "full_res_1 = get_full_sentence(results)\n",
        "\n",
        "import json\n",
        "with open('res2_t5.json', 'w') as f:\n",
        "    json.dump(full_res_1, f)"
      ],
      "metadata": {
        "colab": {
          "base_uri": "https://localhost:8080/"
        },
        "id": "75MV4fjwTfu2",
        "outputId": "3f0bbd9b-684e-40d3-b84f-a9461ec3b265"
      },
      "execution_count": null,
      "outputs": [
        {
          "output_type": "stream",
          "name": "stdout",
          "text": [
            "PMC2811155\n"
          ]
        }
      ]
    },
    {
      "cell_type": "code",
      "source": [
        "for key, value in pmc_claim.items():\n",
        "    get_relevant_sentences_selected(key, value)\n"
      ],
      "metadata": {
        "id": "YxMWTXlFMdQo"
      },
      "execution_count": null,
      "outputs": []
    },
    {
      "cell_type": "code",
      "source": [
        "claims = pmc_claim"
      ],
      "metadata": {
        "id": "BVAooZyyN_a-"
      },
      "execution_count": null,
      "outputs": []
    },
    {
      "cell_type": "code",
      "source": [
        "results = get_full_sentence_abstract(results)"
      ],
      "metadata": {
        "colab": {
          "base_uri": "https://localhost:8080/"
        },
        "id": "Vx2nrGTUOkts",
        "outputId": "7190e046-17a1-42f3-87ff-013355c70d9b"
      },
      "execution_count": null,
      "outputs": [
        {
          "output_type": "stream",
          "name": "stdout",
          "text": [
            "PMC2811155\n",
            "PMC2848616\n",
            "PMC2958248\n",
            "PMC3090745\n",
            "PMC3096954\n",
            "PMC3179858\n",
            "PMC3442244\n",
            "PMC3522098\n",
            "PMC3607626\n",
            "PMC3650111\n"
          ]
        }
      ]
    },
    {
      "cell_type": "code",
      "source": [
        "final_res_sel = {}\n",
        "for key, value in results.items():\n",
        "    curr_list = []\n",
        "    for i in range(5):\n",
        "        obj = {}\n",
        "        obj['claim'] = claims[key][i]\n",
        "        obj['sentences'] = value[i]\n",
        "        curr_list.append(obj)\n",
        "    final_res_sel[key] = curr_list"
      ],
      "metadata": {
        "id": "OuVDRM7FMdSp"
      },
      "execution_count": null,
      "outputs": []
    },
    {
      "cell_type": "code",
      "source": [
        "d = pd.DataFrame.from_dict(final_res_sel, orient='index')"
      ],
      "metadata": {
        "id": "4uqofABZMdXE"
      },
      "execution_count": null,
      "outputs": []
    },
    {
      "cell_type": "code",
      "source": [
        "rows = []\n",
        "for (i, r) in d.iterrows():\n",
        "    for c in r:\n",
        "        count = 0\n",
        "        for s in range(len(c['sentences'])):\n",
        "            if count == 0:\n",
        "                rows.append([i, c['claim'], c['sentences'][s].strip()])\n",
        "            elif s < len(c['sentences']):\n",
        "                rows.append([None, None, c['sentences'][s].strip()])\n",
        "            count += 1"
      ],
      "metadata": {
        "id": "OWU4BOWkODh-"
      },
      "execution_count": null,
      "outputs": []
    },
    {
      "cell_type": "code",
      "source": [
        "rows"
      ],
      "metadata": {
        "colab": {
          "base_uri": "https://localhost:8080/"
        },
        "id": "DtoN0pIaOxR4",
        "outputId": "4b583118-807c-489b-e174-513a1289c436"
      },
      "execution_count": null,
      "outputs": [
        {
          "output_type": "execute_result",
          "data": {
            "text/plain": [
              "[]"
            ]
          },
          "metadata": {},
          "execution_count": 32
        }
      ]
    },
    {
      "cell_type": "code",
      "source": [
        "ndata = pd.DataFrame(rows, columns=[\"PMCID\", \"Context\", \"T5 Discussion\"])"
      ],
      "metadata": {
        "id": "fZTrzlFxODkz"
      },
      "execution_count": null,
      "outputs": []
    },
    {
      "cell_type": "code",
      "source": [
        "ndata"
      ],
      "metadata": {
        "colab": {
          "base_uri": "https://localhost:8080/",
          "height": 424
        },
        "id": "KoD4UuOtOuAw",
        "outputId": "31710aa3-cb70-4f63-86b0-a5da6ba703c2"
      },
      "execution_count": null,
      "outputs": [
        {
          "output_type": "execute_result",
          "data": {
            "text/plain": [
              "          PMCID                                            Context  \\\n",
              "0    PMC2811155  which is dependent on PINK1 kinase activity (G...   \n",
              "1          None                                               None   \n",
              "2          None                                               None   \n",
              "3          None                                               None   \n",
              "4          None                                               None   \n",
              "..          ...                                                ...   \n",
              "495        None                                               None   \n",
              "496        None                                               None   \n",
              "497        None                                               None   \n",
              "498        None                                               None   \n",
              "499        None                                               None   \n",
              "\n",
              "                                         T5 Discussion  \n",
              "0    The stringent dependence of Parkin recruitment...  \n",
              "1    PINK1's interaction with HtrA2/OMI, for instan...  \n",
              "2    PINK1 Is Selectively Stabilized on Impaired Mi...  \n",
              "3    Here, we show that expression of PINK1 on indi...  \n",
              "4    Some or all of these factors may contribute to...  \n",
              "..                                                 ...  \n",
              "495  The effect of TMAO is thus consistent with rep...  \n",
              "496  Intestinal microbiota metabolism of  L -carnit...  \n",
              "497  Our results suggest the safety of chronic L-ca...  \n",
              "498  One pro-atherosclerotic mechanism observed for...  \n",
              "499  Another pro-atherosclerotic mechanism of TMAO ...  \n",
              "\n",
              "[500 rows x 3 columns]"
            ],
            "text/html": [
              "\n",
              "  <div id=\"df-8493d9d0-1b83-4bcf-ba72-ebb15f667f94\">\n",
              "    <div class=\"colab-df-container\">\n",
              "      <div>\n",
              "<style scoped>\n",
              "    .dataframe tbody tr th:only-of-type {\n",
              "        vertical-align: middle;\n",
              "    }\n",
              "\n",
              "    .dataframe tbody tr th {\n",
              "        vertical-align: top;\n",
              "    }\n",
              "\n",
              "    .dataframe thead th {\n",
              "        text-align: right;\n",
              "    }\n",
              "</style>\n",
              "<table border=\"1\" class=\"dataframe\">\n",
              "  <thead>\n",
              "    <tr style=\"text-align: right;\">\n",
              "      <th></th>\n",
              "      <th>PMCID</th>\n",
              "      <th>Context</th>\n",
              "      <th>T5 Discussion</th>\n",
              "    </tr>\n",
              "  </thead>\n",
              "  <tbody>\n",
              "    <tr>\n",
              "      <th>0</th>\n",
              "      <td>PMC2811155</td>\n",
              "      <td>which is dependent on PINK1 kinase activity (G...</td>\n",
              "      <td>The stringent dependence of Parkin recruitment...</td>\n",
              "    </tr>\n",
              "    <tr>\n",
              "      <th>1</th>\n",
              "      <td>None</td>\n",
              "      <td>None</td>\n",
              "      <td>PINK1's interaction with HtrA2/OMI, for instan...</td>\n",
              "    </tr>\n",
              "    <tr>\n",
              "      <th>2</th>\n",
              "      <td>None</td>\n",
              "      <td>None</td>\n",
              "      <td>PINK1 Is Selectively Stabilized on Impaired Mi...</td>\n",
              "    </tr>\n",
              "    <tr>\n",
              "      <th>3</th>\n",
              "      <td>None</td>\n",
              "      <td>None</td>\n",
              "      <td>Here, we show that expression of PINK1 on indi...</td>\n",
              "    </tr>\n",
              "    <tr>\n",
              "      <th>4</th>\n",
              "      <td>None</td>\n",
              "      <td>None</td>\n",
              "      <td>Some or all of these factors may contribute to...</td>\n",
              "    </tr>\n",
              "    <tr>\n",
              "      <th>...</th>\n",
              "      <td>...</td>\n",
              "      <td>...</td>\n",
              "      <td>...</td>\n",
              "    </tr>\n",
              "    <tr>\n",
              "      <th>495</th>\n",
              "      <td>None</td>\n",
              "      <td>None</td>\n",
              "      <td>The effect of TMAO is thus consistent with rep...</td>\n",
              "    </tr>\n",
              "    <tr>\n",
              "      <th>496</th>\n",
              "      <td>None</td>\n",
              "      <td>None</td>\n",
              "      <td>Intestinal microbiota metabolism of  L -carnit...</td>\n",
              "    </tr>\n",
              "    <tr>\n",
              "      <th>497</th>\n",
              "      <td>None</td>\n",
              "      <td>None</td>\n",
              "      <td>Our results suggest the safety of chronic L-ca...</td>\n",
              "    </tr>\n",
              "    <tr>\n",
              "      <th>498</th>\n",
              "      <td>None</td>\n",
              "      <td>None</td>\n",
              "      <td>One pro-atherosclerotic mechanism observed for...</td>\n",
              "    </tr>\n",
              "    <tr>\n",
              "      <th>499</th>\n",
              "      <td>None</td>\n",
              "      <td>None</td>\n",
              "      <td>Another pro-atherosclerotic mechanism of TMAO ...</td>\n",
              "    </tr>\n",
              "  </tbody>\n",
              "</table>\n",
              "<p>500 rows × 3 columns</p>\n",
              "</div>\n",
              "      <button class=\"colab-df-convert\" onclick=\"convertToInteractive('df-8493d9d0-1b83-4bcf-ba72-ebb15f667f94')\"\n",
              "              title=\"Convert this dataframe to an interactive table.\"\n",
              "              style=\"display:none;\">\n",
              "        \n",
              "  <svg xmlns=\"http://www.w3.org/2000/svg\" height=\"24px\"viewBox=\"0 0 24 24\"\n",
              "       width=\"24px\">\n",
              "    <path d=\"M0 0h24v24H0V0z\" fill=\"none\"/>\n",
              "    <path d=\"M18.56 5.44l.94 2.06.94-2.06 2.06-.94-2.06-.94-.94-2.06-.94 2.06-2.06.94zm-11 1L8.5 8.5l.94-2.06 2.06-.94-2.06-.94L8.5 2.5l-.94 2.06-2.06.94zm10 10l.94 2.06.94-2.06 2.06-.94-2.06-.94-.94-2.06-.94 2.06-2.06.94z\"/><path d=\"M17.41 7.96l-1.37-1.37c-.4-.4-.92-.59-1.43-.59-.52 0-1.04.2-1.43.59L10.3 9.45l-7.72 7.72c-.78.78-.78 2.05 0 2.83L4 21.41c.39.39.9.59 1.41.59.51 0 1.02-.2 1.41-.59l7.78-7.78 2.81-2.81c.8-.78.8-2.07 0-2.86zM5.41 20L4 18.59l7.72-7.72 1.47 1.35L5.41 20z\"/>\n",
              "  </svg>\n",
              "      </button>\n",
              "      \n",
              "  <style>\n",
              "    .colab-df-container {\n",
              "      display:flex;\n",
              "      flex-wrap:wrap;\n",
              "      gap: 12px;\n",
              "    }\n",
              "\n",
              "    .colab-df-convert {\n",
              "      background-color: #E8F0FE;\n",
              "      border: none;\n",
              "      border-radius: 50%;\n",
              "      cursor: pointer;\n",
              "      display: none;\n",
              "      fill: #1967D2;\n",
              "      height: 32px;\n",
              "      padding: 0 0 0 0;\n",
              "      width: 32px;\n",
              "    }\n",
              "\n",
              "    .colab-df-convert:hover {\n",
              "      background-color: #E2EBFA;\n",
              "      box-shadow: 0px 1px 2px rgba(60, 64, 67, 0.3), 0px 1px 3px 1px rgba(60, 64, 67, 0.15);\n",
              "      fill: #174EA6;\n",
              "    }\n",
              "\n",
              "    [theme=dark] .colab-df-convert {\n",
              "      background-color: #3B4455;\n",
              "      fill: #D2E3FC;\n",
              "    }\n",
              "\n",
              "    [theme=dark] .colab-df-convert:hover {\n",
              "      background-color: #434B5C;\n",
              "      box-shadow: 0px 1px 3px 1px rgba(0, 0, 0, 0.15);\n",
              "      filter: drop-shadow(0px 1px 2px rgba(0, 0, 0, 0.3));\n",
              "      fill: #FFFFFF;\n",
              "    }\n",
              "  </style>\n",
              "\n",
              "      <script>\n",
              "        const buttonEl =\n",
              "          document.querySelector('#df-8493d9d0-1b83-4bcf-ba72-ebb15f667f94 button.colab-df-convert');\n",
              "        buttonEl.style.display =\n",
              "          google.colab.kernel.accessAllowed ? 'block' : 'none';\n",
              "\n",
              "        async function convertToInteractive(key) {\n",
              "          const element = document.querySelector('#df-8493d9d0-1b83-4bcf-ba72-ebb15f667f94');\n",
              "          const dataTable =\n",
              "            await google.colab.kernel.invokeFunction('convertToInteractive',\n",
              "                                                     [key], {});\n",
              "          if (!dataTable) return;\n",
              "\n",
              "          const docLinkHtml = 'Like what you see? Visit the ' +\n",
              "            '<a target=\"_blank\" href=https://colab.research.google.com/notebooks/data_table.ipynb>data table notebook</a>'\n",
              "            + ' to learn more about interactive tables.';\n",
              "          element.innerHTML = '';\n",
              "          dataTable['output_type'] = 'display_data';\n",
              "          await google.colab.output.renderOutput(dataTable, element);\n",
              "          const docLink = document.createElement('div');\n",
              "          docLink.innerHTML = docLinkHtml;\n",
              "          element.appendChild(docLink);\n",
              "        }\n",
              "      </script>\n",
              "    </div>\n",
              "  </div>\n",
              "  "
            ]
          },
          "metadata": {},
          "execution_count": 45
        }
      ]
    },
    {
      "cell_type": "code",
      "source": [
        "ndata.to_csv('T5_Selected.csv', index=False)"
      ],
      "metadata": {
        "id": "jubah3-vQeuI"
      },
      "execution_count": null,
      "outputs": []
    },
    {
      "cell_type": "markdown",
      "source": [
        "# Abstract Only"
      ],
      "metadata": {
        "id": "LWORvrpdQ0nR"
      }
    },
    {
      "cell_type": "code",
      "source": [
        "results = {}\n",
        "def get_relevant_sentences_abstract(pmcid, claims):\n",
        "    global results\n",
        "\n",
        "    CURR_PMC = pmcid\n",
        "\n",
        "    with open(f'Copy of {CURR_PMC}.txt') as f:\n",
        "        text = f.read()\n",
        "\n",
        "    doc = nlp(text)\n",
        "    sentences = [str(s) for s in list(doc.sents)]\n",
        "    texts = [Text(s, {'sent_idx' : i}, 0) for i, s in enumerate(sentences)]\n",
        "\n",
        "    results[CURR_PMC] = []\n",
        "\n",
        "    for claim in claims:\n",
        "        query = Query(claim)\n",
        "        reranked = reranker.rerank(query, texts)\n",
        "        current_indices = []\n",
        "        # Print out reranked results:\n",
        "        for i in range(0, 10):\n",
        "            if i >= len(reranked):\n",
        "                break\n",
        "            # print(f'{i+1:2} {reranked[i].text}')\n",
        "            current_indices.append(reranked[i].metadata['sent_idx'])\n",
        "        results[CURR_PMC].append(current_indices)"
      ],
      "metadata": {
        "id": "l6jKGhzZQzUv"
      },
      "execution_count": null,
      "outputs": []
    },
    {
      "cell_type": "code",
      "source": [
        "for key, value in pmc_claim.items():\n",
        "    get_relevant_sentences_abstract(key, value)\n"
      ],
      "metadata": {
        "id": "oeK4M960RFnV"
      },
      "execution_count": null,
      "outputs": []
    },
    {
      "cell_type": "code",
      "source": [
        "results"
      ],
      "metadata": {
        "colab": {
          "base_uri": "https://localhost:8080/"
        },
        "id": "jVV7BOxbRU1s",
        "outputId": "ef52b309-2c7a-4ee1-c66a-4a102ac4b207"
      },
      "execution_count": null,
      "outputs": [
        {
          "output_type": "execute_result",
          "data": {
            "text/plain": [
              "{'PMC2811155': [[0, 3, 4, 6, 5, 1, 2],\n",
              "  [3, 0, 6, 4, 2, 1, 5],\n",
              "  [4, 0, 6, 5, 1, 3, 2],\n",
              "  [5, 0, 3, 4, 6, 1, 2],\n",
              "  [3, 5, 0, 6, 4, 1, 2]],\n",
              " 'PMC2848616': [[8, 7, 6, 10, 0, 9, 5, 1, 3, 2],\n",
              "  [8, 7, 6, 0, 10, 9, 5, 2, 3, 1],\n",
              "  [6, 9, 8, 0, 5, 7, 3, 10, 4, 2],\n",
              "  [6, 8, 9, 5, 0, 10, 3, 7, 4, 1],\n",
              "  [8, 6, 7, 0, 5, 9, 10, 3, 1, 4]],\n",
              " 'PMC2958248': [[5, 0, 3, 4, 6, 2, 1],\n",
              "  [0, 3, 4, 5, 6, 1, 2],\n",
              "  [0, 3, 4, 5, 6, 1, 2],\n",
              "  [0, 3, 4, 5, 6, 1, 2],\n",
              "  [5, 0, 3, 4, 6, 1, 2]],\n",
              " 'PMC3090745': [[3, 0, 4, 1, 2],\n",
              "  [1, 0, 2, 4, 3],\n",
              "  [1, 3, 0, 4, 2],\n",
              "  [2, 0, 4, 1, 3],\n",
              "  [1, 3, 2, 4, 0]],\n",
              " 'PMC3096954': [[0, 7, 8, 1, 6, 10, 4, 3, 12, 9],\n",
              "  [7, 0, 6, 1, 9, 4, 10, 3, 12, 8],\n",
              "  [0, 6, 1, 3, 7, 10, 9, 4, 12, 8],\n",
              "  [6, 7, 0, 4, 9, 3, 1, 10, 12, 8],\n",
              "  [6, 7, 4, 10, 3, 0, 9, 1, 12, 2]],\n",
              " 'PMC3179858': [[6, 0, 5, 4, 7, 1, 3, 2, 9, 8],\n",
              "  [6, 0, 5, 9, 3, 7, 2, 4, 1, 8],\n",
              "  [6, 0, 5, 9, 1, 2, 3, 4, 7, 8],\n",
              "  [5, 0, 3, 6, 9, 2, 7, 4, 1, 8],\n",
              "  [0, 4, 5, 6, 7, 3, 9, 1, 2, 8]],\n",
              " 'PMC3442244': [[3, 2, 4, 1, 0],\n",
              "  [4, 3, 2, 0, 1],\n",
              "  [0, 4, 1, 3, 2],\n",
              "  [3, 2, 4, 1, 0],\n",
              "  [3, 4, 2, 1, 0]],\n",
              " 'PMC3522098': [[1, 3, 2, 0],\n",
              "  [1, 3, 0, 2],\n",
              "  [1, 3, 0, 2],\n",
              "  [1, 3, 2, 0],\n",
              "  [0, 2, 1, 3]],\n",
              " 'PMC3607626': [[3, 4, 0, 6, 8, 5, 2, 7, 1],\n",
              "  [0, 8, 5, 6, 3, 2, 4, 1, 7],\n",
              "  [4, 0, 8, 5, 3, 2, 6, 7, 1],\n",
              "  [4, 6, 5, 2, 3, 7, 8, 0, 1],\n",
              "  [6, 4, 7, 3, 8, 2, 1, 0, 5]],\n",
              " 'PMC3650111': [[2, 1, 0, 3, 5, 6, 4, 7],\n",
              "  [1, 2, 3, 6, 0, 5, 7, 4],\n",
              "  [7, 1, 0, 5, 4, 6, 3, 2],\n",
              "  [0, 1, 5, 6, 2, 3, 7, 4],\n",
              "  [5, 1, 0, 6, 4, 3, 7, 2]]}"
            ]
          },
          "metadata": {},
          "execution_count": 52
        }
      ]
    },
    {
      "cell_type": "code",
      "source": [
        "def get_full_sentence_abstract(resObj):\n",
        "    newResObj = {}\n",
        "    for pmcid in resObj.keys():\n",
        "        print(pmcid)\n",
        "        with open(f'Copy of {pmcid}.txt') as f:\n",
        "            text = f.read()\n",
        "\n",
        "        doc = nlp(text)\n",
        "        sentences = [str(s) for s in list(doc.sents)]\n",
        "\n",
        "        pmcid_list = []\n",
        "        for lst in resObj[pmcid]:\n",
        "            newList = []\n",
        "            for idx in lst:\n",
        "                newList.append(sentences[idx])\n",
        "            pmcid_list.append(newList)\n",
        "        newResObj[pmcid] = pmcid_list\n",
        "    return newResObj"
      ],
      "metadata": {
        "id": "auZ18aBrRZs_"
      },
      "execution_count": null,
      "outputs": []
    },
    {
      "cell_type": "code",
      "source": [
        "full_results = get_full_sentence_abstract(results)"
      ],
      "metadata": {
        "colab": {
          "base_uri": "https://localhost:8080/"
        },
        "id": "FUJ-TcZSRtgh",
        "outputId": "4a56c50f-ffec-4926-8702-8f643016ff43"
      },
      "execution_count": null,
      "outputs": [
        {
          "output_type": "stream",
          "name": "stdout",
          "text": [
            "PMC2811155\n",
            "PMC2848616\n",
            "PMC2958248\n",
            "PMC3090745\n",
            "PMC3096954\n",
            "PMC3179858\n",
            "PMC3442244\n",
            "PMC3522098\n",
            "PMC3607626\n",
            "PMC3650111\n"
          ]
        }
      ]
    },
    {
      "cell_type": "code",
      "source": [
        "final_res_abs = {}\n",
        "for key, value in full_results.items():\n",
        "    curr_list = []\n",
        "    for i in range(5):\n",
        "        obj = {}\n",
        "        obj['claim'] = pmc_claim[key][i]\n",
        "        obj['sentences'] = value[i]\n",
        "        curr_list.append(obj)\n",
        "    final_res_abs[key] = curr_list"
      ],
      "metadata": {
        "id": "nZBrF9l4RwpG"
      },
      "execution_count": null,
      "outputs": []
    },
    {
      "cell_type": "code",
      "source": [
        "final_res_abs"
      ],
      "metadata": {
        "colab": {
          "base_uri": "https://localhost:8080/"
        },
        "id": "xdmNtTvjR7dR",
        "outputId": "05516a79-8247-4a0d-a199-f5ebf33c25e2"
      },
      "execution_count": null,
      "outputs": [
        {
          "output_type": "execute_result",
          "data": {
            "text/plain": [
              "{'PMC2811155': [{'claim': 'which is dependent on PINK1 kinase activity (Geisler et al., 2010; Matsuda et al., 2010; Narendra et al., 2010; Vives-Bauza et al., 2010).',\n",
              "   'sentences': ['PINK1 Is Selectively Stabilized on Impaired Mitochondria to Activate Parkin\\n\\nAbstract\\n\\nLoss-of-function mutations in PINK1 and Parkin cause parkinsonism in humans and mitochondrial dysfunction in model organisms.',\n",
              "    'Here, we show that expression of PINK1 on individual mitochondria is regulated by voltage-dependent proteolysis to maintain low levels of PINK1 on healthy, polarized mitochondria, while facilitating the rapid accumulation of PINK1 on mitochondria that sustain damage.',\n",
              "    'PINK1 accumulation on mitochondria is both necessary and sufficient for Parkin recruitment to mitochondria, and disease-causing mutations in PINK1 and Parkin disrupt Parkin recruitment and Parkin-induced mitophagy at distinct steps.',\n",
              "    'In addition, they support a novel model for the negative selection of damaged mitochondria, in which PINK1 signals mitochondrial dysfunction to Parkin, and Parkin promotes their elimination.',\n",
              "    'These findings provide a biochemical explanation for the genetic epistasis between PINK1 and Parkin in Drosophila melanogaster.',\n",
              "    'Parkin is selectively recruited from the cytosol to damaged mitochondria to trigger their autophagy.',\n",
              "    'How Parkin recognizes damaged mitochondria, however, is unknown.']},\n",
              "  {'claim': 'Although endogenous PINK1 protein expression is constitutively low owing to rapid turnover, PINK1 proteolysis is inhibited by mitochondrial uncoupling, allowing a robust increase in expression when a mitochondrion is damaged and loses membrane potential (Lin and Kang, 2008; Matsuda et al., 2010; Narendra et al., 2010).',\n",
              "   'sentences': ['Here, we show that expression of PINK1 on individual mitochondria is regulated by voltage-dependent proteolysis to maintain low levels of PINK1 on healthy, polarized mitochondria, while facilitating the rapid accumulation of PINK1 on mitochondria that sustain damage.',\n",
              "    'PINK1 Is Selectively Stabilized on Impaired Mitochondria to Activate Parkin\\n\\nAbstract\\n\\nLoss-of-function mutations in PINK1 and Parkin cause parkinsonism in humans and mitochondrial dysfunction in model organisms.',\n",
              "    'In addition, they support a novel model for the negative selection of damaged mitochondria, in which PINK1 signals mitochondrial dysfunction to Parkin, and Parkin promotes their elimination.',\n",
              "    'PINK1 accumulation on mitochondria is both necessary and sufficient for Parkin recruitment to mitochondria, and disease-causing mutations in PINK1 and Parkin disrupt Parkin recruitment and Parkin-induced mitophagy at distinct steps.',\n",
              "    'How Parkin recognizes damaged mitochondria, however, is unknown.',\n",
              "    'Parkin is selectively recruited from the cytosol to damaged mitochondria to trigger their autophagy.',\n",
              "    'These findings provide a biochemical explanation for the genetic epistasis between PINK1 and Parkin in Drosophila melanogaster.']},\n",
              "  {'claim': 'ectopic and endogenous PINK1 have been reported to span the outer mitochondrial membrane with the C-terminal kinase region facing the cytosol poised to induce Parkin translocation (Zhou et al., 2008; Narendra et al., 2010).',\n",
              "   'sentences': ['PINK1 accumulation on mitochondria is both necessary and sufficient for Parkin recruitment to mitochondria, and disease-causing mutations in PINK1 and Parkin disrupt Parkin recruitment and Parkin-induced mitophagy at distinct steps.',\n",
              "    'PINK1 Is Selectively Stabilized on Impaired Mitochondria to Activate Parkin\\n\\nAbstract\\n\\nLoss-of-function mutations in PINK1 and Parkin cause parkinsonism in humans and mitochondrial dysfunction in model organisms.',\n",
              "    'In addition, they support a novel model for the negative selection of damaged mitochondria, in which PINK1 signals mitochondrial dysfunction to Parkin, and Parkin promotes their elimination.',\n",
              "    'These findings provide a biochemical explanation for the genetic epistasis between PINK1 and Parkin in Drosophila melanogaster.',\n",
              "    'Parkin is selectively recruited from the cytosol to damaged mitochondria to trigger their autophagy.',\n",
              "    'Here, we show that expression of PINK1 on individual mitochondria is regulated by voltage-dependent proteolysis to maintain low levels of PINK1 on healthy, polarized mitochondria, while facilitating the rapid accumulation of PINK1 on mitochondria that sustain damage.',\n",
              "    'How Parkin recognizes damaged mitochondria, however, is unknown.']},\n",
              "  {'claim': 'owing to insufficient knockdown of endogenous PARL in HeLa cells and to insufficient expression of ectopic PINK1 in PARL knockout (KO) mouse embryonic fibroblasts (MEFs; Narendra et al., 2010).',\n",
              "   'sentences': ['These findings provide a biochemical explanation for the genetic epistasis between PINK1 and Parkin in Drosophila melanogaster.',\n",
              "    'PINK1 Is Selectively Stabilized on Impaired Mitochondria to Activate Parkin\\n\\nAbstract\\n\\nLoss-of-function mutations in PINK1 and Parkin cause parkinsonism in humans and mitochondrial dysfunction in model organisms.',\n",
              "    'Here, we show that expression of PINK1 on individual mitochondria is regulated by voltage-dependent proteolysis to maintain low levels of PINK1 on healthy, polarized mitochondria, while facilitating the rapid accumulation of PINK1 on mitochondria that sustain damage.',\n",
              "    'PINK1 accumulation on mitochondria is both necessary and sufficient for Parkin recruitment to mitochondria, and disease-causing mutations in PINK1 and Parkin disrupt Parkin recruitment and Parkin-induced mitophagy at distinct steps.',\n",
              "    'In addition, they support a novel model for the negative selection of damaged mitochondria, in which PINK1 signals mitochondrial dysfunction to Parkin, and Parkin promotes their elimination.',\n",
              "    'Parkin is selectively recruited from the cytosol to damaged mitochondria to trigger their autophagy.',\n",
              "    'How Parkin recognizes damaged mitochondria, however, is unknown.']},\n",
              "  {'claim': 'proteosome-independent proteolysis yields a 52-kD form of PINK1 that is subsequently degraded by the proteosome (Narendra et al., 2010).',\n",
              "   'sentences': ['Here, we show that expression of PINK1 on individual mitochondria is regulated by voltage-dependent proteolysis to maintain low levels of PINK1 on healthy, polarized mitochondria, while facilitating the rapid accumulation of PINK1 on mitochondria that sustain damage.',\n",
              "    'These findings provide a biochemical explanation for the genetic epistasis between PINK1 and Parkin in Drosophila melanogaster.',\n",
              "    'PINK1 Is Selectively Stabilized on Impaired Mitochondria to Activate Parkin\\n\\nAbstract\\n\\nLoss-of-function mutations in PINK1 and Parkin cause parkinsonism in humans and mitochondrial dysfunction in model organisms.',\n",
              "    'In addition, they support a novel model for the negative selection of damaged mitochondria, in which PINK1 signals mitochondrial dysfunction to Parkin, and Parkin promotes their elimination.',\n",
              "    'PINK1 accumulation on mitochondria is both necessary and sufficient for Parkin recruitment to mitochondria, and disease-causing mutations in PINK1 and Parkin disrupt Parkin recruitment and Parkin-induced mitophagy at distinct steps.',\n",
              "    'Parkin is selectively recruited from the cytosol to damaged mitochondria to trigger their autophagy.',\n",
              "    'How Parkin recognizes damaged mitochondria, however, is unknown.']}],\n",
              " 'PMC2848616': [{'claim': 'Autophagy has been shown to protect neurons from Aβ induced cytotoxicity',\n",
              "   'sentences': ['As expected from the inhibition of mTOR, autophagy was increased in neurons of rapamycin-treated transgenic, but not in non-transgenic, PDAPP mice, suggesting that the reduction in Aβ and the improvement in cognitive function are due in part to increased autophagy, possibly as a response to high levels of Aβ.',\n",
              "    'These data indicate that inhibition of the mTOR pathway can reduce Aβ  levels in vivo and block or delay AD in mice.',\n",
              "    'Here we show that long-term inhibition of mTOR by rapamycin prevented AD-like cognitive deficits and lowered levels of Aβ , a major toxic species in AD[7], in the PDAPP transgenic mouse model.',\n",
              "    'Rapamycin, already used in clinical settings, may be a potentially effective therapeutic agent for the treatment of AD.',\n",
              "    \"Inhibition of mTOR by Rapamycin Abolishes Cognitive Deficits and Reduces Amyloid-β Levels in a Mouse Model of Alzheimer's Disease\\n\\n\",\n",
              "    '\\n\\nConclusions/Significance\\n\\nOur data suggest that inhibition of mTOR by rapamycin, an intervention that extends lifespan in mice, can slow or block AD progression in a transgenic mouse model of the disease.',\n",
              "    '\\n\\nMethodology/Principal Findings\\n\\nWe used rapamycin administration and behavioral tools in a mouse model of AD as well as standard biochemical and immunohistochemical measures in brain tissue to provide answers for this question.',\n",
              "    'Abstract\\n\\nBackground',\n",
              "    'It was recently demonstrated that long-term treatment with rapamycin, an inhibitor of the mTOR pathway[5], or ablation of the mTOR target p70S6K[6] extends lifespan in mice, possibly by delaying aging.',\n",
              "    '\\n\\nReduced TOR signaling has been shown to significantly increase lifespan in a variety of organisms [1], [2], [3], [4].']},\n",
              "  {'claim': 'pharmacological stimulation of autophagy can be beneficial and reduce Aβ mediated toxicity',\n",
              "   'sentences': ['As expected from the inhibition of mTOR, autophagy was increased in neurons of rapamycin-treated transgenic, but not in non-transgenic, PDAPP mice, suggesting that the reduction in Aβ and the improvement in cognitive function are due in part to increased autophagy, possibly as a response to high levels of Aβ.',\n",
              "    'These data indicate that inhibition of the mTOR pathway can reduce Aβ  levels in vivo and block or delay AD in mice.',\n",
              "    'Here we show that long-term inhibition of mTOR by rapamycin prevented AD-like cognitive deficits and lowered levels of Aβ , a major toxic species in AD[7], in the PDAPP transgenic mouse model.',\n",
              "    \"Inhibition of mTOR by Rapamycin Abolishes Cognitive Deficits and Reduces Amyloid-β Levels in a Mouse Model of Alzheimer's Disease\\n\\n\",\n",
              "    'Rapamycin, already used in clinical settings, may be a potentially effective therapeutic agent for the treatment of AD.',\n",
              "    '\\n\\nConclusions/Significance\\n\\nOur data suggest that inhibition of mTOR by rapamycin, an intervention that extends lifespan in mice, can slow or block AD progression in a transgenic mouse model of the disease.',\n",
              "    '\\n\\nMethodology/Principal Findings\\n\\nWe used rapamycin administration and behavioral tools in a mouse model of AD as well as standard biochemical and immunohistochemical measures in brain tissue to provide answers for this question.',\n",
              "    '\\n\\nReduced TOR signaling has been shown to significantly increase lifespan in a variety of organisms [1], [2], [3], [4].',\n",
              "    'It was recently demonstrated that long-term treatment with rapamycin, an inhibitor of the mTOR pathway[5], or ablation of the mTOR target p70S6K[6] extends lifespan in mice, possibly by delaying aging.',\n",
              "    'Abstract\\n\\nBackground']},\n",
              "  {'claim': 'mTOR signaling was shown to be up-regulated in 7PA2 cells over-expressing mutant APP and in brains of another AD transgenic mouse, with rapamycin treatment reported as protective against behavioral decline',\n",
              "   'sentences': ['Here we show that long-term inhibition of mTOR by rapamycin prevented AD-like cognitive deficits and lowered levels of Aβ , a major toxic species in AD[7], in the PDAPP transgenic mouse model.',\n",
              "    '\\n\\nConclusions/Significance\\n\\nOur data suggest that inhibition of mTOR by rapamycin, an intervention that extends lifespan in mice, can slow or block AD progression in a transgenic mouse model of the disease.',\n",
              "    'As expected from the inhibition of mTOR, autophagy was increased in neurons of rapamycin-treated transgenic, but not in non-transgenic, PDAPP mice, suggesting that the reduction in Aβ and the improvement in cognitive function are due in part to increased autophagy, possibly as a response to high levels of Aβ.',\n",
              "    \"Inhibition of mTOR by Rapamycin Abolishes Cognitive Deficits and Reduces Amyloid-β Levels in a Mouse Model of Alzheimer's Disease\\n\\n\",\n",
              "    '\\n\\nMethodology/Principal Findings\\n\\nWe used rapamycin administration and behavioral tools in a mouse model of AD as well as standard biochemical and immunohistochemical measures in brain tissue to provide answers for this question.',\n",
              "    'These data indicate that inhibition of the mTOR pathway can reduce Aβ  levels in vivo and block or delay AD in mice.',\n",
              "    'It was recently demonstrated that long-term treatment with rapamycin, an inhibitor of the mTOR pathway[5], or ablation of the mTOR target p70S6K[6] extends lifespan in mice, possibly by delaying aging.',\n",
              "    'Rapamycin, already used in clinical settings, may be a potentially effective therapeutic agent for the treatment of AD.',\n",
              "    'Whether inhibition of the mTOR pathway would delay or prevent age-associated disease such as AD remained to be determined.',\n",
              "    '\\n\\nReduced TOR signaling has been shown to significantly increase lifespan in a variety of organisms [1], [2], [3], [4].']},\n",
              "  {'claim': 'chronic treatment with rapamycin improved behavior of AD transgenic mice although effects were mild',\n",
              "   'sentences': ['Here we show that long-term inhibition of mTOR by rapamycin prevented AD-like cognitive deficits and lowered levels of Aβ , a major toxic species in AD[7], in the PDAPP transgenic mouse model.',\n",
              "    'As expected from the inhibition of mTOR, autophagy was increased in neurons of rapamycin-treated transgenic, but not in non-transgenic, PDAPP mice, suggesting that the reduction in Aβ and the improvement in cognitive function are due in part to increased autophagy, possibly as a response to high levels of Aβ.',\n",
              "    '\\n\\nConclusions/Significance\\n\\nOur data suggest that inhibition of mTOR by rapamycin, an intervention that extends lifespan in mice, can slow or block AD progression in a transgenic mouse model of the disease.',\n",
              "    '\\n\\nMethodology/Principal Findings\\n\\nWe used rapamycin administration and behavioral tools in a mouse model of AD as well as standard biochemical and immunohistochemical measures in brain tissue to provide answers for this question.',\n",
              "    \"Inhibition of mTOR by Rapamycin Abolishes Cognitive Deficits and Reduces Amyloid-β Levels in a Mouse Model of Alzheimer's Disease\\n\\n\",\n",
              "    'Rapamycin, already used in clinical settings, may be a potentially effective therapeutic agent for the treatment of AD.',\n",
              "    'It was recently demonstrated that long-term treatment with rapamycin, an inhibitor of the mTOR pathway[5], or ablation of the mTOR target p70S6K[6] extends lifespan in mice, possibly by delaying aging.',\n",
              "    'These data indicate that inhibition of the mTOR pathway can reduce Aβ  levels in vivo and block or delay AD in mice.',\n",
              "    'Whether inhibition of the mTOR pathway would delay or prevent age-associated disease such as AD remained to be determined.',\n",
              "    'Abstract\\n\\nBackground']},\n",
              "  {'claim': 'The 3xTg-AD15-18 mice were treated for 3 months based on previous studies showing that in young mice 10-12 weeks of rapamycin administration is sufficient to reduce soluble Aβ and tau [29], [32].',\n",
              "   'sentences': ['As expected from the inhibition of mTOR, autophagy was increased in neurons of rapamycin-treated transgenic, but not in non-transgenic, PDAPP mice, suggesting that the reduction in Aβ and the improvement in cognitive function are due in part to increased autophagy, possibly as a response to high levels of Aβ.',\n",
              "    'Here we show that long-term inhibition of mTOR by rapamycin prevented AD-like cognitive deficits and lowered levels of Aβ , a major toxic species in AD[7], in the PDAPP transgenic mouse model.',\n",
              "    'These data indicate that inhibition of the mTOR pathway can reduce Aβ  levels in vivo and block or delay AD in mice.',\n",
              "    \"Inhibition of mTOR by Rapamycin Abolishes Cognitive Deficits and Reduces Amyloid-β Levels in a Mouse Model of Alzheimer's Disease\\n\\n\",\n",
              "    '\\n\\nMethodology/Principal Findings\\n\\nWe used rapamycin administration and behavioral tools in a mouse model of AD as well as standard biochemical and immunohistochemical measures in brain tissue to provide answers for this question.',\n",
              "    '\\n\\nConclusions/Significance\\n\\nOur data suggest that inhibition of mTOR by rapamycin, an intervention that extends lifespan in mice, can slow or block AD progression in a transgenic mouse model of the disease.',\n",
              "    'Rapamycin, already used in clinical settings, may be a potentially effective therapeutic agent for the treatment of AD.',\n",
              "    'It was recently demonstrated that long-term treatment with rapamycin, an inhibitor of the mTOR pathway[5], or ablation of the mTOR target p70S6K[6] extends lifespan in mice, possibly by delaying aging.',\n",
              "    'Abstract\\n\\nBackground',\n",
              "    'Whether inhibition of the mTOR pathway would delay or prevent age-associated disease such as AD remained to be determined.']}],\n",
              " 'PMC2958248': [{'claim': 'The cellular exonuclease TREX1 was recently shown to bind and digest excess cytosolic HIV-1 DNA that would otherwise activate type I IFN expression and trigger an innate immune response',\n",
              "   'sentences': ['TREX1 bound to cytosolic HIV DNA and digested excess HIV DNA that would otherwise activate IFN expression via a TBK1, STING and IRF3 dependent pathway.',\n",
              "    'The cytosolic exonuclease TREX1 inhibits the innate immune response to HIV-1\\n\\nAbstract\\n\\nViral infection triggers innate immune sensors to produce type I interferons (IFN).',\n",
              "    'The cytosolic exonuclease TREX1 suppressed IFN triggered by HIV.',\n",
              "    'In Trex1−/− mouse cells and human CD4+ T cells and macrophages in which TREX1 was inhibited by RNA interference, cytosolic HIV DNA accumulated, and HIV infection induced type I IFN that inhibited HIV replication and spreading.',\n",
              "    'HIV-stimulated IFN production in cells deficient in TREX1 did not involve known nucleic acid sensors.',\n",
              "    'How HIV avoids activating nucleic acid sensors is unknown.',\n",
              "    'However, HIV infection of T cells and macrophages does not trip these alarms.']},\n",
              "  {'claim': 'Interestingly, similar to SAMHD1, TREX1 mutations in humans are associated with autoimmune and inflammatory diseases, including AGS',\n",
              "   'sentences': ['The cytosolic exonuclease TREX1 inhibits the innate immune response to HIV-1\\n\\nAbstract\\n\\nViral infection triggers innate immune sensors to produce type I interferons (IFN).',\n",
              "    'The cytosolic exonuclease TREX1 suppressed IFN triggered by HIV.',\n",
              "    'In Trex1−/− mouse cells and human CD4+ T cells and macrophages in which TREX1 was inhibited by RNA interference, cytosolic HIV DNA accumulated, and HIV infection induced type I IFN that inhibited HIV replication and spreading.',\n",
              "    'TREX1 bound to cytosolic HIV DNA and digested excess HIV DNA that would otherwise activate IFN expression via a TBK1, STING and IRF3 dependent pathway.',\n",
              "    'HIV-stimulated IFN production in cells deficient in TREX1 did not involve known nucleic acid sensors.',\n",
              "    'However, HIV infection of T cells and macrophages does not trip these alarms.',\n",
              "    'How HIV avoids activating nucleic acid sensors is unknown.']},\n",
              "  {'claim': 'TREX1 has previously been implicated in the HIV-1 life cycle',\n",
              "   'sentences': ['The cytosolic exonuclease TREX1 inhibits the innate immune response to HIV-1\\n\\nAbstract\\n\\nViral infection triggers innate immune sensors to produce type I interferons (IFN).',\n",
              "    'The cytosolic exonuclease TREX1 suppressed IFN triggered by HIV.',\n",
              "    'In Trex1−/− mouse cells and human CD4+ T cells and macrophages in which TREX1 was inhibited by RNA interference, cytosolic HIV DNA accumulated, and HIV infection induced type I IFN that inhibited HIV replication and spreading.',\n",
              "    'TREX1 bound to cytosolic HIV DNA and digested excess HIV DNA that would otherwise activate IFN expression via a TBK1, STING and IRF3 dependent pathway.',\n",
              "    'HIV-stimulated IFN production in cells deficient in TREX1 did not involve known nucleic acid sensors.',\n",
              "    'However, HIV infection of T cells and macrophages does not trip these alarms.',\n",
              "    'How HIV avoids activating nucleic acid sensors is unknown.']},\n",
              "  {'claim': 'TREX1 suppressed a type I IFN response that otherwise would be induced by HIV-1 infection',\n",
              "   'sentences': ['The cytosolic exonuclease TREX1 inhibits the innate immune response to HIV-1\\n\\nAbstract\\n\\nViral infection triggers innate immune sensors to produce type I interferons (IFN).',\n",
              "    'The cytosolic exonuclease TREX1 suppressed IFN triggered by HIV.',\n",
              "    'In Trex1−/− mouse cells and human CD4+ T cells and macrophages in which TREX1 was inhibited by RNA interference, cytosolic HIV DNA accumulated, and HIV infection induced type I IFN that inhibited HIV replication and spreading.',\n",
              "    'TREX1 bound to cytosolic HIV DNA and digested excess HIV DNA that would otherwise activate IFN expression via a TBK1, STING and IRF3 dependent pathway.',\n",
              "    'HIV-stimulated IFN production in cells deficient in TREX1 did not involve known nucleic acid sensors.',\n",
              "    'However, HIV infection of T cells and macrophages does not trip these alarms.',\n",
              "    'How HIV avoids activating nucleic acid sensors is unknown.']},\n",
              "  {'claim': 'TREX1 was proposed to degrade cytosolic DNA resulting from HIV-1 reverse transcription, which would otherwise be capable of inducing an IFN response',\n",
              "   'sentences': ['TREX1 bound to cytosolic HIV DNA and digested excess HIV DNA that would otherwise activate IFN expression via a TBK1, STING and IRF3 dependent pathway.',\n",
              "    'The cytosolic exonuclease TREX1 inhibits the innate immune response to HIV-1\\n\\nAbstract\\n\\nViral infection triggers innate immune sensors to produce type I interferons (IFN).',\n",
              "    'The cytosolic exonuclease TREX1 suppressed IFN triggered by HIV.',\n",
              "    'In Trex1−/− mouse cells and human CD4+ T cells and macrophages in which TREX1 was inhibited by RNA interference, cytosolic HIV DNA accumulated, and HIV infection induced type I IFN that inhibited HIV replication and spreading.',\n",
              "    'HIV-stimulated IFN production in cells deficient in TREX1 did not involve known nucleic acid sensors.',\n",
              "    'However, HIV infection of T cells and macrophages does not trip these alarms.',\n",
              "    'How HIV avoids activating nucleic acid sensors is unknown.']}],\n",
              " 'PMC3090745': [{'claim': 'These studies have identified several new genes that show significant association after multiple test correction in multiple datasets: CLU, PICALM, BIN1, CR1, ABCA7, MS4A6A, CD33 and CD2AP [31]–[35].',\n",
              "   'sentences': ['We obtained genome-wide significant results at MS4A4A [rs4938933; Stages 1+2, meta-analysis (PM) = 1.7 × 10−9, joint analysis (PJ) = 1.7 × 10−9; Stages 1–3, PM = 8.2 × 10−12], CD2AP (rs9349407; Stages 1–3, PM = 8.6 × 10−9), EPHA1 (rs11767557; Stages 1–3 PM = 6.0 × 10−10), and CD33 (rs3865444; Stages 1–3, PM = 1.6 × 10−9).',\n",
              "    'Common variants in  MS4A4/MS4A6E, CD2uAP, CD33 , and  EPHA1',\n",
              "    'We confirmed that CR1 (rs6701713; PM = 4.6×10−10, PJ = 5.2×10−11), CLU (rs1532278; PM = 8.3 × 10−8, PJ = 1.9×10−8), BIN1 (rs7561528; PM = 4.0×10−14; PJ = 5.2×10−14), and PICALM (rs561655; PM = 7.0 × 10−11, PJ = 1.0×10−10) but not EXOC3L2 are LOAD risk loci1–3.',\n",
              "    ' are associated with late-onset Alzheimer’s disease\\n\\nAbstract\\n\\nThe Alzheimer Disease Genetics Consortium (ADGC) performed a genome-wide association study (GWAS) of late-onset Alzheimer disease (LOAD) using a 3 stage design consisting of a discovery stage (Stage 1) and two replication stages (Stages 2 and 3).',\n",
              "    'Both joint and meta-analysis analysis approaches were used.']},\n",
              "  {'claim': 'All variants classified as “likely pathogenic” or with an “unknown pathogenicity”, and some “non-pathogenic” variants were genotyped in 961 sporadic AD cases, 1,346 unrelated elderly non-demented controls',\n",
              "   'sentences': [' are associated with late-onset Alzheimer’s disease\\n\\nAbstract\\n\\nThe Alzheimer Disease Genetics Consortium (ADGC) performed a genome-wide association study (GWAS) of late-onset Alzheimer disease (LOAD) using a 3 stage design consisting of a discovery stage (Stage 1) and two replication stages (Stages 2 and 3).',\n",
              "    'Common variants in  MS4A4/MS4A6E, CD2uAP, CD33 , and  EPHA1',\n",
              "    'Both joint and meta-analysis analysis approaches were used.',\n",
              "    'We confirmed that CR1 (rs6701713; PM = 4.6×10−10, PJ = 5.2×10−11), CLU (rs1532278; PM = 8.3 × 10−8, PJ = 1.9×10−8), BIN1 (rs7561528; PM = 4.0×10−14; PJ = 5.2×10−14), and PICALM (rs561655; PM = 7.0 × 10−11, PJ = 1.0×10−10) but not EXOC3L2 are LOAD risk loci1–3.',\n",
              "    'We obtained genome-wide significant results at MS4A4A [rs4938933; Stages 1+2, meta-analysis (PM) = 1.7 × 10−9, joint analysis (PJ) = 1.7 × 10−9; Stages 1–3, PM = 8.2 × 10−12], CD2AP (rs9349407; Stages 1–3, PM = 8.6 × 10−9), EPHA1 (rs11767557; Stages 1–3 PM = 6.0 × 10−10), and CD33 (rs3865444; Stages 1–3, PM = 1.6 × 10−9).']},\n",
              "  {'claim': 'Since 2009, four GWAS and a three-stage analysis of the GWAS resulted in the identification of nine novel loci associated with late-onset AD: CLU, PICALM, CR1, BIN1, ABCA7, MS4A cluster (MS4A6A/MS4A4E), CD2AP, CD33, and EPHA1 (Harold et al., 2009; Lambert et al., 2009; Seshadri et al., 2010; Hollingworth et al., 2011a,b; Naj et al., 2011).',\n",
              "   'sentences': [' are associated with late-onset Alzheimer’s disease\\n\\nAbstract\\n\\nThe Alzheimer Disease Genetics Consortium (ADGC) performed a genome-wide association study (GWAS) of late-onset Alzheimer disease (LOAD) using a 3 stage design consisting of a discovery stage (Stage 1) and two replication stages (Stages 2 and 3).',\n",
              "    'We obtained genome-wide significant results at MS4A4A [rs4938933; Stages 1+2, meta-analysis (PM) = 1.7 × 10−9, joint analysis (PJ) = 1.7 × 10−9; Stages 1–3, PM = 8.2 × 10−12], CD2AP (rs9349407; Stages 1–3, PM = 8.6 × 10−9), EPHA1 (rs11767557; Stages 1–3 PM = 6.0 × 10−10), and CD33 (rs3865444; Stages 1–3, PM = 1.6 × 10−9).',\n",
              "    'Common variants in  MS4A4/MS4A6E, CD2uAP, CD33 , and  EPHA1',\n",
              "    'We confirmed that CR1 (rs6701713; PM = 4.6×10−10, PJ = 5.2×10−11), CLU (rs1532278; PM = 8.3 × 10−8, PJ = 1.9×10−8), BIN1 (rs7561528; PM = 4.0×10−14; PJ = 5.2×10−14), and PICALM (rs561655; PM = 7.0 × 10−11, PJ = 1.0×10−10) but not EXOC3L2 are LOAD risk loci1–3.',\n",
              "    'Both joint and meta-analysis analysis approaches were used.']},\n",
              "  {'claim': 'Examining the amount of genetic risk effect attributable to these genes (other than APOE), the most strongly associated single-nucleotide polymorphisms at each locus have population attributable fractions between 2.72 and 5.97%, with a cumulative population attributable fraction for non-APOE loci estimated to be as much as 35% (Naj et al., 2011).',\n",
              "   'sentences': ['Both joint and meta-analysis analysis approaches were used.',\n",
              "    'Common variants in  MS4A4/MS4A6E, CD2uAP, CD33 , and  EPHA1',\n",
              "    'We confirmed that CR1 (rs6701713; PM = 4.6×10−10, PJ = 5.2×10−11), CLU (rs1532278; PM = 8.3 × 10−8, PJ = 1.9×10−8), BIN1 (rs7561528; PM = 4.0×10−14; PJ = 5.2×10−14), and PICALM (rs561655; PM = 7.0 × 10−11, PJ = 1.0×10−10) but not EXOC3L2 are LOAD risk loci1–3.',\n",
              "    ' are associated with late-onset Alzheimer’s disease\\n\\nAbstract\\n\\nThe Alzheimer Disease Genetics Consortium (ADGC) performed a genome-wide association study (GWAS) of late-onset Alzheimer disease (LOAD) using a 3 stage design consisting of a discovery stage (Stage 1) and two replication stages (Stages 2 and 3).',\n",
              "    'We obtained genome-wide significant results at MS4A4A [rs4938933; Stages 1+2, meta-analysis (PM) = 1.7 × 10−9, joint analysis (PJ) = 1.7 × 10−9; Stages 1–3, PM = 8.2 × 10−12], CD2AP (rs9349407; Stages 1–3, PM = 8.6 × 10−9), EPHA1 (rs11767557; Stages 1–3 PM = 6.0 × 10−10), and CD33 (rs3865444; Stages 1–3, PM = 1.6 × 10−9).']},\n",
              "  {'claim': 'To investigate whether any of the significant brain cisSNPs may influence risk of AD, we compared our eGWAS results to the AD risk associations from the large AD GWAS conducted by ADGC [28].',\n",
              "   'sentences': [' are associated with late-onset Alzheimer’s disease\\n\\nAbstract\\n\\nThe Alzheimer Disease Genetics Consortium (ADGC) performed a genome-wide association study (GWAS) of late-onset Alzheimer disease (LOAD) using a 3 stage design consisting of a discovery stage (Stage 1) and two replication stages (Stages 2 and 3).',\n",
              "    'We obtained genome-wide significant results at MS4A4A [rs4938933; Stages 1+2, meta-analysis (PM) = 1.7 × 10−9, joint analysis (PJ) = 1.7 × 10−9; Stages 1–3, PM = 8.2 × 10−12], CD2AP (rs9349407; Stages 1–3, PM = 8.6 × 10−9), EPHA1 (rs11767557; Stages 1–3 PM = 6.0 × 10−10), and CD33 (rs3865444; Stages 1–3, PM = 1.6 × 10−9).',\n",
              "    'Both joint and meta-analysis analysis approaches were used.',\n",
              "    'We confirmed that CR1 (rs6701713; PM = 4.6×10−10, PJ = 5.2×10−11), CLU (rs1532278; PM = 8.3 × 10−8, PJ = 1.9×10−8), BIN1 (rs7561528; PM = 4.0×10−14; PJ = 5.2×10−14), and PICALM (rs561655; PM = 7.0 × 10−11, PJ = 1.0×10−10) but not EXOC3L2 are LOAD risk loci1–3.',\n",
              "    'Common variants in  MS4A4/MS4A6E, CD2uAP, CD33 , and  EPHA1']}],\n",
              " 'PMC3096954': [{'claim': 'Recently, a subgroup of Basal-like tumors associated with poor prognosis has also been reported [4,5].',\n",
              "   'sentences': ['Phenotypic and molecular characterization of the claudin-low intrinsic subtype of breast cancer\\n\\nAbstract\\n\\nIntroduction\\n\\nIn breast cancer, gene expression analyses have defined five tumor subtypes (luminal A, luminal B, HER2-enriched, basal-like and claudin-low), each of which has unique biologic and prognostic features.',\n",
              "    'Clinically, the majority of claudin-low tumors are poor prognosis estrogen receptor (ER)-negative, progesterone receptor (PR)-negative, and epidermal growth factor receptor 2 (HER2)-negative (triple negative) invasive ductal carcinomas with a high frequency of metaplastic and medullary differentiation.',\n",
              "    'They also have a response rate to standard preoperative chemotherapy that is intermediate between that of basal-like and luminal tumors.',\n",
              "    'Here, we comprehensively characterize the recently identified claudin-low tumor subtype.',\n",
              "    'Results\\n\\nClaudin-low tumors are characterized by the low to absent expression of luminal differentiation markers, high enrichment for epithelial-to-mesenchymal transition markers, immune response genes and cancer stem cell-like features.',\n",
              "    'Finally, we confirm that a prognostically relevant differentiation hierarchy exists across all breast cancers in which the claudin-low subtype most closely resembles the mammary epithelial stem cell.',\n",
              "    'These main features of claudin-low tumors were also evaluated in a panel of breast cancer cell lines and genetically engineered mouse models.',\n",
              "    'Methods\\n\\nThe clinical, pathological and biological features of claudin-low tumors were compared to the other tumor subtypes using an updated human tumor database and multiple independent data sets.',\n",
              "    'Conclusions\\n\\nThese results should help to improve our understanding of the biologic heterogeneity of breast cancer and provide tools for the further evaluation of the unique biology of claudin-low tumors and cell lines.',\n",
              "    'Interestingly, we show that a group of highly utilized breast cancer cell lines, and several genetically engineered mouse models, express the claudin-low phenotype.']},\n",
              "  {'claim': 'Context 130, a Basal-like context has under-expression of GATA3 which is in concordance with previous studies of Basal-like subgroup, ’claudin-low’ with poor prognosis and more refractory to chemotherapy [5] .',\n",
              "   'sentences': ['Clinically, the majority of claudin-low tumors are poor prognosis estrogen receptor (ER)-negative, progesterone receptor (PR)-negative, and epidermal growth factor receptor 2 (HER2)-negative (triple negative) invasive ductal carcinomas with a high frequency of metaplastic and medullary differentiation.',\n",
              "    'Phenotypic and molecular characterization of the claudin-low intrinsic subtype of breast cancer\\n\\nAbstract\\n\\nIntroduction\\n\\nIn breast cancer, gene expression analyses have defined five tumor subtypes (luminal A, luminal B, HER2-enriched, basal-like and claudin-low), each of which has unique biologic and prognostic features.',\n",
              "    'Results\\n\\nClaudin-low tumors are characterized by the low to absent expression of luminal differentiation markers, high enrichment for epithelial-to-mesenchymal transition markers, immune response genes and cancer stem cell-like features.',\n",
              "    'Here, we comprehensively characterize the recently identified claudin-low tumor subtype.',\n",
              "    'Interestingly, we show that a group of highly utilized breast cancer cell lines, and several genetically engineered mouse models, express the claudin-low phenotype.',\n",
              "    'These main features of claudin-low tumors were also evaluated in a panel of breast cancer cell lines and genetically engineered mouse models.',\n",
              "    'Finally, we confirm that a prognostically relevant differentiation hierarchy exists across all breast cancers in which the claudin-low subtype most closely resembles the mammary epithelial stem cell.',\n",
              "    'Methods\\n\\nThe clinical, pathological and biological features of claudin-low tumors were compared to the other tumor subtypes using an updated human tumor database and multiple independent data sets.',\n",
              "    'Conclusions\\n\\nThese results should help to improve our understanding of the biologic heterogeneity of breast cancer and provide tools for the further evaluation of the unique biology of claudin-low tumors and cell lines.',\n",
              "    'They also have a response rate to standard preoperative chemotherapy that is intermediate between that of basal-like and luminal tumors.']},\n",
              "  {'claim': 'Molecular profiling has identified 5 distinct subtypes of human breast tumors, luminal A, luminal B, HER2-enriched, basal-like and claudin-low [1-7].',\n",
              "   'sentences': ['Phenotypic and molecular characterization of the claudin-low intrinsic subtype of breast cancer\\n\\nAbstract\\n\\nIntroduction\\n\\nIn breast cancer, gene expression analyses have defined five tumor subtypes (luminal A, luminal B, HER2-enriched, basal-like and claudin-low), each of which has unique biologic and prognostic features.',\n",
              "    'Results\\n\\nClaudin-low tumors are characterized by the low to absent expression of luminal differentiation markers, high enrichment for epithelial-to-mesenchymal transition markers, immune response genes and cancer stem cell-like features.',\n",
              "    'Here, we comprehensively characterize the recently identified claudin-low tumor subtype.',\n",
              "    'Methods\\n\\nThe clinical, pathological and biological features of claudin-low tumors were compared to the other tumor subtypes using an updated human tumor database and multiple independent data sets.',\n",
              "    'Clinically, the majority of claudin-low tumors are poor prognosis estrogen receptor (ER)-negative, progesterone receptor (PR)-negative, and epidermal growth factor receptor 2 (HER2)-negative (triple negative) invasive ductal carcinomas with a high frequency of metaplastic and medullary differentiation.',\n",
              "    'Finally, we confirm that a prognostically relevant differentiation hierarchy exists across all breast cancers in which the claudin-low subtype most closely resembles the mammary epithelial stem cell.',\n",
              "    'Interestingly, we show that a group of highly utilized breast cancer cell lines, and several genetically engineered mouse models, express the claudin-low phenotype.',\n",
              "    'These main features of claudin-low tumors were also evaluated in a panel of breast cancer cell lines and genetically engineered mouse models.',\n",
              "    'Conclusions\\n\\nThese results should help to improve our understanding of the biologic heterogeneity of breast cancer and provide tools for the further evaluation of the unique biology of claudin-low tumors and cell lines.',\n",
              "    'They also have a response rate to standard preoperative chemotherapy that is intermediate between that of basal-like and luminal tumors.']},\n",
              "  {'claim': 'Claudin-low tumors express mesenchymal genes such as Twist1, Twist2, Zeb1, Zeb2, Slug and Snail and low levels of E-cadherin and claudins 3, 4 and 7 [6,7].',\n",
              "   'sentences': ['Results\\n\\nClaudin-low tumors are characterized by the low to absent expression of luminal differentiation markers, high enrichment for epithelial-to-mesenchymal transition markers, immune response genes and cancer stem cell-like features.',\n",
              "    'Clinically, the majority of claudin-low tumors are poor prognosis estrogen receptor (ER)-negative, progesterone receptor (PR)-negative, and epidermal growth factor receptor 2 (HER2)-negative (triple negative) invasive ductal carcinomas with a high frequency of metaplastic and medullary differentiation.',\n",
              "    'Phenotypic and molecular characterization of the claudin-low intrinsic subtype of breast cancer\\n\\nAbstract\\n\\nIntroduction\\n\\nIn breast cancer, gene expression analyses have defined five tumor subtypes (luminal A, luminal B, HER2-enriched, basal-like and claudin-low), each of which has unique biologic and prognostic features.',\n",
              "    'These main features of claudin-low tumors were also evaluated in a panel of breast cancer cell lines and genetically engineered mouse models.',\n",
              "    'Interestingly, we show that a group of highly utilized breast cancer cell lines, and several genetically engineered mouse models, express the claudin-low phenotype.',\n",
              "    'Methods\\n\\nThe clinical, pathological and biological features of claudin-low tumors were compared to the other tumor subtypes using an updated human tumor database and multiple independent data sets.',\n",
              "    'Here, we comprehensively characterize the recently identified claudin-low tumor subtype.',\n",
              "    'Finally, we confirm that a prognostically relevant differentiation hierarchy exists across all breast cancers in which the claudin-low subtype most closely resembles the mammary epithelial stem cell.',\n",
              "    'Conclusions\\n\\nThese results should help to improve our understanding of the biologic heterogeneity of breast cancer and provide tools for the further evaluation of the unique biology of claudin-low tumors and cell lines.',\n",
              "    'They also have a response rate to standard preoperative chemotherapy that is intermediate between that of basal-like and luminal tumors.']},\n",
              "  {'claim': 'Since claudin-low tumors possess features of stem cells [7], it is possible that the tumors that regress and recur or only partially regress are those that contain claudin-low cells.',\n",
              "   'sentences': ['Results\\n\\nClaudin-low tumors are characterized by the low to absent expression of luminal differentiation markers, high enrichment for epithelial-to-mesenchymal transition markers, immune response genes and cancer stem cell-like features.',\n",
              "    'Clinically, the majority of claudin-low tumors are poor prognosis estrogen receptor (ER)-negative, progesterone receptor (PR)-negative, and epidermal growth factor receptor 2 (HER2)-negative (triple negative) invasive ductal carcinomas with a high frequency of metaplastic and medullary differentiation.',\n",
              "    'These main features of claudin-low tumors were also evaluated in a panel of breast cancer cell lines and genetically engineered mouse models.',\n",
              "    'Finally, we confirm that a prognostically relevant differentiation hierarchy exists across all breast cancers in which the claudin-low subtype most closely resembles the mammary epithelial stem cell.',\n",
              "    'Methods\\n\\nThe clinical, pathological and biological features of claudin-low tumors were compared to the other tumor subtypes using an updated human tumor database and multiple independent data sets.',\n",
              "    'Phenotypic and molecular characterization of the claudin-low intrinsic subtype of breast cancer\\n\\nAbstract\\n\\nIntroduction\\n\\nIn breast cancer, gene expression analyses have defined five tumor subtypes (luminal A, luminal B, HER2-enriched, basal-like and claudin-low), each of which has unique biologic and prognostic features.',\n",
              "    'Interestingly, we show that a group of highly utilized breast cancer cell lines, and several genetically engineered mouse models, express the claudin-low phenotype.',\n",
              "    'Here, we comprehensively characterize the recently identified claudin-low tumor subtype.',\n",
              "    'Conclusions\\n\\nThese results should help to improve our understanding of the biologic heterogeneity of breast cancer and provide tools for the further evaluation of the unique biology of claudin-low tumors and cell lines.',\n",
              "    '\\n\\n']}],\n",
              " 'PMC3179858': [{'claim': 'By contrast, Hrecka and colleagues identified SAMHD1 from HEK 293T cells expressing tagged Vpx in a proteomic screen using multidimensional protein identification technology [10].',\n",
              "   'sentences': ['Vpx relieves the inhibition of lentivirus infection in macrophages by loading SAMHD1 onto the CRL4DCAF1 E3 ubiquitin ligase, leading to highly efficient proteasome-dependent degradation of the protein.',\n",
              "    'Vpx relieves inhibition of HIV-1 infection of macrophages mediated by the SAMHD1 protein\\n\\nAbstract',\n",
              "    'Here we show that the inhibition of HIV-1 infection in macrophages involves the cellular SAM domain HD domain-containing protein 1 (SAMHD1).',\n",
              "    'In contrast, HIV-2 and related simian immunodeficiency viruses (SIVsm/mac) transduce myeloid cells efficiently owing to their virion-associated Vpx accessory proteins, which counteract the restrictive mechanism5,6.',\n",
              "    'Mutations in SAMHD1 cause Aicardi-Goutieres syndrome (AGS), a disease that produces a phenotype that mimics the effects of a congenital viral infection7,8.',\n",
              "    '\\n\\n',\n",
              "    'HIV-1 fails to transduce dendritic cells and has a reduced ability to transduce macrophages, due to an as yet uncharacterized mechanism that inhibits infection by interfering with efficient synthesis of viral cDNA3,4.',\n",
              "    'Macrophages and dendritic cells play key roles in viral infections, providing virus reservoirs that frequently resist anti-viral therapies and linking innate virus detection to anti-viral adaptive immune responses1,2.',\n",
              "    'Thus, our findings reveal that macrophages are defended from HIV-1 infection by a mechanism that prevents an unwanted interferon response triggered by self nucleic acids, and uncover an intricate relationship between innate immune mechanisms that control response to self and to retroviral pathogens.',\n",
              "    'Failure to dispose of endogenous nucleic acid debris in AGS results in inappropriate triggering of innate immune responses via cytosolic nucleic acids sensors9,10.']},\n",
              "  {'claim': 'They demonstrated that Vpx relieves the inhibition of HIV-1 infection in monocyte-derived macrophages by mediating proteasome-dependent degradation of SAMHD1 through the CUL4A/DCAF1 E3 ubiquitin ligase [10].',\n",
              "   'sentences': ['Vpx relieves the inhibition of lentivirus infection in macrophages by loading SAMHD1 onto the CRL4DCAF1 E3 ubiquitin ligase, leading to highly efficient proteasome-dependent degradation of the protein.',\n",
              "    'Vpx relieves inhibition of HIV-1 infection of macrophages mediated by the SAMHD1 protein\\n\\nAbstract',\n",
              "    'Here we show that the inhibition of HIV-1 infection in macrophages involves the cellular SAM domain HD domain-containing protein 1 (SAMHD1).',\n",
              "    'Thus, our findings reveal that macrophages are defended from HIV-1 infection by a mechanism that prevents an unwanted interferon response triggered by self nucleic acids, and uncover an intricate relationship between innate immune mechanisms that control response to self and to retroviral pathogens.',\n",
              "    'HIV-1 fails to transduce dendritic cells and has a reduced ability to transduce macrophages, due to an as yet uncharacterized mechanism that inhibits infection by interfering with efficient synthesis of viral cDNA3,4.',\n",
              "    'Mutations in SAMHD1 cause Aicardi-Goutieres syndrome (AGS), a disease that produces a phenotype that mimics the effects of a congenital viral infection7,8.',\n",
              "    'Macrophages and dendritic cells play key roles in viral infections, providing virus reservoirs that frequently resist anti-viral therapies and linking innate virus detection to anti-viral adaptive immune responses1,2.',\n",
              "    'In contrast, HIV-2 and related simian immunodeficiency viruses (SIVsm/mac) transduce myeloid cells efficiently owing to their virion-associated Vpx accessory proteins, which counteract the restrictive mechanism5,6.',\n",
              "    '\\n\\n',\n",
              "    'Failure to dispose of endogenous nucleic acid debris in AGS results in inappropriate triggering of innate immune responses via cytosolic nucleic acids sensors9,10.']},\n",
              "  {'claim': 'Both studies confirmed that Vpx interacts with SAMHD1 and induces proteasomal degradation of SAMHD1 in THP-1 cells or macrophages, which can be restored by treatment with a proteasome inhibitor [9,10].',\n",
              "   'sentences': ['Vpx relieves the inhibition of lentivirus infection in macrophages by loading SAMHD1 onto the CRL4DCAF1 E3 ubiquitin ligase, leading to highly efficient proteasome-dependent degradation of the protein.',\n",
              "    'Vpx relieves inhibition of HIV-1 infection of macrophages mediated by the SAMHD1 protein\\n\\nAbstract',\n",
              "    'Here we show that the inhibition of HIV-1 infection in macrophages involves the cellular SAM domain HD domain-containing protein 1 (SAMHD1).',\n",
              "    'Thus, our findings reveal that macrophages are defended from HIV-1 infection by a mechanism that prevents an unwanted interferon response triggered by self nucleic acids, and uncover an intricate relationship between innate immune mechanisms that control response to self and to retroviral pathogens.',\n",
              "    '\\n\\n',\n",
              "    'Macrophages and dendritic cells play key roles in viral infections, providing virus reservoirs that frequently resist anti-viral therapies and linking innate virus detection to anti-viral adaptive immune responses1,2.',\n",
              "    'HIV-1 fails to transduce dendritic cells and has a reduced ability to transduce macrophages, due to an as yet uncharacterized mechanism that inhibits infection by interfering with efficient synthesis of viral cDNA3,4.',\n",
              "    'In contrast, HIV-2 and related simian immunodeficiency viruses (SIVsm/mac) transduce myeloid cells efficiently owing to their virion-associated Vpx accessory proteins, which counteract the restrictive mechanism5,6.',\n",
              "    'Mutations in SAMHD1 cause Aicardi-Goutieres syndrome (AGS), a disease that produces a phenotype that mimics the effects of a congenital viral infection7,8.',\n",
              "    'Failure to dispose of endogenous nucleic acid debris in AGS results in inappropriate triggering of innate immune responses via cytosolic nucleic acids sensors9,10.']},\n",
              "  {'claim': 'Further analysis revealed that SAMHD1 blocks HIV-1 reverse transcription, as silencing SAMHD1 in THP-1 cells [9] and macrophages [10] increases the levels of viral DNA.',\n",
              "   'sentences': ['Here we show that the inhibition of HIV-1 infection in macrophages involves the cellular SAM domain HD domain-containing protein 1 (SAMHD1).',\n",
              "    'Vpx relieves inhibition of HIV-1 infection of macrophages mediated by the SAMHD1 protein\\n\\nAbstract',\n",
              "    'HIV-1 fails to transduce dendritic cells and has a reduced ability to transduce macrophages, due to an as yet uncharacterized mechanism that inhibits infection by interfering with efficient synthesis of viral cDNA3,4.',\n",
              "    'Vpx relieves the inhibition of lentivirus infection in macrophages by loading SAMHD1 onto the CRL4DCAF1 E3 ubiquitin ligase, leading to highly efficient proteasome-dependent degradation of the protein.',\n",
              "    'Thus, our findings reveal that macrophages are defended from HIV-1 infection by a mechanism that prevents an unwanted interferon response triggered by self nucleic acids, and uncover an intricate relationship between innate immune mechanisms that control response to self and to retroviral pathogens.',\n",
              "    'Macrophages and dendritic cells play key roles in viral infections, providing virus reservoirs that frequently resist anti-viral therapies and linking innate virus detection to anti-viral adaptive immune responses1,2.',\n",
              "    'Mutations in SAMHD1 cause Aicardi-Goutieres syndrome (AGS), a disease that produces a phenotype that mimics the effects of a congenital viral infection7,8.',\n",
              "    'In contrast, HIV-2 and related simian immunodeficiency viruses (SIVsm/mac) transduce myeloid cells efficiently owing to their virion-associated Vpx accessory proteins, which counteract the restrictive mechanism5,6.',\n",
              "    '\\n\\n',\n",
              "    'Failure to dispose of endogenous nucleic acid debris in AGS results in inappropriate triggering of innate immune responses via cytosolic nucleic acids sensors9,10.']},\n",
              "  {'claim': 'Together, these studies suggested that SAMHD1 is the myeloid-cell specific HIV-1 restriction factor counteracted by Vpx [9,10] (Figure 1).',\n",
              "   'sentences': ['Vpx relieves inhibition of HIV-1 infection of macrophages mediated by the SAMHD1 protein\\n\\nAbstract',\n",
              "    'In contrast, HIV-2 and related simian immunodeficiency viruses (SIVsm/mac) transduce myeloid cells efficiently owing to their virion-associated Vpx accessory proteins, which counteract the restrictive mechanism5,6.',\n",
              "    'Here we show that the inhibition of HIV-1 infection in macrophages involves the cellular SAM domain HD domain-containing protein 1 (SAMHD1).',\n",
              "    'Vpx relieves the inhibition of lentivirus infection in macrophages by loading SAMHD1 onto the CRL4DCAF1 E3 ubiquitin ligase, leading to highly efficient proteasome-dependent degradation of the protein.',\n",
              "    'Mutations in SAMHD1 cause Aicardi-Goutieres syndrome (AGS), a disease that produces a phenotype that mimics the effects of a congenital viral infection7,8.',\n",
              "    'HIV-1 fails to transduce dendritic cells and has a reduced ability to transduce macrophages, due to an as yet uncharacterized mechanism that inhibits infection by interfering with efficient synthesis of viral cDNA3,4.',\n",
              "    'Thus, our findings reveal that macrophages are defended from HIV-1 infection by a mechanism that prevents an unwanted interferon response triggered by self nucleic acids, and uncover an intricate relationship between innate immune mechanisms that control response to self and to retroviral pathogens.',\n",
              "    '\\n\\n',\n",
              "    'Macrophages and dendritic cells play key roles in viral infections, providing virus reservoirs that frequently resist anti-viral therapies and linking innate virus detection to anti-viral adaptive immune responses1,2.',\n",
              "    'Failure to dispose of endogenous nucleic acid debris in AGS results in inappropriate triggering of innate immune responses via cytosolic nucleic acids sensors9,10.']}],\n",
              " 'PMC3442244': [{'claim': 'Currently, over 60 common risk variants have been identified [30–34], with a combined disease risk of 5–10% [34, 35], suggesting the existence of many more as yet undiscovered loci [34, 36, 37].',\n",
              "   'sentences': ['Genome-wide analyses of these data are consistent with a long tail of further common variant loci explaining much of the variation in susceptibility to T2D.',\n",
              "    'We identified ten previously unreported T2D susceptibility loci, including two demonstrating sex-differentiated association.',\n",
              "    'Exploration of the enlarged set of susceptibility loci implicates several processes, including CREBBP-related transcription, adipocytokine signalling and cell cycle regulation, in diabetes pathogenesis.',\n",
              "    'To extend understanding of the genetic architecture and molecular basis of type 2 diabetes (T2D), we conducted a meta-analysis of genetic variants on the Metabochip involving 34,840 cases and 114,981 controls, overwhelmingly of European descent.',\n",
              "    'Large-scale association analysis provides insights into the genetic architecture and pathophysiology of type 2 diabetes\\n\\nAbstract\\n\\n']},\n",
              "  {'claim': 'A fundamental challenge facing those wishing to determine which of the genes in a particular locus is responsible for affecting disease risk, and dissect how this/these act, is the very scale of the problem (currently more than 500 genes in total to interrogate, with others emerging) [35]',\n",
              "   'sentences': ['Exploration of the enlarged set of susceptibility loci implicates several processes, including CREBBP-related transcription, adipocytokine signalling and cell cycle regulation, in diabetes pathogenesis.',\n",
              "    'Genome-wide analyses of these data are consistent with a long tail of further common variant loci explaining much of the variation in susceptibility to T2D.',\n",
              "    'We identified ten previously unreported T2D susceptibility loci, including two demonstrating sex-differentiated association.',\n",
              "    'Large-scale association analysis provides insights into the genetic architecture and pathophysiology of type 2 diabetes\\n\\nAbstract\\n\\n',\n",
              "    'To extend understanding of the genetic architecture and molecular basis of type 2 diabetes (T2D), we conducted a meta-analysis of genetic variants on the Metabochip involving 34,840 cases and 114,981 controls, overwhelmingly of European descent.']},\n",
              "  {'claim': 'According to the most recent meta-analysis of genome-wide association studies, 63 individual SNPs have now been linked with diabetes risk [1].',\n",
              "   'sentences': ['Large-scale association analysis provides insights into the genetic architecture and pathophysiology of type 2 diabetes\\n\\nAbstract\\n\\n',\n",
              "    'Exploration of the enlarged set of susceptibility loci implicates several processes, including CREBBP-related transcription, adipocytokine signalling and cell cycle regulation, in diabetes pathogenesis.',\n",
              "    'To extend understanding of the genetic architecture and molecular basis of type 2 diabetes (T2D), we conducted a meta-analysis of genetic variants on the Metabochip involving 34,840 cases and 114,981 controls, overwhelmingly of European descent.',\n",
              "    'Genome-wide analyses of these data are consistent with a long tail of further common variant loci explaining much of the variation in susceptibility to T2D.',\n",
              "    'We identified ten previously unreported T2D susceptibility loci, including two demonstrating sex-differentiated association.']},\n",
              "  {'claim': 'However, these variants explain only ∼5.7% of variance in disease susceptibility [1].',\n",
              "   'sentences': ['Genome-wide analyses of these data are consistent with a long tail of further common variant loci explaining much of the variation in susceptibility to T2D.',\n",
              "    'We identified ten previously unreported T2D susceptibility loci, including two demonstrating sex-differentiated association.',\n",
              "    'Exploration of the enlarged set of susceptibility loci implicates several processes, including CREBBP-related transcription, adipocytokine signalling and cell cycle regulation, in diabetes pathogenesis.',\n",
              "    'To extend understanding of the genetic architecture and molecular basis of type 2 diabetes (T2D), we conducted a meta-analysis of genetic variants on the Metabochip involving 34,840 cases and 114,981 controls, overwhelmingly of European descent.',\n",
              "    'Large-scale association analysis provides insights into the genetic architecture and pathophysiology of type 2 diabetes\\n\\nAbstract\\n\\n']},\n",
              "  {'claim': 'Of these SNPs, 66,000 were selected for efficient replication of top signals across multiple traits, with the hope that when tested in sufficiently large samples they might exceed genome-wide statistical significance (9,10)',\n",
              "   'sentences': ['Genome-wide analyses of these data are consistent with a long tail of further common variant loci explaining much of the variation in susceptibility to T2D.',\n",
              "    'Exploration of the enlarged set of susceptibility loci implicates several processes, including CREBBP-related transcription, adipocytokine signalling and cell cycle regulation, in diabetes pathogenesis.',\n",
              "    'We identified ten previously unreported T2D susceptibility loci, including two demonstrating sex-differentiated association.',\n",
              "    'To extend understanding of the genetic architecture and molecular basis of type 2 diabetes (T2D), we conducted a meta-analysis of genetic variants on the Metabochip involving 34,840 cases and 114,981 controls, overwhelmingly of European descent.',\n",
              "    'Large-scale association analysis provides insights into the genetic architecture and pathophysiology of type 2 diabetes\\n\\nAbstract\\n\\n']}],\n",
              " 'PMC3522098': [{'claim': 'Interestingly, we found that Fndc5, the gene that codes for the recently discovered antidiabetic hormone irisin [39] was also significantly increased in Cox6a2 −/− diaphragm (data not shown).',\n",
              "   'sentences': ['Abstract\\n\\nExercise benefits a variety of organ systems in mammals, and some of the best-recognized effects of exercise on muscle are mediated by the transcriptional coactivator PGC1α Here we show that PGC1α expression in muscle stimulates an increase in expression of Fndc5, a membrane protein that is cleaved and secreted as a new hormone, irisin. Irisin acts on white adipose cells in culture and in vivo to stimulate UCP1 expression and a broad program of brown fat-like development. Irisin is induced with exercise in mice and humans, and mildly increased irisin levels in blood cause an increase in energy expenditure in mice with no changes in movement or food intake.',\n",
              "    'Irisin could be a protein therapeutic for human metabolic disease and other disorders that are improved with exercise.',\n",
              "    'This results in improvements in obesity and glucose homeostasis.',\n",
              "    'A PGC1α-dependent myokine that drives browning of white fat and thermogenesis\\n\\n']},\n",
              "  {'claim': 'This suggests the existence of a crosstalk between skeletal muscle and adipose tissue, as was recently shown with the identification of a new hormone, irisin, which stimulates browning and UCP1 expression in WAT [39].',\n",
              "   'sentences': ['Abstract\\n\\nExercise benefits a variety of organ systems in mammals, and some of the best-recognized effects of exercise on muscle are mediated by the transcriptional coactivator PGC1α Here we show that PGC1α expression in muscle stimulates an increase in expression of Fndc5, a membrane protein that is cleaved and secreted as a new hormone, irisin. Irisin acts on white adipose cells in culture and in vivo to stimulate UCP1 expression and a broad program of brown fat-like development. Irisin is induced with exercise in mice and humans, and mildly increased irisin levels in blood cause an increase in energy expenditure in mice with no changes in movement or food intake.',\n",
              "    'Irisin could be a protein therapeutic for human metabolic disease and other disorders that are improved with exercise.',\n",
              "    'A PGC1α-dependent myokine that drives browning of white fat and thermogenesis\\n\\n',\n",
              "    'This results in improvements in obesity and glucose homeostasis.']},\n",
              "  {'claim': 'Irisin, encoded by the Fndc5 gene, is a newly identified hormone from the muscle of PGC-1α transgenic mice.67 Irisin can be induced by exercise in both mice and humans',\n",
              "   'sentences': ['Abstract\\n\\nExercise benefits a variety of organ systems in mammals, and some of the best-recognized effects of exercise on muscle are mediated by the transcriptional coactivator PGC1α Here we show that PGC1α expression in muscle stimulates an increase in expression of Fndc5, a membrane protein that is cleaved and secreted as a new hormone, irisin. Irisin acts on white adipose cells in culture and in vivo to stimulate UCP1 expression and a broad program of brown fat-like development. Irisin is induced with exercise in mice and humans, and mildly increased irisin levels in blood cause an increase in energy expenditure in mice with no changes in movement or food intake.',\n",
              "    'Irisin could be a protein therapeutic for human metabolic disease and other disorders that are improved with exercise.',\n",
              "    'A PGC1α-dependent myokine that drives browning of white fat and thermogenesis\\n\\n',\n",
              "    'This results in improvements in obesity and glucose homeostasis.']},\n",
              "  {'claim': 'Overexpression of irisin in the liver of mice, via adenoviral delivery, increases energy expenditure and reduces high fat diet-induced obesity.67',\n",
              "   'sentences': ['Abstract\\n\\nExercise benefits a variety of organ systems in mammals, and some of the best-recognized effects of exercise on muscle are mediated by the transcriptional coactivator PGC1α Here we show that PGC1α expression in muscle stimulates an increase in expression of Fndc5, a membrane protein that is cleaved and secreted as a new hormone, irisin. Irisin acts on white adipose cells in culture and in vivo to stimulate UCP1 expression and a broad program of brown fat-like development. Irisin is induced with exercise in mice and humans, and mildly increased irisin levels in blood cause an increase in energy expenditure in mice with no changes in movement or food intake.',\n",
              "    'Irisin could be a protein therapeutic for human metabolic disease and other disorders that are improved with exercise.',\n",
              "    'This results in improvements in obesity and glucose homeostasis.',\n",
              "    'A PGC1α-dependent myokine that drives browning of white fat and thermogenesis\\n\\n']},\n",
              "  {'claim': 'This question is especially pertinent because interest in thermogenic drugs and drug targets has been rekindled by new evidence that brown adipose tissue can be active in adult humans and the discovery of new targets for drugs that might augment and activate brown adipose tissue (Fruhbeck et al., 2009; Wu et al., 2011; Bostrom et al., 2012; Fournier et al., 2012; Ye et al., 2012).',\n",
              "   'sentences': ['A PGC1α-dependent myokine that drives browning of white fat and thermogenesis\\n\\n',\n",
              "    'This results in improvements in obesity and glucose homeostasis.',\n",
              "    'Abstract\\n\\nExercise benefits a variety of organ systems in mammals, and some of the best-recognized effects of exercise on muscle are mediated by the transcriptional coactivator PGC1α Here we show that PGC1α expression in muscle stimulates an increase in expression of Fndc5, a membrane protein that is cleaved and secreted as a new hormone, irisin. Irisin acts on white adipose cells in culture and in vivo to stimulate UCP1 expression and a broad program of brown fat-like development. Irisin is induced with exercise in mice and humans, and mildly increased irisin levels in blood cause an increase in energy expenditure in mice with no changes in movement or food intake.',\n",
              "    'Irisin could be a protein therapeutic for human metabolic disease and other disorders that are improved with exercise.']}],\n",
              " 'PMC3607626': [{'claim': 'To date, a number of studies have investigated gene expression in ASD (for review see [29]), with three examining ASD brain tissue on a genome-wide scale [30], [31], [32].',\n",
              "   'sentences': ['Remarkably, regional patterns of gene expression that typically distinguish frontal and temporal cortex are significantly attenuated in the ASD brain, suggesting abnormalities in cortical patterning.',\n",
              "    'We further identify discrete modules of co-expressed genes associated with autism: a neuronal module enriched for known autism susceptibility genes, including the neuronal specific splicing factor A2BP1/FOX1, and a module enriched for immune genes and glial markers.',\n",
              "    'Transcriptomic Analysis of Autistic Brain Reveals Convergent Molecular Pathology\\n\\nAbstract\\n\\nAutism spectrum disorder (ASD) is a common, highly heritable neuro-developmental condition characterized by marked genetic heterogeneity1–3.',\n",
              "    'Moreover, using a published autism GWAS dataset, we show that the neuronal module is enriched for genetically associated variants, providing independent support for the causal involvement of these genes in autism.',\n",
              "    'Collectively, our results provide strong evidence for convergent molecular abnormalities in ASD, and implicate transcriptional and splicing dysregulation as underlying mechanisms of neuronal dysfunction in this disorder.',\n",
              "    'Using high-throughput RNA-sequencing we demonstrate dysregulated splicing of A2BP1-dependent alternative exons in ASD brain.',\n",
              "    'Here, we demonstrate consistent differences in transcriptome organization between autistic and normal brain by gene co-expression network analysis.',\n",
              "    'In contrast, the immune-glial module showed no enrichment for autism GWAS signals, indicating a non-genetic etiology for this process.',\n",
              "    'Thus, a fundamental question is whether autism represents an etiologically heterogeneous disorder in which the myriad genetic or environmental risk factors perturb common underlying molecular pathways in the brain4.']},\n",
              "  {'claim': 'Lastly, we were interested in considering our findings in the context of the major three published transcriptomics studies on ASD brain tissue [30], [31], [32].',\n",
              "   'sentences': ['Transcriptomic Analysis of Autistic Brain Reveals Convergent Molecular Pathology\\n\\nAbstract\\n\\nAutism spectrum disorder (ASD) is a common, highly heritable neuro-developmental condition characterized by marked genetic heterogeneity1–3.',\n",
              "    'Collectively, our results provide strong evidence for convergent molecular abnormalities in ASD, and implicate transcriptional and splicing dysregulation as underlying mechanisms of neuronal dysfunction in this disorder.',\n",
              "    'Using high-throughput RNA-sequencing we demonstrate dysregulated splicing of A2BP1-dependent alternative exons in ASD brain.',\n",
              "    'Moreover, using a published autism GWAS dataset, we show that the neuronal module is enriched for genetically associated variants, providing independent support for the causal involvement of these genes in autism.',\n",
              "    'Remarkably, regional patterns of gene expression that typically distinguish frontal and temporal cortex are significantly attenuated in the ASD brain, suggesting abnormalities in cortical patterning.',\n",
              "    'Here, we demonstrate consistent differences in transcriptome organization between autistic and normal brain by gene co-expression network analysis.',\n",
              "    'We further identify discrete modules of co-expressed genes associated with autism: a neuronal module enriched for known autism susceptibility genes, including the neuronal specific splicing factor A2BP1/FOX1, and a module enriched for immune genes and glial markers.',\n",
              "    'Thus, a fundamental question is whether autism represents an etiologically heterogeneous disorder in which the myriad genetic or environmental risk factors perturb common underlying molecular pathways in the brain4.',\n",
              "    'In contrast, the immune-glial module showed no enrichment for autism GWAS signals, indicating a non-genetic etiology for this process.']},\n",
              "  {'claim': 'The most comprehensive transcriptomics study of ASD post-mortem brain to date (Voineagu et al) concludes that one of two significant co-expression networks is involved in immune function [32].',\n",
              "   'sentences': ['We further identify discrete modules of co-expressed genes associated with autism: a neuronal module enriched for known autism susceptibility genes, including the neuronal specific splicing factor A2BP1/FOX1, and a module enriched for immune genes and glial markers.',\n",
              "    'Transcriptomic Analysis of Autistic Brain Reveals Convergent Molecular Pathology\\n\\nAbstract\\n\\nAutism spectrum disorder (ASD) is a common, highly heritable neuro-developmental condition characterized by marked genetic heterogeneity1–3.',\n",
              "    'Collectively, our results provide strong evidence for convergent molecular abnormalities in ASD, and implicate transcriptional and splicing dysregulation as underlying mechanisms of neuronal dysfunction in this disorder.',\n",
              "    'Using high-throughput RNA-sequencing we demonstrate dysregulated splicing of A2BP1-dependent alternative exons in ASD brain.',\n",
              "    'Remarkably, regional patterns of gene expression that typically distinguish frontal and temporal cortex are significantly attenuated in the ASD brain, suggesting abnormalities in cortical patterning.',\n",
              "    'Here, we demonstrate consistent differences in transcriptome organization between autistic and normal brain by gene co-expression network analysis.',\n",
              "    'Moreover, using a published autism GWAS dataset, we show that the neuronal module is enriched for genetically associated variants, providing independent support for the causal involvement of these genes in autism.',\n",
              "    'In contrast, the immune-glial module showed no enrichment for autism GWAS signals, indicating a non-genetic etiology for this process.',\n",
              "    'Thus, a fundamental question is whether autism represents an etiologically heterogeneous disorder in which the myriad genetic or environmental risk factors perturb common underlying molecular pathways in the brain4.']},\n",
              "  {'claim': 'This network analysis led to the identification of specific co-expression modules that are differentially expressed in ASD and controls [20].',\n",
              "   'sentences': ['We further identify discrete modules of co-expressed genes associated with autism: a neuronal module enriched for known autism susceptibility genes, including the neuronal specific splicing factor A2BP1/FOX1, and a module enriched for immune genes and glial markers.',\n",
              "    'Moreover, using a published autism GWAS dataset, we show that the neuronal module is enriched for genetically associated variants, providing independent support for the causal involvement of these genes in autism.',\n",
              "    'Using high-throughput RNA-sequencing we demonstrate dysregulated splicing of A2BP1-dependent alternative exons in ASD brain.',\n",
              "    'Here, we demonstrate consistent differences in transcriptome organization between autistic and normal brain by gene co-expression network analysis.',\n",
              "    'Remarkably, regional patterns of gene expression that typically distinguish frontal and temporal cortex are significantly attenuated in the ASD brain, suggesting abnormalities in cortical patterning.',\n",
              "    'In contrast, the immune-glial module showed no enrichment for autism GWAS signals, indicating a non-genetic etiology for this process.',\n",
              "    'Collectively, our results provide strong evidence for convergent molecular abnormalities in ASD, and implicate transcriptional and splicing dysregulation as underlying mechanisms of neuronal dysfunction in this disorder.',\n",
              "    'Transcriptomic Analysis of Autistic Brain Reveals Convergent Molecular Pathology\\n\\nAbstract\\n\\nAutism spectrum disorder (ASD) is a common, highly heritable neuro-developmental condition characterized by marked genetic heterogeneity1–3.',\n",
              "    'Thus, a fundamental question is whether autism represents an etiologically heterogeneous disorder in which the myriad genetic or environmental risk factors perturb common underlying molecular pathways in the brain4.']},\n",
              "  {'claim': 'These included a neuronal module that was enriched for genes with low GWAS P-values, suggesting that the differential expression of this module between cases and controls reflects a causal relationship [20].',\n",
              "   'sentences': ['Moreover, using a published autism GWAS dataset, we show that the neuronal module is enriched for genetically associated variants, providing independent support for the causal involvement of these genes in autism.',\n",
              "    'We further identify discrete modules of co-expressed genes associated with autism: a neuronal module enriched for known autism susceptibility genes, including the neuronal specific splicing factor A2BP1/FOX1, and a module enriched for immune genes and glial markers.',\n",
              "    'In contrast, the immune-glial module showed no enrichment for autism GWAS signals, indicating a non-genetic etiology for this process.',\n",
              "    'Remarkably, regional patterns of gene expression that typically distinguish frontal and temporal cortex are significantly attenuated in the ASD brain, suggesting abnormalities in cortical patterning.',\n",
              "    'Collectively, our results provide strong evidence for convergent molecular abnormalities in ASD, and implicate transcriptional and splicing dysregulation as underlying mechanisms of neuronal dysfunction in this disorder.',\n",
              "    'Here, we demonstrate consistent differences in transcriptome organization between autistic and normal brain by gene co-expression network analysis.',\n",
              "    'Thus, a fundamental question is whether autism represents an etiologically heterogeneous disorder in which the myriad genetic or environmental risk factors perturb common underlying molecular pathways in the brain4.',\n",
              "    'Transcriptomic Analysis of Autistic Brain Reveals Convergent Molecular Pathology\\n\\nAbstract\\n\\nAutism spectrum disorder (ASD) is a common, highly heritable neuro-developmental condition characterized by marked genetic heterogeneity1–3.',\n",
              "    'Using high-throughput RNA-sequencing we demonstrate dysregulated splicing of A2BP1-dependent alternative exons in ASD brain.']}],\n",
              " 'PMC3650111': [{'claim': 'Interestingly, Prevotella-dominated healthy omnivore individuals were recently reported to have increased basal levels of serum TMAO (trimethylamine N-oxide), a product of inflammation linked to atherogenesis, compared to Bacteroides-dominated healthy individuals (Koeth et al., 2013).',\n",
              "   'sentences': ['Omnivorous subjects are shown to produce significantly more TMAO than vegans/vegetarians following ingestion of L-carnitine through a microbiota-dependent mechanism.',\n",
              "    'Herein we demonstrate that intestinal microbiota metabolism of dietary L-carnitine, a trimethylamine abundant in red meat, also produces TMAO and accelerates atherosclerosis.',\n",
              "    'Intestinal microbiota metabolism of  L -carnitine, a nutrient in red meat, promotes atherosclerosis\\n\\nAbstract\\n\\nIntestinal microbiota metabolism of choline/phosphatidylcholine produces trimethylamine (TMA), which is further metabolized to a proatherogenic species, trimethylamine-N-oxide (TMAO).',\n",
              "    'Specific bacterial taxa in human feces are shown to associate with both plasma TMAO and dietary status.',\n",
              "    'Chronic dietary L-carnitine supplementation in mice significantly altered cecal microbial composition, markedly enhanced synthesis of TMA/TMAO, and increased atherosclerosis, but not following suppression of intestinal microbiota.',\n",
              "    'Dietary supplementation of TMAO, or either carnitine or choline in mice with intact intestinal microbiota, significantly reduced reverse cholesterol transport in vivo.',\n",
              "    'Plasma L-carnitine levels in subjects undergoing cardiac evaluation (n = 2,595) predict increased risks for both prevalent cardiovascular disease (CVD) and incident major adverse cardiac events (MI, stroke or death), but only among subjects with concurrently high TMAO levels.',\n",
              "    'Intestinal microbiota may thus participate in the well-established link between increased red meat consumption and CVD risk.']},\n",
              "  {'claim': 'While TMAO could be derived from increased consumption of meat (Koeth et al., 2013), Prevotella has been previously associated with a dearth of meat in the diet (Wu et al., 2011).',\n",
              "   'sentences': ['Herein we demonstrate that intestinal microbiota metabolism of dietary L-carnitine, a trimethylamine abundant in red meat, also produces TMAO and accelerates atherosclerosis.',\n",
              "    'Omnivorous subjects are shown to produce significantly more TMAO than vegans/vegetarians following ingestion of L-carnitine through a microbiota-dependent mechanism.',\n",
              "    'Specific bacterial taxa in human feces are shown to associate with both plasma TMAO and dietary status.',\n",
              "    'Dietary supplementation of TMAO, or either carnitine or choline in mice with intact intestinal microbiota, significantly reduced reverse cholesterol transport in vivo.',\n",
              "    'Intestinal microbiota metabolism of  L -carnitine, a nutrient in red meat, promotes atherosclerosis\\n\\nAbstract\\n\\nIntestinal microbiota metabolism of choline/phosphatidylcholine produces trimethylamine (TMA), which is further metabolized to a proatherogenic species, trimethylamine-N-oxide (TMAO).',\n",
              "    'Chronic dietary L-carnitine supplementation in mice significantly altered cecal microbial composition, markedly enhanced synthesis of TMA/TMAO, and increased atherosclerosis, but not following suppression of intestinal microbiota.',\n",
              "    'Intestinal microbiota may thus participate in the well-established link between increased red meat consumption and CVD risk.',\n",
              "    'Plasma L-carnitine levels in subjects undergoing cardiac evaluation (n = 2,595) predict increased risks for both prevalent cardiovascular disease (CVD) and incident major adverse cardiac events (MI, stroke or death), but only among subjects with concurrently high TMAO levels.']},\n",
              "  {'claim': 'Additional, recent mouse studies [145] investigating how consumption of red meat may accelerate cardiovascular disease and inflammation in humans [146,147] suggest an additional and potentially serious limitation on probiotic supplementation.',\n",
              "   'sentences': ['Intestinal microbiota may thus participate in the well-established link between increased red meat consumption and CVD risk.',\n",
              "    'Herein we demonstrate that intestinal microbiota metabolism of dietary L-carnitine, a trimethylamine abundant in red meat, also produces TMAO and accelerates atherosclerosis.',\n",
              "    'Intestinal microbiota metabolism of  L -carnitine, a nutrient in red meat, promotes atherosclerosis\\n\\nAbstract\\n\\nIntestinal microbiota metabolism of choline/phosphatidylcholine produces trimethylamine (TMA), which is further metabolized to a proatherogenic species, trimethylamine-N-oxide (TMAO).',\n",
              "    'Chronic dietary L-carnitine supplementation in mice significantly altered cecal microbial composition, markedly enhanced synthesis of TMA/TMAO, and increased atherosclerosis, but not following suppression of intestinal microbiota.',\n",
              "    'Plasma L-carnitine levels in subjects undergoing cardiac evaluation (n = 2,595) predict increased risks for both prevalent cardiovascular disease (CVD) and incident major adverse cardiac events (MI, stroke or death), but only among subjects with concurrently high TMAO levels.',\n",
              "    'Dietary supplementation of TMAO, or either carnitine or choline in mice with intact intestinal microbiota, significantly reduced reverse cholesterol transport in vivo.',\n",
              "    'Specific bacterial taxa in human feces are shown to associate with both plasma TMAO and dietary status.',\n",
              "    'Omnivorous subjects are shown to produce significantly more TMAO than vegans/vegetarians following ingestion of L-carnitine through a microbiota-dependent mechanism.']},\n",
              "  {'claim': 'Dietary L-carnitine and choline, compounds abundant in red meat, are metabolized into trimethylamine-N-oxide (TMAO) by way of some normal gut commensals; in mice TMAO enhances atherosclerosis through disrupting cholesterol metabolism and foam-cell macrophage activity [145].',\n",
              "   'sentences': ['Intestinal microbiota metabolism of  L -carnitine, a nutrient in red meat, promotes atherosclerosis\\n\\nAbstract\\n\\nIntestinal microbiota metabolism of choline/phosphatidylcholine produces trimethylamine (TMA), which is further metabolized to a proatherogenic species, trimethylamine-N-oxide (TMAO).',\n",
              "    'Herein we demonstrate that intestinal microbiota metabolism of dietary L-carnitine, a trimethylamine abundant in red meat, also produces TMAO and accelerates atherosclerosis.',\n",
              "    'Chronic dietary L-carnitine supplementation in mice significantly altered cecal microbial composition, markedly enhanced synthesis of TMA/TMAO, and increased atherosclerosis, but not following suppression of intestinal microbiota.',\n",
              "    'Dietary supplementation of TMAO, or either carnitine or choline in mice with intact intestinal microbiota, significantly reduced reverse cholesterol transport in vivo.',\n",
              "    'Omnivorous subjects are shown to produce significantly more TMAO than vegans/vegetarians following ingestion of L-carnitine through a microbiota-dependent mechanism.',\n",
              "    'Specific bacterial taxa in human feces are shown to associate with both plasma TMAO and dietary status.',\n",
              "    'Intestinal microbiota may thus participate in the well-established link between increased red meat consumption and CVD risk.',\n",
              "    'Plasma L-carnitine levels in subjects undergoing cardiac evaluation (n = 2,595) predict increased risks for both prevalent cardiovascular disease (CVD) and incident major adverse cardiac events (MI, stroke or death), but only among subjects with concurrently high TMAO levels.']},\n",
              "  {'claim': 'In both humans and mice, TMAO concentrations correlate positively with CVD risk, and dietary supplementation with either TMAO or compounds that can be metabolized to TMAO increases atherosclerosis in mice12',\n",
              "   'sentences': ['Chronic dietary L-carnitine supplementation in mice significantly altered cecal microbial composition, markedly enhanced synthesis of TMA/TMAO, and increased atherosclerosis, but not following suppression of intestinal microbiota.',\n",
              "    'Herein we demonstrate that intestinal microbiota metabolism of dietary L-carnitine, a trimethylamine abundant in red meat, also produces TMAO and accelerates atherosclerosis.',\n",
              "    'Intestinal microbiota metabolism of  L -carnitine, a nutrient in red meat, promotes atherosclerosis\\n\\nAbstract\\n\\nIntestinal microbiota metabolism of choline/phosphatidylcholine produces trimethylamine (TMA), which is further metabolized to a proatherogenic species, trimethylamine-N-oxide (TMAO).',\n",
              "    'Dietary supplementation of TMAO, or either carnitine or choline in mice with intact intestinal microbiota, significantly reduced reverse cholesterol transport in vivo.',\n",
              "    'Plasma L-carnitine levels in subjects undergoing cardiac evaluation (n = 2,595) predict increased risks for both prevalent cardiovascular disease (CVD) and incident major adverse cardiac events (MI, stroke or death), but only among subjects with concurrently high TMAO levels.',\n",
              "    'Specific bacterial taxa in human feces are shown to associate with both plasma TMAO and dietary status.',\n",
              "    'Intestinal microbiota may thus participate in the well-established link between increased red meat consumption and CVD risk.',\n",
              "    'Omnivorous subjects are shown to produce significantly more TMAO than vegans/vegetarians following ingestion of L-carnitine through a microbiota-dependent mechanism.']}]}"
            ]
          },
          "metadata": {},
          "execution_count": 56
        }
      ]
    },
    {
      "cell_type": "code",
      "source": [
        "import json\n",
        "\n",
        "with open('res_T5_abs_only.json', 'w') as f:\n",
        "    json.dump(final_res_abs, f)"
      ],
      "metadata": {
        "id": "4uhNl57rR8zp"
      },
      "execution_count": null,
      "outputs": []
    },
    {
      "cell_type": "code",
      "source": [
        "import pandas as pd\n",
        "d = pd.DataFrame.from_dict(final_res_abs, orient='index')"
      ],
      "metadata": {
        "id": "McrKifS0SD2c"
      },
      "execution_count": null,
      "outputs": []
    },
    {
      "cell_type": "code",
      "source": [
        "d1 = pd.DataFrame.from_dict(final_res, orient='index')"
      ],
      "metadata": {
        "id": "bDXrc5_EWW6R"
      },
      "execution_count": null,
      "outputs": []
    },
    {
      "cell_type": "code",
      "source": [
        "rows = []\n",
        "for (i, r), (i1, r1) in zip(d.iterrows(), d1.iterrows()):\n",
        "    for c, c1 in zip(r, r1):\n",
        "        count = 0\n",
        "        for s in range(len(c1['sentences'])):\n",
        "            if count == 0:\n",
        "                rows.append([i, c['claim'], c['sentences'][s].strip(), c1['sentences'][s].strip()])\n",
        "            elif s < len(c['sentences']):\n",
        "                rows.append([None, None, c['sentences'][s].strip(), c1['sentences'][s].strip()])\n",
        "            else:\n",
        "                rows.append([None, None, None, c1['sentences'][s].strip()])\n",
        "            count += 1\n",
        "            # print(c['claim'])\n",
        "            # print(s)\n",
        "            # print()"
      ],
      "metadata": {
        "id": "KdIo887qSLMX"
      },
      "execution_count": null,
      "outputs": []
    },
    {
      "cell_type": "code",
      "source": [
        "pd.DataFrame(rows, columns=[\"PMCID\", \"Context\", \"Abstract Only\", \"Full Text\"]).to_csv('T5_results.csv', index=False)\n"
      ],
      "metadata": {
        "id": "XcBYUXMJTeHA"
      },
      "execution_count": null,
      "outputs": []
    },
    {
      "cell_type": "code",
      "source": [
        "len(final_res['PMC2811155'][0]['sentences'])"
      ],
      "metadata": {
        "colab": {
          "base_uri": "https://localhost:8080/"
        },
        "id": "peeaE6IVVVp8",
        "outputId": "8d78cbb4-99bd-42f8-9b69-5278dbc61151"
      },
      "execution_count": null,
      "outputs": [
        {
          "output_type": "execute_result",
          "data": {
            "text/plain": [
              "10"
            ]
          },
          "metadata": {},
          "execution_count": 95
        }
      ]
    },
    {
      "cell_type": "code",
      "source": [
        "import json\n",
        "with open('claims.json', 'w') as f:\n",
        "    json.dump(pmc_claim, f)"
      ],
      "metadata": {
        "id": "9z6ITSVbWKHf"
      },
      "execution_count": null,
      "outputs": []
    },
    {
      "cell_type": "code",
      "source": [
        "pwd"
      ],
      "metadata": {
        "colab": {
          "base_uri": "https://localhost:8080/",
          "height": 35
        },
        "id": "Py9-5Jd1hjCt",
        "outputId": "7d5bca70-3c49-440c-a8fd-e05f94ace692"
      },
      "execution_count": null,
      "outputs": [
        {
          "output_type": "execute_result",
          "data": {
            "text/plain": [
              "'/content/drive/MyDrive/Work'"
            ],
            "application/vnd.google.colaboratory.intrinsic+json": {
              "type": "string"
            }
          },
          "metadata": {},
          "execution_count": 115
        }
      ]
    },
    {
      "cell_type": "code",
      "source": [],
      "metadata": {
        "id": "6ETZWleyhvwH"
      },
      "execution_count": null,
      "outputs": []
    }
  ]
}