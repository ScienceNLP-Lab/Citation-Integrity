{
 "cells": [
  {
   "cell_type": "code",
   "execution_count": 39,
   "id": "d6587791-b5fb-4304-8a4c-9d1238509b41",
   "metadata": {},
   "outputs": [],
   "source": [
    "import os\n",
    "import json"
   ]
  },
  {
   "cell_type": "code",
   "execution_count": 40,
   "id": "3b1a6645-c2a5-4b00-9529-da9184b144e6",
   "metadata": {},
   "outputs": [],
   "source": [
    "with open(\"curr_results.json\") as f:\n",
    "    res = json.load(f)"
   ]
  },
  {
   "cell_type": "code",
   "execution_count": 41,
   "id": "baebfda3-c24f-43b3-81ac-8f4e2b96df82",
   "metadata": {},
   "outputs": [],
   "source": [
    "FOLDER = \"output-final-set-citing-accuracy\""
   ]
  },
  {
   "cell_type": "code",
   "execution_count": 42,
   "id": "cf7ec69a-3d85-467d-9ba4-207ab8985e64",
   "metadata": {},
   "outputs": [
    {
     "data": {
      "text/plain": [
       "'Loc285194 inhibits tumor growth in a xenograft mouse model.'"
      ]
     },
     "execution_count": 42,
     "metadata": {},
     "output_type": "execute_result"
    }
   ],
   "source": [
    "sent"
   ]
  },
  {
   "cell_type": "code",
   "execution_count": 47,
   "id": "36e088b5-cda1-4a1a-b3f7-bba4e9736198",
   "metadata": {},
   "outputs": [],
   "source": [
    "bad = []\n",
    "for pmcid, cits in res.items():\n",
    "    for cit in cits.keys():\n",
    "        sentences = cits[cit]\n",
    "        \n",
    "        with open(f\"{FOLDER}/{pmcid}/{cit}.ann\") as f:\n",
    "            firstline = f.readlines()\n",
    "        \n",
    "        with open(f\"{FOLDER}/{pmcid}/{cit}.txt\") as f:\n",
    "            text = f.read()\n",
    "        \n",
    "        lines_to_add = [firstline[0]+'\\n']\n",
    "        idx = 1\n",
    "        for sent, score in sentences:\n",
    "            if sent not in text:\n",
    "                bad.append((mcid, cit))\n",
    "            \n",
    "            start = text.find(sent)\n",
    "            end = start + 9\n",
    "            start_s, end_s = str(start), str(end)\n",
    "            \n",
    "            new_line = '\\t'.join([f'T{idx}', ' '.join(['Suggestion', start_s, end_s]), text[start:end]]) + '\\n'\n",
    "            lines_to_add.append(new_line)\n",
    "            idx += 1\n",
    "\n",
    "        # with open(f\"test.ann\", 'w') as f:\n",
    "        #     f.writelines(lines_to_add)\n",
    "        with open(f\"{FOLDER}/{pmcid}/{cit}.ann\", 'w') as f:\n",
    "            f.writelines(lines_to_add)\n",
    "            \n",
    "         "
   ]
  },
  {
   "cell_type": "code",
   "execution_count": 49,
   "id": "971f5c30-4e17-4962-8cd1-fbf5a1e47d3e",
   "metadata": {},
   "outputs": [],
   "source": [
    "FOLDER = \"Eugene\""
   ]
  },
  {
   "cell_type": "code",
   "execution_count": 50,
   "id": "dee80290-d8f8-407f-8f1d-d9c5e70a54bd",
   "metadata": {},
   "outputs": [],
   "source": [
    "with open(\"curr_results_eugene.json\") as f:\n",
    "    res = json.load(f)"
   ]
  },
  {
   "cell_type": "code",
   "execution_count": 54,
   "id": "623e54df-bd4f-4b63-b12d-62d6e293c128",
   "metadata": {},
   "outputs": [],
   "source": [
    "bad = []\n",
    "for pmcid, cits in res.items():\n",
    "    for cit in cits.keys():\n",
    "        sentences = cits[cit]\n",
    "        \n",
    "        with open(f\"{FOLDER}/{pmcid}/{cit}.ann\") as f:\n",
    "            firstline = f.readlines()\n",
    "        \n",
    "        with open(f\"{FOLDER}/{pmcid}/{cit}.txt\") as f:\n",
    "            text = f.read()\n",
    "        \n",
    "        first_line_split = firstline[0].split(\"\\t\")\n",
    "        \n",
    "        lines_to_add = [\"\\t\".join([\"T0\", first_line_split[1], first_line_split[2]])]\n",
    "        idx = 1\n",
    "        for sent, score in sentences:\n",
    "            if sent not in text:\n",
    "                bad.append((mcid, cit))\n",
    "            \n",
    "            start = text.find(sent)\n",
    "            end = start + 9\n",
    "            start_s, end_s = str(start), str(end)\n",
    "            \n",
    "            new_line = '\\t'.join([f'T{idx}', ' '.join(['Suggestion', start_s, end_s]), text[start:end]]) + '\\n'\n",
    "            lines_to_add.append(new_line)\n",
    "            idx += 1\n",
    "\n",
    "        # with open(f\"test.ann\", 'w') as f:\n",
    "        #     f.writelines(lines_to_add)\n",
    "        with open(f\"{FOLDER}/{pmcid}/{cit}.ann\", 'w') as f:\n",
    "            f.writelines(lines_to_add)\n",
    "            \n",
    "         "
   ]
  },
  {
   "cell_type": "code",
   "execution_count": 55,
   "id": "b1fedf28-a32d-4a9e-a3ea-cf8c2fc6c816",
   "metadata": {},
   "outputs": [
    {
     "data": {
      "text/plain": [
       "'/Users/shrut/Work/70Articles'"
      ]
     },
     "execution_count": 55,
     "metadata": {},
     "output_type": "execute_result"
    }
   ],
   "source": [
    "pwd"
   ]
  },
  {
   "cell_type": "code",
   "execution_count": 62,
   "id": "cc35cd05-51ea-4d89-a8f1-751d4b9d41a1",
   "metadata": {},
   "outputs": [
    {
     "name": "stdout",
     "output_type": "stream",
     "text": [
      "PMC4022532_1.ann\n",
      "PMC4649834_1.ann\n",
      "PMC5386479_1.ann\n",
      "PMC4650715_1.ann\n",
      "PMC4650715_2.ann\n",
      "PMC6295623_1.ann\n",
      "PMC4383848_1.ann\n",
      "PMC5488414_1.ann\n",
      "PMC3798955_1.ann\n",
      "PMC6029603_1.ann\n",
      "PMC5488414_2.ann\n",
      "PMC4917661_1.ann\n",
      "PMC3798955_2.ann\n",
      "PMC4757469_1.ann\n",
      "PMC6376746_1.ann\n",
      "PMC5673005_1.ann\n",
      "PMC5021870_1.ann\n",
      "PMC5796349_1.ann\n",
      "PMC5520706_1.ann\n",
      "PMC4458341_1.ann\n",
      "PMC5674491_1.ann\n",
      "PMC6361197_1.ann\n",
      "PMC6361197_2.ann\n"
     ]
    }
   ],
   "source": [
    "for file in os.listdir('058_PMC3484248'):\n",
    "    if file.endswith('ann'):\n",
    "        print(file)\n",
    "        with open(f'058_PMC3484248/{file}') as f:\n",
    "            content = f.readlines()\n",
    "\n"
   ]
  },
  {
   "cell_type": "code",
   "execution_count": 59,
   "id": "a825b26a-aba9-48f5-81f8-43194fb75177",
   "metadata": {},
   "outputs": [
    {
     "data": {
      "text/plain": [
       "['T0\\tCitation 541 545\\t2013T1\\tSuggestion 2477 2486\\tIn this s\\n',\n",
       " 'T2\\tSuggestion 33867 33876\\tWe show t\\n',\n",
       " 'T3\\tSuggestion 23933 23942\\tTherefore\\n',\n",
       " 'T4\\tSuggestion 21964 21973\\tLoc285194\\n',\n",
       " 'T5\\tSuggestion 20954 20963\\tAs expect\\n',\n",
       " 'T6\\tSuggestion 20572 20581\\t### Loc28\\n',\n",
       " 'T7\\tSuggestion 5755 5764\\tMoreover,\\n',\n",
       " 'T8\\tSuggestion 33539 33548\\tWe presen\\n',\n",
       " 'T9\\tSuggestion 30701 30710\\tThis miR-\\n',\n",
       " 'T10\\tSuggestion 24132 24141\\tLoc285194\\n']"
      ]
     },
     "execution_count": 59,
     "metadata": {},
     "output_type": "execute_result"
    }
   ],
   "source": [
    "content"
   ]
  },
  {
   "cell_type": "code",
   "execution_count": 63,
   "id": "6dc4364d-4902-4633-a382-9644db10f3a5",
   "metadata": {},
   "outputs": [],
   "source": [
    "with open(f'058_PMC3484248/PMC3798955_1.ann') as f:\n",
    "    content = f.readlines()\n"
   ]
  },
  {
   "cell_type": "code",
   "execution_count": 65,
   "id": "90fc558f-b9b1-411c-bfc5-92a79cac20cd",
   "metadata": {},
   "outputs": [],
   "source": [
    "rs = []\n",
    "for line in content:\n",
    "    if line.startswith('T'):\n",
    "        rs.append(line)"
   ]
  },
  {
   "cell_type": "code",
   "execution_count": 67,
   "id": "795c8787-fe6e-4d64-8a5a-056638372079",
   "metadata": {},
   "outputs": [],
   "source": [
    "with open('test.ann', 'w') as f:\n",
    "    f.writelines(rs)"
   ]
  },
  {
   "cell_type": "code",
   "execution_count": 69,
   "id": "62ac58cc-4ccc-49d0-a7e2-d7853a07154b",
   "metadata": {},
   "outputs": [],
   "source": [
    "d = {\n",
    "    \"Degaulle\": [\n",
    "        \"014_PMC7227586\",\n",
    "        \"019_PMC7581548\",\n",
    "        \"055_PMC4003245\",\n",
    "        \"056_PMC4154594\",\n",
    "        \"057_PMC3283993\",\n",
    "        \"058_PMC3484248\",\n",
    "        \"059_PMC3959199\",\n",
    "        \"060_PMC5388903\",\n",
    "        \"061_PMC2935898\",\n",
    "        \"062_PMC3163615\",\n",
    "        \"063_PMC4105133\",\n",
    "        \"064_PMC2952063\",\n",
    "        \"065_PMC2982944\",\n",
    "        \"066_PMC3643595\",\n",
    "    ],\n",
    "    \"Eugene\" : [\n",
    "        \"011_PMC7164482\",\n",
    "        \"012_PMC7164881\",\n",
    "        \"013_PMC7199903\",\n",
    "        \"042_PMC3285768\",\n",
    "        \"043_PMC3162077\",\n",
    "        \"044_PMC4477963\",\n",
    "        \"045_PMC3507610\",\n",
    "        \"046_PMC3081621\",\n",
    "        \"047_PMC3867319\",\n",
    "        \"048_PMC4035120\",\n",
    "        \"049_PMC4039389\",\n",
    "        \"050_PMC3114824\",\n",
    "        \"051_PMC2933006\",\n",
    "        \"052_PMC4017650\",\n",
    "        \"053_PMC3387339\",\n",
    "        \"054_PMC2912507\",\n",
    "    ],\n",
    "    \"Sree\": [\n",
    "        \"015_PMC7262788\",\n",
    "        \"017_PMC7418704\",\n",
    "        \"067_PMC2947358\",\n",
    "        \"068_PMC3688513\",\n",
    "        \"069_PMC3114340\",\n",
    "        \"070_PMC3373730\",\n",
    "        \"071_PMC4865637\",\n",
    "        \"072_PMC4017780\",\n",
    "        \"073_PMC3486012\",\n",
    "        \"074_PMC3321067\",\n",
    "        \"075_PMC3169707\",\n",
    "        \"076_PMC3139665\",\n",
    "        \"077_PMC2803744\",\n",
    "    ],\n",
    "    \"Sunny\" : [\n",
    "        \"016_PMC7299280\",\n",
    "        \"018_PMC7578095\",\n",
    "        \"078_PMC3258656\",\n",
    "        \"079_PMC4113484\",\n",
    "        \"080_PMC3506950\",\n",
    "        \"081_PMC3010068\",\n",
    "        \"082_PMC3120182\",\n",
    "        \"083_PMC3816614\",\n",
    "        \"084_PMC2908548\",\n",
    "        \"085_PMC3322721\",\n",
    "        \"086_PMC3759721\",\n",
    "        \"087_PMC4107735\",\n",
    "        \"088_PMC2867287\",\n",
    "    ],\n",
    "    \"Zoe\": [\n",
    "        \"020_PMC7787219\",\n",
    "        \"021_PMC8078878\",\n",
    "        \"089_PMC3812809\",\n",
    "        \"090_PMC3714503\",\n",
    "        \"091_PMC3043109\",\n",
    "        \"092_PMC3104486\",\n",
    "        \"093_PMC3357299\",\n",
    "        \"094_PMC3149556\",\n",
    "        \"095_PMC2886089\",\n",
    "        \"096_PMC4137411\",\n",
    "        \"097_PMC4662610\",\n",
    "        \"098_PMC2941545\",\n",
    "        \"099_PMC3736576\",\n",
    "        \"0100_PMC2963536\",\n",
    "    ]\n",
    "}"
   ]
  },
  {
   "cell_type": "code",
   "execution_count": 70,
   "id": "ce759bde-abab-4bc1-ba27-071e3d838cee",
   "metadata": {},
   "outputs": [
    {
     "data": {
      "text/plain": [
       "dict_keys(['Degaulle', 'Eugene', 'Sree', 'Sunny', 'Zoe'])"
      ]
     },
     "execution_count": 70,
     "metadata": {},
     "output_type": "execute_result"
    }
   ],
   "source": [
    "d.keys()"
   ]
  },
  {
   "cell_type": "code",
   "execution_count": null,
   "id": "18223608-40dd-4701-824b-40c5e0004fe7",
   "metadata": {},
   "outputs": [],
   "source": []
  }
 ],
 "metadata": {
  "kernelspec": {
   "display_name": "PT",
   "language": "python",
   "name": "pt"
  },
  "language_info": {
   "codemirror_mode": {
    "name": "ipython",
    "version": 3
   },
   "file_extension": ".py",
   "mimetype": "text/x-python",
   "name": "python",
   "nbconvert_exporter": "python",
   "pygments_lexer": "ipython3",
   "version": "3.11.0"
  }
 },
 "nbformat": 4,
 "nbformat_minor": 5
}
