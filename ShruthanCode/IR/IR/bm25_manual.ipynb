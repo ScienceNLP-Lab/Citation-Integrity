{
 "cells": [
  {
   "cell_type": "code",
   "execution_count": 21,
   "id": "a8680ed7",
   "metadata": {},
   "outputs": [],
   "source": [
    "def bm25(query, documents,  k=1.2, b=0.75):\n",
    "    \n",
    "    def tokenize(s):\n",
    "        return s.split(\" \")\n",
    "    N = len(documents)\n",
    "    scores = []\n",
    "    documents = [tokenize(d) for d in documents]\n",
    "    avgdl = sum(len(d) for d in documents)/len(documents)\n",
    "    for document in documents:\n",
    "        score = 0\n",
    "        for word in tokenize(query):\n",
    "            freq = document.count(word)\n",
    "            tf = (freq * (k + 1)) / (freq + k * (1 - b + b * (len(document) / avgdl)))\n",
    "            N_q = sum([doc.count(word) for doc in documents])  \n",
    "            idf = np.log(((N - N_q + 0.5) / (N_q + 0.5)) + 1)\n",
    "            score += round(tf*idf, 4)\n",
    "            \n",
    "        scores.append(score)\n",
    "    return scores"
   ]
  },
  {
   "cell_type": "code",
   "execution_count": 26,
   "id": "88ea6219",
   "metadata": {},
   "outputs": [],
   "source": [
    "def get_relevant_sentences(cs, num=10):\n",
    "    global results\n",
    "\n",
    "    for pmcid in cs:\n",
    "        if pmcid.startswith('0'):\n",
    "            curr_ref_file = pmcid.split('_')[1]\n",
    "        print(pmcid)\n",
    "        CURR_PMC = pmcid\n",
    "\n",
    "        with open(f'Sentences/{curr_ref_file}.json') as f:\n",
    "            sentences = json.load(f)\n",
    "\n",
    "        original_sentences = sentences\n",
    "\n",
    "        results[CURR_PMC] = {}\n",
    "        idx = 0\n",
    "        for file, d in cs[pmcid].items():\n",
    "            if len(d['support']) == 0:\n",
    "                continue\n",
    "            claim = d['context']\n",
    "            idx += 1\n",
    "            scores = bm25(claim, sentences)\n",
    "            sorted_scores = np.argsort(scores)[::-1]\n",
    "            results[CURR_PMC][file] = [original_sentences[i] for i in sorted_scores[:10]]\n",
    "\n",
    "    "
   ]
  },
  {
   "cell_type": "code",
   "execution_count": 27,
   "id": "498e1665",
   "metadata": {},
   "outputs": [],
   "source": [
    "def calculate_recall(cs, results):\n",
    "    def overlap(start, end, s, e):\n",
    "        return start <= e and s <= end\n",
    "\n",
    "    for pmcid in results:\n",
    "        if pmcid.startswith('0'):\n",
    "            curr_ref_file = pmcid.split('_')[1]\n",
    "        with open(f'Articles/{curr_ref_file}.txt') as f:\n",
    "            content = f.read()\n",
    "        for file in results[pmcid]:\n",
    "            indices = [[content.find(s.strip()), content.find(s.strip())+len(s.strip())] for s in results[pmcid][file]]\n",
    "            count = 0\n",
    "            support_indices = [[content.find(s.strip()), content.find(s.strip())+len(s.strip())] for s in cs[pmcid][file]['support']]\n",
    "            for start, end in support_indices:\n",
    "                for s, e in indices:\n",
    "                    if overlap(start, end, s, e):\n",
    "                        count += 1\n",
    "            cs[pmcid][file]['count'] = count\n",
    "    res = 0\n",
    "    total = 0\n",
    "    for pmcid in cs:\n",
    "        for file in cs[pmcid]:\n",
    "            if 'count' in cs[pmcid][file]:\n",
    "                res += (cs[pmcid][file]['count'] / len(cs[pmcid][file]['support']))\n",
    "                total += 1\n",
    "\n",
    "    return res/total"
   ]
  },
  {
   "cell_type": "code",
   "execution_count": 28,
   "id": "54128114",
   "metadata": {},
   "outputs": [],
   "source": [
    "import json\n",
    "import os\n",
    "import numpy as np\n",
    "with open('recon.json') as f:\n",
    "    cs = json.load(f)"
   ]
  },
  {
   "cell_type": "code",
   "execution_count": 29,
   "id": "463e66f1",
   "metadata": {},
   "outputs": [
    {
     "name": "stdout",
     "output_type": "stream",
     "text": [
      "010_PMC3650111\n",
      "004_PMC3090745\n",
      "001_PMC2811155\n",
      "007_PMC3442244\n",
      "005_PMC3096954\n",
      "006_PMC3179858\n",
      "002_PMC2848616\n",
      "003_PMC2958248\n",
      "008_PMC3522098\n",
      "009_PMC3607626\n"
     ]
    },
    {
     "ename": "NameError",
     "evalue": "name 'cs1' is not defined",
     "output_type": "error",
     "traceback": [
      "\u001B[0;31m---------------------------------------------------------------------------\u001B[0m",
      "\u001B[0;31mNameError\u001B[0m                                 Traceback (most recent call last)",
      "Cell \u001B[0;32mIn [29], line 3\u001B[0m\n\u001B[1;32m      1\u001B[0m results \u001B[38;5;241m=\u001B[39m {}\n\u001B[1;32m      2\u001B[0m get_relevant_sentences(cs)\n\u001B[0;32m----> 3\u001B[0m calculate_recall(\u001B[43mcs1\u001B[49m, results)\n",
      "\u001B[0;31mNameError\u001B[0m: name 'cs1' is not defined"
     ]
    }
   ],
   "source": [
    "results = {}\n",
    "get_relevant_sentences(cs)\n",
    "calculate_recall(cs1, results)"
   ]
  },
  {
   "cell_type": "code",
   "execution_count": 30,
   "id": "b001b70a",
   "metadata": {},
   "outputs": [
    {
     "data": {
      "text/plain": [
       "0.32601626016260166"
      ]
     },
     "execution_count": 30,
     "metadata": {},
     "output_type": "execute_result"
    }
   ],
   "source": [
    "calculate_recall(cs, results)"
   ]
  },
  {
   "cell_type": "code",
   "execution_count": null,
   "id": "5c2faf67",
   "metadata": {},
   "outputs": [],
   "source": []
  }
 ],
 "metadata": {
  "kernelspec": {
   "display_name": "Pytorch1.12",
   "language": "python",
   "name": "pt"
  },
  "language_info": {
   "codemirror_mode": {
    "name": "ipython",
    "version": 3
   },
   "file_extension": ".py",
   "mimetype": "text/x-python",
   "name": "python",
   "nbconvert_exporter": "python",
   "pygments_lexer": "ipython3",
   "version": "3.9.13"
  }
 },
 "nbformat": 4,
 "nbformat_minor": 5
}
